{
 "cells": [
  {
   "cell_type": "markdown",
   "metadata": {},
   "source": [
    "# 04 - Clustering & Archetype Analysis\n",
    "\n",
    "## Description\n",
    "This notebook applies unsupervised machine learning (K-Means clustering) to segment songs into distinct groups based on their performance metrics across various platforms. The objective is to identify and define actionable archetypes of 'hit songs' (e.g., 'TikTok Viral', 'Streaming Juggernaut', 'Radio Hit'), providing a strategic framework for marketing and A&R decisions.\n",
    "\n",
    "## Analysis Pipeline:\n",
    "1.  **Feature Selection & Preparation:** Select and scale the features that define a song's performance profile.\n",
    "2.  **Optimal Cluster-Count (K):** Use the Elbow Method to determine the ideal number of clusters for segmentation.\n",
    "3.  **K-Means Clustering:** Apply the algorithm to label each song with its corresponding archetype.\n",
    "4.  **Cluster Profile Analysis:** Analyze the centroids of each cluster to understand their unique characteristics and define the archetypes.\n",
    "5.  **Visualization:** Use PCA to visualize the distinct clusters in a 2D space."
   ]
  },
  {
   "cell_type": "markdown",
   "metadata": {},
   "source": [
    "### 1. Setup and Data Loading"
   ]
  },
  {
   "cell_type": "code",
   "execution_count": 6,
   "metadata": {},
   "outputs": [
    {
     "name": "stdout",
     "output_type": "stream",
     "text": [
      "Setup complete. Cleaned data loaded and ready for clustering.\n"
     ]
    }
   ],
   "source": [
    "import pandas as pd\n",
    "import numpy as np\n",
    "import plotly.express as px\n",
    "import plotly.graph_objects as go\n",
    "from pathlib import Path\n",
    "from sklearn.preprocessing import StandardScaler\n",
    "from sklearn.cluster import KMeans\n",
    "from sklearn.decomposition import PCA\n",
    "\n",
    "# Load the cleaned dataset\n",
    "PROJECT_ROOT = Path.cwd().parent\n",
    "CLEANED_DATA_FILE = PROJECT_ROOT / 'data' / 'processed' / 'cleaned_spotify_data_2024.csv'\n",
    "df = pd.read_csv(CLEANED_DATA_FILE)\n",
    "\n",
    "print(\"Setup complete. Cleaned data loaded and ready for clustering.\")"
   ]
  },
  {
   "cell_type": "markdown",
   "metadata": {},
   "source": [
    "### 2. Feature Selection, Transformation, and Scaling\n",
    "We will cluster songs based on their performance profiles. We select key metrics across platforms, apply a `log1p` transformation to handle their highly skewed distributions, and then scale the data to have a mean of 0 and a standard deviation of 1. Scaling is essential for distance-based algorithms like K-Means."
   ]
  },
  {
   "cell_type": "code",
   "execution_count": 7,
   "metadata": {},
   "outputs": [
    {
     "name": "stdout",
     "output_type": "stream",
     "text": [
      "Features have been selected, transformed (log), and scaled.\n"
     ]
    }
   ],
   "source": [
    "# Select features that define a song's success profile\n",
    "cluster_features = [\n",
    "    'spotify_streams', 'youtube_views', 'tiktok_views',\n",
    "    'shazam_counts', 'airplay_spins', 'spotify_playlist_count'\n",
    "]\n",
    "\n",
    "# Fill any potential NaNs with 0 and apply log transformation\n",
    "features_log = np.log1p(df[cluster_features].fillna(0))\n",
    "\n",
    "# Scale the data\n",
    "scaler = StandardScaler()\n",
    "features_scaled = scaler.fit_transform(features_log)\n",
    "\n",
    "print(\"Features have been selected, transformed (log), and scaled.\")"
   ]
  },
  {
   "cell_type": "markdown",
   "metadata": {},
   "source": [
    "### 3. Finding the Optimal Number of Clusters (K)\n",
    "We use the Elbow Method to identify the optimal number of clusters. We look for the 'elbow' point where adding more clusters no longer yields a significant decrease in inertia (within-cluster sum of squares)."
   ]
  },
  {
   "cell_type": "code",
   "execution_count": 8,
   "metadata": {},
   "outputs": [
    {
     "data": {
      "application/vnd.plotly.v1+json": {
       "config": {
        "plotlyServerURL": "https://plot.ly"
       },
       "data": [
        {
         "mode": "lines+markers",
         "type": "scatter",
         "x": [
          1,
          2,
          3,
          4,
          5,
          6,
          7,
          8,
          9,
          10
         ],
         "y": [
          22907.999999999996,
          13976.573632493813,
          11549.890810123783,
          10164.539678981204,
          8327.467791383462,
          6825.603358537192,
          6166.518814927699,
          5598.564985549732,
          5137.516793407839,
          4754.925285607516
         ]
        }
       ],
       "layout": {
        "annotations": [
         {
          "arrowhead": 2,
          "ax": 0,
          "ay": -40,
          "showarrow": true,
          "text": "Optimal K (Elbow Point)",
          "x": 4,
          "xref": "x",
          "y": 10164.539678981204,
          "yref": "y"
         }
        ],
        "template": {
         "data": {
          "bar": [
           {
            "error_x": {
             "color": "#2a3f5f"
            },
            "error_y": {
             "color": "#2a3f5f"
            },
            "marker": {
             "line": {
              "color": "#E5ECF6",
              "width": 0.5
             },
             "pattern": {
              "fillmode": "overlay",
              "size": 10,
              "solidity": 0.2
             }
            },
            "type": "bar"
           }
          ],
          "barpolar": [
           {
            "marker": {
             "line": {
              "color": "#E5ECF6",
              "width": 0.5
             },
             "pattern": {
              "fillmode": "overlay",
              "size": 10,
              "solidity": 0.2
             }
            },
            "type": "barpolar"
           }
          ],
          "carpet": [
           {
            "aaxis": {
             "endlinecolor": "#2a3f5f",
             "gridcolor": "white",
             "linecolor": "white",
             "minorgridcolor": "white",
             "startlinecolor": "#2a3f5f"
            },
            "baxis": {
             "endlinecolor": "#2a3f5f",
             "gridcolor": "white",
             "linecolor": "white",
             "minorgridcolor": "white",
             "startlinecolor": "#2a3f5f"
            },
            "type": "carpet"
           }
          ],
          "choropleth": [
           {
            "colorbar": {
             "outlinewidth": 0,
             "ticks": ""
            },
            "type": "choropleth"
           }
          ],
          "contour": [
           {
            "colorbar": {
             "outlinewidth": 0,
             "ticks": ""
            },
            "colorscale": [
             [
              0,
              "#0d0887"
             ],
             [
              0.1111111111111111,
              "#46039f"
             ],
             [
              0.2222222222222222,
              "#7201a8"
             ],
             [
              0.3333333333333333,
              "#9c179e"
             ],
             [
              0.4444444444444444,
              "#bd3786"
             ],
             [
              0.5555555555555556,
              "#d8576b"
             ],
             [
              0.6666666666666666,
              "#ed7953"
             ],
             [
              0.7777777777777778,
              "#fb9f3a"
             ],
             [
              0.8888888888888888,
              "#fdca26"
             ],
             [
              1,
              "#f0f921"
             ]
            ],
            "type": "contour"
           }
          ],
          "contourcarpet": [
           {
            "colorbar": {
             "outlinewidth": 0,
             "ticks": ""
            },
            "type": "contourcarpet"
           }
          ],
          "heatmap": [
           {
            "colorbar": {
             "outlinewidth": 0,
             "ticks": ""
            },
            "colorscale": [
             [
              0,
              "#0d0887"
             ],
             [
              0.1111111111111111,
              "#46039f"
             ],
             [
              0.2222222222222222,
              "#7201a8"
             ],
             [
              0.3333333333333333,
              "#9c179e"
             ],
             [
              0.4444444444444444,
              "#bd3786"
             ],
             [
              0.5555555555555556,
              "#d8576b"
             ],
             [
              0.6666666666666666,
              "#ed7953"
             ],
             [
              0.7777777777777778,
              "#fb9f3a"
             ],
             [
              0.8888888888888888,
              "#fdca26"
             ],
             [
              1,
              "#f0f921"
             ]
            ],
            "type": "heatmap"
           }
          ],
          "heatmapgl": [
           {
            "colorbar": {
             "outlinewidth": 0,
             "ticks": ""
            },
            "colorscale": [
             [
              0,
              "#0d0887"
             ],
             [
              0.1111111111111111,
              "#46039f"
             ],
             [
              0.2222222222222222,
              "#7201a8"
             ],
             [
              0.3333333333333333,
              "#9c179e"
             ],
             [
              0.4444444444444444,
              "#bd3786"
             ],
             [
              0.5555555555555556,
              "#d8576b"
             ],
             [
              0.6666666666666666,
              "#ed7953"
             ],
             [
              0.7777777777777778,
              "#fb9f3a"
             ],
             [
              0.8888888888888888,
              "#fdca26"
             ],
             [
              1,
              "#f0f921"
             ]
            ],
            "type": "heatmapgl"
           }
          ],
          "histogram": [
           {
            "marker": {
             "pattern": {
              "fillmode": "overlay",
              "size": 10,
              "solidity": 0.2
             }
            },
            "type": "histogram"
           }
          ],
          "histogram2d": [
           {
            "colorbar": {
             "outlinewidth": 0,
             "ticks": ""
            },
            "colorscale": [
             [
              0,
              "#0d0887"
             ],
             [
              0.1111111111111111,
              "#46039f"
             ],
             [
              0.2222222222222222,
              "#7201a8"
             ],
             [
              0.3333333333333333,
              "#9c179e"
             ],
             [
              0.4444444444444444,
              "#bd3786"
             ],
             [
              0.5555555555555556,
              "#d8576b"
             ],
             [
              0.6666666666666666,
              "#ed7953"
             ],
             [
              0.7777777777777778,
              "#fb9f3a"
             ],
             [
              0.8888888888888888,
              "#fdca26"
             ],
             [
              1,
              "#f0f921"
             ]
            ],
            "type": "histogram2d"
           }
          ],
          "histogram2dcontour": [
           {
            "colorbar": {
             "outlinewidth": 0,
             "ticks": ""
            },
            "colorscale": [
             [
              0,
              "#0d0887"
             ],
             [
              0.1111111111111111,
              "#46039f"
             ],
             [
              0.2222222222222222,
              "#7201a8"
             ],
             [
              0.3333333333333333,
              "#9c179e"
             ],
             [
              0.4444444444444444,
              "#bd3786"
             ],
             [
              0.5555555555555556,
              "#d8576b"
             ],
             [
              0.6666666666666666,
              "#ed7953"
             ],
             [
              0.7777777777777778,
              "#fb9f3a"
             ],
             [
              0.8888888888888888,
              "#fdca26"
             ],
             [
              1,
              "#f0f921"
             ]
            ],
            "type": "histogram2dcontour"
           }
          ],
          "mesh3d": [
           {
            "colorbar": {
             "outlinewidth": 0,
             "ticks": ""
            },
            "type": "mesh3d"
           }
          ],
          "parcoords": [
           {
            "line": {
             "colorbar": {
              "outlinewidth": 0,
              "ticks": ""
             }
            },
            "type": "parcoords"
           }
          ],
          "pie": [
           {
            "automargin": true,
            "type": "pie"
           }
          ],
          "scatter": [
           {
            "fillpattern": {
             "fillmode": "overlay",
             "size": 10,
             "solidity": 0.2
            },
            "type": "scatter"
           }
          ],
          "scatter3d": [
           {
            "line": {
             "colorbar": {
              "outlinewidth": 0,
              "ticks": ""
             }
            },
            "marker": {
             "colorbar": {
              "outlinewidth": 0,
              "ticks": ""
             }
            },
            "type": "scatter3d"
           }
          ],
          "scattercarpet": [
           {
            "marker": {
             "colorbar": {
              "outlinewidth": 0,
              "ticks": ""
             }
            },
            "type": "scattercarpet"
           }
          ],
          "scattergeo": [
           {
            "marker": {
             "colorbar": {
              "outlinewidth": 0,
              "ticks": ""
             }
            },
            "type": "scattergeo"
           }
          ],
          "scattergl": [
           {
            "marker": {
             "colorbar": {
              "outlinewidth": 0,
              "ticks": ""
             }
            },
            "type": "scattergl"
           }
          ],
          "scattermapbox": [
           {
            "marker": {
             "colorbar": {
              "outlinewidth": 0,
              "ticks": ""
             }
            },
            "type": "scattermapbox"
           }
          ],
          "scatterpolar": [
           {
            "marker": {
             "colorbar": {
              "outlinewidth": 0,
              "ticks": ""
             }
            },
            "type": "scatterpolar"
           }
          ],
          "scatterpolargl": [
           {
            "marker": {
             "colorbar": {
              "outlinewidth": 0,
              "ticks": ""
             }
            },
            "type": "scatterpolargl"
           }
          ],
          "scatterternary": [
           {
            "marker": {
             "colorbar": {
              "outlinewidth": 0,
              "ticks": ""
             }
            },
            "type": "scatterternary"
           }
          ],
          "surface": [
           {
            "colorbar": {
             "outlinewidth": 0,
             "ticks": ""
            },
            "colorscale": [
             [
              0,
              "#0d0887"
             ],
             [
              0.1111111111111111,
              "#46039f"
             ],
             [
              0.2222222222222222,
              "#7201a8"
             ],
             [
              0.3333333333333333,
              "#9c179e"
             ],
             [
              0.4444444444444444,
              "#bd3786"
             ],
             [
              0.5555555555555556,
              "#d8576b"
             ],
             [
              0.6666666666666666,
              "#ed7953"
             ],
             [
              0.7777777777777778,
              "#fb9f3a"
             ],
             [
              0.8888888888888888,
              "#fdca26"
             ],
             [
              1,
              "#f0f921"
             ]
            ],
            "type": "surface"
           }
          ],
          "table": [
           {
            "cells": {
             "fill": {
              "color": "#EBF0F8"
             },
             "line": {
              "color": "white"
             }
            },
            "header": {
             "fill": {
              "color": "#C8D4E3"
             },
             "line": {
              "color": "white"
             }
            },
            "type": "table"
           }
          ]
         },
         "layout": {
          "annotationdefaults": {
           "arrowcolor": "#2a3f5f",
           "arrowhead": 0,
           "arrowwidth": 1
          },
          "autotypenumbers": "strict",
          "coloraxis": {
           "colorbar": {
            "outlinewidth": 0,
            "ticks": ""
           }
          },
          "colorscale": {
           "diverging": [
            [
             0,
             "#8e0152"
            ],
            [
             0.1,
             "#c51b7d"
            ],
            [
             0.2,
             "#de77ae"
            ],
            [
             0.3,
             "#f1b6da"
            ],
            [
             0.4,
             "#fde0ef"
            ],
            [
             0.5,
             "#f7f7f7"
            ],
            [
             0.6,
             "#e6f5d0"
            ],
            [
             0.7,
             "#b8e186"
            ],
            [
             0.8,
             "#7fbc41"
            ],
            [
             0.9,
             "#4d9221"
            ],
            [
             1,
             "#276419"
            ]
           ],
           "sequential": [
            [
             0,
             "#0d0887"
            ],
            [
             0.1111111111111111,
             "#46039f"
            ],
            [
             0.2222222222222222,
             "#7201a8"
            ],
            [
             0.3333333333333333,
             "#9c179e"
            ],
            [
             0.4444444444444444,
             "#bd3786"
            ],
            [
             0.5555555555555556,
             "#d8576b"
            ],
            [
             0.6666666666666666,
             "#ed7953"
            ],
            [
             0.7777777777777778,
             "#fb9f3a"
            ],
            [
             0.8888888888888888,
             "#fdca26"
            ],
            [
             1,
             "#f0f921"
            ]
           ],
           "sequentialminus": [
            [
             0,
             "#0d0887"
            ],
            [
             0.1111111111111111,
             "#46039f"
            ],
            [
             0.2222222222222222,
             "#7201a8"
            ],
            [
             0.3333333333333333,
             "#9c179e"
            ],
            [
             0.4444444444444444,
             "#bd3786"
            ],
            [
             0.5555555555555556,
             "#d8576b"
            ],
            [
             0.6666666666666666,
             "#ed7953"
            ],
            [
             0.7777777777777778,
             "#fb9f3a"
            ],
            [
             0.8888888888888888,
             "#fdca26"
            ],
            [
             1,
             "#f0f921"
            ]
           ]
          },
          "colorway": [
           "#636efa",
           "#EF553B",
           "#00cc96",
           "#ab63fa",
           "#FFA15A",
           "#19d3f3",
           "#FF6692",
           "#B6E880",
           "#FF97FF",
           "#FECB52"
          ],
          "font": {
           "color": "#2a3f5f"
          },
          "geo": {
           "bgcolor": "white",
           "lakecolor": "white",
           "landcolor": "#E5ECF6",
           "showlakes": true,
           "showland": true,
           "subunitcolor": "white"
          },
          "hoverlabel": {
           "align": "left"
          },
          "hovermode": "closest",
          "mapbox": {
           "style": "light"
          },
          "paper_bgcolor": "white",
          "plot_bgcolor": "#E5ECF6",
          "polar": {
           "angularaxis": {
            "gridcolor": "white",
            "linecolor": "white",
            "ticks": ""
           },
           "bgcolor": "#E5ECF6",
           "radialaxis": {
            "gridcolor": "white",
            "linecolor": "white",
            "ticks": ""
           }
          },
          "scene": {
           "xaxis": {
            "backgroundcolor": "#E5ECF6",
            "gridcolor": "white",
            "gridwidth": 2,
            "linecolor": "white",
            "showbackground": true,
            "ticks": "",
            "zerolinecolor": "white"
           },
           "yaxis": {
            "backgroundcolor": "#E5ECF6",
            "gridcolor": "white",
            "gridwidth": 2,
            "linecolor": "white",
            "showbackground": true,
            "ticks": "",
            "zerolinecolor": "white"
           },
           "zaxis": {
            "backgroundcolor": "#E5ECF6",
            "gridcolor": "white",
            "gridwidth": 2,
            "linecolor": "white",
            "showbackground": true,
            "ticks": "",
            "zerolinecolor": "white"
           }
          },
          "shapedefaults": {
           "line": {
            "color": "#2a3f5f"
           }
          },
          "ternary": {
           "aaxis": {
            "gridcolor": "white",
            "linecolor": "white",
            "ticks": ""
           },
           "baxis": {
            "gridcolor": "white",
            "linecolor": "white",
            "ticks": ""
           },
           "bgcolor": "#E5ECF6",
           "caxis": {
            "gridcolor": "white",
            "linecolor": "white",
            "ticks": ""
           }
          },
          "title": {
           "x": 0.05
          },
          "xaxis": {
           "automargin": true,
           "gridcolor": "white",
           "linecolor": "white",
           "ticks": "",
           "title": {
            "standoff": 15
           },
           "zerolinecolor": "white",
           "zerolinewidth": 2
          },
          "yaxis": {
           "automargin": true,
           "gridcolor": "white",
           "linecolor": "white",
           "ticks": "",
           "title": {
            "standoff": 15
           },
           "zerolinecolor": "white",
           "zerolinewidth": 2
          }
         }
        },
        "title": {
         "text": "Elbow Method for Optimal K"
        },
        "xaxis": {
         "title": {
          "text": "Number of Clusters (k)"
         }
        },
        "yaxis": {
         "title": {
          "text": "Inertia"
         }
        }
       }
      }
     },
     "metadata": {},
     "output_type": "display_data"
    }
   ],
   "source": [
    "inertia = []\n",
    "K = range(1, 11)\n",
    "\n",
    "for k in K:\n",
    "    kmeans = KMeans(n_clusters=k, random_state=42, n_init='auto')\n",
    "    kmeans.fit(features_scaled)\n",
    "    inertia.append(kmeans.inertia_)\n",
    "\n",
    "# Plot the Elbow Method curve\n",
    "fig = go.Figure(data=go.Scatter(x=list(K), y=inertia, mode='lines+markers'))\n",
    "fig.update_layout(\n",
    "    title='Elbow Method for Optimal K',\n",
    "    xaxis_title='Number of Clusters (k)',\n",
    "    yaxis_title='Inertia',\n",
    "    annotations=[\n",
    "        dict(x=4, y=inertia[3], ax=0, ay=-40, xref='x', yref='y', showarrow=True, arrowhead=2, text='Optimal K (Elbow Point)')\n",
    "    ]\n",
    ")\n",
    "fig.show()"
   ]
  },
  {
   "cell_type": "markdown",
   "metadata": {},
   "source": [
    "**Observation:** The elbow point is clearly visible at **k=4**. This suggests that our songs can be meaningfully segmented into four distinct archetypes."
   ]
  },
  {
   "cell_type": "markdown",
   "metadata": {},
   "source": [
    "### 4. Applying K-Means and Analyzing Cluster Profiles\n",
    "Now we apply K-Means with our chosen k=4 and then analyze the resulting clusters to define our archetypes."
   ]
  },
  {
   "cell_type": "code",
   "execution_count": 9,
   "metadata": {},
   "outputs": [
    {
     "name": "stdout",
     "output_type": "stream",
     "text": [
      "K-Means applied. Songs have been assigned to 4 clusters.\n",
      "Cluster Profiles (Mean Values per Feature):\n"
     ]
    },
    {
     "data": {
      "text/html": [
       "<div>\n",
       "<style scoped>\n",
       "    .dataframe tbody tr th:only-of-type {\n",
       "        vertical-align: middle;\n",
       "    }\n",
       "\n",
       "    .dataframe tbody tr th {\n",
       "        vertical-align: top;\n",
       "    }\n",
       "\n",
       "    .dataframe thead th {\n",
       "        text-align: right;\n",
       "    }\n",
       "</style>\n",
       "<table border=\"1\" class=\"dataframe\">\n",
       "  <thead>\n",
       "    <tr style=\"text-align: right;\">\n",
       "      <th></th>\n",
       "      <th>spotify_streams</th>\n",
       "      <th>youtube_views</th>\n",
       "      <th>tiktok_views</th>\n",
       "      <th>shazam_counts</th>\n",
       "      <th>airplay_spins</th>\n",
       "      <th>spotify_playlist_count</th>\n",
       "    </tr>\n",
       "    <tr>\n",
       "      <th>cluster</th>\n",
       "      <th></th>\n",
       "      <th></th>\n",
       "      <th></th>\n",
       "      <th></th>\n",
       "      <th></th>\n",
       "      <th></th>\n",
       "    </tr>\n",
       "  </thead>\n",
       "  <tbody>\n",
       "    <tr>\n",
       "      <th>2</th>\n",
       "      <td>6.895729e+08</td>\n",
       "      <td>5.857262e+08</td>\n",
       "      <td>8.301403e+08</td>\n",
       "      <td>0.000000e+00</td>\n",
       "      <td>75141.826923</td>\n",
       "      <td>75902.639423</td>\n",
       "    </tr>\n",
       "    <tr>\n",
       "      <th>0</th>\n",
       "      <td>6.294053e+08</td>\n",
       "      <td>4.761150e+08</td>\n",
       "      <td>1.133629e+09</td>\n",
       "      <td>3.557560e+06</td>\n",
       "      <td>75664.810508</td>\n",
       "      <td>93197.199397</td>\n",
       "    </tr>\n",
       "    <tr>\n",
       "      <th>3</th>\n",
       "      <td>1.379400e+08</td>\n",
       "      <td>2.487371e+08</td>\n",
       "      <td>3.376772e+08</td>\n",
       "      <td>7.630971e+04</td>\n",
       "      <td>5136.153595</td>\n",
       "      <td>861.712418</td>\n",
       "    </tr>\n",
       "    <tr>\n",
       "      <th>1</th>\n",
       "      <td>9.103535e+07</td>\n",
       "      <td>1.504467e+08</td>\n",
       "      <td>6.504959e+08</td>\n",
       "      <td>3.883000e+05</td>\n",
       "      <td>9192.795316</td>\n",
       "      <td>12797.475560</td>\n",
       "    </tr>\n",
       "  </tbody>\n",
       "</table>\n",
       "</div>"
      ],
      "text/plain": [
       "         spotify_streams  youtube_views  tiktok_views  shazam_counts  \\\n",
       "cluster                                                                \n",
       "2           6.895729e+08   5.857262e+08  8.301403e+08   0.000000e+00   \n",
       "0           6.294053e+08   4.761150e+08  1.133629e+09   3.557560e+06   \n",
       "3           1.379400e+08   2.487371e+08  3.376772e+08   7.630971e+04   \n",
       "1           9.103535e+07   1.504467e+08  6.504959e+08   3.883000e+05   \n",
       "\n",
       "         airplay_spins  spotify_playlist_count  \n",
       "cluster                                         \n",
       "2         75141.826923            75902.639423  \n",
       "0         75664.810508            93197.199397  \n",
       "3          5136.153595              861.712418  \n",
       "1          9192.795316            12797.475560  "
      ]
     },
     "execution_count": 9,
     "metadata": {},
     "output_type": "execute_result"
    }
   ],
   "source": [
    "# Apply K-Means with k=4\n",
    "kmeans = KMeans(n_clusters=4, random_state=42, n_init='auto')\n",
    "df['cluster'] = kmeans.fit_predict(features_scaled)\n",
    "\n",
    "print(\"K-Means applied. Songs have been assigned to 4 clusters.\")\n",
    "\n",
    "# Analyze the cluster centroids by calculating the mean of the original (non-scaled) features\n",
    "cluster_profile = df.groupby('cluster')[cluster_features].mean().sort_values('spotify_streams', ascending=False)\n",
    "\n",
    "print(\"Cluster Profiles (Mean Values per Feature):\")\n",
    "cluster_profile"
   ]
  },
  {
   "cell_type": "markdown",
   "metadata": {},
   "source": [
    "#### Defining the Archetypes\n",
    "Based on the mean values above, we can assign a persona to each cluster:\n",
    "\n",
    "-   **Cluster 0: The Global Superstars:** Dominates across every single metric. These are the mega-hits from A-list artists with massive streaming numbers, huge YouTube views, and significant radio play.\n",
    "\n",
    "-   **Cluster 2: The Radio & Playlist Hits:** This group has strong streaming and playlist numbers, but its defining feature is a disproportionately high number of `airplay_spins`. These are songs with heavy traditional media backing.\n",
    "\n",
    "-   **Cluster 1: The Digital Natives:** Strong performance on Spotify and YouTube, but significantly less radio play. These hits live and breathe on digital platforms and may not have crossed over into traditional media.\n",
    "\n",
    "-   **Cluster 3: The Niche & Emerging Hits:** This is the largest group, representing songs that are successful enough to make the dataset but have modest performance across all platforms compared to the other tiers."
   ]
  },
  {
   "cell_type": "markdown",
   "metadata": {},
   "source": [
    "### 5. Visualizing the Clusters with PCA\n",
    "To visualize our 6-dimensional clusters, we use Principal Component Analysis (PCA) to project the data down to two dimensions."
   ]
  },
  {
   "cell_type": "code",
   "execution_count": 10,
   "metadata": {},
   "outputs": [
    {
     "data": {
      "application/vnd.plotly.v1+json": {
       "config": {
        "plotlyServerURL": "https://plot.ly"
       },
       "data": [
        {
         "customdata": [
          [
           "The Kid LAROI",
           3107100349
          ],
          [
           "Ed Sheeran",
           2969999682
          ],
          [
           "The Neighbourhood",
           2916412507
          ],
          [
           "Hozier",
           2544489950
          ],
          [
           "Queen",
           2486908570
          ],
          [
           "Tom Odell",
           2444335468
          ],
          [
           "John Legend",
           2379787239
          ],
          [
           "Twenty One Pilots",
           2313532702
          ],
          [
           "The Weeknd",
           2265551950
          ],
          [
           "Passenger",
           2252713547
          ],
          [
           "Arctic Monkeys",
           2188592950
          ],
          [
           "Olivia Rodrigo",
           2184754018
          ],
          [
           "Bruno Mars",
           2106040891
          ],
          [
           "Bruno Mars",
           2075459887
          ],
          [
           "French Montana",
           2065697126
          ],
          [
           "The Weeknd",
           1995511952
          ],
          [
           "Lukas Graham",
           1916203330
          ],
          [
           "Lil Nas X",
           1902241314
          ],
          [
           "The Chainsmokers",
           1888829482
          ],
          [
           "Charlie Puth",
           1859886400
          ],
          [
           "Ed Sheeran",
           1816356140
          ],
          [
           "Charlie Puth",
           1800254516
          ],
          [
           "Twenty One Pilots",
           1724766252
          ],
          [
           "Linkin Park",
           1720830668
          ],
          [
           "Alec Benjamin",
           1709991997
          ],
          [
           "Jung Kook",
           1673557134
          ],
          [
           "The Weeknd",
           1667089416
          ],
          [
           "Coolio",
           1666699743
          ],
          [
           "Don Omar",
           1655575417
          ],
          [
           "Panic! At The Disco",
           1602076880
          ],
          [
           "DJ Snake",
           1569891590
          ],
          [
           "Imagine Dragons",
           1502382072
          ],
          [
           "Coldplay",
           1490987063
          ],
          [
           "XXXTENTACION",
           1432465000
          ],
          [
           "Bruno Mars",
           1425996809
          ],
          [
           "Gorillaz",
           1407382497
          ],
          [
           "gnash",
           1405772026
          ],
          [
           "Red Hot Chili Peppers",
           1405353677
          ],
          [
           "Ed Sheeran",
           1394345347
          ],
          [
           "Bebe Rexha",
           1382191196
          ],
          [
           "XXXTENTACION",
           1356969354
          ],
          [
           "Rihanna",
           1313274600
          ],
          [
           "Ed Sheeran",
           1311631709
          ],
          [
           "Portugal. The Man",
           1303452422
          ],
          [
           "Coldplay",
           1287292679
          ],
          [
           "Bryson Tiller",
           1281704427
          ],
          [
           "Coldplay",
           1269607301
          ],
          [
           "DJ Khaled",
           1257029279
          ],
          [
           "Meek Mill",
           1189579197
          ],
          [
           "Rudimental",
           1124147912
          ],
          [
           "Jason Derulo",
           1116304877
          ],
          [
           "KALEO",
           1086861259
          ],
          [
           "Red Hot Chili Peppers",
           1070374387
          ],
          [
           "Flo Rida",
           1069960318
          ],
          [
           "Dan + Shay",
           1060319450
          ],
          [
           "Stephen Sanchez",
           1020452066
          ],
          [
           "Coldplay",
           1020239582
          ],
          [
           "Lil Uzi Vert",
           973400151
          ],
          [
           "Drake",
           971473231
          ],
          [
           "Drake",
           970219741
          ],
          [
           "Charlie Puth",
           947763871
          ],
          [
           "The Kid LAROI",
           927908363
          ],
          [
           "Rachel Platten",
           897794289
          ],
          [
           "Dua Lipa",
           860026452
          ],
          [
           "James Arthur",
           853574945
          ],
          [
           "Charlie Puth",
           833094374
          ],
          [
           "Shakira",
           829352129
          ],
          [
           "The Weeknd",
           812954133
          ],
          [
           "A$AP Rocky",
           803286487
          ],
          [
           "Bruno Mars",
           797648369
          ],
          [
           "Big Sean",
           781790448
          ],
          [
           "Disturbed",
           777947820
          ],
          [
           "Lil Wayne",
           773746724
          ],
          [
           "Lukas Graham",
           753200066
          ],
          [
           "Jason Derulo",
           716319941
          ],
          [
           "Mac Miller",
           687861392
          ],
          [
           "Bebe Rexha",
           671869078
          ],
          [
           "Lil Dicky",
           670298052
          ],
          [
           "Sia",
           669427500
          ],
          [
           "grandson",
           658966178
          ],
          [
           "Calle 24",
           642548537
          ],
          [
           "21 Savage",
           637055162
          ],
          [
           "Auli'i Cravalho",
           611088459
          ],
          [
           "cassï¿",
           609699748
          ],
          [
           "Beyoncï¿",
           607315454
          ],
          [
           "Dan + Shay",
           601987422
          ],
          [
           "Drake",
           597923434
          ],
          [
           "Echosmith",
           570026061
          ],
          [
           "Sia",
           563680273
          ],
          [
           "Nicky Jam",
           560103803
          ],
          [
           "Gucci Mane",
           554022596
          ],
          [
           "Drake",
           549699659
          ],
          [
           "Hozier",
           532012790
          ],
          [
           "Twenty One Pilots",
           517990518
          ],
          [
           "Tory Lanez",
           510138748
          ],
          [
           "Kane Brown",
           492361216
          ],
          [
           "The Kid LAROI",
           488253341
          ],
          [
           "The Weeknd",
           465348362
          ],
          [
           "Young Thug",
           458957128
          ],
          [
           "Shouse",
           450102131
          ],
          [
           "Shouse",
           449513936
          ],
          [
           "Jason Derulo",
           442260324
          ],
          [
           "21 Savage",
           433309786
          ],
          [
           "Blxst",
           396135437
          ],
          [
           "Roddy Ricch",
           394772670
          ],
          [
           "Money Man",
           390733154
          ],
          [
           "Lee Brice",
           382466683
          ],
          [
           "Meek Mill",
           369947896
          ],
          [
           "Brytiago",
           362670547
          ],
          [
           "Melanie Martinez",
           349538935
          ],
          [
           "Blanco Brown",
           346783267
          ],
          [
           "Lizzo",
           335194737
          ],
          [
           "Dustin Lynch",
           333982743
          ],
          [
           "Eliza Rose",
           325902688
          ],
          [
           "Cris Mj",
           325264193
          ],
          [
           "LE SSERAFIM",
           312942305
          ],
          [
           "YG Marley",
           298853393
          ],
          [
           "Jasleen Royal",
           296399608
          ],
          [
           "Pop Smoke",
           265520736
          ],
          [
           "Trueno",
           265253887
          ],
          [
           "yuji",
           262082601
          ],
          [
           "Mc Paiva ZS",
           255564797
          ],
          [
           "Swedish House Mafia",
           248202976
          ],
          [
           "Zay Hilfigerrr",
           243305603
          ],
          [
           "Beny Jr",
           243125642
          ],
          [
           "SHAED",
           229366200
          ],
          [
           "Sachin-Jigar",
           226109929
          ],
          [
           "Metro Boomin",
           223785164
          ],
          [
           "Charli xcx",
           222975612
          ],
          [
           "Ice Spice",
           220270601
          ],
          [
           "Megan Thee Stallion",
           208151054
          ],
          [
           "Meghan Trainor",
           205312051
          ],
          [
           "MC Fioti",
           191584138
          ],
          [
           "Jelly Roll",
           189577521
          ],
          [
           "Jason Aldean",
           184488165
          ],
          [
           "Leo Santana",
           182793453
          ],
          [
           "The Weeknd",
           180940067
          ],
          [
           "Charli xcx",
           180051347
          ],
          [
           "King Gnu",
           178413226
          ],
          [
           "Miley Cyrus",
           173349210
          ],
          [
           "DJ Jeeh FDC",
           172602494
          ],
          [
           "Lunay",
           170646969
          ],
          [
           "Omah Lay",
           167668390
          ],
          [
           "YoungBoy Never Broke Again",
           163974630
          ],
          [
           "SativaMusic",
           159144858
          ],
          [
           "Lainey Wilson",
           156975001
          ],
          [
           "ANOTR",
           149095636
          ],
          [
           "Nardo Wick",
           142262820
          ],
          [
           "Metro Boomin",
           134971918
          ],
          [
           "Ozuna",
           133601746
          ],
          [
           "Lainey Wilson",
           129635815
          ],
          [
           "Bizarrap",
           126619484
          ],
          [
           "Parmalee",
           120964748
          ],
          [
           "TRASHXRL",
           119445482
          ],
          [
           "Offset",
           118851626
          ],
          [
           "David Guetta",
           114574238
          ],
          [
           "5ive",
           111894875
          ],
          [
           "Dyamante DJ",
           110960415
          ],
          [
           "Luis Angel \"El Flaco\"",
           110244949
          ],
          [
           "NATTI NATASHA",
           109221089
          ],
          [
           "CHINCHILLA",
           100397677
          ],
          [
           "KAROL G",
           100094720
          ],
          [
           "Cardi B",
           97991117
          ],
          [
           "Taylor Swift",
           97601615
          ],
          [
           "Chefin",
           92949075
          ],
          [
           "Isaias Saad",
           91842323
          ],
          [
           "Diplo",
           90619651
          ],
          [
           "Eternxlkz",
           81775807
          ],
          [
           "Taylor Swift",
           81662552
          ],
          [
           "YoungBoy Never Broke Again",
           80585683
          ],
          [
           "Borges",
           79782529
          ],
          [
           "Olivia Rodrigo",
           76917797
          ],
          [
           "David Kushner",
           70354552
          ],
          [
           "Lazza",
           69972816
          ],
          [
           "Lil Tecca",
           65300464
          ],
          [
           "Omah Lay",
           61390970
          ],
          [
           "Latto",
           60082145
          ],
          [
           "Jey One",
           57239767
          ],
          [
           "Tyler ICU",
           54611633
          ],
          [
           "Jason Aldean",
           54488988
          ],
          [
           "Morad",
           52602574
          ],
          [
           "Diddy",
           44931644
          ],
          [
           "Oruam",
           44091443
          ],
          [
           "Happy Asmara",
           43407503
          ],
          [
           "Jass Manak",
           41063045
          ],
          [
           "Eliza Rose",
           40047588
          ],
          [
           "Tiagz",
           39715603
          ],
          [
           "Kaka",
           38264355
          ],
          [
           "Jelly Roll",
           38159739
          ],
          [
           "Pawan Singh",
           35308201
          ],
          [
           "TitoM",
           30674267
          ],
          [
           "Luck Ra",
           28739240
          ],
          [
           "Tenacious D",
           28423160
          ],
          [
           "Iyanya",
           23823099
          ],
          [
           "Don Toliver",
           23798578
          ],
          [
           "Purple Disco Machine",
           21179750
          ],
          [
           "Gucci Mane",
           19690183
          ],
          [
           "Fresh X Reckless",
           19617254
          ],
          [
           "Inder Arya",
           17389541
          ],
          [
           "Bolofofos",
           12933566
          ],
          [
           "Adele",
           11170019
          ],
          [
           "Olivetheboy",
           9513971
          ],
          [
           "Happy Asmara",
           8034198
          ],
          [
           "ZAYN",
           7660758
          ],
          [
           "Jungle",
           5503365
          ],
          [
           "The Weeknd",
           5191059
          ],
          [
           "D. Savage",
           3608717
          ],
          [
           "Roddy Ricch",
           3248779
          ]
         ],
         "hovertemplate": "<b>%{hovertext}</b><br><br>archetype=Global Superstar<br>Principal Component 1 (Overall Scale)=%{x}<br>Principal Component 2 (Performance Style)=%{y}<br>artist=%{customdata[0]}<br>spotify_streams=%{customdata[1]}<extra></extra>",
         "hovertext": [
          "STAY (with Justin Bieber)",
          "Perfect",
          "Sweater Weather",
          "Take Me to Church",
          "Bohemian Rhapsody",
          "Another Love",
          "All of Me - Radio Edit",
          "Stressed Out",
          "Die For You",
          "Let Her Go",
          "Do I Wanna Know?",
          "drivers license",
          "When I Was Your Man",
          "That's What I Like",
          "Unforgettable",
          "Save Your Tears",
          "7 Years",
          "MONTERO (Call Me By Your Name)",
          "Don't Let Me Down",
          "We Don't Talk Anymore (feat. Selena Gomez)",
          "I Don't Care (with Justin Bieber)",
          "Attention",
          "Ride",
          "Numb",
          "Let Me Down Slowly",
          "Seven (feat. Latto) (Clean Ver.)",
          "Earned It (Fifty Shades Of Grey)",
          "Gangsta's Paradise (feat. L.V.)",
          "Danza Kuduro (feat. Lucenzo)",
          "High Hopes",
          "Taki Taki (with Selena Gomez, Ozuna & Cardi B)",
          "Enemy (with JID) - from the series Arcane League of Legends",
          "A Sky Full of Stars",
          "Look At Me!",
          "24K Magic",
          "Feel Good Inc.",
          "i hate u, i love u (feat. olivia o'brien)",
          "Californication",
          "Beautiful People (feat. Khalid)",
          "Meant to Be (feat. Florida Georgia Line)",
          "Revenge",
          "Stay",
          "Galway Girl",
          "Feel It Still",
          "Paradise - Radio Edit",
          "Don't",
          "My Universe",
          "I'm the One",
          "Going Bad (feat. Drake)",
          "These Days (feat. Jess Glynne, Macklemore & Dan Caplen)",
          "Swalla (feat. Nicki Minaj & Ty Dolla $ign)",
          "Way down We Go",
          "Snow (Hey Oh)",
          "My House",
          "10,000 Hours (with Justin Bieber)",
          "Until I Found You (with Em Beihold) - Em Beihold Version",
          "Adventure Of A Lifetime",
          "The Way Life Goes (feat. Oh Wonder)",
          "Jimmy Cook's (feat. 21 Savage)",
          "Money In The Grave (Drake ft. Rick Ross)",
          "Left and Right (Feat. Jung Kook of BTS)",
          "WITHOUT YOU",
          "Fight Song",
          "Dance The Night",
          "Rewrite The Stars (with James Arthur & Anne-Marie)",
          "One Call Away",
          "Waka Waka (This Time for Africa) [The Official 2010 FIFA World Cup (TM) Song] (feat. Freshlyground)",
          "Popular",
          "F**kin' Problems",
          "Versace on the Floor",
          "I Don't Fuck With You",
          "The Sound Of Silence",
          "Love Me",
          "Love Someone",
          "Take You Dancing",
          "Self Care",
          "I'm a Mess",
          "Freaky Friday (feat. Chris Brown)",
          "The Greatest",
          "Blood // Water",
          "Que Onda",
          "ball w/o you",
          "How Far I'll Go",
          "Prada",
          "Drunk in Love",
          "Tequila",
          "Marvins Room",
          "Cool Kids",
          "Genius (feat. Sia, Diplo, and Labrinth)",
          "Hasta el Amanecer",
          "I Get The Bag (feat. Migos)",
          "The Motto",
          "Too Sweet",
          "Chlorine",
          "Say It",
          "Heaven",
          "GO (feat. Juice WRLD)",
          "Take My Breath - Single Version",
          "Relationship (feat. Future)",
          "Love Tonight - Edit",
          "Love Tonight - David Guetta Remix Edit",
          "Acapulco",
          "Rich Nigga Shit (feat. Young Thug)",
          "Chosen (feat. Ty Dolla $ign)",
          "Down Below",
          "24 (feat. Lil Baby)",
          "One Of Them Girls",
          "All Eyes On You (feat. Chris Brown & Nicki Minaj)",
          "Asesina",
          "Soap",
          "The Git Up",
          "2 Be Loved (Am I Ready)",
          "Small Town Boy",
          "B.O.T.A. (Baddest Of Them All) - Edit",
          "Marisola - Remix",
          "FEARLESS",
          "Praise Jah In The Moonlight",
          "Heeriye (feat. Arijit Singh)",
          "Welcome To The Party",
          "DANCE CRIP",
          "Old Love",
          "Casei Com a Putaria",
          "Heaven Takes You Home",
          "Juju On That Beat (TZ Anthem)",
          "Sigue",
          "Trampoline",
          "Phir Aur Kya Chahiye (From \"Zara Hatke Zara Bachke\")",
          "Around Me (feat. Don Toliver)",
          "Speed Drive (From Barbie The Album)",
          "Princess Diana (with Nicki Minaj)",
          "Cry Baby (feat. DaBaby)",
          "Title",
          "Joga o Bum Bum Tam Tam",
          "Son Of A Sinner",
          "Got What I Got",
          "Zona De Perigo",
          "Double Fantasy (with Future)",
          "Boys",
          "SPECIALZ",
          "Jaded",
          "Puta Mexicana",
          "Soltera",
          "soso",
          "Nevada",
          "Seya",
          "Heart Like A Truck",
          "Relax My Eyes",
          "Dah Dah DahDah",
          "Umbrella (with 21 Savage & Young Nudy)",
          "Bebe (feat. Anuel AA)",
          "Watermelon Moonshine",
          "Natanael Cano: Bzrp Music Sessions, Vol. 59",
          "Take My Name",
          "Orquestra Maldita",
          "SAY MY GRACE (feat. Travis Scott)",
          "I Don't Wanna Wait",
          "Me and My Brother",
          "Vai Novinha Ah Ah Ah",
          "Y Si Se Quiere Ir",
          "La Mejor Version de Mi",
          "Little Girl Gone",
          "WATATI (feat. Aldo Ranks) [From Barbie The Album]",
          "Bongos (feat. Megan Thee Stallion)",
          "So High School",
          "10 Carros",
          "Bondade de Deus",
          "Heartbroken (feat. Jessie Murph & Polo G)",
          "SLAY!",
          "The Black Dog",
          "Vette Motors",
          "Loucura",
          "so american",
          "Skin and Bones",
          "100 MESSAGGI",
          "Down With Me",
          "Holy Ghost",
          "Put It On Da Floor Again (feat. Cardi B)",
          "Onana",
          "Mnike (feat. DJ Maphorisa, Nandipha808, Ceeka RSA & Tyron Dee)",
          "Trouble With A Heartbreak",
          "Lo Que Tiene",
          "Gotta Move On (feat. Bryson Tiller)",
          "Para de Mentir",
          "Rungkad",
          "Lehanga",
          "Body Moving",
          "Tacata",
          "Temporary pyar",
          "Halfway To Hell",
          "Hari Hari Odhani",
          "Tshwala Bam (feat. S.N.E, EeQue)",
          "Ya No Vuelvas",
          "...Baby One More Time (from Kung Fu Panda 4)",
          "One Side",
          "Deep in the Water",
          "Beat Of Your Heart",
          "There I Go (feat. J. Cole & Mike WiLL Made-It)",
          "Blicky",
          "Gulabi Sharara",
          "Domingo Abacaxi Flamingo",
          "Rolling in the Deep - Acapella",
          "GoodSin",
          "Ngopi Maszeh",
          "Dusk Till Dawn (feat. Sia)",
          "Every Night",
          "Blinding Lights - Instrumental",
          "Private Jet",
          "King Size"
         ],
         "legendgroup": "Global Superstar",
         "marker": {
          "color": "#636efa",
          "symbol": "circle"
         },
         "mode": "markers",
         "name": "Global Superstar",
         "showlegend": true,
         "type": "scattergl",
         "x": [
          1.5824219744175991,
          1.3423121483794405,
          1.125557127696333,
          0.28162251907582314,
          -2.756576228763346,
          0.9088245447881468,
          -2.2732225097795014,
          1.1562951624558413,
          0.872894216248836,
          0.7333436358520138,
          -0.7678045325244915,
          -2.101132893536709,
          0.827283169112323,
          0.8646585310892029,
          0.9665133933913133,
          -2.0992102355476354,
          0.9315912664780388,
          -1.1377480350538869,
          1.038695436744579,
          0.8021771691467565,
          0.8660782559646973,
          0.6593546372478346,
          0.9212855494763544,
          0.9506716363198021,
          0.4469043902821138,
          -1.1643477675228913,
          -0.5572771493294757,
          -2.9351125429438034,
          -2.0891935329792877,
          0.920164949719953,
          0.012904489113621498,
          -0.5079728136568346,
          0.8124597689342826,
          0.15956507413848542,
          -2.584075073173168,
          0.9654273671513413,
          0.03917162906731301,
          0.733563396765799,
          0.024127540024949348,
          0.6954410020328762,
          -2.259283529458348,
          0.14088408897005897,
          0.5657897119256925,
          0.6888359035449049,
          -2.078197381256303,
          -1.55596406141966,
          -0.08789490861714484,
          0.2839871548149933,
          0.6973431573732678,
          0.5592178890247141,
          -0.4774707445737873,
          0.8283899889871725,
          -0.15111125923905727,
          0.5832076355085472,
          -0.19934160019467398,
          0.40466240876599174,
          0.6401874180306444,
          -0.08913749599578513,
          -1.1415509585628236,
          0.45343866410357625,
          0.11327941091382962,
          0.7980009721556756,
          0.38559345808273404,
          -1.5649542431174563,
          -0.2518931407252837,
          0.43911662892472086,
          0.6611281151455786,
          -1.5372545398546749,
          0.2418527907497387,
          0.10883460390567401,
          0.32349685873196243,
          0.47971811707478673,
          -1.098177139058242,
          0.29007925817760954,
          0.6082703340126426,
          -0.04427612559999655,
          0.16836441378816092,
          0.07407714935365194,
          -0.4224619798216024,
          0.04661611358277608,
          -0.35295952822343457,
          -0.47545788639779046,
          -0.2997303152309381,
          0.33534398994496667,
          -0.5002366859173968,
          0.03857212767619363,
          -0.4093055555700488,
          0.2707786270634791,
          -0.008608190979823264,
          -2.7965014236241283,
          0.1052392027095696,
          -0.0714475462807287,
          -1.0700106364329292,
          0.10633844178114765,
          -0.07412416089633483,
          -0.9831807948121588,
          -0.3183980152327222,
          0.3476676087882017,
          -0.5216836724955213,
          -0.8803876158389736,
          -0.1053738549966794,
          0.11236012570160586,
          -0.4945871977953619,
          0.3339879516210559,
          -0.27326861844380473,
          -0.7570504757650582,
          0.1558401501496257,
          -0.0819208927516982,
          -0.5557783993408967,
          -0.5006419152442799,
          0.0494992706880414,
          0.06779797175298392,
          -0.15126419709584676,
          -0.17811362594134722,
          -1.573630564071723,
          -0.4444259759817359,
          -1.0295162963716042,
          -0.8019251065090737,
          -0.5571127306426978,
          -1.2003347717618007,
          -0.48662419149260466,
          -0.955386427758142,
          -0.28011739134346697,
          -0.468185788090063,
          -0.4685015669670116,
          -0.0065679168400681635,
          -1.3309562611349726,
          -1.064158670444293,
          -0.5000405695717672,
          -0.46455796529636245,
          -0.05551200875897795,
          -0.37325588535643534,
          -2.8730386287960923,
          -0.12448327342645467,
          -1.6101962505790097,
          -0.6365387104075709,
          -0.6194640983215545,
          -0.7153134292590272,
          -0.7455575781861702,
          -0.3175021074989866,
          -0.8671231585787726,
          -1.814022652470418,
          -0.2404852695257117,
          -0.8401571841494315,
          -0.5470211696352268,
          -0.25880508266512836,
          -0.4889186491090727,
          -0.6393346342146217,
          -1.0903793766915928,
          -1.605384221172374,
          -0.5690470929669476,
          -1.5759149707965745,
          -0.5412283101108117,
          -1.6103917011536981,
          -1.1034568505970694,
          -0.8246390085538972,
          -1.252490339493257,
          -1.0317953808679128,
          -0.9683586768550961,
          -0.5681551344962656,
          -1.0360054552630211,
          -1.774806568294407,
          -0.6183577425419133,
          -1.863150033025223,
          -1.782096380576015,
          -1.2566485434792882,
          -0.9231459110995863,
          -2.207741965340194,
          -2.8369516587559374,
          -1.1322403782227952,
          -2.681371345396771,
          -2.617862158262195,
          -1.3795081623203858,
          -2.1191490012213805,
          -2.550247178422445,
          -1.2777051691199282,
          -0.7458321778319592,
          -1.05225868834424,
          -1.0071300382938777,
          -0.8463816749406506,
          -2.4280746993501716,
          -2.763593548559005,
          -2.41607092939776,
          -2.165353195707887,
          -2.7583256427734697,
          -2.0847955821718225,
          -1.4754421922291125,
          -2.677205845859048,
          -1.2206171332257858,
          -2.761929510078311,
          -1.3491476303947176,
          -1.515593185409211,
          -2.4422490281290807,
          -1.2301978583141362,
          -2.838569990760232,
          -2.359810559961935,
          -1.3350966228992807,
          -1.8536977793432041,
          -2.6383022963794502,
          -2.408382464729421,
          -2.078616391087814,
          -2.079487497125917,
          -2.526588611328688,
          -1.1740851037350657,
          -2.5661918008165263,
          -2.0433216626713877,
          -2.808577230433339,
          -2.638323441584339
         ],
         "xaxis": "x",
         "y": [
          -0.3972021015523295,
          0.0581978590606519,
          -0.12395380550635496,
          -0.23456188556335505,
          0.7205402471718666,
          -0.16819019166073393,
          -0.8366300366404898,
          -0.07262746461236157,
          -0.7297471886707696,
          0.05662429276169573,
          -0.27578914826279494,
          -4.510651111538623,
          -0.48079084022895535,
          0.04051202658569084,
          -0.05722716210494642,
          -4.529510555944173,
          -0.04180930815684708,
          -0.32340197716138475,
          0.038471000381318086,
          0.10186131438822897,
          -0.2595387606880382,
          0.07599453201175975,
          -0.08621390938985002,
          -0.025160985701345326,
          0.24559434658057583,
          -4.0629436344554595,
          0.7248403143174816,
          0.7497274284020657,
          0.8112189615560814,
          -0.5293462454245298,
          0.10882511863272301,
          -4.142771092182893,
          -0.3393477847762278,
          0.2012670764040648,
          0.7556247509357648,
          -0.11522892922287054,
          0.2812988584249514,
          -0.018562694268799165,
          0.2057765960233743,
          -0.11375051483764072,
          0.038971110926238596,
          0.006043735196061168,
          -0.10496301115197428,
          -0.22534779256914536,
          0.17821800140910687,
          -0.2542242959717255,
          0.309476498768354,
          -0.5392731071583287,
          -0.29646022533049177,
          -0.16507137646272885,
          0.8765060882351545,
          -0.09579051249214948,
          0.45656432831801486,
          -0.1399555999096342,
          0.11073331948882673,
          -0.435410207823196,
          0.056744466784288586,
          0.08984891170159424,
          -0.806936851331409,
          -0.2769716958283855,
          -0.6280756131601305,
          -0.465987065364941,
          -0.4631984840329611,
          -1.0665268783709523,
          0.43187018427450136,
          0.007770862612405826,
          0.38919921199834306,
          -1.7309289118954563,
          -0.13316292474536373,
          0.05417388379400885,
          -0.11014011181728917,
          0.09918073081872025,
          0.452764204987227,
          -0.25317082521080697,
          -0.21914907355764635,
          0.2081281212669914,
          0.0337729742489094,
          0.16486724387276014,
          0.5412679301087898,
          0.02179883882543587,
          0.11924978117794031,
          0.11657443650213223,
          0.5119709917992226,
          -0.5581274967446791,
          0.5694546095717399,
          -0.5821661634251416,
          0.18392927569873832,
          -0.019042798600177005,
          0.1148802594702516,
          0.88510787125425,
          0.10268141798511561,
          -0.41350379913082025,
          -0.7393193769341734,
          0.08810080751504464,
          0.1055989661709235,
          0.7650220153469967,
          -0.056599552611562,
          -0.30809132933360645,
          0.007388142947396678,
          -3.9788183415777922,
          -1.1258853244612543,
          -0.3912888409364629,
          -0.1754905606970535,
          -0.3478332071341651,
          0.2920817254075941,
          0.25562981055315326,
          -0.277020407550115,
          0.23287171840275714,
          0.3804127519575663,
          0.2522637580085361,
          0.15237322462094394,
          -0.4197360829845193,
          -0.13611172843294353,
          -1.0660238102057362,
          -3.72234763985228,
          0.3133726028330903,
          0.515530849563668,
          0.38883414000849637,
          0.32936767658253835,
          0.7481873538688654,
          0.17375242361794774,
          0.5400645058271238,
          -0.30791607975971863,
          0.3216750736593419,
          0.15481908060064936,
          -0.2682567915384104,
          0.26163385392228145,
          -0.06342913795137514,
          -0.3342764016712646,
          -0.21483571220204492,
          0.01409488902920056,
          0.18078655812679156,
          1.0863232060115908,
          -0.14214697634644044,
          0.8231106569142367,
          0.3189672948526921,
          -0.1301334308248087,
          -0.2703337438804727,
          0.4453400845155691,
          -0.2754961595483353,
          0.4433660573366955,
          0.3249903434177838,
          0.11588081482886732,
          0.2703618886622525,
          0.07681843709483309,
          -0.19138067090705482,
          -0.28155203104671217,
          -0.05116148247361443,
          -0.19255780045645315,
          1.3462790291070315,
          -0.3294888536455777,
          0.14654332456682878,
          -0.5710681077135948,
          0.706989719754623,
          -0.30252006557707556,
          -0.504119928418478,
          0.6385142276835203,
          0.11529397164626215,
          0.44202324139581445,
          0.642460490709775,
          0.24064814089213496,
          0.8834646290003374,
          -0.03505480154075467,
          -0.09756150646273051,
          0.6521928691981687,
          0.6724807860753141,
          -0.21697041151406593,
          0.580899564223481,
          -0.33999792182529803,
          0.29237208675789306,
          0.3952840301292051,
          -0.36234983509453145,
          0.036446932258706724,
          -0.27949326856558276,
          -0.3093528658047913,
          0.025015552235456914,
          0.06894944422289294,
          0.044854612938673676,
          0.07803413308637451,
          -0.261486596761583,
          -0.16781074460272655,
          -0.7737408369817633,
          0.9011223120020624,
          0.9603784232626477,
          1.632284944148564,
          -0.8237183535141183,
          0.6825282910328333,
          1.1766577084401144,
          -0.28498593577168085,
          1.26874451476508,
          0.37738867075833,
          0.7772195928559178,
          -0.0032073170534182983,
          0.47681462049073486,
          -0.19211949241102874,
          -0.4558557656417141,
          -0.24031553668601136,
          0.29768546526951606,
          1.0044757287428667,
          1.6505359777908235,
          0.6888254262903147,
          0.4515274998741143,
          0.9475756705794485,
          1.1867234979109798,
          1.0804612833538327,
          1.356073747863436,
          1.4695620596841559,
          1.4786731259691717
         ],
         "yaxis": "y"
        },
        {
         "customdata": [
          [
           "The Weeknd",
           4281468720
          ],
          [
           "Ed Sheeran",
           3909458734
          ],
          [
           "Lewis Capaldi",
           3427498835
          ],
          [
           "Post Malone",
           3358704125
          ],
          [
           "Harry Styles",
           3301814535
          ],
          [
           "The Weeknd",
           3291262413
          ],
          [
           "Drake",
           3192204066
          ],
          [
           "Tones And I",
           3071214106
          ],
          [
           "Imagine Dragons",
           3006226762
          ],
          [
           "Glass Animals",
           2996181078
          ],
          [
           "Post Malone",
           2960046642
          ],
          [
           "The Chainsmokers",
           2880536961
          ],
          [
           "James Arthur",
           2830962669
          ],
          [
           "Harry Styles",
           2708151499
          ],
          [
           "Dua Lipa",
           2607121959
          ],
          [
           "The Chainsmokers",
           2596644721
          ],
          [
           "Juice WRLD",
           2548389305
          ],
          [
           "Vance Joy",
           2541833602
          ],
          [
           "Drake",
           2529948475
          ],
          [
           "Ed Sheeran",
           2525355904
          ],
          [
           "Billie Eilish",
           2516804300
          ],
          [
           "Ed Sheeran",
           2502925593
          ],
          [
           "Post Malone",
           2481391466
          ],
          [
           "OneRepublic",
           2466006842
          ],
          [
           "Lady Gaga",
           2447973078
          ],
          [
           "Justin Bieber",
           2423583406
          ],
          [
           "Macklemore & Ryan Lewis",
           2397109372
          ],
          [
           "Travis Scott",
           2396737761
          ],
          [
           "Imagine Dragons",
           2384768901
          ],
          [
           "John Legend",
           2382407025
          ],
          [
           "Avicii",
           2325017580
          ],
          [
           "The Weeknd",
           2306740926
          ],
          [
           "Imagine Dragons",
           2270796677
          ],
          [
           "Ariana Grande",
           2262490403
          ],
          [
           "J. Cole",
           2235160830
          ],
          [
           "Kendrick Lamar",
           2226869580
          ],
          [
           "XXXTENTACION",
           2218531106
          ],
          [
           "Eminem",
           2194935773
          ],
          [
           "Taylor Swift",
           2188247133
          ],
          [
           "Arctic Monkeys",
           2185240293
          ],
          [
           "Calvin Harris",
           2178606166
          ],
          [
           "The Killers",
           2174022106
          ],
          [
           "Shawn Mendes",
           2164074552
          ],
          [
           "DJ Snake",
           2147028486
          ],
          [
           "Eminem",
           2146682342
          ],
          [
           "Marshmello",
           2143821605
          ],
          [
           "Travis Scott",
           2134271997
          ],
          [
           "Lil Uzi Vert",
           2123458039
          ],
          [
           "Coldplay",
           2102223775
          ],
          [
           "Bruno Mars",
           2099862852
          ],
          [
           "Dua Lipa",
           2098443322
          ],
          [
           "Lord Huron",
           2097181065
          ],
          [
           "Justin Bieber",
           2089476497
          ],
          [
           "Sam Smith",
           2086460781
          ],
          [
           "Dua Lipa",
           2074721986
          ],
          [
           "Camila Cabello",
           2072182782
          ],
          [
           "Sam Smith",
           2061017397
          ],
          [
           "Shawn Mendes",
           2043626431
          ],
          [
           "Nirvana",
           2021910364
          ],
          [
           "Lil Nas X",
           2014959725
          ],
          [
           "Elton John",
           2011121774
          ],
          [
           "Maroon 5",
           2011072164
          ],
          [
           "Bruno Mars",
           2004657631
          ],
          [
           "Mark Ronson",
           1993030264
          ],
          [
           "Post Malone",
           1984802459
          ],
          [
           "Bad Bunny",
           1977947460
          ],
          [
           "Eminem",
           1958809069
          ],
          [
           "Post Malone",
           1953403531
          ],
          [
           "Mike Posner",
           1949596473
          ],
          [
           "Alan Walker",
           1943842010
          ],
          [
           "SAINt JHN",
           1927961994
          ],
          [
           "Adele",
           1925879064
          ],
          [
           "Lewis Capaldi",
           1920784716
          ],
          [
           "Roddy Ricch",
           1911559785
          ],
          [
           "Shawn Mendes",
           1907768690
          ],
          [
           "Coldplay",
           1903413912
          ],
          [
           "Wiz Khalifa",
           1891920348
          ],
          [
           "XXXTENTACION",
           1885431727
          ],
          [
           "Sam Smith",
           1879966374
          ],
          [
           "Guns N' Roses",
           1879386440
          ],
          [
           "Ariana Grande",
           1878196824
          ],
          [
           "Jason Mraz",
           1878098512
          ],
          [
           "BTS",
           1872577908
          ],
          [
           "24kGoldn",
           1867736006
          ],
          [
           "Billie Eilish",
           1845938685
          ],
          [
           "Maroon 5",
           1838092894
          ],
          [
           "Imagine Dragons",
           1836362703
          ],
          [
           "Taylor Swift",
           1829733410
          ],
          [
           "Maroon 5",
           1828026153
          ],
          [
           "Doja Cat",
           1823871908
          ],
          [
           "Bad Bunny",
           1811990630
          ],
          [
           "Mariah Carey",
           1810649765
          ],
          [
           "Eminem",
           1798020679
          ],
          [
           "Foster The People",
           1791778314
          ],
          [
           "5 Seconds of Summer",
           1790579305
          ],
          [
           "Lauv",
           1784308411
          ],
          [
           "The Weeknd",
           1780889877
          ],
          [
           "Avicii",
           1780761618
          ],
          [
           "Sia",
           1779046979
          ],
          [
           "Twenty One Pilots",
           1777196966
          ],
          [
           "Ed Sheeran",
           1754311538
          ],
          [
           "Gotye",
           1752826514
          ],
          [
           "Dean Lewis",
           1749353402
          ],
          [
           "The Weeknd",
           1749088490
          ],
          [
           "The Weeknd",
           1747534539
          ],
          [
           "Luis Fonsi",
           1747093405
          ],
          [
           "Calvin Harris",
           1746790923
          ],
          [
           "benny blanco",
           1736530084
          ],
          [
           "Justin Timberlake",
           1733302434
          ],
          [
           "Sia",
           1729264620
          ],
          [
           "Manuel Turizo",
           1721045197
          ],
          [
           "Adele",
           1720918065
          ],
          [
           "Luis Fonsi",
           1713294983
          ],
          [
           "Bizarrap",
           1692951462
          ],
          [
           "WALK THE MOON",
           1690450389
          ],
          [
           "Arctic Monkeys",
           1687828519
          ],
          [
           "ZAYN",
           1687683940
          ],
          [
           "Eminem",
           1680919413
          ],
          [
           "Post Malone",
           1680612367
          ],
          [
           "Maroon 5",
           1676528402
          ],
          [
           "Conan Gray",
           1675083208
          ],
          [
           "Jung Kook",
           1673557134
          ],
          [
           "Harry Styles",
           1670164200
          ],
          [
           "Ava Max",
           1668741024
          ],
          [
           "OMI",
           1663491433
          ],
          [
           "Arctic Monkeys",
           1660504577
          ],
          [
           "David Guetta",
           1658229422
          ],
          [
           "The White Stripes",
           1657866786
          ],
          [
           "Don Omar",
           1656974409
          ],
          [
           "Powfu",
           1656385770
          ],
          [
           "Rihanna",
           1655539775
          ],
          [
           "Christina Perri",
           1654956613
          ],
          [
           "Maroon 5",
           1650167380
          ],
          [
           "Tame Impala",
           1644031037
          ],
          [
           "DaBaby",
           1638836101
          ],
          [
           "Kendrick Lamar",
           1638529683
          ],
          [
           "Post Malone",
           1638216382
          ],
          [
           "Sia",
           1634403761
          ],
          [
           "Shakira",
           1631152967
          ],
          [
           "Drake",
           1625307365
          ],
          [
           "Travis Scott",
           1625149693
          ],
          [
           "Cardi B",
           1624314065
          ],
          [
           "DNCE",
           1623436416
          ],
          [
           "Juice WRLD",
           1615353665
          ],
          [
           "XXXTENTACION",
           1615274494
          ],
          [
           "Childish Gambino",
           1615152539
          ],
          [
           "Justin Bieber",
           1612286123
          ],
          [
           "Tyler, The Creator",
           1610423351
          ],
          [
           "OneRepublic",
           1607421145
          ],
          [
           "Olivia Rodrigo",
           1606975517
          ],
          [
           "Doja Cat",
           1606950381
          ],
          [
           "Trevor Daniel",
           1606023895
          ],
          [
           "Justin Bieber",
           1599742798
          ],
          [
           "Future",
           1596770801
          ],
          [
           "Adele",
           1595514674
          ],
          [
           "Marshmello",
           1592440653
          ],
          [
           "XXXTENTACION",
           1590659204
          ],
          [
           "Bastille",
           1590278292
          ],
          [
           "Miley Cyrus",
           1587114096
          ],
          [
           "Justin Bieber",
           1586830204
          ],
          [
           "Dua Lipa",
           1583012380
          ],
          [
           "DJ Snake",
           1570233605
          ],
          [
           "Ed Sheeran",
           1568058093
          ],
          [
           "Olivia Rodrigo",
           1564979439
          ],
          [
           "Taylor Swift",
           1563224246
          ],
          [
           "Ruth B.",
           1561518107
          ],
          [
           "Beyoncï¿",
           1556326643
          ],
          [
           "Sam Smith",
           1556275789
          ],
          [
           "Adele",
           1550553401
          ],
          [
           "The Weeknd",
           1549317525
          ],
          [
           "One Direction",
           1548151634
          ],
          [
           "Rihanna",
           1535595924
          ],
          [
           "Ellie Goulding",
           1532983094
          ],
          [
           "Harry Styles",
           1532653504
          ],
          [
           "Eminem",
           1532052160
          ],
          [
           "Anne-Marie",
           1531490541
          ],
          [
           "Clean Bandit",
           1528107667
          ],
          [
           "Khalid",
           1527159800
          ],
          [
           "Lil Nas X",
           1527106099
          ],
          [
           "Post Malone",
           1517935273
          ],
          [
           "Offset",
           1506766477
          ],
          [
           "Zedd",
           1503269550
          ],
          [
           "Farruko",
           1500499584
          ],
          [
           "Calvin Harris",
           1497564072
          ],
          [
           "KAROL G",
           1497511486
          ],
          [
           "Lil Baby",
           1486929795
          ],
          [
           "Rihanna",
           1483572312
          ],
          [
           "Rihanna",
           1480311407
          ],
          [
           "J Balvin",
           1478442472
          ],
          [
           "Pitbull",
           1477150302
          ],
          [
           "Kendrick Lamar",
           1476217041
          ],
          [
           "Arizona Zervas",
           1474968552
          ],
          [
           "NF",
           1472430869
          ],
          [
           "Ariana Grande",
           1465918510
          ],
          [
           "Maroon 5",
           1461578587
          ],
          [
           "Milky Chance",
           1460945792
          ],
          [
           "Clean Bandit",
           1456894713
          ],
          [
           "Eminem",
           1456635235
          ],
          [
           "Martin Garrix",
           1452194416
          ],
          [
           "Bad Bunny",
           1448173030
          ],
          [
           "Katy Perry",
           1445950326
          ],
          [
           "Lana Del Rey",
           1442872605
          ],
          [
           "XXXTENTACION",
           1442703001
          ],
          [
           "Tate McRae",
           1439465700
          ],
          [
           "The Script",
           1438795892
          ],
          [
           "Marshmello",
           1436709386
          ],
          [
           "JAY-Z",
           1436087930
          ],
          [
           "The Neighbourhood",
           1435372572
          ],
          [
           "Ariana Grande",
           1432830108
          ],
          [
           "Dynoro",
           1432473324
          ],
          [
           "Snoop Dogg",
           1431126152
          ],
          [
           "Kygo",
           1430439855
          ],
          [
           "Fifth Harmony",
           1429277695
          ],
          [
           "Zara Larsson",
           1429205245
          ],
          [
           "Ariana Grande",
           1427792654
          ],
          [
           "Kings of Leon",
           1427050913
          ],
          [
           "Black Eyed Peas",
           1423655688
          ],
          [
           "Alessia Cara",
           1422563654
          ],
          [
           "Bad Bunny",
           1421763497
          ],
          [
           "Rihanna",
           1419912461
          ],
          [
           "Taylor Swift",
           1413268808
          ],
          [
           "Jonas Brothers",
           1411856834
          ],
          [
           "The Walters",
           1410353130
          ],
          [
           "Taylor Swift",
           1409692678
          ],
          [
           "Rihanna",
           1399521364
          ],
          [
           "Bad Bunny",
           1398634184
          ],
          [
           "Avicii",
           1397975653
          ],
          [
           "Carly Rae Jepsen",
           1394048309
          ],
          [
           "Rema",
           1391688322
          ],
          [
           "Drake",
           1389607643
          ],
          [
           "Travis Scott",
           1388024799
          ],
          [
           "Pharrell Williams",
           1379786786
          ],
          [
           "Khalid",
           1369299352
          ],
          [
           "Ariana Grande",
           1368497471
          ],
          [
           "Jhay Cortez",
           1367265268
          ],
          [
           "XXXTENTACION",
           1366479990
          ],
          [
           "Maroon 5",
           1365755853
          ],
          [
           "Daniel Caesar",
           1362614026
          ],
          [
           "Selena Gomez",
           1358424406
          ],
          [
           "Tyga",
           1358105253
          ],
          [
           "Lil Tecca",
           1355971796
          ],
          [
           "Khalid",
           1355539058
          ],
          [
           "Daddy Yankee",
           1353028938
          ],
          [
           "Shawn Mendes",
           1351515181
          ],
          [
           "MKTO",
           1350428257
          ],
          [
           "Regard",
           1349427877
          ],
          [
           "Sam Smith",
           1349115675
          ],
          [
           "Axwell /\\ Ingrosso",
           1346174222
          ],
          [
           "Kendrick Lamar",
           1343672718
          ],
          [
           "Ed Sheeran",
           1340305216
          ],
          [
           "Rauw Alejandro",
           1339352060
          ],
          [
           "Metro Boomin",
           1337619917
          ],
          [
           "Jessie J",
           1336196012
          ],
          [
           "Miguel",
           1335928309
          ],
          [
           "Drake",
           1335494972
          ],
          [
           "Logic",
           1332154389
          ],
          [
           "Ariana Grande",
           1331371819
          ],
          [
           "Clean Bandit",
           1327093253
          ],
          [
           "Cardi B",
           1325725696
          ],
          [
           "Billie Eilish",
           1321878145
          ],
          [
           "Internet Money",
           1320495311
          ],
          [
           "ZAYN",
           1320205697
          ],
          [
           "Gym Class Heroes",
           1318596835
          ],
          [
           "Bad Bunny",
           1318254846
          ],
          [
           "Kanye West",
           1315577954
          ],
          [
           "Steve Lacy",
           1315024190
          ],
          [
           "Bruno Mars",
           1313545266
          ],
          [
           "Bruno Mars",
           1312168384
          ],
          [
           "USHER",
           1307469137
          ],
          [
           "Taylor Swift",
           1307283069
          ],
          [
           "Juice WRLD",
           1306374052
          ],
          [
           "Cigarettes After Sex",
           1305189811
          ],
          [
           "P!nk",
           1301573727
          ],
          [
           "Frank Ocean",
           1299650856
          ],
          [
           "Lil Mosey",
           1295251940
          ],
          [
           "Bad Bunny",
           1293773697
          ],
          [
           "Major Lazer",
           1293191157
          ],
          [
           "Coldplay",
           1291954163
          ],
          [
           "Joji",
           1291244134
          ],
          [
           "Capital Cities",
           1286089822
          ],
          [
           "J. Cole",
           1285518117
          ],
          [
           "Lady Gaga",
           1285242562
          ],
          [
           "Sia",
           1285237951
          ],
          [
           "Adele",
           1284096603
          ],
          [
           "Pitbull",
           1283683926
          ],
          [
           "G-Eazy",
           1280838046
          ],
          [
           "Drake",
           1276685592
          ],
          [
           "One Direction",
           1275036167
          ],
          [
           "The Lumineers",
           1274848626
          ],
          [
           "The Lumineers",
           1273869800
          ],
          [
           "Lady Gaga",
           1269760706
          ],
          [
           "One Direction",
           1265397717
          ],
          [
           "blackbear",
           1265080733
          ],
          [
           "Post Malone",
           1263989128
          ],
          [
           "Joji",
           1262308912
          ],
          [
           "Tate McRae",
           1258569694
          ],
          [
           "BTS",
           1257974135
          ],
          [
           "Imagine Dragons",
           1257258072
          ],
          [
           "Lana Del Rey",
           1256488099
          ],
          [
           "Martin Garrix",
           1254883107
          ],
          [
           "Masked Wolf",
           1251675613
          ],
          [
           "Chris Brown",
           1249760413
          ],
          [
           "A$AP Rocky",
           1244981489
          ],
          [
           "J. Cole",
           1244864869
          ],
          [
           "Future",
           1237874594
          ],
          [
           "Lorde",
           1232502989
          ],
          [
           "Calum Scott",
           1232373956
          ],
          [
           "Lady Gaga",
           1229109018
          ],
          [
           "Imagine Dragons",
           1228556153
          ],
          [
           "Imagine Dragons",
           1227475431
          ],
          [
           "Zedd",
           1224136357
          ],
          [
           "Lost Frequencies",
           1223329465
          ],
          [
           "Selena Gomez",
           1222228366
          ],
          [
           "Taylor Swift",
           1216966135
          ],
          [
           "Eslabon Armado",
           1215336974
          ],
          [
           "Julia Michaels",
           1214862854
          ],
          [
           "Maroon 5",
           1206495254
          ],
          [
           "Kesha",
           1204914998
          ],
          [
           "Doja Cat",
           1199270601
          ],
          [
           "Dua Lipa",
           1198689895
          ],
          [
           "James Bay",
           1197774081
          ],
          [
           "Joel Corry",
           1196521179
          ],
          [
           "Nelly Furtado",
           1194124781
          ],
          [
           "LISA",
           1189335848
          ],
          [
           "The Chainsmokers",
           1188567787
          ],
          [
           "Loud Luxury",
           1187784950
          ],
          [
           "KAROL G",
           1185929926
          ],
          [
           "Fall Out Boy",
           1184571362
          ],
          [
           "Duncan Laurence",
           1184536529
          ],
          [
           "Fetty Wap",
           1182373720
          ],
          [
           "Desiigner",
           1181348550
          ],
          [
           "Doja Cat",
           1178076856
          ],
          [
           "Anuel AA",
           1178076574
          ],
          [
           "Justin Bieber",
           1177960398
          ],
          [
           "BTS",
           1165842896
          ],
          [
           "Jimin",
           1165398518
          ],
          [
           "DJ Khaled",
           1164638213
          ],
          [
           "Pitbull",
           1164166623
          ],
          [
           "Sean Paul",
           1162659862
          ],
          [
           "Giveon",
           1157206056
          ],
          [
           "Kendrick Lamar",
           1157112366
          ],
          [
           "Demi Lovato",
           1156601592
          ],
          [
           "Calvin Harris",
           1156342373
          ],
          [
           "Katy Perry",
           1156191242
          ],
          [
           "Lil Peep",
           1156060152
          ],
          [
           "Pedro Capï¿",
           1153753974
          ],
          [
           "Taylor Swift",
           1152346128
          ],
          [
           "21 Savage",
           1150653471
          ],
          [
           "Jonas Blue",
           1145882592
          ],
          [
           "JP Saxe",
           1145402792
          ],
          [
           "Katy Perry",
           1144535829
          ],
          [
           "George Ezra",
           1142061871
          ],
          [
           "d4vd",
           1136504636
          ],
          [
           "Lewis Capaldi",
           1135588382
          ],
          [
           "Post Malone",
           1135209969
          ],
          [
           "Rihanna",
           1134470968
          ],
          [
           "Evanescence",
           1129346989
          ],
          [
           "Calvin Harris",
           1128783268
          ],
          [
           "Topic",
           1128612961
          ],
          [
           "GAYLE",
           1128273165
          ],
          [
           "JVKE",
           1126986320
          ],
          [
           "David Kushner",
           1126820069
          ],
          [
           "Pop Smoke",
           1125681368
          ],
          [
           "Nicki Minaj",
           1125407888
          ],
          [
           "One Direction",
           1125333823
          ],
          [
           "Ali Gatie",
           1123039235
          ],
          [
           "Kungs",
           1121107262
          ],
          [
           "Ariana Grande",
           1120622892
          ],
          [
           "Ariana Grande",
           1120501187
          ],
          [
           "Calvin Harris",
           1120187276
          ],
          [
           "Pop Smoke",
           1119350842
          ],
          [
           "Drake",
           1118459427
          ],
          [
           "Jawsh 685",
           1118038333
          ],
          [
           "Lil Baby",
           1110994645
          ],
          [
           "Bad Bunny",
           1108031580
          ],
          [
           "Kygo",
           1106264600
          ],
          [
           "SZA",
           1105805922
          ],
          [
           "Elley Duhï¿",
           1104008150
          ],
          [
           "Kanye West",
           1102322992
          ],
          [
           "Taylor Swift",
           1101296591
          ],
          [
           "Beach House",
           1099069598
          ],
          [
           "Jay Wheeler",
           1099019265
          ],
          [
           "Billie Eilish",
           1091185920
          ],
          [
           "Surf Curse",
           1089328286
          ],
          [
           "Swedish House Mafia",
           1088273121
          ],
          [
           "Steve Lacy",
           1087938471
          ],
          [
           "Rihanna",
           1085436198
          ],
          [
           "M83",
           1081517243
          ],
          [
           "WILLOW",
           1081039358
          ],
          [
           "Lilly Wood and The Prick",
           1074583619
          ],
          [
           "Avicii",
           1074175360
          ],
          [
           "Kodak Black",
           1070685587
          ],
          [
           "Pop Smoke",
           1070422470
          ],
          [
           "DJ Snake",
           1068023888
          ],
          [
           "Katy Perry",
           1065375074
          ],
          [
           "Ariana Grande",
           1064927546
          ],
          [
           "Adele",
           1064599051
          ],
          [
           "A Great Big World",
           1064534331
          ],
          [
           "Lady Gaga",
           1062571821
          ],
          [
           "Lil Nas X",
           1062095453
          ],
          [
           "Lady Gaga",
           1060378159
          ],
          [
           "Meghan Trainor",
           1060255231
          ],
          [
           "Jaymes Young",
           1059940209
          ],
          [
           "Drake",
           1059262917
          ],
          [
           "Olivia Rodrigo",
           1058390692
          ],
          [
           "Flo Rida",
           1057114779
          ],
          [
           "Doja Cat",
           1056939084
          ],
          [
           "Imagine Dragons",
           1056929910
          ],
          [
           "Sheck Wes",
           1056346890
          ],
          [
           "Drake",
           1052473730
          ],
          [
           "Of Monsters and Men",
           1050676021
          ],
          [
           "Jonas Blue",
           1050246077
          ],
          [
           "Justin Timberlake",
           1047154254
          ],
          [
           "The Chainsmokers",
           1046848265
          ],
          [
           "Calvin Harris",
           1044358962
          ],
          [
           "Calum Scott",
           1042531612
          ],
          [
           "d4vd",
           1042311849
          ],
          [
           "Clean Bandit",
           1042065058
          ],
          [
           "Rosa Linn",
           1039482815
          ],
          [
           "Calvin Harris",
           1036104210
          ],
          [
           "girl in red",
           1034272727
          ],
          [
           "BLACKPINK",
           1033109188
          ],
          [
           "Yng Lvcas",
           1032225805
          ],
          [
           "Chris Brown",
           1030515485
          ],
          [
           "KAROL G",
           1024381758
          ],
          [
           "Daniel Caesar",
           1024198691
          ],
          [
           "Akon",
           1023825031
          ],
          [
           "JAY-Z",
           1021647566
          ],
          [
           "Rauw Alejandro",
           1021480638
          ],
          [
           "Stephen Sanchez",
           1020452066
          ],
          [
           "Disclosure",
           1017438306
          ],
          [
           "Mabel",
           1016283394
          ],
          [
           "The Weeknd",
           1015965940
          ],
          [
           "Shawn Mendes",
           1015502663
          ],
          [
           "Billie Eilish",
           1014870547
          ],
          [
           "Calvin Harris",
           1014534913
          ],
          [
           "SZA",
           1013350808
          ],
          [
           "Rag'n'Bone Man",
           1013083048
          ],
          [
           "Eminem",
           1012914789
          ],
          [
           "Lil Nas X",
           1010494713
          ],
          [
           "Grupo Frontera",
           1008495696
          ],
          [
           "Avicii",
           1007623089
          ],
          [
           "Lil Uzi Vert",
           1006734157
          ],
          [
           "Shakira",
           1006124005
          ],
          [
           "Liam Payne",
           1000549809
          ],
          [
           "American Authors",
           999525686
          ],
          [
           "Olivia Rodrigo",
           998964097
          ],
          [
           "Mitski",
           997702304
          ],
          [
           "Gucci Mane",
           996942947
          ],
          [
           "The Weeknd",
           995463505
          ],
          [
           "MEDUZA",
           995452298
          ],
          [
           "Bad Bunny",
           991885224
          ],
          [
           "Calvin Harris",
           991382346
          ],
          [
           "R. City",
           990518773
          ],
          [
           "Bad Bunny",
           990189999
          ],
          [
           "Lizzo",
           990118320
          ],
          [
           "Bryson Tiller",
           989672356
          ],
          [
           "Zac Efron",
           989608207
          ],
          [
           "Taylor Swift",
           987770768
          ],
          [
           "Dominic Fike",
           987061577
          ],
          [
           "Ozuna",
           986132265
          ],
          [
           "BlocBoy JB",
           982424606
          ],
          [
           "The Weeknd",
           982399328
          ],
          [
           "Nicky Jam",
           981323727
          ],
          [
           "Riton",
           979440925
          ],
          [
           "Ariana Grande",
           978617707
          ],
          [
           "Noah Cyrus",
           977870118
          ],
          [
           "Ariana Grande",
           975281654
          ],
          [
           "Sam Smith",
           972593978
          ],
          [
           "Zara Larsson",
           972089598
          ],
          [
           "Rae Sremmurd",
           972005229
          ],
          [
           "Drake",
           971473231
          ],
          [
           "Miley Cyrus",
           970858824
          ],
          [
           "The Offspring",
           968810827
          ],
          [
           "Dennis Lloyd",
           968235402
          ],
          [
           "Khalid",
           968194426
          ],
          [
           "Y2K",
           968133091
          ],
          [
           "Drake",
           967826246
          ],
          [
           "Dua Lipa",
           967029446
          ],
          [
           "Billie Eilish",
           965899534
          ],
          [
           "Noah Kahan",
           965865213
          ],
          [
           "Nico & Vinz",
           965827790
          ],
          [
           "Kygo",
           964765127
          ],
          [
           "Taylor Swift",
           964058806
          ],
          [
           "Drake",
           962634706
          ],
          [
           "Tyler, The Creator",
           962546385
          ],
          [
           "Black Eyed Peas",
           961358721
          ],
          [
           "Lunay",
           960753774
          ],
          [
           "KYLE",
           960430911
          ],
          [
           "Harry Styles",
           959639297
          ],
          [
           "Juice WRLD",
           959313617
          ],
          [
           "XXXTENTACION",
           959078765
          ],
          [
           "Niall Horan",
           957810500
          ],
          [
           "Jonas Blue",
           955563174
          ],
          [
           "J. Cole",
           955547971
          ],
          [
           "Ava Max",
           955439608
          ],
          [
           "50 Cent",
           954807024
          ],
          [
           "Chris Stapleton",
           954073526
          ],
          [
           "Justin Bieber",
           952635214
          ],
          [
           "Surfaces",
           952626904
          ],
          [
           "Bruno Mars",
           950810060
          ],
          [
           "21 Savage",
           949835159
          ],
          [
           "G-Eazy",
           949651805
          ],
          [
           "Ty Dolla $ign",
           949312501
          ],
          [
           "Kanye West",
           948562412
          ],
          [
           "Sia",
           947770190
          ],
          [
           "Bizarrap",
           946941510
          ],
          [
           "Dua Lipa",
           946842175
          ],
          [
           "Maroon 5",
           946757383
          ],
          [
           "Niall Horan",
           946043494
          ],
          [
           "Kygo",
           943137389
          ],
          [
           "The Weeknd",
           942637026
          ],
          [
           "Mark Ronson",
           942092206
          ],
          [
           "Iyaz",
           941989512
          ],
          [
           "The Weeknd",
           940914292
          ],
          [
           "Miley Cyrus",
           940796773
          ],
          [
           "The Weeknd",
           939627795
          ],
          [
           "Khalid",
           937339123
          ],
          [
           "Migos",
           936450891
          ],
          [
           "Taylor Swift",
           935098853
          ],
          [
           "Calvin Harris",
           934248345
          ],
          [
           "MEDUZA",
           932911098
          ],
          [
           "Maluma",
           932817713
          ],
          [
           "George Ezra",
           930662973
          ],
          [
           "Billie Eilish",
           930343185
          ],
          [
           "Miley Cyrus",
           930004605
          ],
          [
           "Juice WRLD",
           925747848
          ],
          [
           "Myke Towers",
           925655569
          ],
          [
           "Sia",
           924784325
          ],
          [
           "Kid Cudi",
           923932404
          ],
          [
           "Polo G",
           923823292
          ],
          [
           "Empire Of The Sun",
           923637058
          ],
          [
           "Don Toliver",
           922761340
          ],
          [
           "Morgan Wallen",
           922010059
          ],
          [
           "Katy Perry",
           921351898
          ],
          [
           "Tove Lo",
           919756735
          ],
          [
           "The Weeknd",
           918478800
          ],
          [
           "Metro Boomin",
           917916061
          ],
          [
           "Ariana Grande",
           917284463
          ],
          [
           "Paulo Londra",
           915772593
          ],
          [
           "Bad Bunny",
           915557792
          ],
          [
           "The Neighbourhood",
           915401494
          ],
          [
           "Tainy",
           912709169
          ],
          [
           "Surf Mesa",
           912461674
          ],
          [
           "Zion & Lennox",
           912446776
          ],
          [
           "Harry Styles",
           912294568
          ],
          [
           "Becky G",
           911797058
          ],
          [
           "Camila Cabello",
           907821800
          ],
          [
           "Mustard",
           907346612
          ],
          [
           "Juice WRLD",
           901486450
          ],
          [
           "Benson Boone",
           900158751
          ],
          [
           "Ariana Grande",
           899830382
          ],
          [
           "Macklemore",
           899431434
          ],
          [
           "Gesaffelstein",
           895496661
          ],
          [
           "Galantis",
           895051532
          ],
          [
           "Cardi B",
           894360950
          ],
          [
           "Billie Eilish",
           891720245
          ],
          [
           "Zach Bryan",
           891578597
          ],
          [
           "Nicky Youre",
           890752779
          ],
          [
           "NATTI NATASHA",
           889098343
          ],
          [
           "Flo Rida",
           886640358
          ],
          [
           "Katy Perry",
           886077008
          ],
          [
           "Lauv",
           885986482
          ],
          [
           "Maroon 5",
           885944426
          ],
          [
           "Polo G",
           885756212
          ],
          [
           "Future",
           884825594
          ],
          [
           "AURORA",
           884816583
          ],
          [
           "Olivia Rodrigo",
           884616492
          ],
          [
           "Juice WRLD",
           880781313
          ],
          [
           "Doja Cat",
           878349171
          ],
          [
           "Sam Hunt",
           874864898
          ],
          [
           "Jonas Blue",
           872518334
          ],
          [
           "Galantis",
           872428879
          ],
          [
           "Feid",
           872148396
          ],
          [
           "Bad Bunny",
           868744690
          ],
          [
           "KAROL G",
           868091483
          ],
          [
           "Hotel Ugly",
           864865822
          ],
          [
           "Ariana Grande",
           863631428
          ],
          [
           "Camila Cabello",
           862685616
          ],
          [
           "FIFTY FIFTY",
           861388470
          ],
          [
           "Swedish House Mafia",
           861100951
          ],
          [
           "Billie Eilish",
           860596912
          ],
          [
           "Dua Lipa",
           860026452
          ],
          [
           "Nelly",
           859999247
          ],
          [
           "Timbaland",
           858734232
          ],
          [
           "Polo G",
           858059276
          ],
          [
           "Aaron Smith",
           856908437
          ],
          [
           "Nicki Minaj",
           855080751
          ],
          [
           "CKay",
           853451422
          ],
          [
           "PinkPantheress",
           851085705
          ],
          [
           "Jason Mraz",
           850863163
          ],
          [
           "KAROL G",
           850810162
          ],
          [
           "DRAM",
           849055927
          ],
          [
           "Chord Overstreet",
           847578246
          ],
          [
           "Lizzo",
           847025688
          ],
          [
           "Ozuna",
           846909112
          ],
          [
           "Conan Gray",
           845222205
          ],
          [
           "Taylor Swift",
           844790027
          ],
          [
           "Marshmello",
           844630935
          ],
          [
           "Rob $tone",
           843861768
          ],
          [
           "Wallows",
           842749499
          ],
          [
           "Taylor Swift",
           842558786
          ],
          [
           "USHER",
           841183589
          ],
          [
           "Ruth B.",
           840781611
          ],
          [
           "BANNERS",
           840041803
          ],
          [
           "Taylor Swift",
           839642356
          ],
          [
           "Yandel",
           837576264
          ],
          [
           "LP",
           837042727
          ],
          [
           "Kid Cudi",
           836986096
          ],
          [
           "Labrinth",
           836491531
          ],
          [
           "Neon Trees",
           836267192
          ],
          [
           "Playboi Carti",
           834795353
          ],
          [
           "Bad Bunny",
           831868563
          ],
          [
           "Doja Cat",
           831648193
          ],
          [
           "Eminem",
           830410811
          ],
          [
           "J Balvin",
           828608384
          ],
          [
           "Luke Combs",
           828103564
          ],
          [
           "Post Malone",
           827950825
          ],
          [
           "Justin Bieber",
           827079737
          ],
          [
           "Dhruv",
           826685494
          ],
          [
           "Demi Lovato",
           826593536
          ],
          [
           "Lady Gaga",
           825465124
          ],
          [
           "Jeremy Zucker",
           822935346
          ],
          [
           "DJ Snake",
           822696809
          ],
          [
           "DaBaby",
           820923123
          ],
          [
           "BLACKPINK",
           820840650
          ],
          [
           "Drake",
           820380309
          ],
          [
           "Justin Bieber",
           820172575
          ],
          [
           "Jack Harlow",
           819779577
          ],
          [
           "Drake",
           819136167
          ],
          [
           "Beach Weather",
           818926915
          ],
          [
           "Jack Harlow",
           818858244
          ],
          [
           "Ozuna",
           818413674
          ],
          [
           "Sabrina Carpenter",
           817286460
          ],
          [
           "Bad Bunny",
           817199682
          ],
          [
           "SZA",
           817054014
          ],
          [
           "Fifth Harmony",
           815946405
          ],
          [
           "Meghan Trainor",
           815661095
          ],
          [
           "A Boogie Wit da Hoodie",
           815243082
          ],
          [
           "Flo Rida",
           814272136
          ],
          [
           "AWOLNATION",
           814264073
          ],
          [
           "The Weeknd",
           812954133
          ],
          [
           "Drake",
           812274757
          ],
          [
           "Sleepy Hallow",
           811700245
          ],
          [
           "Miley Cyrus",
           810044838
          ],
          [
           "Keala Settle",
           809894358
          ],
          [
           "Becky G",
           809840469
          ],
          [
           "Ariana Grande",
           809537829
          ],
          [
           "Fetty Wap",
           808010338
          ],
          [
           "Luke Combs",
           807802864
          ],
          [
           "Tory Lanez",
           806918358
          ],
          [
           "J Balvin",
           806817589
          ],
          [
           "Morgan Wallen",
           806728296
          ],
          [
           "Billie Eilish",
           805133547
          ],
          [
           "ACRAZE",
           805019111
          ],
          [
           "RAYE",
           804925777
          ],
          [
           "James Arthur",
           803983295
          ],
          [
           "Beyoncï¿",
           795960535
          ],
          [
           "Miley Cyrus",
           795449825
          ],
          [
           "Lewis Capaldi",
           793528511
          ],
          [
           "Drake",
           793287638
          ],
          [
           "Justin Bieber",
           792379282
          ],
          [
           "Eyedress",
           789418331
          ],
          [
           "Kid Cudi",
           789300127
          ],
          [
           "P!nk",
           788403596
          ],
          [
           "Eminem",
           788282679
          ],
          [
           "Justin Bieber",
           787546548
          ],
          [
           "Future",
           787155930
          ],
          [
           "Juice WRLD",
           786839663
          ],
          [
           "Baby Keem",
           786298066
          ],
          [
           "X Ambassadors",
           785571181
          ],
          [
           "Becky G",
           785389574
          ],
          [
           "New West",
           785139012
          ],
          [
           "Pop Smoke",
           785016247
          ],
          [
           "Ellie Goulding",
           784334383
          ],
          [
           "Anuel AA",
           784096553
          ],
          [
           "Aventura",
           780755736
          ],
          [
           "Anuel AA",
           778846570
          ],
          [
           "Migos",
           778459270
          ],
          [
           "Bad Bunny",
           778269101
          ],
          [
           "Taylor Swift",
           777305444
          ],
          [
           "Lil Tjay",
           777064903
          ],
          [
           "CJ",
           775664145
          ],
          [
           "Hippie Sabotage",
           769295129
          ],
          [
           "A Boogie Wit da Hoodie",
           769061748
          ],
          [
           "will.i.am",
           767661283
          ],
          [
           "Travis Scott",
           767502068
          ],
          [
           "Ed Sheeran",
           765374782
          ],
          [
           "Avicii",
           763658190
          ],
          [
           "Drake",
           763384135
          ],
          [
           "Maluma",
           761287318
          ],
          [
           "Aminï¿",
           761038233
          ],
          [
           "Gunna",
           759998727
          ],
          [
           "Anuel AA",
           759388276
          ],
          [
           "Idina Menzel",
           759374819
          ],
          [
           "Taylor Swift",
           757789027
          ],
          [
           "Chief Keef",
           757522352
          ],
          [
           "Mau y Ricky",
           757001327
          ],
          [
           "Ellie Goulding",
           756657781
          ],
          [
           "Piso 21",
           752708868
          ],
          [
           "Paulo Londra",
           751585271
          ],
          [
           "Romeo Santos",
           751508028
          ],
          [
           "Kenya Grace",
           750154960
          ],
          [
           "Bad Bunny",
           745086450
          ],
          [
           "Mitski",
           743015700
          ],
          [
           "Bad Bunny",
           742515730
          ],
          [
           "Lil Nas X",
           741766886
          ],
          [
           "Travis Scott",
           740409304
          ],
          [
           "Alessia Cara",
           740261910
          ],
          [
           "Alan Walker",
           738909649
          ],
          [
           "BENEE",
           738407486
          ],
          [
           "Bazzi",
           737482160
          ],
          [
           "Sub Urban",
           737097685
          ],
          [
           "Mora",
           736983718
          ],
          [
           "BLACKPINK",
           736469450
          ],
          [
           "Rixton",
           733931275
          ],
          [
           "A$AP Ferg",
           733772721
          ],
          [
           "Drake",
           732652170
          ],
          [
           "Alex & Sierra",
           732651478
          ],
          [
           "Lil Tjay",
           731933924
          ],
          [
           "Kendrick Lamar",
           731646994
          ],
          [
           "StaySolidRocky",
           730440576
          ],
          [
           "Maroon 5",
           730200775
          ],
          [
           "Young Thug",
           729825680
          ],
          [
           "Clairo",
           728920951
          ],
          [
           "Mac DeMarco",
           728140057
          ],
          [
           "Darius Rucker",
           727417273
          ],
          [
           "Lil Mosey",
           727014998
          ],
          [
           "Mustard",
           726877512
          ],
          [
           "MEDUZA",
           726266033
          ],
          [
           "Benson Boone",
           725214939
          ],
          [
           "Bad Bunny",
           725076772
          ],
          [
           "Feid",
           724772954
          ],
          [
           "Iggy Azalea",
           724486951
          ],
          [
           "Quevedo",
           721002940
          ],
          [
           "ATB",
           721002104
          ],
          [
           "Pinkfong",
           720822868
          ],
          [
           "Meghan Trainor",
           720720922
          ],
          [
           "Maluma",
           719602988
          ],
          [
           "Shakira",
           719593291
          ],
          [
           "Jason Derulo",
           718634962
          ],
          [
           "Bad Bunny",
           717849037
          ],
          [
           "BTS",
           717715448
          ],
          [
           "LMFAO",
           717233625
          ],
          [
           "Morgan Wallen",
           717226454
          ],
          [
           "Bad Bunny",
           717202437
          ],
          [
           "DJ Khaled",
           712664065
          ],
          [
           "Tainy",
           711861577
          ],
          [
           "Big Sean",
           711322702
          ],
          [
           "Taylor Swift",
           711138043
          ],
          [
           "Djo",
           710784872
          ],
          [
           "Playboi Carti",
           710319373
          ],
          [
           "JACKBOYS",
           709850383
          ],
          [
           "Eminem",
           709560621
          ],
          [
           "Becky G",
           709559454
          ],
          [
           "Dalex",
           708615717
          ],
          [
           "Reik",
           708166969
          ],
          [
           "Joji",
           707551397
          ],
          [
           "Don Toliver",
           706711575
          ],
          [
           "Lil Baby",
           706489684
          ],
          [
           "Metro Boomin",
           706356280
          ],
          [
           "Enrique Iglesias",
           706158416
          ],
          [
           "Camila Cabello",
           703865912
          ],
          [
           "Russ",
           703411626
          ],
          [
           "Kanye West",
           703089599
          ],
          [
           "blackbear",
           703008289
          ],
          [
           "Mora",
           701919939
          ],
          [
           "BLACKPINK",
           701726499
          ],
          [
           "Selena Gomez",
           701552110
          ],
          [
           "Myke Towers",
           700122551
          ],
          [
           "Rihanna",
           699439249
          ],
          [
           "Young Thug",
           699336080
          ],
          [
           "Sam Smith",
           697834321
          ],
          [
           "Carlos Vives",
           697574595
          ],
          [
           "Adele",
           694094195
          ],
          [
           "Travis Scott",
           693552475
          ],
          [
           "Sech",
           693061510
          ],
          [
           "Dave",
           692512930
          ],
          [
           "BoyWithUke",
           690010618
          ],
          [
           "zzoilo",
           689939531
          ],
          [
           "Justin Bieber",
           689413808
          ],
          [
           "Bad Bunny",
           689181455
          ],
          [
           "Pitbull",
           687212492
          ],
          [
           "Playboi Carti",
           686323132
          ],
          [
           "Carin Leon",
           684853927
          ],
          [
           "Peso Pluma",
           684204777
          ],
          [
           "Junior H",
           684103586
          ],
          [
           "mgk",
           683966195
          ],
          [
           "5 Seconds of Summer",
           683247723
          ],
          [
           "Metro Boomin",
           682837690
          ],
          [
           "mgk",
           682383223
          ],
          [
           "Juice WRLD",
           681282854
          ],
          [
           "Lana Del Rey",
           680707791
          ],
          [
           "Migos",
           680431508
          ],
          [
           "Anitta",
           678928131
          ],
          [
           "Baby Keem",
           676690653
          ],
          [
           "Central Cee",
           676519766
          ],
          [
           "Stromae",
           676325288
          ],
          [
           "Yot Club",
           675984633
          ],
          [
           "Jung Kook",
           675865902
          ],
          [
           "BTS",
           675763141
          ],
          [
           "NewJeans",
           675591495
          ],
          [
           "$uicideboy$",
           675082623
          ],
          [
           "FloyyMenor",
           675079153
          ],
          [
           "Natanael Cano",
           674025091
          ],
          [
           "Nio Garcia",
           672449007
          ],
          [
           "Bad Bunny",
           671572185
          ],
          [
           "Tame Impala",
           671310199
          ],
          [
           "Jack Harlow",
           670665438
          ],
          [
           "Tyla",
           670376179
          ],
          [
           "Calvin Harris",
           670319557
          ],
          [
           "Pink Sweat$",
           670245273
          ],
          [
           "Alan Walker",
           670068696
          ],
          [
           "Taylor Swift",
           669895431
          ],
          [
           "Kendrick Lamar",
           669703929
          ],
          [
           "The Weeknd",
           669099980
          ],
          [
           "Kordhell",
           668285368
          ],
          [
           "Peso Pluma",
           668103212
          ],
          [
           "Labrinth",
           666107710
          ],
          [
           "Lil Uzi Vert",
           665519026
          ],
          [
           "Dua Lipa",
           665464734
          ],
          [
           "Marshmello",
           664972754
          ],
          [
           "X Ambassadors",
           663939688
          ],
          [
           "Rauw Alejandro",
           663578551
          ],
          [
           "P!nk",
           662971898
          ],
          [
           "Flo Rida",
           662305046
          ],
          [
           "Waka Flocka Flame",
           662257934
          ],
          [
           "Chris Jedi",
           661732009
          ],
          [
           "G-Eazy",
           660710453
          ],
          [
           "Daddy Yankee",
           659555409
          ],
          [
           "Travis Scott",
           659010786
          ],
          [
           "Carlos Vives",
           658225560
          ],
          [
           "Taylor Swift",
           658208129
          ],
          [
           "Rae Sremmurd",
           658051344
          ],
          [
           "Anuel AA",
           657768560
          ],
          [
           "Rauw Alejandro",
           656416971
          ],
          [
           "R3HAB",
           654965766
          ],
          [
           "Marc Seguï¿",
           654941874
          ],
          [
           "Kodak Black",
           654828389
          ],
          [
           "BLACKPINK",
           654818451
          ],
          [
           "Enrique Iglesias",
           654612558
          ],
          [
           "Rich The Kid",
           653490628
          ],
          [
           "21 Savage",
           653352641
          ],
          [
           "Coldplay",
           652636187
          ],
          [
           "Lil Baby",
           652559944
          ],
          [
           "Flipp Dinero",
           651863663
          ],
          [
           "Sebastian Yatra",
           650511999
          ],
          [
           "Martin Garrix",
           650003788
          ],
          [
           "Xavi",
           649404552
          ],
          [
           "Two Feet",
           649191183
          ],
          [
           "Lil Pump",
           648757330
          ],
          [
           "DaBaby",
           647501734
          ],
          [
           "Gera MX",
           647496971
          ],
          [
           "Cardi B",
           646916214
          ],
          [
           "Travis Scott",
           646744185
          ],
          [
           "Alicia Keys",
           646295324
          ],
          [
           "Morgan Wallen",
           644437397
          ],
          [
           "Taylor Swift",
           643828366
          ],
          [
           "Los Legendarios",
           642558596
          ],
          [
           "Little Mix",
           642037328
          ],
          [
           "Sebastian Yatra",
           641756842
          ],
          [
           "MGMT",
           641453269
          ],
          [
           "Billie Eilish",
           640099263
          ],
          [
           "Olivia Rodrigo",
           639900946
          ],
          [
           "Dove Cameron",
           637836235
          ],
          [
           "Metro Boomin",
           637325281
          ],
          [
           "Wiz Khalifa",
           636986949
          ],
          [
           "Halsey",
           635393773
          ],
          [
           "Anitta",
           635241142
          ],
          [
           "Kina",
           634493511
          ],
          [
           "Ariana Grande",
           633631183
          ],
          [
           "Sam Fischer",
           633467655
          ],
          [
           "BTS",
           632727904
          ],
          [
           "Libianca",
           631955547
          ],
          [
           "Post Malone",
           631789333
          ],
          [
           "Oliver Tree",
           631378937
          ],
          [
           "Rels B",
           631152992
          ],
          [
           "The Chainsmokers",
           630875899
          ],
          [
           "Metro Boomin",
           630863087
          ],
          [
           "Zach Bryan",
           630373315
          ],
          [
           "Miley Cyrus",
           629372240
          ],
          [
           "KAROL G",
           629102459
          ],
          [
           "Lizzo",
           627625151
          ],
          [
           "Boza",
           627556563
          ],
          [
           "V",
           626153696
          ],
          [
           "James Hype",
           626010147
          ],
          [
           "Duke Dumont",
           624262344
          ],
          [
           "INTERWORLD",
           624007138
          ],
          [
           "Rauw Alejandro",
           623875921
          ],
          [
           "Khalid",
           623201391
          ],
          [
           "Post Malone",
           622690472
          ],
          [
           "Drake",
           622498643
          ],
          [
           "JENNIE",
           622229689
          ],
          [
           "Thomas Rhett",
           622198235
          ],
          [
           "Morat",
           621596476
          ],
          [
           "blackbear",
           619655619
          ],
          [
           "Marc Anthony",
           618671056
          ],
          [
           "Tyler, The Creator",
           617991511
          ],
          [
           "Alessia Cara",
           616445374
          ],
          [
           "Tom Walker",
           616379687
          ],
          [
           "21 Savage",
           614603953
          ],
          [
           "NewJeans",
           614497357
          ],
          [
           "Maluma",
           614313540
          ],
          [
           "Meghan Trainor",
           614050155
          ],
          [
           "Ricky Martin",
           613961293
          ],
          [
           "Gente De Zona",
           613120952
          ],
          [
           "Majestic",
           613000788
          ],
          [
           "Labrinth",
           612159812
          ],
          [
           "Billie Eilish",
           610838644
          ],
          [
           "Morgan Wallen",
           609984789
          ],
          [
           "THE ANXIETY",
           609716786
          ],
          [
           "PARTYNEXTDOOR",
           609032900
          ],
          [
           "J Balvin",
           606603985
          ],
          [
           "Alan Walker",
           606284550
          ],
          [
           "Feid",
           606124553
          ],
          [
           "Shawn Mendes",
           606018960
          ],
          [
           "Doja Cat",
           603196133
          ],
          [
           "Zion & Lennox",
           603009543
          ],
          [
           "Showtek",
           602359731
          ],
          [
           "Taylor Swift",
           602316735
          ],
          [
           "Artemas",
           601309283
          ],
          [
           "Travis Scott",
           601202311
          ],
          [
           "Ritt Momney",
           600521313
          ],
          [
           "Maluma",
           600199930
          ],
          [
           "Quevedo",
           600073400
          ],
          [
           "Doja Cat",
           599547543
          ],
          [
           "Migos",
           599318070
          ],
          [
           "Carin Leon",
           598006591
          ],
          [
           "The Rare Occasions",
           597718233
          ],
          [
           "Vacations",
           597591280
          ],
          [
           "Jay Rock",
           597167984
          ],
          [
           "Alan Walker",
           596469106
          ],
          [
           "Dj Yo!",
           596326288
          ],
          [
           "Dayglow",
           596164214
          ],
          [
           "A$AP Rocky",
           595930584
          ],
          [
           "League of Legends",
           595564275
          ],
          [
           "Shawn Mendes",
           595220757
          ],
          [
           "PinkPantheress",
           595213841
          ],
          [
           "BLACKPINK",
           594775179
          ],
          [
           "Camilo",
           594224324
          ],
          [
           "Bazzi",
           593718503
          ],
          [
           "Charlie Puth",
           593554969
          ],
          [
           "Bad Bunny",
           591704263
          ],
          [
           "Migos",
           590983645
          ],
          [
           "Kali Uchis",
           589832336
          ],
          [
           "Ghost",
           589145587
          ],
          [
           "Becky G",
           588021470
          ],
          [
           "XXXTENTACION",
           587673746
          ],
          [
           "Taylor Swift",
           587555589
          ],
          [
           "Daft Punk",
           587054803
          ],
          [
           "Ozuna",
           584776407
          ],
          [
           "Rema",
           584427088
          ],
          [
           "Morat",
           584357975
          ],
          [
           "Rae Sremmurd",
           584277301
          ],
          [
           "Nicky Jam",
           583299836
          ],
          [
           "Ed Maverick",
           583209382
          ],
          [
           "NF",
           582823215
          ],
          [
           "NF",
           582549538
          ],
          [
           "Grupo Frontera",
           582023797
          ],
          [
           "21 Savage",
           581220786
          ],
          [
           "J Balvin",
           580941059
          ],
          [
           "Rauw Alejandro",
           580054244
          ],
          [
           "Rauw Alejandro",
           579749218
          ],
          [
           "Danny Ocean",
           579189526
          ],
          [
           "James Arthur",
           578464780
          ],
          [
           "Pop Smoke",
           578061816
          ],
          [
           "BLACKPINK",
           574505748
          ],
          [
           "KAROL G",
           574357002
          ],
          [
           "Sasha Alex Sloan",
           573785235
          ],
          [
           "Luke Combs",
           572628080
          ],
          [
           "Billie Eilish",
           572602278
          ],
          [
           "YNW Melly",
           572441305
          ],
          [
           "Katy Perry",
           571538542
          ],
          [
           "Saweetie",
           571532926
          ],
          [
           "Nio Garcia",
           571325612
          ],
          [
           "Ski Mask The Slump God",
           571258899
          ],
          [
           "Ava Max",
           570045987
          ],
          [
           "Russ",
           569767392
          ],
          [
           "Oscar Maydon",
           568846143
          ],
          [
           "Camilo",
           568823269
          ],
          [
           "AronChupa",
           568692309
          ],
          [
           "OneRepublic",
           567806129
          ],
          [
           "NLE Choppa",
           565296902
          ],
          [
           "Bad Bunny",
           563826995
          ],
          [
           "Jesse & Joy",
           563467499
          ],
          [
           "Ozuna",
           563326343
          ],
          [
           "Adele",
           562200390
          ],
          [
           "Fuerza Regida",
           562099076
          ],
          [
           "BLACKPINK",
           561712007
          ],
          [
           "SZA",
           561645790
          ],
          [
           "Manuel Turizo",
           560949285
          ],
          [
           "Brett Young",
           560774282
          ],
          [
           "Pop Smoke",
           560691819
          ],
          [
           "Drake",
           559759920
          ],
          [
           "J Balvin",
           559708419
          ],
          [
           "Feid",
           558560568
          ],
          [
           "Halsey",
           557921212
          ],
          [
           "Nicki Minaj",
           557775679
          ],
          [
           "Brent Faiyaz",
           556176640
          ],
          [
           "Jack Harlow",
           555631717
          ],
          [
           "Doja Cat",
           553783547
          ],
          [
           "Juice WRLD",
           553627198
          ],
          [
           "Luke Combs",
           553360461
          ],
          [
           "Lil Nas X",
           551719564
          ],
          [
           "Dwayne Johnson",
           551115166
          ],
          [
           "Cardi B",
           551035247
          ],
          [
           "DJ Luian",
           550967367
          ],
          [
           "Selena Gomez",
           550049388
          ],
          [
           "Pop Smoke",
           549824221
          ],
          [
           "Nicki Minaj",
           549382975
          ],
          [
           "JID",
           548724288
          ],
          [
           "Diplo",
           548333714
          ],
          [
           "Sabrina Carpenter",
           547882871
          ],
          [
           "Nicky Jam",
           547483874
          ],
          [
           "NewJeans",
           547471596
          ],
          [
           "Bishop Briggs",
           547304707
          ],
          [
           "DJ Snake",
           547207250
          ],
          [
           "Imanbek",
           547114702
          ],
          [
           "Chino Pacas",
           545234876
          ],
          [
           "Marshmello",
           545011148
          ],
          [
           "DJ Khaled",
           544564903
          ],
          [
           "Taiu",
           544165928
          ],
          [
           "Lauren Daigle",
           542480898
          ],
          [
           "Super Yei",
           541468772
          ],
          [
           "Ariana Grande",
           541397856
          ],
          [
           "Peso Pluma",
           541105655
          ],
          [
           "NewJeans",
           541018402
          ],
          [
           "Dave",
           540907681
          ],
          [
           "Lizzy McAlpine",
           540382129
          ],
          [
           "Roddy Ricch",
           538059363
          ],
          [
           "SZA",
           537523729
          ],
          [
           "NLE Choppa",
           537163250
          ],
          [
           "Taylor Swift",
           536110386
          ],
          [
           "Ryan Castro",
           535847791
          ],
          [
           "Trippie Redd",
           535695469
          ],
          [
           "Danny Ocean",
           535013440
          ],
          [
           "Rauw Alejandro",
           534981600
          ],
          [
           "Christina Perri",
           534874667
          ],
          [
           "Bad Bunny",
           534736940
          ],
          [
           "BLACKPINK",
           534374502
          ],
          [
           "Troye Sivan",
           533416336
          ],
          [
           "Travis Scott",
           532605345
          ],
          [
           "Lil Wayne",
           531877344
          ],
          [
           "Black Eyed Peas",
           529404392
          ],
          [
           "Martin Garrix",
           529175442
          ],
          [
           "Marshmello",
           528420867
          ],
          [
           "Rita Ora",
           527760843
          ],
          [
           "Black Eyed Peas",
           527632887
          ],
          [
           "Daddy Yankee",
           526264393
          ],
          [
           "Shakira",
           526083566
          ],
          [
           "Logic",
           526019789
          ],
          [
           "Brent Faiyaz",
           526007719
          ],
          [
           "Camila Cabello",
           524463179
          ],
          [
           "FISHER",
           523954769
          ],
          [
           "Pop Smoke",
           523416171
          ],
          [
           "Mon Laferte",
           522954525
          ],
          [
           "Quality Control",
           522143496
          ],
          [
           "J Balvin",
           521328627
          ],
          [
           "Rihanna",
           520418822
          ],
          [
           "Pia Mia",
           520407542
          ],
          [
           "Loreen",
           518846340
          ],
          [
           "Christian Nodal",
           518477840
          ],
          [
           "Ava Max",
           518293446
          ],
          [
           "Kane Brown",
           516523975
          ],
          [
           "The Living Tombstone",
           516198914
          ],
          [
           "Coyote Theory",
           515923885
          ],
          [
           "Dua Lipa",
           515693079
          ],
          [
           "Trueno",
           515582705
          ],
          [
           "Ramz",
           514888081
          ],
          [
           "Lana Del Rey",
           513353284
          ],
          [
           "Bakar",
           512194074
          ],
          [
           "Quevedo",
           511726944
          ],
          [
           "Fuerza Regida",
           511421362
          ],
          [
           "Doja Cat",
           510302007
          ],
          [
           "Doja Cat",
           509653100
          ],
          [
           "Joel Corry",
           509445605
          ],
          [
           "Ashnikko",
           509353753
          ],
          [
           "David Guetta",
           509231024
          ],
          [
           "Andy Grammer",
           509011250
          ],
          [
           "Daddy Yankee",
           508914869
          ],
          [
           "Jonas Brothers",
           508463163
          ],
          [
           "Ozuna",
           508151972
          ],
          [
           "Bad Bunny",
           507652985
          ],
          [
           "DJ Snake",
           506083686
          ],
          [
           "Justin Timberlake",
           505748520
          ],
          [
           "Jonas Brothers",
           505295731
          ],
          [
           "Madison Beer",
           504851489
          ],
          [
           "Two Feet",
           503915156
          ],
          [
           "Romeo Santos",
           503904686
          ],
          [
           "Juice WRLD",
           503584339
          ],
          [
           "Post Malone",
           503574147
          ],
          [
           "Morgan Wallen",
           503296417
          ],
          [
           "Reik",
           503187980
          ],
          [
           "LISA",
           502655066
          ],
          [
           "Harry Styles",
           502585349
          ],
          [
           "Fuerza Regida",
           502536183
          ],
          [
           "Ella Mai",
           502147027
          ],
          [
           "Elle King",
           501915477
          ],
          [
           "Pop Smoke",
           501468322
          ],
          [
           "Polo G",
           500766243
          ],
          [
           "Bad Bunny",
           500671737
          ],
          [
           "Duki",
           500565437
          ],
          [
           "Cigarettes After Sex",
           499764238
          ],
          [
           "Cochise",
           499262863
          ],
          [
           "Camila Cabello",
           499085551
          ],
          [
           "King Von",
           497832707
          ],
          [
           "Roy Woods",
           497826683
          ],
          [
           "Fuerza Regida",
           497682165
          ],
          [
           "Calibre 50",
           497062969
          ],
          [
           "NLE Choppa",
           496344788
          ],
          [
           "DVRST",
           495840131
          ],
          [
           "Sebastian Yatra",
           494889776
          ],
          [
           "Romeo Santos",
           494373634
          ],
          [
           "NF",
           493699616
          ],
          [
           "Dua Lipa",
           493627071
          ],
          [
           "Daya",
           493444344
          ],
          [
           "Calboy",
           492873992
          ],
          [
           "Christian Nodal",
           492542256
          ],
          [
           "Eslabon Armado",
           492509763
          ],
          [
           "Ayo & Teo",
           491634627
          ],
          [
           "Bobby Shmurda",
           491313680
          ],
          [
           "KAROL G",
           491242756
          ],
          [
           "J Balvin",
           489654759
          ],
          [
           "Sabrina Carpenter",
           488979989
          ],
          [
           "Camilo",
           488713982
          ],
          [
           "NEIKED",
           487150595
          ],
          [
           "Meghan Trainor",
           486842946
          ],
          [
           "SLANDER",
           486647778
          ],
          [
           "J Balvin",
           485274842
          ],
          [
           "YNW Melly",
           484542375
          ],
          [
           "J Balvin",
           484375103
          ],
          [
           "Alex Rose",
           482021697
          ],
          [
           "Jeremih",
           481414844
          ],
          [
           "Joel Corry",
           480737112
          ],
          [
           "Selena Gomez",
           479276199
          ],
          [
           "Jennifer Lopez",
           478791369
          ],
          [
           "Bad Bunny",
           478150858
          ],
          [
           "Kaash Paige",
           478086665
          ],
          [
           "JVKE",
           477620800
          ],
          [
           "Migos",
           476546062
          ],
          [
           "Matt Sassari",
           476476352
          ],
          [
           "benny blanco",
           475881575
          ],
          [
           "Mora",
           475820416
          ],
          [
           "Masego",
           475786302
          ],
          [
           "Grupo Frontera",
           474590289
          ],
          [
           "Skrillex",
           474420154
          ],
          [
           "flora cash",
           473059298
          ],
          [
           "Luke Combs",
           472886929
          ],
          [
           "Jaymes Young",
           472408276
          ],
          [
           "Tiago PZK",
           472107491
          ],
          [
           "6ix9ine",
           472027271
          ],
          [
           "Nicki Minaj",
           470659154
          ],
          [
           "Luke Combs",
           470340261
          ],
          [
           "SZA",
           469322271
          ],
          [
           "Christian Nodal",
           469278591
          ],
          [
           "King",
           467454503
          ],
          [
           "Men I Trust",
           466462034
          ],
          [
           "Myke Towers",
           465811322
          ],
          [
           "Coi Leray",
           465588517
          ],
          [
           "Luke Bryan",
           464203349
          ],
          [
           "Bruno Mars",
           463977298
          ],
          [
           "Juice WRLD",
           463970393
          ],
          [
           "Fuerza Regida",
           462284590
          ],
          [
           "Billie Eilish",
           461892532
          ],
          [
           "Ed Sheeran",
           461495506
          ],
          [
           "Jason Aldean",
           461456306
          ],
          [
           "Maren Morris",
           461420009
          ],
          [
           "Bad Bunny",
           461199840
          ],
          [
           "bbno$",
           460770585
          ],
          [
           "Peggy Gou",
           460156070
          ],
          [
           "Rammstein",
           460008347
          ],
          [
           "BTS",
           459923962
          ],
          [
           "Dean Lewis",
           459712644
          ],
          [
           "Drake",
           459480135
          ],
          [
           "Eladio Carrion",
           459282058
          ],
          [
           "BTS",
           458842811
          ],
          [
           "LE SSERAFIM",
           458713465
          ],
          [
           "Jason Derulo",
           458706557
          ],
          [
           "The Strokes",
           457933102
          ],
          [
           "Zoe Wees",
           457848626
          ],
          [
           "Jordan Davis",
           457254811
          ],
          [
           "Morgan Wallen",
           457252350
          ],
          [
           "SZA",
           456871037
          ],
          [
           "Jennifer Lopez",
           456241170
          ],
          [
           "Florida Georgia Line",
           455780340
          ],
          [
           "Harry Styles",
           455718141
          ],
          [
           "Bizarrap",
           454467751
          ],
          [
           "Becky Hill",
           453644642
          ],
          [
           "SZA",
           452881574
          ],
          [
           "Tate McRae",
           452628341
          ],
          [
           "Bella Poarch",
           452542081
          ],
          [
           "BTS",
           452491920
          ],
          [
           "Blessd",
           452087681
          ],
          [
           "The Weeknd",
           451878749
          ],
          [
           "Kanye West",
           451323154
          ],
          [
           "Aya Nakamura",
           449300755
          ],
          [
           "Katy Perry",
           447997798
          ],
          [
           "Mac Miller",
           447761883
          ],
          [
           "Lil Baby",
           444934033
          ],
          [
           "Feid",
           444613276
          ],
          [
           "Nathan Evans",
           443854471
          ],
          [
           "Beyoncï¿",
           443564590
          ],
          [
           "KAROL G",
           443093379
          ],
          [
           "TWICE",
           442941122
          ],
          [
           "Pamungkas",
           442614126
          ],
          [
           "XXXTENTACION",
           442472374
          ],
          [
           "Pentatonix",
           441916342
          ],
          [
           "JISOO",
           440364356
          ],
          [
           "Lil Tecca",
           440181206
          ],
          [
           "Old Dominion",
           439281048
          ],
          [
           "P!nk",
           439034558
          ],
          [
           "Eyedress",
           438511316
          ],
          [
           "Lele Pons",
           437956158
          ],
          [
           "La Adictiva",
           437825141
          ],
          [
           "Ofenbach",
           437558372
          ],
          [
           "Lauren Spencer Smith",
           437029775
          ],
          [
           "LMFAO",
           436722440
          ],
          [
           "BLACKPINK",
           435823355
          ],
          [
           "Major Lazer",
           433664050
          ],
          [
           "Olivia Rodrigo",
           433515672
          ],
          [
           "Shakira",
           433482670
          ],
          [
           "Morgan Wallen",
           433429705
          ],
          [
           "Romeo Santos",
           433074753
          ],
          [
           "Bad Bunny",
           432885913
          ],
          [
           "Anuel AA",
           432365949
          ],
          [
           "DaBaby",
           432315500
          ],
          [
           "TWICE",
           431638330
          ],
          [
           "Sebastian Yatra",
           431529832
          ],
          [
           "Taylor Swift",
           429910250
          ],
          [
           "The Kid LAROI",
           428787524
          ],
          [
           "Daddy Yankee",
           428271245
          ],
          [
           "21 Savage",
           428233003
          ],
          [
           "Amaarae",
           428189728
          ],
          [
           "Lil Nas X",
           428164381
          ],
          [
           "Alan Walker",
           428110164
          ],
          [
           "Lil Baby",
           428009373
          ],
          [
           "Jerry Di",
           427998483
          ],
          [
           "Chris Stapleton",
           427605317
          ],
          [
           "Megan Thee Stallion",
           427275743
          ],
          [
           "Kendrick Lamar",
           426936498
          ],
          [
           "Bad Bunny",
           426904285
          ],
          [
           "Beyoncï¿",
           426700979
          ],
          [
           "OneRepublic",
           426609723
          ],
          [
           "AJR",
           426425213
          ],
          [
           "KAROL G",
           426341106
          ],
          [
           "J Balvin",
           426104353
          ],
          [
           "Calvin Harris",
           425999315
          ],
          [
           "Maluma",
           423582537
          ],
          [
           "Billie Eilish",
           423439672
          ],
          [
           "AgroPlay",
           423018422
          ],
          [
           "JIN",
           422186660
          ],
          [
           "Ozuna",
           420652971
          ],
          [
           "Lil Baby",
           420627588
          ],
          [
           "Lil Wayne",
           420074095
          ],
          [
           "Tones And I",
           419557907
          ],
          [
           "Jung Kook",
           419016792
          ],
          [
           "Jamie Miller",
           418998816
          ],
          [
           "SZA",
           418181065
          ],
          [
           "Lil Baby",
           417634388
          ],
          [
           "Rihanna",
           417616725
          ],
          [
           "Tyga",
           417311779
          ],
          [
           "Dayvi",
           417257612
          ],
          [
           "C. Tangana",
           417168757
          ],
          [
           "Justin Quiles",
           417078369
          ],
          [
           "Clinton Kane",
           416972132
          ],
          [
           "Kodak Black",
           416955991
          ],
          [
           "Polo G",
           416388749
          ],
          [
           "Wisin & Yandel",
           416361102
          ],
          [
           "Kent Jones",
           416147244
          ],
          [
           "Eminem",
           415971193
          ],
          [
           "Central Cee",
           415699405
          ],
          [
           "JACKBOYS",
           415532384
          ],
          [
           "Anggi Marito",
           415357981
          ],
          [
           "Dalex",
           415170963
          ],
          [
           "Lil Tjay",
           413974601
          ],
          [
           "Natanael Cano",
           413743535
          ],
          [
           "Imagine Dragons",
           412887321
          ],
          [
           "Bailey Zimmerman",
           412845771
          ],
          [
           "Jhay Cortez",
           412597562
          ],
          [
           "Selena Gomez",
           412118303
          ],
          [
           "Bad Bunny",
           410897040
          ],
          [
           "Burna Boy",
           410722289
          ],
          [
           "King",
           410639967
          ],
          [
           "Junior H",
           409608018
          ],
          [
           "Kane Brown",
           409441742
          ],
          [
           "Harry Styles",
           408265830
          ],
          [
           "Juice WRLD",
           407701213
          ],
          [
           "Wisin & Yandel",
           407025386
          ],
          [
           "Tory Lanez",
           407015049
          ],
          [
           "Drake",
           406875019
          ],
          [
           "Taylor Swift",
           406821432
          ],
          [
           "Master KG",
           406132477
          ],
          [
           "Nathan Evans",
           405754991
          ],
          [
           "Piso 21",
           405331822
          ],
          [
           "Doja Cat",
           404872050
          ],
          [
           "Eve",
           404765225
          ],
          [
           "YoungBoy Never Broke Again",
           404692736
          ],
          [
           "Kanye West",
           404497617
          ],
          [
           "Junior H",
           404073512
          ],
          [
           "Alan Walker",
           403860053
          ],
          [
           "Travis Scott",
           403132906
          ],
          [
           "Bad Bunny",
           403041493
          ],
          [
           "Trippie Redd",
           402970867
          ],
          [
           "Bakermat",
           402771910
          ],
          [
           "DripReport",
           402600493
          ],
          [
           "Mareux",
           402007889
          ],
          [
           "Camilo",
           401104048
          ],
          [
           "Elton John",
           400479389
          ],
          [
           "Gabby Barrett",
           399778802
          ],
          [
           "Quavo",
           399707517
          ],
          [
           "Maroon 5",
           399689964
          ],
          [
           "Post Malone",
           399297877
          ],
          [
           "Riton",
           399276193
          ],
          [
           "Israel Kamakawiwo'ole",
           399145178
          ],
          [
           "Alex Sensation",
           398779586
          ],
          [
           "IVE",
           397988770
          ],
          [
           "Ali Gatie",
           397893665
          ],
          [
           "Rauw Alejandro",
           396549329
          ],
          [
           "Feid",
           396184710
          ],
          [
           "Peso Pluma",
           395739041
          ],
          [
           "Taylor Swift",
           395433400
          ],
          [
           "Cali Y El Dandee",
           395303355
          ],
          [
           "Future",
           395167576
          ],
          [
           "Justine Skye",
           394458820
          ],
          [
           "Lil Tjay",
           392745531
          ],
          [
           "Shawn Mendes",
           392730501
          ],
          [
           "Becky G",
           392308500
          ],
          [
           "Tainy",
           391856304
          ],
          [
           "Grupo Marca Registrada",
           391773238
          ],
          [
           "Bad Wolves",
           391235723
          ],
          [
           "Bad Bunny",
           391087418
          ],
          [
           "Saweetie",
           390907316
          ],
          [
           "Brent Faiyaz",
           390893607
          ],
          [
           "Witt Lowry",
           390529605
          ],
          [
           "Gunna",
           390498074
          ],
          [
           "Tommy Richman",
           390470936
          ],
          [
           "Peso Pluma",
           390182196
          ],
          [
           "Tai Verdes",
           389915082
          ],
          [
           "Jax Jones",
           389547230
          ],
          [
           "Tom Grennan",
           389164529
          ],
          [
           "Shakira",
           388986035
          ],
          [
           "Ava Max",
           388802420
          ],
          [
           "Young Thug",
           387820994
          ],
          [
           "The Weeknd",
           387273112
          ],
          [
           "Myke Towers",
           387094388
          ],
          [
           "Ofenbach",
           385903701
          ],
          [
           "J Balvin",
           385438228
          ],
          [
           "Kevin Gates",
           384977271
          ],
          [
           "TWICE",
           384886220
          ],
          [
           "S1mba",
           384524938
          ],
          [
           "Alesso",
           383945607
          ],
          [
           "Vierre Cloud",
           383570519
          ],
          [
           "NIKI",
           383171089
          ],
          [
           "Giveon",
           382565051
          ],
          [
           "Benson Boone",
           382177076
          ],
          [
           "Edith Whiskers",
           382143321
          ],
          [
           "Alan Walker",
           381501023
          ],
          [
           "Aya Nakamura",
           381322519
          ],
          [
           "Dua Lipa",
           381166294
          ],
          [
           "Jasleen Royal",
           380785241
          ],
          [
           "KEVIN ROLDAN",
           380367132
          ],
          [
           "Joji",
           379518360
          ],
          [
           "Morgan Wallen",
           379462137
          ],
          [
           "Vedo",
           378584974
          ],
          [
           "Rihanna",
           378282960
          ],
          [
           "Pooh Shiesty",
           378239461
          ],
          [
           "Lady Gaga",
           377746254
          ],
          [
           "Daddy Yankee",
           375589989
          ],
          [
           "Blueface",
           374553396
          ],
          [
           "LIT killah",
           373898429
          ],
          [
           "Ed Sheeran",
           372423476
          ],
          [
           "Drake",
           372248119
          ],
          [
           "Ayra Starr",
           371886608
          ],
          [
           "V",
           371463000
          ],
          [
           "David Guetta",
           371288040
          ],
          [
           "Lasso",
           370988405
          ],
          [
           "Bad Bunny",
           370800055
          ],
          [
           "YG",
           370693139
          ],
          [
           "Tainy",
           368429447
          ],
          [
           "Laufey",
           368256958
          ],
          [
           "Gunna",
           368155242
          ],
          [
           "Lil Baby",
           368017246
          ],
          [
           "Blake Shelton",
           367775924
          ],
          [
           "Thalia",
           367530155
          ],
          [
           "Myke Towers",
           367399860
          ],
          [
           "Bad Bunny",
           366872354
          ],
          [
           "LiL CaKe",
           366462735
          ],
          [
           "Farruko",
           366268077
          ],
          [
           "ITZY",
           365845397
          ],
          [
           "Yo Gotti",
           365789171
          ],
          [
           "IVE",
           365203093
          ],
          [
           "KAROL G",
           365062854
          ],
          [
           "Rochy RD",
           364856266
          ],
          [
           "Tee Grizzley",
           364325529
          ],
          [
           "ElyOtto",
           364210672
          ],
          [
           "Junior H",
           363816146
          ],
          [
           "Sara Kays",
           363510259
          ],
          [
           "Wiz Khalifa",
           362756358
          ],
          [
           "BENNETT",
           361517395
          ],
          [
           "TWICE",
           361382812
          ],
          [
           "Nio Garcia",
           361357607
          ],
          [
           "Big One",
           361219290
          ],
          [
           "Kenshi Yonezu",
           360816226
          ],
          [
           "Em Beihold",
           360584207
          ],
          [
           "Bad Bunny",
           360149048
          ],
          [
           "YG",
           359828344
          ],
          [
           "Peso Pluma",
           359803580
          ],
          [
           "twocolors",
           359757970
          ],
          [
           "Megan Thee Stallion",
           359563711
          ],
          [
           "Armani White",
           359416593
          ],
          [
           "Mora",
           359336745
          ],
          [
           "Myke Towers",
           358885100
          ],
          [
           "EXO",
           358620184
          ],
          [
           "TINI",
           358240136
          ],
          [
           "benny blanco",
           358055646
          ],
          [
           "Junior H",
           357445095
          ],
          [
           "BLACKPINK",
           357054107
          ],
          [
           "Drake",
           356685934
          ],
          [
           "Central Cee",
           356681497
          ],
          [
           "Luke Combs",
           356603747
          ],
          [
           "Daddy Yankee",
           355833360
          ],
          [
           "LF SYSTEM",
           355203657
          ],
          [
           "Pop Smoke",
           355137565
          ],
          [
           "Lil Durk",
           354889332
          ],
          [
           "Purple Disco Machine",
           354683755
          ],
          [
           "Sky Rompiendo",
           354097795
          ],
          [
           "Shakira",
           353815769
          ],
          [
           "NF",
           353038338
          ],
          [
           "K/DA",
           352999804
          ],
          [
           "DJ Khaled",
           352955079
          ],
          [
           "Endor",
           352268839
          ],
          [
           "Sech",
           352258962
          ],
          [
           "Polo G",
           351007818
          ],
          [
           "Jimin",
           350802342
          ],
          [
           "KAROL G",
           350738636
          ],
          [
           "Lil Tecca",
           350584176
          ],
          [
           "Rex Orange County",
           350427750
          ],
          [
           "The 1975",
           350348521
          ],
          [
           "DaBaby",
           349688559
          ],
          [
           "Coldplay",
           349603788
          ],
          [
           "Natanael Cano",
           349522530
          ],
          [
           "J Balvin",
           347951927
          ],
          [
           "YoungBoy Never Broke Again",
           347754650
          ],
          [
           "Travis Scott",
           347647880
          ],
          [
           "Shae Gill",
           346971014
          ],
          [
           "NLE Choppa",
           346862697
          ],
          [
           "Danna Paola",
           346737588
          ],
          [
           "Ashnikko",
           345069681
          ],
          [
           "BTS",
           344744597
          ],
          [
           "Shawn Mendes",
           344658498
          ],
          [
           "Lil Durk",
           344369903
          ],
          [
           "Israel & Rodolffo",
           343704935
          ],
          [
           "Lewis Capaldi",
           343556188
          ],
          [
           "AJR",
           343227483
          ],
          [
           "Montell Fish",
           342872540
          ],
          [
           "Bad Bunny",
           342075557
          ],
          [
           "Nicky Jam",
           341040837
          ],
          [
           "Marca MP",
           340744110
          ],
          [
           "Morgan Wallen",
           340227841
          ],
          [
           "Alan Walker",
           339954855
          ],
          [
           "Mike WiLL Made-It",
           339514083
          ],
          [
           "KAROL G",
           338782953
          ],
          [
           "Drake",
           337858357
          ],
          [
           "DDG",
           337709342
          ],
          [
           "Sebastian Yatra",
           337650898
          ],
          [
           "Central Cee",
           336889834
          ],
          [
           "Santa Fe Klan",
           335856859
          ],
          [
           "salem ilese",
           335604759
          ],
          [
           "Robin Schulz",
           335496248
          ],
          [
           "Alok",
           335203899
          ],
          [
           "347aidan",
           335188091
          ],
          [
           "Alex Favela",
           333899135
          ],
          [
           "Billie Eilish",
           333792226
          ],
          [
           "Lil Durk",
           333202114
          ],
          [
           "Ghostemane",
           333141510
          ],
          [
           "Mustard",
           332224927
          ],
          [
           "Alejo",
           332175085
          ],
          [
           "Carin Leon",
           331775657
          ],
          [
           "Tyler, The Creator",
           331749982
          ],
          [
           "Lil Tjay",
           331506695
          ],
          [
           "Oxlade",
           331419634
          ],
          [
           "Tion Wayne",
           329901408
          ],
          [
           "Raim Laode",
           329763216
          ],
          [
           "Walker Hayes",
           328697441
          ],
          [
           "Drake",
           328526298
          ],
          [
           "Migos",
           328017675
          ],
          [
           "Carin Leon",
           327311508
          ],
          [
           "Post Malone",
           327011836
          ],
          [
           "LUM!X",
           324575469
          ],
          [
           "Mahalini",
           324327622
          ],
          [
           "Latto",
           324162855
          ],
          [
           "Kendrick Lamar",
           323703884
          ],
          [
           "Cartel De Santa",
           323657766
          ],
          [
           "Shawn Mendes",
           323292046
          ],
          [
           "Tate McRae",
           323100055
          ],
          [
           "Myke Towers",
           322757243
          ],
          [
           "Thalia",
           322003779
          ],
          [
           "Labrinth",
           321892912
          ],
          [
           "Chris Stapleton",
           320586187
          ],
          [
           "Jhayco",
           320174752
          ],
          [
           "Rod Wave",
           320136804
          ],
          [
           "Juice WRLD",
           319737440
          ],
          [
           "Megan Thee Stallion",
           319372639
          ],
          [
           "Bad Gyal",
           318567928
          ],
          [
           "Kendrick Lamar",
           318340376
          ],
          [
           "Lil Tecca",
           318061543
          ],
          [
           "Jessica Darrow",
           318018082
          ],
          [
           "Rich The Kid",
           317302250
          ],
          [
           "Egzod",
           317252487
          ],
          [
           "Myke Towers",
           317223968
          ],
          [
           "Fireboy DML",
           316588910
          ],
          [
           "Young M.A",
           316267018
          ],
          [
           "Childish Gambino",
           315997441
          ],
          [
           "Ariana Grande",
           315697428
          ],
          [
           "Lady Gaga",
           315680664
          ],
          [
           "Luude",
           315606874
          ],
          [
           "Tiago PZK",
           315581950
          ],
          [
           "Key Glock",
           315336758
          ],
          [
           "Brent Faiyaz",
           315014005
          ],
          [
           "Justin Wellington",
           314672402
          ],
          [
           "HRVY",
           314089265
          ],
          [
           "Travis Scott",
           313693195
          ],
          [
           "Agust D",
           313507248
          ],
          [
           "Regard",
           313144836
          ],
          [
           "Curtis Waters",
           312678365
          ],
          [
           "Bizarrap",
           312622847
          ],
          [
           "KAROL G",
           312111545
          ],
          [
           "Rauw Alejandro",
           310562790
          ],
          [
           "Imagine Dragons",
           309587427
          ],
          [
           "Fuerza Regida",
           309329645
          ],
          [
           "Grupo Firme",
           308915484
          ],
          [
           "Nicky Jam",
           308811426
          ],
          [
           "Doechii",
           308738277
          ],
          [
           "Drake",
           308396120
          ],
          [
           "Zach Bryan",
           307125680
          ],
          [
           "Gunna",
           307122295
          ],
          [
           "Quevedo",
           306952759
          ],
          [
           "IVE",
           306760464
          ],
          [
           "Tulus",
           306652166
          ],
          [
           "Daddy Yankee",
           306404848
          ],
          [
           "Offset",
           306221125
          ],
          [
           "Nathan Dawe",
           305830522
          ],
          [
           "Santa Fe Klan",
           305231016
          ],
          [
           "$uicideboy$",
           305049963
          ],
          [
           "Mae Stephens",
           304929492
          ],
          [
           "Naomi Scott",
           304588030
          ],
          [
           "Steve Lacy",
           304386086
          ],
          [
           "KAROL G",
           304116211
          ],
          [
           "Kungs",
           304069347
          ],
          [
           "Russ",
           303510160
          ],
          [
           "Black Eyed Peas",
           302939117
          ],
          [
           "Lil Wayne",
           302419750
          ],
          [
           "Ricky Martin",
           301574752
          ],
          [
           "Peso Pluma",
           301396080
          ],
          [
           "Future",
           300694036
          ],
          [
           "Dave",
           300668168
          ],
          [
           "George Ezra",
           300430813
          ],
          [
           "Becky Hill",
           300361628
          ],
          [
           "Kanye West",
           300082779
          ],
          [
           "TWISTED",
           299202591
          ],
          [
           "The Kid LAROI",
           299159279
          ],
          [
           "Kodak Black",
           298721490
          ],
          [
           "Camilo",
           297150374
          ],
          [
           "NAYEON",
           296828933
          ],
          [
           "Montell Fish",
           296674882
          ],
          [
           "AnnenMayKantereit",
           296543065
          ],
          [
           "Lil Yachty",
           296469547
          ],
          [
           "Rauw Alejandro",
           293361823
          ],
          [
           "Junior H",
           293017219
          ],
          [
           "Jere Klein",
           292789738
          ],
          [
           "Playboi Carti",
           291244404
          ],
          [
           "Lil Baby",
           289652584
          ],
          [
           "Feid",
           289624210
          ],
          [
           "(G)I-DLE",
           289304213
          ],
          [
           "Ir Sais",
           289196126
          ],
          [
           "SyKo",
           289085486
          ],
          [
           "DJ Snake",
           289013053
          ],
          [
           "Diplo",
           287897439
          ],
          [
           "Becky G",
           287853890
          ],
          [
           "Olivia Rodrigo",
           287724574
          ],
          [
           "Bizarrap",
           286381494
          ],
          [
           "Jason Derulo",
           286179073
          ],
          [
           "Stellar",
           286057865
          ],
          [
           "(G)I-DLE",
           286016224
          ],
          [
           "Brytiago",
           285851797
          ],
          [
           "Ryan Castro",
           285723562
          ],
          [
           "Sarah Cothran",
           285568439
          ],
          [
           "Travis Scott",
           285481590
          ],
          [
           "Agust D",
           285039741
          ],
          [
           "Michael Marcagi",
           284119669
          ],
          [
           "Imagine Dragons",
           283572432
          ],
          [
           "ENHYPEN",
           283455095
          ],
          [
           "Zach Bryan",
           283406755
          ],
          [
           "Kordhell",
           283108875
          ],
          [
           "g3ox_em",
           282776356
          ],
          [
           "HWASA",
           280901994
          ],
          [
           "Alesso",
           279996207
          ],
          [
           "LE SSERAFIM",
           279667395
          ],
          [
           "Luh Kel",
           279660513
          ],
          [
           "Bazzi",
           279105227
          ],
          [
           "Flo Milli",
           278132516
          ],
          [
           "Travis Scott",
           278032053
          ],
          [
           "Fousheï¿",
           277505000
          ],
          [
           "Young Stoner Life",
           277393068
          ],
          [
           "Summer Walker",
           277094824
          ],
          [
           "Mahalini",
           277051326
          ],
          [
           "Yung Lean",
           276992369
          ],
          [
           "Noah Kahan",
           276026602
          ],
          [
           "PARTYNEXTDOOR",
           275465440
          ],
          [
           "Paulo Londra",
           275416061
          ],
          [
           "Darell",
           275349653
          ],
          [
           "Hensonn",
           274961162
          ],
          [
           "JNR CHOI",
           274647899
          ],
          [
           "Creeds",
           274229438
          ],
          [
           "Drake",
           273457499
          ],
          [
           "Dasha",
           273023490
          ],
          [
           "PlayaPhonk",
           272702293
          ],
          [
           "Kxllswxtch",
           272051636
          ],
          [
           "Rich Amiri",
           271566931
          ],
          [
           "Claire Rosinkranz",
           271235105
          ],
          [
           "Taylor Swift",
           269790122
          ],
          [
           "Tyler, The Creator",
           269671235
          ],
          [
           "Labrinth",
           269669185
          ],
          [
           "PSY",
           269491606
          ],
          [
           "Kanye West",
           269363579
          ],
          [
           "IVE",
           269067890
          ],
          [
           "Rauw Alejandro",
           268383799
          ],
          [
           "Sidhu Moose Wala",
           267897492
          ],
          [
           "Bibi Babydoll",
           267867000
          ],
          [
           "AP Dhillon",
           267617808
          ],
          [
           "Robin Schulz",
           267459903
          ],
          [
           "Kanye West",
           266927787
          ],
          [
           "Morgan Wallen",
           266560481
          ],
          [
           "Sech",
           266525796
          ],
          [
           "Taylor Swift",
           265932119
          ],
          [
           "Keisya Levronka",
           265767551
          ],
          [
           "TINI",
           265244748
          ],
          [
           "Grupo Firme",
           265126606
          ],
          [
           "Summer Walker",
           265040914
          ],
          [
           "Burna Boy",
           264048274
          ],
          [
           "ENHYPEN",
           263851286
          ],
          [
           "Yung Gravy",
           262402978
          ],
          [
           "Bailey Zimmerman",
           262185115
          ],
          [
           "Shubh",
           261975922
          ],
          [
           "Zach Bryan",
           261468916
          ],
          [
           "Zack Tabudlo",
           261275106
          ],
          [
           "Idina Menzel",
           261261513
          ],
          [
           "Farruko",
           261207310
          ],
          [
           "Joyner Lucas",
           260117606
          ],
          [
           "benny blanco",
           259730016
          ],
          [
           "Giveon",
           259405297
          ],
          [
           "BTS",
           259288333
          ],
          [
           "Cody Johnson",
           258769609
          ],
          [
           "Matheus Fernandes",
           258464933
          ],
          [
           "KSLV Noh",
           258379092
          ],
          [
           "Shubh",
           258337879
          ],
          [
           "Emmy Meli",
           257984057
          ],
          [
           "Roddy Ricch",
           257661585
          ],
          [
           "NLE Choppa",
           257646451
          ],
          [
           "NATTI NATASHA",
           257167813
          ],
          [
           "Au/Ra",
           256361762
          ],
          [
           "Ovy On The Drums",
           256133319
          ],
          [
           "MoonDeity",
           256121980
          ],
          [
           "Feid",
           255973824
          ],
          [
           "P!nk",
           255898884
          ],
          [
           "Lil Uzi Vert",
           255776823
          ],
          [
           "Yng Lvcas",
           255707376
          ],
          [
           "ILLIT",
           255076355
          ],
          [
           "SZA",
           254979267
          ],
          [
           "Kendrick Lamar",
           254191262
          ],
          [
           "Lil Baby",
           254130819
          ],
          [
           "Becky G",
           254118106
          ],
          [
           "Sage The Gemini",
           253903241
          ],
          [
           "NewJeans",
           253890110
          ],
          [
           "Peso Pluma",
           253711656
          ],
          [
           "V",
           253540909
          ],
          [
           "Dirty Heads",
           253490559
          ],
          [
           "Peso Pluma",
           253464894
          ],
          [
           "Bad Bunny",
           253455087
          ],
          [
           "Drake",
           253177498
          ],
          [
           "Drake",
           253114498
          ],
          [
           "Nadhif Basalamah",
           252681087
          ],
          [
           "Peso Pluma",
           252239644
          ],
          [
           "Dua Lipa",
           251153869
          ],
          [
           "Nelly",
           250828412
          ],
          [
           "Stacey Ryan",
           250626750
          ],
          [
           "Los Dos Carnales",
           250593875
          ],
          [
           "Taylor Swift",
           250430303
          ],
          [
           "Matuï¿",
           250112783
          ],
          [
           "Morgan Wallen",
           249576970
          ],
          [
           "Kenia OS",
           249199925
          ],
          [
           "Bruno Mars",
           248947222
          ],
          [
           "Nardo Wick",
           248749251
          ],
          [
           "Metro Boomin",
           247682011
          ],
          [
           "StarBoi3",
           247462687
          ],
          [
           "Creepy Nuts",
           247399972
          ],
          [
           "Brent Faiyaz",
           247386146
          ],
          [
           "Myke Towers",
           247133830
          ],
          [
           "YBN Nahmir",
           246949197
          ],
          [
           "Kendrick Lamar",
           246425341
          ],
          [
           "Peso Pluma",
           246224964
          ],
          [
           "Feid",
           245582383
          ],
          [
           "Lewis Capaldi",
           245513981
          ],
          [
           "Sleepy Hallow",
           245406516
          ],
          [
           "aespa",
           245384123
          ],
          [
           "Cole Swindell",
           244709550
          ],
          [
           "Saweetie",
           243703179
          ],
          [
           "ILOVEMAKONNEN",
           242892279
          ],
          [
           "(G)I-DLE",
           242708368
          ],
          [
           "Don Toliver",
           242528711
          ],
          [
           "Wizkid",
           242254880
          ],
          [
           "Cardi B",
           242105356
          ],
          [
           "Paul Russell",
           242070373
          ],
          [
           "Yeat",
           242057987
          ],
          [
           "Muni Long",
           241632869
          ],
          [
           "Lana Del Rey",
           240686521
          ],
          [
           "Arijit Singh",
           240571166
          ],
          [
           "Duki",
           240519561
          ],
          [
           "KAROL G",
           240161044
          ],
          [
           "Quality Control",
           239850720
          ],
          [
           "Fabio Asher",
           239624643
          ],
          [
           "imase",
           239149370
          ],
          [
           "Ana Castela",
           238890270
          ],
          [
           "Henry Moodie",
           238841927
          ],
          [
           "Leah Kate",
           238502829
          ],
          [
           "Dave",
           237619076
          ],
          [
           "Lil Tjay",
           237061046
          ],
          [
           "Russ",
           236121136
          ],
          [
           "Juice WRLD",
           235609054
          ],
          [
           "Pop Smoke",
           234889039
          ],
          [
           "NewJeans",
           234215735
          ],
          [
           "Jhay Cortez",
           234126191
          ],
          [
           "Sub Urban",
           233661226
          ],
          [
           "Juice WRLD",
           233582276
          ],
          [
           "Jordan Davis",
           233212999
          ],
          [
           "Emilia",
           232985667
          ],
          [
           "Ofenbach",
           232417498
          ],
          [
           "JVLA",
           231981539
          ],
          [
           "Benzz",
           231745345
          ],
          [
           "Olivia Rodrigo",
           231346336
          ],
          [
           "Rauw Alejandro",
           231298627
          ],
          [
           "TINI",
           231155441
          ],
          [
           "beabadoobee",
           230129740
          ],
          [
           "Juice WRLD",
           229232959
          ],
          [
           "Ghea Indrawari",
           229120157
          ],
          [
           "Marwa Loud",
           228588822
          ],
          [
           "Kaliii",
           228240866
          ],
          [
           "Myke Towers",
           228003109
          ],
          [
           "Megan Moroney",
           227893586
          ],
          [
           "Rod Wave",
           227802182
          ],
          [
           "WIU",
           227079649
          ],
          [
           "Bad Bunny",
           226576178
          ],
          [
           "Calvin Harris",
           226519256
          ],
          [
           "347aidan",
           225962467
          ],
          [
           "Bailey Zimmerman",
           225556005
          ],
          [
           "Bo Burnham",
           225256279
          ],
          [
           "Jordan Davis",
           225128269
          ],
          [
           "Internet Money",
           224820131
          ],
          [
           "Bellakath",
           224429894
          ],
          [
           "Jack Harlow",
           224376030
          ],
          [
           "KAROL G",
           224367887
          ],
          [
           "TWICE",
           224295163
          ],
          [
           "TREASURE",
           224285122
          ],
          [
           "Naps",
           224163089
          ],
          [
           "MC MENOR HR",
           224150665
          ],
          [
           "Bizarrap",
           224033701
          ],
          [
           "LE SSERAFIM",
           223652808
          ],
          [
           "CKay",
           223634694
          ],
          [
           "WOS",
           223426639
          ],
          [
           "Isabel LaRosa",
           223341848
          ],
          [
           "Udo Lindenberg",
           223211332
          ],
          [
           "MC Kevin o Chris",
           222879686
          ],
          [
           "Sia",
           222571023
          ],
          [
           "Troye Sivan",
           222373201
          ],
          [
           "Calvin Harris",
           221965013
          ],
          [
           "Billie Eilish",
           221636195
          ],
          [
           "Zach Bryan",
           221575551
          ],
          [
           "KAROL G",
           221406245
          ],
          [
           "Grupo Frontera",
           221287566
          ],
          [
           "Artemas",
           219995278
          ],
          [
           "Ghostemane",
           219841054
          ],
          [
           "SunKissed Lola",
           219619875
          ],
          [
           "Drake",
           219008713
          ],
          [
           "TAEYANG",
           218831350
          ],
          [
           "Ava Max",
           218674366
          ],
          [
           "Bellakath",
           218661601
          ],
          [
           "Spice",
           218431985
          ],
          [
           "Emilia",
           218340846
          ],
          [
           "Vishal-Shekhar",
           218291402
          ],
          [
           "Enrique Iglesias",
           218205900
          ],
          [
           "Purple Disco Machine",
           218035732
          ],
          [
           "Stephanie Beatriz",
           217919853
          ],
          [
           "DaBaby",
           216934691
          ],
          [
           "D-Block Europe",
           216354398
          ],
          [
           "Mora",
           216298810
          ],
          [
           "Mother Mother",
           216252006
          ],
          [
           "Victor Cibrian",
           215837483
          ],
          [
           "Black Pumas",
           215492373
          ],
          [
           "Oliver Anthony Music",
           214598468
          ],
          [
           "Billie Eilish",
           214237645
          ],
          [
           "KAROL G",
           212911684
          ],
          [
           "Jungle",
           212122034
          ],
          [
           "FIFTY FIFTY",
           212084990
          ],
          [
           "SR",
           211596324
          ],
          [
           "SHAUN",
           211581810
          ],
          [
           "Taylor Swift",
           211462881
          ],
          [
           "Lil Dicky",
           211158013
          ],
          [
           "Akhil Sachdeva",
           211095929
          ],
          [
           "Don Omar",
           210904340
          ],
          [
           "Big One",
           210712407
          ],
          [
           "SEVENTEEN",
           210513394
          ],
          [
           "SEVENTEEN",
           210481840
          ],
          [
           "Taylor Swift",
           210385853
          ],
          [
           "PEDRO SAMPAIO",
           210287302
          ],
          [
           "Young Miko",
           209988103
          ],
          [
           "Bad Omens",
           209635991
          ],
          [
           "Young T & Bugsey",
           209328795
          ],
          [
           "beabadoobee",
           209167955
          ],
          [
           "Darshan Raval",
           208410725
          ],
          [
           "Stray Kids",
           207857363
          ],
          [
           "Dalex",
           207093355
          ],
          [
           "Mesita",
           206001461
          ],
          [
           "Michelle Maciel",
           205855278
          ],
          [
           "Selena Gomez",
           205555865
          ],
          [
           "Miley Cyrus",
           205468104
          ],
          [
           "ITZY",
           205110323
          ],
          [
           "Eladio Carrion",
           204730798
          ],
          [
           "DJ Khaled",
           204471704
          ],
          [
           "Cazzu",
           204337911
          ],
          [
           "Atif Aslam",
           204127666
          ],
          [
           "PinkPantheress",
           203628716
          ],
          [
           "Benson Boone",
           202667139
          ],
          [
           "Drake",
           202169670
          ],
          [
           "Luciano",
           201638049
          ],
          [
           "Kendrick Lamar",
           201021118
          ],
          [
           "Travis Scott",
           200895335
          ],
          [
           "El Alfa",
           200520284
          ],
          [
           "Bryan Martin",
           200017368
          ],
          [
           "Drake",
           199662854
          ],
          [
           "Kevin Gates",
           199248929
          ],
          [
           "Megan Thee Stallion",
           199063354
          ],
          [
           "Ryan Hurd",
           198942707
          ],
          [
           "Elle King",
           198817832
          ],
          [
           "Lil Baby",
           198573138
          ],
          [
           "aespa",
           198043685
          ],
          [
           "Gorillaz",
           197096592
          ],
          [
           "Travis Scott",
           196369387
          ],
          [
           "Stray Kids",
           195260412
          ],
          [
           "Kenshi Yonezu",
           194955459
          ],
          [
           "Gusttavo Lima",
           194919563
          ],
          [
           "Tech N9ne",
           194908788
          ],
          [
           "Kygo",
           194708224
          ],
          [
           "HARDY",
           194689239
          ],
          [
           "Nate Smith",
           193854805
          ],
          [
           "Tyler Hubbard",
           193680404
          ],
          [
           "Superstar Pride",
           193109326
          ],
          [
           "Sub Urban",
           193103080
          ],
          [
           "Luke Combs",
           192633758
          ],
          [
           "Luciano",
           191569959
          ],
          [
           "Soolking",
           191488217
          ],
          [
           "natori",
           191425175
          ],
          [
           "Moneybagg Yo",
           191071471
          ],
          [
           "Fred again..",
           190872805
          ],
          [
           "Ice Spice",
           190497384
          ],
          [
           "Eladio Carrion",
           190420514
          ],
          [
           "Ice Spice",
           190126590
          ],
          [
           "Tokischa",
           190095480
          ],
          [
           "Lil Baby",
           189972685
          ],
          [
           "Becky G",
           189969086
          ],
          [
           "Royal & the Serpent",
           189175699
          ],
          [
           "Luke Combs",
           188142444
          ],
          [
           "Bizarrap",
           188131570
          ],
          [
           "Ghostface Playa",
           187925725
          ],
          [
           "Rei",
           187818818
          ],
          [
           "Pablito Pesadilla",
           187646063
          ],
          [
           "Diane Guerrero",
           186607065
          ],
          [
           "Toosii",
           186579651
          ],
          [
           "Farruko",
           186233910
          ],
          [
           "Harrdy Sandhu",
           185690034
          ],
          [
           "Feid",
           185448173
          ],
          [
           "Camilo",
           185362995
          ],
          [
           "MC Cabelinho",
           185050407
          ],
          [
           "Cian Ducrot",
           185042019
          ],
          [
           "Emilia",
           184441175
          ],
          [
           "j-hope",
           183683364
          ],
          [
           "Johnny Orlando",
           183453795
          ],
          [
           "JENNIE",
           183134509
          ],
          [
           "Normani",
           181529121
          ],
          [
           "Luude",
           181323700
          ],
          [
           "CYRIL",
           180784576
          ],
          [
           "Corey Kent",
           180186017
          ],
          [
           "Chris Brown",
           179565178
          ],
          [
           "BM",
           179475517
          ],
          [
           "Playboi Carti",
           178750521
          ],
          [
           "Luan Pereira",
           178699480
          ],
          [
           "TOMORROW X TOGETHER",
           178523233
          ],
          [
           "Bailey Zimmerman",
           178441881
          ],
          [
           "Sean Kingston",
           178339925
          ],
          [
           "Manuel Turizo",
           178247858
          ],
          [
           "Tayc",
           177952382
          ],
          [
           "Chris Young",
           177734775
          ],
          [
           "Taylor Swift",
           177731392
          ],
          [
           "Purple Disco Machine",
           177722624
          ],
          [
           "Maninder Buttar",
           177496669
          ],
          [
           "Summer Walker",
           177369022
          ],
          [
           "Chappell Roan",
           176290078
          ],
          [
           "Lil Durk",
           176140377
          ],
          [
           "Lil Tecca",
           176048317
          ],
          [
           "Grupo Marca Registrada",
           175374235
          ],
          [
           "Morgan Wallen",
           175095439
          ],
          [
           "Tyga",
           175043767
          ],
          [
           "Gunna",
           174090982
          ],
          [
           "Morgan Wallen",
           173756454
          ],
          [
           "K CAMP",
           173526912
          ],
          [
           "Jasmine Sandlas",
           173193166
          ],
          [
           "H.E.R.",
           172986367
          ],
          [
           "Kep1er",
           172657413
          ],
          [
           "Pharrell Williams",
           172589732
          ],
          [
           "Meek Mill",
           172558590
          ],
          [
           "Mert Demir",
           172362945
          ],
          [
           "Fred again..",
           172321571
          ],
          [
           "Topic",
           171920896
          ],
          [
           "Polo G",
           171728710
          ],
          [
           "Fabio Asher",
           171663870
          ],
          [
           "Lil Baby",
           171118535
          ],
          [
           "Madonna",
           171060866
          ],
          [
           "Gunna",
           170941932
          ],
          [
           "Mau P",
           170829903
          ],
          [
           "Stephen Dawes",
           170404957
          ],
          [
           "Dylan Gossett",
           170200281
          ],
          [
           "Mora",
           170061927
          ],
          [
           "SwitchOTR",
           169896142
          ],
          [
           "Future",
           169574765
          ],
          [
           "6ix9ine",
           169376113
          ],
          [
           "Nardo Wick",
           169074195
          ],
          [
           "Carin Leon",
           168963270
          ],
          [
           "Maria Becerra",
           168710415
          ],
          [
           "Gazo",
           168211673
          ],
          [
           "Nicki Minaj",
           167977668
          ],
          [
           "Lay Bankz",
           167431139
          ],
          [
           "Jelly Roll",
           166866092
          ],
          [
           "Felipe Amorim",
           166784328
          ],
          [
           "Jessi",
           166161044
          ],
          [
           "NewJeans",
           165916276
          ],
          [
           "Lil Mabu",
           165642949
          ],
          [
           "Tom Santa",
           164856432
          ],
          [
           "Rod Wave",
           164804108
          ],
          [
           "Daddy Yankee",
           164788147
          ],
          [
           "Niklas Dee",
           164667038
          ],
          [
           "Rod Wave",
           164542767
          ],
          [
           "Luke Combs",
           164507374
          ],
          [
           "Connor Price",
           164206429
          ],
          [
           "Tesher",
           164137928
          ],
          [
           "AURORA",
           164125901
          ],
          [
           "Luis Angel \"El Flaco\"",
           164007720
          ],
          [
           "Rod Wave",
           163921357
          ],
          [
           "$uicideboy$",
           162889846
          ],
          [
           "Alessandra",
           162396159
          ],
          [
           "Pheelz",
           162356099
          ],
          [
           "Zion & Lennox",
           162240700
          ],
          [
           "Badshah",
           162005746
          ],
          [
           "Riar Saab",
           161366691
          ],
          [
           "Luck Ra",
           161280933
          ],
          [
           "Becky G",
           161172707
          ],
          [
           "Nina Chuba",
           161145820
          ],
          [
           "Faouzia",
           160979905
          ],
          [
           "Post Malone",
           160305133
          ],
          [
           "Lah Pat",
           160163510
          ],
          [
           "AP Dhillon",
           159980783
          ],
          [
           "Soolking",
           159676691
          ],
          [
           "LE SSERAFIM",
           159256689
          ],
          [
           "Zara Larsson",
           159051363
          ],
          [
           "Bizarrap",
           158017957
          ],
          [
           "Noah Kahan",
           157881582
          ],
          [
           "GloRilla",
           157806193
          ],
          [
           "Zach Bryan",
           157676395
          ],
          [
           "Young Nudy",
           157446814
          ],
          [
           "TAEYANG",
           156994096
          ],
          [
           "Pop Smoke",
           156697759
          ],
          [
           "Tems",
           155772691
          ],
          [
           "BigXthaPlug",
           155648648
          ],
          [
           "Chris Stapleton",
           155443055
          ],
          [
           "Gorillaz",
           155399041
          ],
          [
           "Davido",
           155390490
          ],
          [
           "NLE Choppa",
           155142115
          ],
          [
           "Julianno Sosa",
           155050178
          ],
          [
           "Stray Kids",
           154592041
          ],
          [
           "Anuel AA",
           154250706
          ],
          [
           "MC Rogerinho",
           154127881
          ],
          [
           "Ninho",
           154120297
          ],
          [
           "Dei V",
           154018930
          ],
          [
           "1da Banton",
           154010050
          ],
          [
           "Jack Harlow",
           153857576
          ],
          [
           "4batz",
           153364964
          ],
          [
           "Morad",
           153262121
          ],
          [
           "DUSTY LOCANE",
           153213678
          ],
          [
           "Lola Indigo",
           153105498
          ],
          [
           "Wale",
           153042459
          ],
          [
           "Yeat",
           152999496
          ],
          [
           "Don Toliver",
           152597421
          ],
          [
           "SDM",
           152546936
          ],
          [
           "Burna Boy",
           152289860
          ],
          [
           "Kendrick Lamar",
           151507054
          ],
          [
           "RADWIMPS",
           151179942
          ],
          [
           "Jazzy",
           150463218
          ],
          [
           "Karan Aujla",
           150073848
          ],
          [
           "BUNT.",
           149986283
          ],
          [
           "Dermot Kennedy",
           149237160
          ],
          [
           "A1 x J1",
           148855365
          ],
          [
           "Dominic Fike",
           148686610
          ],
          [
           "El Alfa",
           148677837
          ],
          [
           "Nicki Minaj",
           148574146
          ],
          [
           "Sidhu Moose Wala",
           146988095
          ],
          [
           "Sefo",
           146709792
          ],
          [
           "IVE",
           146489854
          ],
          [
           "Lewis Capaldi",
           146341441
          ],
          [
           "Arijit Singh",
           145467020
          ],
          [
           "Codiciado",
           145135597
          ],
          [
           "Erica Banks",
           145000664
          ],
          [
           "Neha Kakkar",
           144985656
          ],
          [
           "Lil Durk",
           144889291
          ],
          [
           "Bad Bunny",
           144801283
          ],
          [
           "Tiago PZK",
           144493101
          ],
          [
           "KAI",
           144026886
          ],
          [
           "Rauw Alejandro",
           143542362
          ],
          [
           "Jelly Roll",
           143528699
          ],
          [
           "Jason Aldean",
           143447350
          ],
          [
           "Tai Verdes",
           143421888
          ],
          [
           "Muni Long",
           142945230
          ],
          [
           "Lil Yachty",
           142817891
          ],
          [
           "Shouse",
           142809304
          ],
          [
           "Kylie Minogue",
           142783595
          ],
          [
           "J Hus",
           142574143
          ],
          [
           "Warren Zeiders",
           142512477
          ],
          [
           "Rema",
           142352659
          ],
          [
           "The Kolors",
           142141861
          ],
          [
           "Morad",
           142131977
          ],
          [
           "Wizkid",
           142075177
          ],
          [
           "LE SSERAFIM",
           141803939
          ],
          [
           "Standly",
           141747648
          ],
          [
           "Tyler, The Creator",
           141377619
          ],
          [
           "Semicenk",
           141236846
          ],
          [
           "wave to earth",
           140228805
          ],
          [
           "Morgan Wallen",
           140137839
          ],
          [
           "BM",
           139873877
          ],
          [
           "Jonas Brothers",
           139105802
          ],
          [
           "El Jordan 23",
           138986512
          ],
          [
           "Iniko",
           138403252
          ],
          [
           "Moneybagg Yo",
           138100044
          ],
          [
           "Rod Wave",
           137924605
          ],
          [
           "Switch Disco",
           137897920
          ],
          [
           "The Kid LAROI",
           137894955
          ],
          [
           "El Alfa",
           137720938
          ],
          [
           "Falling In Reverse",
           137204273
          ],
          [
           "Jengi",
           137020536
          ],
          [
           "Chayanne",
           136724343
          ],
          [
           "Marnik",
           136709117
          ],
          [
           "Lola Amour",
           136169854
          ],
          [
           "Sleep Token",
           135976140
          ],
          [
           "Young Miko",
           135841710
          ],
          [
           "Migos",
           135665686
          ],
          [
           "Nicki Nicole",
           135465283
          ],
          [
           "Burna Boy",
           134909945
          ],
          [
           "Jon Pardi",
           134725621
          ],
          [
           "Victor Thompson",
           134208327
          ],
          [
           "aespa",
           133536914
          ],
          [
           "Victony",
           133353888
          ],
          [
           "Ir Sais",
           133061000
          ],
          [
           "Gunna",
           133039977
          ],
          [
           "Lil Durk",
           132870060
          ],
          [
           "Becky G",
           131938548
          ],
          [
           "NAV",
           130902100
          ],
          [
           "Central Cee",
           130784398
          ],
          [
           "Lost Frequencies",
           130424397
          ],
          [
           "Izzamuzzic",
           130356067
          ],
          [
           "Post Malone",
           130236751
          ],
          [
           "Grupo Frontera",
           129573063
          ],
          [
           "Jon Pardi",
           129531779
          ],
          [
           "Fred again..",
           129427492
          ],
          [
           "Peso Pluma",
           129370457
          ],
          [
           "Badshah",
           129283318
          ],
          [
           "310babii",
           128855739
          ],
          [
           "Tiago PZK",
           128833634
          ],
          [
           "Future",
           128787729
          ],
          [
           "Chris Lebron",
           128669257
          ],
          [
           "Miksu / Macloud",
           128484709
          ],
          [
           "Ambjaay",
           128411645
          ],
          [
           "Red Hot Chili Peppers",
           128264127
          ],
          [
           "That Mexican OT",
           128049237
          ],
          [
           "Zara Larsson",
           128024416
          ],
          [
           "Madison Beer",
           127909006
          ],
          [
           "charlieonnafriday",
           127772228
          ],
          [
           "NF",
           127558523
          ],
          [
           "La Joaqui",
           127392768
          ],
          [
           "HARDY",
           127223430
          ],
          [
           "Tom Odell",
           126929488
          ],
          [
           "Dhvani Bhanushali",
           126921341
          ],
          [
           "Drake",
           126296463
          ],
          [
           "XG",
           125943110
          ],
          [
           "Shakira",
           125560682
          ],
          [
           "SAIKO",
           125451295
          ],
          [
           "Troye Sivan",
           125169958
          ],
          [
           "Chris Brown",
           125056212
          ],
          [
           "BABYMONSTER",
           124893397
          ],
          [
           "Drake",
           123630149
          ],
          [
           "Drake",
           123522254
          ],
          [
           "Minelli",
           123191456
          ],
          [
           "John Summit",
           123058600
          ],
          [
           "ODESZA",
           122957173
          ],
          [
           "Falling In Reverse",
           122568479
          ],
          [
           "El Alfa",
           122568157
          ],
          [
           "BABYMONSTER",
           121497542
          ],
          [
           "Lil Baby",
           121466936
          ],
          [
           "JVKE",
           121391098
          ],
          [
           "Melanie Martinez",
           121386649
          ],
          [
           "Zerb",
           121234000
          ],
          [
           "Duke & Jones",
           121214716
          ],
          [
           "venbee",
           120785398
          ],
          [
           "Baby Gang",
           120605300
          ],
          [
           "Nej",
           120054361
          ],
          [
           "PSY",
           119666188
          ],
          [
           "Fireboy DML",
           118971684
          ],
          [
           "Bad Bunny",
           118835954
          ],
          [
           "Taylor Swift",
           118707702
          ],
          [
           "Young Miko",
           118689822
          ],
          [
           "Aliyah's Interlude",
           118193328
          ],
          [
           "Wizkid",
           117819788
          ],
          [
           "Lauv",
           117717973
          ],
          [
           "TWICE",
           117186345
          ],
          [
           "MK",
           116992202
          ],
          [
           "Old Dominion",
           116035112
          ],
          [
           "Joeboy",
           115647691
          ],
          [
           "Lil Tjay",
           115581471
          ],
          [
           "aespa",
           115406939
          ],
          [
           "Harrdy Sandhu",
           115373265
          ],
          [
           "BLACKPINK",
           115237552
          ],
          [
           "Lil Tecca",
           114669893
          ],
          [
           "Chencho Corleone",
           113402349
          ],
          [
           "Guru Randhawa",
           112851903
          ],
          [
           "twocolors",
           112737954
          ],
          [
           "Young Thug",
           112624663
          ],
          [
           "Alok",
           111266488
          ],
          [
           "Joost",
           111170278
          ],
          [
           "Teddy Swims",
           111155129
          ],
          [
           "Rema",
           111124873
          ],
          [
           "Joel Corry",
           110545738
          ],
          [
           "Yung Yury",
           110533607
          ],
          [
           "FelixThe1st",
           110291303
          ],
          [
           "Brisa Star",
           110101642
          ],
          [
           "Bebe Rexha",
           109868838
          ],
          [
           "H.E.R.",
           108241832
          ],
          [
           "Quevedo",
           108163942
          ],
          [
           "Ruger",
           108133711
          ],
          [
           "SIRA",
           107950388
          ],
          [
           "Cody Johnson",
           107754524
          ],
          [
           "Emilia",
           107659341
          ],
          [
           "Alok",
           107592134
          ],
          [
           "Anne-Marie",
           107435709
          ],
          [
           "Feid",
           106899723
          ],
          [
           "Post Malone",
           106740885
          ],
          [
           "Lauty Gram",
           105604106
          ],
          [
           "FISHER",
           105178211
          ],
          [
           "Restricted",
           104493081
          ],
          [
           "Lil Durk",
           104411097
          ],
          [
           "Parker McCollum",
           103858433
          ],
          [
           "Emilia",
           103722826
          ],
          [
           "Polo G",
           103549505
          ],
          [
           "Doechii",
           102772879
          ],
          [
           "Yash Narvekar",
           102668822
          ],
          [
           "TOMORROW X TOGETHER",
           102643968
          ],
          [
           "Destroy Lonely",
           100973437
          ],
          [
           "Tems",
           100830964
          ],
          [
           "Nate Smith",
           100360956
          ],
          [
           "La Joaqui",
           100335960
          ],
          [
           "Hannah Laing",
           100186243
          ],
          [
           "Romeo Santos",
           99640817
          ],
          [
           "Durdenhauer",
           99316941
          ],
          [
           "Dylan Scott",
           98538888
          ],
          [
           "Gorillaz",
           98108741
          ],
          [
           "Kikimoteleba",
           97902676
          ],
          [
           "IVE",
           97738080
          ],
          [
           "Bring Me The Horizon",
           96922687
          ],
          [
           "Baani Sandhu",
           96829196
          ],
          [
           "NMIXX",
           96439278
          ],
          [
           "Gusttavo Lima",
           96328058
          ],
          [
           "Sexyy Red",
           96289114
          ],
          [
           "ITZY",
           95952617
          ],
          [
           "Luis Alfonso Partida El Yaki",
           94677649
          ],
          [
           "Marshmello",
           94359848
          ],
          [
           "Anirudh Ravichander",
           94152948
          ],
          [
           "TOMORROW X TOGETHER",
           93990459
          ],
          [
           "Param Singh",
           92896589
          ],
          [
           "Morray",
           92536126
          ],
          [
           "Pharrell Williams",
           92424493
          ],
          [
           "Foudeqush",
           92384851
          ],
          [
           "Pashanim",
           91200208
          ],
          [
           "Tyla",
           91143676
          ],
          [
           "elijah woods",
           91124161
          ],
          [
           "Sefo",
           90838757
          ],
          [
           "Central Cee",
           90676573
          ],
          [
           "Popp Hunna",
           90383224
          ],
          [
           "Sexyy Red",
           89362910
          ],
          [
           "The La Planta",
           89073254
          ],
          [
           "JEON SOMI",
           88499180
          ],
          [
           "21 Savage",
           88224186
          ],
          [
           "NLE Choppa",
           88138772
          ],
          [
           "Favï¿",
           88014813
          ],
          [
           "Soulja Boy",
           87813373
          ],
          [
           "JayO",
           87001628
          ],
          [
           "Deep Chills",
           86943003
          ],
          [
           "Neha Kakkar",
           86910140
          ],
          [
           "Lil Yachty",
           86574948
          ],
          [
           "Sonny Fodera",
           86564714
          ],
          [
           "Kizz Daniel",
           86516910
          ],
          [
           "Annalisa",
           86387703
          ],
          [
           "Rod Wave",
           86327319
          ],
          [
           "Badshah",
           86295058
          ],
          [
           "L7NNON",
           86262202
          ],
          [
           "Makar",
           86132200
          ],
          [
           "Kizz Daniel",
           86103527
          ],
          [
           "Tyler Childers",
           86069322
          ],
          [
           "Bayanni",
           85207310
          ],
          [
           "Asake",
           84655991
          ],
          [
           "Richard Carter",
           84141101
          ],
          [
           "Creeds",
           83801298
          ],
          [
           "Mike Posner",
           83366020
          ],
          [
           "Mark Ambor",
           81632951
          ],
          [
           "Maria Becerra",
           81319633
          ],
          [
           "Walker Hayes",
           80899019
          ],
          [
           "Nio Garcia",
           80772450
          ],
          [
           "Meghan Trainor",
           79738242
          ],
          [
           "Kim Petras",
           79045342
          ],
          [
           "KeBlack",
           76805130
          ],
          [
           "Alan Walker",
           76323780
          ],
          [
           "Dezko",
           76305266
          ],
          [
           "King Savagge",
           76078240
          ],
          [
           "DPR IAN",
           76033359
          ],
          [
           "DDG",
           76004507
          ],
          [
           "42 Dugg",
           75717094
          ],
          [
           "IShowSpeed",
           75577819
          ],
          [
           "Eli Brown",
           75309953
          ],
          [
           "DYSTINCT",
           74769930
          ],
          [
           "LUDMILLA",
           74338196
          ],
          [
           "Lil Uzi Vert",
           73140012
          ],
          [
           "Karan Sehmbi",
           72849488
          ],
          [
           "AKMU",
           72468277
          ],
          [
           "aespa",
           72446983
          ],
          [
           "Billy Gillies",
           71722674
          ],
          [
           "Quavo",
           70868414
          ],
          [
           "Chris Brown",
           70652012
          ],
          [
           "DaBaby",
           70418045
          ],
          [
           "DYSTINCT",
           69208147
          ],
          [
           "Asake",
           68990989
          ],
          [
           "Loreen",
           68785555
          ],
          [
           "Hitkidd",
           68460285
          ],
          [
           "Nathan Dawe",
           68189858
          ],
          [
           "Garry Sandhu",
           67999897
          ],
          [
           "Valentino Khan",
           67890975
          ],
          [
           "The Beatles",
           66843778
          ],
          [
           "Heijan",
           66701855
          ],
          [
           "Lil Baby",
           66617153
          ],
          [
           "Nicki Minaj",
           66513420
          ],
          [
           "Sam Hunt",
           66067682
          ],
          [
           "Russ",
           65786757
          ],
          [
           "Davido",
           65174919
          ],
          [
           "Ana Mena",
           64860954
          ],
          [
           "Latto",
           64851689
          ],
          [
           "Prinz",
           64747926
          ],
          [
           "Sleepy Hallow",
           63607535
          ],
          [
           "Kodak Black",
           62323136
          ],
          [
           "Goya Menor",
           62243984
          ],
          [
           "blink-182",
           62097485
          ],
          [
           "Jawsh 685",
           61382407
          ],
          [
           "Semicenk",
           59964248
          ],
          [
           "Ella Mai",
           59929910
          ],
          [
           "Peezy",
           59038013
          ],
          [
           "Anitta",
           58594676
          ],
          [
           "Yung Bleu",
           58539080
          ],
          [
           "Mavins",
           58523865
          ],
          [
           "Offset",
           58058696
          ],
          [
           "Ruger",
           56670689
          ],
          [
           "LOSTBOYJAY",
           56645454
          ],
          [
           "Moneybagg Yo",
           56051407
          ],
          [
           "Sada Baby",
           55312275
          ],
          [
           "Brent Faiyaz",
           54763093
          ],
          [
           "Byron Messia",
           54683202
          ],
          [
           "Balti",
           54678867
          ],
          [
           "USHER",
           53825007
          ],
          [
           "Nicky Jam",
           53809529
          ],
          [
           "Camidoh",
           52418564
          ],
          [
           "Coco Jones",
           52106559
          ],
          [
           "Ozuna",
           49549021
          ],
          [
           "Crayon",
           48581084
          ],
          [
           "James Hype",
           48573000
          ],
          [
           "Offset",
           48339964
          ],
          [
           "Eliza Rose",
           47723324
          ],
          [
           "El Chombo",
           47325533
          ],
          [
           "Jorja Smith",
           46615691
          ],
          [
           "JZyNo",
           46431158
          ],
          [
           "Moha K",
           46356684
          ],
          [
           "Rae Sremmurd",
           45382812
          ],
          [
           "Burna Boy",
           44751795
          ],
          [
           "Mawell",
           44557662
          ],
          [
           "Ayra Starr",
           44122161
          ],
          [
           "Digga D",
           43078993
          ],
          [
           "Parker McCollum",
           42332727
          ],
          [
           "Marshmello",
           42151775
          ],
          [
           "Chris Brown",
           41255598
          ],
          [
           "Kouz1",
           41059494
          ],
          [
           "Bossman Dlow",
           39401314
          ],
          [
           "J Balvin",
           38622215
          ],
          [
           "Fridayy",
           36398813
          ],
          [
           "Ciara",
           36007719
          ],
          [
           "Grupo la Cumbia",
           35324338
          ],
          [
           "Coi Leray",
           34116353
          ],
          [
           "King Promise",
           34026239
          ],
          [
           "Conkarah",
           27747363
          ],
          [
           "Liamsi",
           24215252
          ],
          [
           "Mavokali",
           21667023
          ],
          [
           "Spyro",
           21236593
          ],
          [
           "Emkal",
           17992999
          ],
          [
           "Kevin MacLeod",
           11477477
          ]
         ],
         "hovertemplate": "<b>%{hovertext}</b><br><br>archetype=Radio & Playlist Hit<br>Principal Component 1 (Overall Scale)=%{x}<br>Principal Component 2 (Performance Style)=%{y}<br>artist=%{customdata[0]}<br>spotify_streams=%{customdata[1]}<extra></extra>",
         "hovertext": [
          "Blinding Lights",
          "Shape of You",
          "Someone You Loved",
          "Sunflower - Spider-Man: Into the Spider-Verse",
          "As It Was",
          "Starboy",
          "One Dance",
          "Dance Monkey",
          "Believer",
          "Heat Waves",
          "rockstar (feat. 21 Savage)",
          "Closer",
          "Say You Won't Let Go",
          "Watermelon Sugar",
          "Don't Start Now",
          "Something Just Like This",
          "Lucid Dreams",
          "Riptide",
          "God's Plan",
          "Photograph",
          "bad guy",
          "Thinking out Loud",
          "Circles",
          "Counting Stars",
          "Shallow",
          "Love Yourself",
          "Can't Hold Us - feat. Ray Dalton",
          "goosebumps",
          "Thunder",
          "All of Me",
          "Wake Me Up",
          "The Hills",
          "Demons",
          "7 rings",
          "No Role Modelz",
          "HUMBLE.",
          "SAD!",
          "Lose Yourself - From \"8 Mile\" Soundtrack",
          "Cruel Summer",
          "I Wanna Be Yours",
          "One Kiss (with Dua Lipa)",
          "Mr. Brightside",
          "Treat You Better",
          "Let Me Love You",
          "Without Me",
          "Happier",
          "SICKO MODE",
          "XO Tour Llif3",
          "Viva La Vida",
          "Just the Way You Are",
          "New Rules",
          "The Night We Met",
          "Sorry",
          "Stay With Me",
          "Levitating (feat. DaBaby)",
          "Havana (feat. Young Thug)",
          "Too Good At Goodbyes",
          "There's Nothing Holdin' Me Back",
          "Smells Like Teen Spirit",
          "INDUSTRY BABY (feat. Jack Harlow)",
          "Cold Heart - PNAU Remix",
          "Memories",
          "Locked Out Of Heaven",
          "Uptown Funk",
          "Congratulations",
          "Dakiti",
          "'Till I Collapse",
          "Better Now",
          "I Took A Pill In Ibiza - Seeb Remix",
          "Faded",
          "Roses - Imanbek Remix",
          "Someone Like You",
          "Before You Go",
          "The Box",
          "Stitches",
          "The Scientist",
          "See You Again (feat. Charlie Puth)",
          "Moonlight",
          "I'm Not The Only One",
          "Sweet Child O' Mine",
          "thank u, next",
          "I'm Yours",
          "Dynamite",
          "Mood (feat. iann dior)",
          "when the party's over",
          "Sugar",
          "Radioactive",
          "Blank Space",
          "Payphone",
          "Kiss Me More (feat. SZA)",
          "Me Porto Bonito",
          "All I Want for Christmas Is You",
          "The Real Slim Shady",
          "Pumped Up Kicks",
          "Youngblood",
          "I Like Me Better",
          "Call Out My Name",
          "The Nights",
          "Cheap Thrills",
          "Heathens",
          "Bad Habits",
          "Somebody That I Used To Know",
          "Be Alright",
          "I Feel It Coming",
          "Can't Feel My Face",
          "Despacito",
          "This Is What You Came For",
          "Eastside (with Halsey & Khalid)",
          "CAN'T STOP THE FEELING! (Original Song From Dreamworks Animation's \"Trolls\")",
          "Chandelier",
          "La Bachata",
          "Easy On Me",
          "Despacito - Remix",
          "Quevedo: Bzrp Music Sessions, Vol. 52",
          "Shut Up and Dance",
          "Why'd You Only Call Me When You're High?",
          "Dusk Till Dawn - Radio Edit",
          "Mockingbird",
          "Wow.",
          "Maps",
          "Heather",
          "Seven (feat. Latto) (Explicit Ver.)",
          "Adore You",
          "Sweet but Psycho",
          "Cheerleader - Felix Jaehn Remix Radio Edit",
          "505",
          "I'm Good (Blue)",
          "Seven Nation Army",
          "Danza Kuduro",
          "death bed (coffee for your head)",
          "We Found Love",
          "A Thousand Years",
          "Girls Like You (feat. Cardi B)",
          "The Less I Know The Better",
          "ROCKSTAR (feat. Roddy Ricch)",
          "All The Stars (with SZA)",
          "I Fall Apart",
          "Titanium (feat. Sia)",
          "Hips Don't Lie (feat. Wyclef Jean)",
          "Passionfruit",
          "HIGHEST IN THE ROOM",
          "I Like It",
          "Cake By The Ocean",
          "All Girls Are The Same",
          "Fuck Love (feat. Trippie Redd)",
          "Redbone",
          "Peaches (feat. Daniel Caesar & Giveon)",
          "See You Again (feat. Kali Uchis)",
          "I Ain't Worried",
          "deja vu",
          "Woman",
          "Falling",
          "What Do You Mean?",
          "Mask Off",
          "Set Fire to the Rain",
          "Silence",
          "Everybody Dies In Their Nightmares",
          "Pompeii",
          "Party In The U.S.A.",
          "Ghost",
          "IDGAF",
          "Taki Taki (feat. Selena Gomez, Ozuna & Cardi B)",
          "Shivers",
          "traitor",
          "Anti-Hero",
          "Dandelions",
          "Halo",
          "Unholy (feat. Kim Petras)",
          "Hello",
          "Save Your Tears (with Ariana Grande) (Remix)",
          "Night Changes",
          "Umbrella",
          "Love Me Like You Do - From \"Fifty Shades Of Grey\"",
          "Sign of the Times",
          "Love The Way You Lie",
          "2002",
          "Rockabye (feat. Sean Paul & Anne-Marie)",
          "Young Dumb & Broke",
          "Old Town Road - Remix",
          "Psycho",
          "Ric Flair Drip (with Metro Boomin)",
          "The Middle",
          "Pepas",
          "Summer",
          "Tusa",
          "Drip Too Hard (Lil Baby & Gunna)",
          "Needed Me",
          "Love On The Brain",
          "Mi Gente",
          "Timber (feat. Ke$ha)",
          "Money Trees",
          "ROXANNE",
          "Let You Down",
          "One Last Time",
          "Moves Like Jagger - Studio Recording From The Voice Performance",
          "Stolen Dance",
          "Symphony (feat. Zara Larsson)",
          "Godzilla (feat. Juice WRLD)",
          "In The Name Of Love",
          "Callaita",
          "Dark Horse",
          "Summertime Sadness",
          "Hope",
          "you broke me first",
          "Hall of Fame (feat. will.i.am)",
          "FRIENDS",
          "Ni**as In Paris",
          "Daddy Issues",
          "positions",
          "In My Mind",
          "Young, Wild & Free (feat. Bruno Mars)",
          "It Ain't Me (with Selena Gomez)",
          "Work from Home (feat. Ty Dolla $ign)",
          "Lush Life",
          "Side To Side",
          "Sex on Fire",
          "I Gotta Feeling",
          "Scars To Your Beautiful",
          "Ojitos Lindos",
          "Diamonds",
          "Lover",
          "Sucker",
          "I Love You So",
          "Shake It Off",
          "Work",
          "Yonaguni",
          "Waiting For Love",
          "Call Me Maybe",
          "Calm Down (with Selena Gomez)",
          "In My Feelings",
          "BUTTERFLY EFFECT",
          "Happy - From \"Despicable Me 2\"",
          "Location",
          "Into You",
          "No Me Conoce - Remix",
          "changes",
          "Animals",
          "Best Part (feat. H.E.R.)",
          "Wolves",
          "Taste (feat. Offset)",
          "Ransom",
          "Better",
          "Con Calma",
          "Mercy",
          "Classic",
          "Ride It",
          "Dancing With A Stranger (with Normani)",
          "More Than You Know",
          "LOVE. FEAT. ZACARI.",
          "Castle on the Hill",
          "Todo De Ti",
          "Creepin' (with The Weeknd & 21 Savage)",
          "Bang Bang",
          "Sure Thing",
          "Hotline Bling",
          "1-800-273-8255",
          "no tears left to cry",
          "Rather Be (feat. Jess Glynne)",
          "WAP (feat. Megan Thee Stallion)",
          "Happier Than Ever",
          "Lemonade",
          "PILLOWTALK",
          "Stereo Hearts (feat. Adam Levine)",
          "MIA (feat. Drake)",
          "Heartless",
          "Dark Red",
          "Grenade",
          "Leave The Door Open",
          "Yeah! (feat. Lil Jon & Ludacris)",
          "cardigan",
          "Robbery",
          "Apocalypse",
          "Just Give Me a Reason",
          "Pink + White",
          "Blueberry Faygo",
          "Efecto",
          "Light It Up (feat. Nyla & Fuse ODG) [Remix]",
          "Paradise",
          "SLOW DANCING IN THE DARK",
          "Safe And Sound",
          "MIDDLE CHILD",
          "Poker Face",
          "Unstoppable",
          "When We Were Young",
          "Time of Our Lives",
          "Me, Myself & I",
          "Nice For What",
          "Story of My Life",
          "Ophelia",
          "Ho Hey",
          "Always Remember Us This Way",
          "What Makes You Beautiful",
          "hot girl bummer",
          "Goodbyes (feat. Young Thug)",
          "Glimpse of Us",
          "greedy",
          "Butter",
          "Whatever It Takes",
          "Young And Beautiful",
          "Scared To Be Lonely",
          "Astronaut In The Ocean",
          "Under The Influence",
          "Praise The Lord (Da Shine) (feat. Skepta)",
          "Wet Dreamz",
          "Life Is Good (feat. Drake)",
          "Royals",
          "Dancing On My Own",
          "Bad Romance",
          "Natural",
          "Bones",
          "Stay (with Alessia Cara)",
          "Where Are You Now",
          "Lose You To Love Me",
          "Style",
          "Ella Baila Sola",
          "Issues",
          "What Lovers Do (feat. SZA)",
          "TiK ToK",
          "Say So",
          "Break My Heart",
          "Let It Go",
          "Head & Heart (feat. MNEK)",
          "Promiscuous",
          "MONEY",
          "Paris",
          "Body",
          "PROVENZA",
          "Centuries",
          "Arcade",
          "Trap Queen",
          "Panda",
          "Need To Know",
          "China",
          "Intentions (feat. Quavo)",
          "Boy With Luv (feat. Halsey)",
          "Like Crazy",
          "Wild Thoughts",
          "Give Me Everything (feat. Ne-Yo, Afrojack & Nayer)",
          "No Lie",
          "Heartbreak Anniversary",
          "DNA.",
          "Sorry Not Sorry",
          "How Deep Is Your Love",
          "Roar",
          "Falling Down - Bonus Track",
          "Calma - Remix",
          "Look What You Made Me Do",
          "Bank Account",
          "Fast Car",
          "If the World Was Ending - feat. Julia Michaels",
          "Last Friday Night (T.G.I.F.)",
          "Budapest",
          "Romantic Homicide",
          "Bruises",
          "White Iverson",
          "FourFiveSeconds",
          "Bring Me To Life",
          "Outside (feat. Ellie Goulding)",
          "Breaking Me",
          "abcdefu",
          "golden hour",
          "Daylight",
          "What You Know Bout Love",
          "Starships",
          "Drag Me Down",
          "It's You",
          "This Girl (Kungs Vs. Cookin' On 3 Burners)",
          "Dangerous Woman",
          "Stuck with U (with Justin Bieber)",
          "Feels (feat. Pharrell Williams, Katy Perry & Big Sean)",
          "For The Night (feat. Lil Baby & DaBaby)",
          "Nonstop",
          "Savage Love (Laxed - Siren Beat)",
          "Yes Indeed",
          "Moscow Mule",
          "Firestone",
          "Good Days",
          "MIDDLE OF THE NIGHT",
          "Father Stretch My Hands Pt. 1",
          "august",
          "Space Song",
          "La Curiosidad",
          "idontwannabeyouanymore",
          "Freaks",
          "Don't You Worry Child - Radio Edit",
          "Bad Habit",
          "Only Girl (In The World)",
          "Midnight City",
          "Wait a Minute!",
          "Prayer in C - Robin Schulz Radio Edit",
          "Without You (feat. Sandro Cavazza)",
          "ZEZE (feat. Travis Scott & Offset)",
          "Dior",
          "Middle",
          "Firework",
          "God is a woman",
          "Send My Love (To Your New Lover)",
          "Say Something",
          "Just Dance",
          "THATS WHAT I WANT",
          "Rain On Me (with Ariana Grande)",
          "Like I'm Gonna Lose You (feat. John Legend)",
          "Infinity",
          "Toosie Slide",
          "favorite crime",
          "Low (feat. T-Pain)",
          "Streets",
          "Bad Liar",
          "Mo Bamba",
          "Too Good",
          "Little Talks",
          "Perfect Strangers",
          "Mirrors",
          "Roses",
          "Slide",
          "You Are The Reason",
          "Here With Me",
          "Solo (feat. Demi Lovato)",
          "SNAP",
          "Promises (with Sam Smith)",
          "we fell in love in october",
          "How You Like That",
          "La Bebe - Remix",
          "No Guidance (feat. Drake)",
          "TQG",
          "Get You (feat. Kali Uchis)",
          "Smack That - Dirty",
          "Empire State Of Mind",
          "Desesperados",
          "Until I Found You",
          "Latch",
          "Don't Call Me Up",
          "Reminder",
          "If I Can't Have You",
          "bury a friend",
          "My Way",
          "Snooze",
          "Human",
          "Not Afraid",
          "Old Town Road",
          "un x100to",
          "Hey Brother",
          "20 Min",
          "Chantaje",
          "Strip That Down (feat. Quavo)",
          "Best Day Of My Life",
          "vampire",
          "My Love Mine All Mine",
          "Wake Up in the Sky",
          "I Was Never There",
          "Piece Of Your Heart",
          "Vete",
          "Feel So Close - Radio Edit",
          "Locked Away (feat. Adam Levine)",
          "LA NOCHE DE ANOCHE",
          "Truth Hurts",
          "Exchange",
          "Rewrite The Stars",
          "Delicate",
          "3 Nights",
          "Hey Mor",
          "Look Alive (feat. Drake)",
          "Often",
          "X",
          "Friday (feat. Mufasa & Hypeman) - Dopamine Re-Edit",
          "34+35",
          "July",
          "break up with your girlfriend, i'm bored",
          "How Do You Sleep?",
          "Never Forget You",
          "Black Beatles",
          "Jimmy Cooks (feat. 21 Savage)",
          "We Can't Stop",
          "You're Gonna Go Far, Kid",
          "Nevermind",
          "Talk (feat. Disclosure)",
          "Lalala",
          "Fake Love",
          "Physical",
          "Bellyache",
          "Stick Season",
          "Am I Wrong",
          "Stole the Show",
          "Wildest Dreams",
          "Laugh Now Cry Later (feat. Lil Durk)",
          "EARFQUAKE",
          "RITMO (Bad Boys For Life)",
          "Soltera - Remix",
          "iSpy (feat. Lil Yachty)",
          "Late Night Talking",
          "Come & Go (with Marshmello)",
          "the remedy for a broken heart (why am I so in love)",
          "This Town",
          "Mama",
          "Work Out",
          "Kings & Queens",
          "Candy Shop",
          "Tennessee Whiskey",
          "Baby",
          "Sunday Best",
          "The Lazy Song",
          "a lot",
          "Him & I (with Halsey)",
          "Or Nah (feat. The Weeknd, Wiz Khalifa and DJ Mustard) - Remix",
          "Bound 2",
          "Snowman",
          "Shakira: Bzrp Music Sessions, Vol. 53",
          "Levitating",
          "Don't Wanna Know (feat. Kendrick Lamar)",
          "Slow Hands",
          "Higher Love",
          "After Hours",
          "Nothing Breaks Like a Heart (feat. Miley Cyrus)",
          "Replay",
          "In Your Eyes",
          "Angels Like You",
          "One Of The Girls (with JENNIE, Lily Rose Depp)",
          "Love Lies (with Normani)",
          "Bad and Boujee (feat. Lil Uzi Vert)",
          "You Need To Calm Down",
          "Blame",
          "Lose Control",
          "Felices los 4",
          "Shotgun",
          "i love you",
          "Wrecking Ball",
          "Bandit (with YoungBoy Never Broke Again)",
          "LALA",
          "Elastic Heart",
          "Memories (feat. Kid Cudi)",
          "RAPSTAR",
          "Walking On A Dream",
          "No Idea",
          "Last Night",
          "The One That Got Away",
          "Habits (Stay High)",
          "Pray For Me",
          "Space Cadet (feat. Gunna)",
          "Love Me Harder",
          "Adan y Eva",
          "La Santa",
          "Softcore",
          "Lo Siento BB:/ (with Bad Bunny & Julieta Venegas)",
          "ily (i love you baby) (feat. Emilee)",
          "Otra vez (feat. J Balvin)",
          "Golden",
          "MAMIII",
          "Bam Bam (feat. Ed Sheeran)",
          "Ballin' (with Roddy Ricch)",
          "Wishing Well",
          "Beautiful Things",
          "Break Free",
          "Glorious (feat. Skylar Grey)",
          "Lost in the Fire (feat. The Weeknd)",
          "Runaway (U & I)",
          "Bodak Yellow",
          "What Was I Made For? [From The Motion Picture \"Barbie\"]",
          "Something in the Orange",
          "Sunroof",
          "Criminal",
          "Wild Ones (feat. Sia)",
          "Hot N Cold",
          "i'm so tired...",
          "One More Night",
          "Martin & Gina",
          "Low Life",
          "Runaway",
          "jealousy, jealousy",
          "Lean Wit Me",
          "Boss Bitch",
          "Body Like A Back Road",
          "Rise",
          "No Money",
          "Classy 101",
          "Safaera",
          "BICHOTA",
          "Shut up My Moms Calling",
          "Problem",
          "Never Be the Same",
          "Cupid - Twin Ver.",
          "Moth To A Flame (with The Weeknd)",
          "you should see me in a crown",
          "Dance The Night - From Barbie The Album",
          "Dilemma",
          "The Way I Are",
          "Pop Out (feat. Lil Tjay)",
          "Dancin (feat. Luvli) - Krono Remix",
          "Super Bass",
          "love nwantiti (ah ah ah)",
          "Boy's a Liar Pt. 2",
          "I Won't Give Up",
          "QLONA",
          "Broccoli (feat. Lil Yachty)",
          "Hold On",
          "About Damn Time",
          "Se Preparï¿",
          "Maniac",
          "willow",
          "Leave Before You Love Me (with Jonas Brothers)",
          "Chill Bill",
          "Are You Bored Yet? (feat. Clairo)",
          "All Too Well (10 Minute Version) (Taylor's Version) (From The Vault)",
          "DJ Got Us Fallin' In Love",
          "Lost Boy",
          "Someone To You",
          "I Knew You Were Trouble.",
          "Yandel 150",
          "Lost on You",
          "Day 'N' Nite (nightmare)",
          "Formula",
          "Everybody Talks",
          "Magnolia",
          "Neverita",
          "You Right",
          "River (feat. Ed Sheeran)",
          "UN DIA (ONE DAY) (Feat. Tainy)",
          "Beautiful Crazy",
          "I Like You (A Happier Song) (with Doja Cat)",
          "Beauty And A Beat",
          "double take",
          "Heart Attack",
          "Million Reasons",
          "comethru",
          "Loco Contigo (feat. J. Balvin & Tyga)",
          "BOP",
          "Kill This Love",
          "Jumpman",
          "Lonely (with benny blanco)",
          "WHATS POPPIN",
          "Fair Trade (with Travis Scott)",
          "Sex, Drugs, Etc.",
          "First Class",
          "Vaina Loca",
          "Nonsense",
          "Si Veo a Tu Mamï¿",
          "Love Galore",
          "Worth It",
          "All About That Bass",
          "Swervin (feat. 6ix9ine)",
          "Whistle",
          "Sail",
          "Popular (with Playboi Carti & Madonna) - Music from the HBO Original Series",
          "Rich Flex",
          "2055",
          "Malibu",
          "This Is Me",
          "Shower",
          "boyfriend (with Social House)",
          "679 (feat. Remy Boyz)",
          "When It Rains It Pours",
          "The Color Violet",
          "QUE PRETENDES",
          "Whiskey Glasses",
          "Therefore I Am",
          "Do It To It",
          "Escapism.",
          "Train Wreck",
          "CUFF IT",
          "Prisoner (feat. Dua Lipa)",
          "Hold Me While You Wait",
          "Wants and Needs (feat. Lil Baby)",
          "Yummy",
          "Jealous",
          "Pursuit Of Happiness (nightmare)",
          "What About Us",
          "Venom - Music From The Motion Picture",
          "Holy (feat. Chance The Rapper)",
          "WAIT FOR U (feat. Drake & Tems)",
          "Armed And Dangerous",
          "family ties",
          "Renegades",
          "Sin Pijama",
          "Those Eyes",
          "Mood Swings (feat. Lil Tjay)",
          "Burn",
          "Amanece",
          "Volvï¿",
          "Ella Quiere Beber - Remix",
          "Walk It Talk It",
          "A Tu Merced",
          "Karma",
          "Calling My Phone",
          "Whoopty",
          "Devil Eyes",
          "Look Back At It",
          "Scream & Shout",
          "Goosebumps - Remix",
          "South of the Border (feat. Camila Cabello & Cardi B)",
          "SOS (feat. Aloe Blacc)",
          "Chicago Freestyle (feat. Giveon)",
          "Borro Cassette",
          "Caroline",
          "fukumean",
          "Secreto",
          "Let It Go - From \"Frozen\"/Soundtrack Version",
          "exile (feat. Bon Iver)",
          "Love Sosa",
          "Desconocidos",
          "Hate Me (with Juice WRLD)",
          "Te Vi",
          "Tal Vez",
          "Propuesta Indecente",
          "Strangers",
          "Yo Perreo Sola",
          "Washing Machine Heart",
          "Tarot",
          "Panini",
          "STARGAZING",
          "How Far I'll Go - From \"Moana\"",
          "Alone",
          "Supalonely",
          "Beautiful (feat. Camila Cabello)",
          "Cradles",
          "LA INOCENTE",
          "Pink Venom",
          "Me And My Broken Heart",
          "Plain Jane",
          "Knife Talk (with 21 Savage ft. Project Pat)",
          "Little Do You Know",
          "F.N",
          "Swimming Pools (Drank)",
          "Party Girl",
          "Beautiful Mistakes (feat. Megan Thee Stallion)",
          "The London (feat. J. Cole & Travis Scott)",
          "Sofia",
          "Chamber Of Reflection",
          "Wagon Wheel",
          "Noticed",
          "Pure Water (with Migos)",
          "Paradise (feat. Dermot Kennedy)",
          "In The Stars",
          "Party",
          "Normal",
          "Fancy",
          "Columbia",
          "Your Love (9PM)",
          "Baby Shark",
          "Made You Look",
          "11:00 PM",
          "Te Felicito",
          "Talk Dirty (feat. 2 Chainz)",
          "WHERE SHE GOES",
          "Life Goes On",
          "Party Rock Anthem",
          "Wasted On You",
          "TE MUDASTE",
          "POPSTAR (feat. Drake)",
          "Adicto (with Anuel AA & Ozuna)",
          "Bounce Back",
          "Lavender Haze",
          "End of Beginning",
          "Sky",
          "OUT WEST (feat. Young Thug)",
          "Lucky You (feat. Joyner Lucas)",
          "Mayores",
          "Hola - Remix",
          "Me Niego (feat. Ozuna & Wisin)",
          "YEAH RIGHT",
          "After Party",
          "Freestyle",
          "Superhero (Heroes & Villains)",
          "SUBEME LA RADIO (feat. Descemer Bueno & Zion & Lennox)",
          "My Oh My (feat. DaBaby)",
          "Losin Control",
          "I Love It (& Lil Pump)",
          "idfc",
          "Volando (Remix)",
          "DDU-DU DDU-DU",
          "Good For You",
          "Bandido",
          "Where Have You Been",
          "Go Crazy",
          "Fire On Fire",
          "La Bicicleta",
          "Skyfall - Full Length",
          "Antidote",
          "Otro Trago",
          "Sprinter",
          "Toxic",
          "Mon Amour - Remix",
          "Anyone",
          "PERRO NEGRO",
          "Feel This Moment",
          "Shoota (feat. Lil Uzi Vert)",
          "Que Vuelvas",
          "LADY GAGA",
          "El Azul",
          "Bad Things (with Camila Cabello)",
          "Teeth",
          "Too Many Nights (feat. Don Toliver & with Future)",
          "my ex's best friend (with blackbear)",
          "Legends",
          "Doin' Time",
          "Stir Fry",
          "Downtown",
          "ORANGE SODA",
          "Doja",
          "Alors on danse",
          "YKWIM?",
          "Standing Next to You",
          "Permission to Dance",
          "OMG",
          "...And to Those I Love, Thanks for Sticking Around",
          "Gata Only",
          "AMG",
          "La Jeepeta - Remix",
          "Ignorantes",
          "Borderline",
          "Lovin On Me",
          "Water",
          "Giant (with Rag'n'Bone Man)",
          "At My Worst",
          "On My Way",
          "We Are Never Ever Getting Back Together",
          "LOYALTY. FEAT. RIHANNA.",
          "Is There Someone Else?",
          "Murder In My Mind",
          "PRC",
          "Still Don't Know My Name",
          "Just Wanna Rock",
          "Love Again",
          "Be Kind (with Halsey)",
          "Unsteady",
          "Fantasias",
          "Try",
          "Good Feeling",
          "No Hands (feat. Roscoe Dash & Wale)",
          "Ahora Dice",
          "No Limit",
          "Dura",
          "FE!N",
          "Robarte un Beso",
          "Midnight Rain",
          "Swang",
          "Hasta Que Dios Diga",
          "LOKERA",
          "All Around The World (La La La)",
          "Tiroteo - Remix",
          "Tunnel Vision",
          "Shut Down",
          "DUELE EL CORAZON",
          "Plug Walk",
          "Runnin",
          "Hymn For The Weekend - Seeb Remix",
          "Pure Cocaine",
          "Leave Me Alone",
          "Traicionera",
          "Summer Days (feat. Macklemore & Patrick Stump of Fall Out Boy)",
          "La Diabla",
          "Go Fuck Yourself",
          "Gucci Gang",
          "Suge",
          "Botella Tras Botella",
          "Up",
          "YOSEMITE",
          "Girl On Fire",
          "You Proof",
          "You Belong With Me",
          "Fiel",
          "Black Magic",
          "Tacones Rojos",
          "Little Dark Age",
          "all the good girls go to hell",
          "brutal",
          "Boyfriend",
          "Trance (with Travis Scott & Young Thug)",
          "Black And Yellow",
          "Bad At Love",
          "Envolver",
          "Can We Kiss Forever?",
          "breathin",
          "This City",
          "DNA",
          "People",
          "One Right Now (with The Weeknd)",
          "Miss You",
          "A Mï¿",
          "Takeaway",
          "10 Freaky Girls (with 21 Savage)",
          "I Remember Everything (feat. Kacey Musgraves)",
          "Midnight Sky",
          "AMARGURA",
          "Good as Hell",
          "Hecha Pa' Mi",
          "Love Me Again",
          "Ferrari",
          "Ocean Drive",
          "METAMORPHOSIS",
          "Tattoo - Remix with Camilo",
          "OTW",
          "Take What You Want (feat. Ozzy Osbourne & Travis Scott)",
          "Take Care",
          "SOLO",
          "Die A Happy Man",
          "Cuando Nadie Ve",
          "do re mi",
          "Vivir Mi Vida",
          "NEW MAGIC WAND",
          "Here",
          "Leave a Light On",
          "Glock In My Lap",
          "Ditto",
          "HP",
          "NO",
          "Vente Pa' Ca",
          "La Gozadera",
          "Rasputin",
          "Mount Everest",
          "No Time To Die",
          "Chasin' You",
          "Meet Me At Our Spot",
          "Come and See Me (feat. Drake)",
          "Rojo",
          "Alone, Pt. II",
          "LUNA",
          "Monster (Shawn Mendes & Justin Bieber)",
          "Get Into It (Yuh)",
          "La player (Bandolera)",
          "Bad (feat. Vassy) - Radio Edit",
          "Bad Blood",
          "i like the way you kiss me",
          "CAN'T SAY",
          "Put Your Records On",
          "Sobrio",
          "PUNTO G",
          "Ain't Shit",
          "Slippery (feat. Gucci Mane)",
          "Primera Cita",
          "Notion",
          "Young",
          "King's Dead (with Kendrick Lamar & Future)",
          "Darkside",
          "Love Nwantiti - Remix",
          "Can I Call You Tonight?",
          "Sundress",
          "Legends Never Die",
          "Wonder",
          "Pain",
          "As If It's Your Last",
          "Tutu",
          "I.F.L.Y.",
          "Light Switch",
          "La Corriente",
          "MotorSport",
          "After The Storm (feat. Tyler, The Creator & Bootsy Collins)",
          "Mary On A Cross",
          "Cuando Te Besï¿",
          "Arms Around You (feat. Maluma & Swae Lee)",
          "You're On Your Own, Kid",
          "Instant Crush (feat. Julian Casablancas)",
          "Una Locura",
          "Calm Down",
          "Besos En Guerra",
          "No Type",
          "El Amante",
          "Fuentes de Ortiz",
          "The Search",
          "Lie",
          "No Se Va",
          "X (feat. Future)",
          "No Es Justo",
          "El Efecto",
          "Reloj",
          "Dembow",
          "Car's Outside",
          "Hello (feat. A Boogie Wit da Hoodie)",
          "Ice Cream (with Selena Gomez)",
          "EL MAKINON",
          "Dancing With Your Ghost",
          "She Got the Best of Me",
          "TV",
          "Suicidal",
          "Chained To The Rhythm",
          "Best Friend (feat. Doja Cat)",
          "AM Remix",
          "Faucet Failure",
          "So Am I",
          "What They Want",
          "Fin de Semana",
          "Vida de Rico",
          "I'm an Albatraoz",
          "Run",
          "Walk Em Down (feat. Roddy Ricch)",
          "Una Vez",
          "Dueles",
          "Baila Baila Baila",
          "Oh My God",
          "Bebe Dame",
          "Lovesick Girls",
          "Nobody Gets Me",
          "La Nota",
          "In Case You Didn't Know",
          "The Woo (feat. 50 Cent & Roddy Ricch)",
          "Way 2 Sexy (with Future & Young Thug)",
          "Safari",
          "CHORRITO PA LAS ANIMAS",
          "You should be sad",
          "Only",
          "Clouded",
          "Tyler Herro",
          "Vegas (From the Original Motion Picture Soundtrack ELVIS)",
          "Righteous",
          "Beer Never Broke My Heart",
          "HOLIDAY",
          "You're Welcome",
          "Please Me",
          "Verte Ir",
          "Kill Em With Kindness",
          "Invincible",
          "Super Freaky Girl",
          "Surround Sound (feat. 21 Savage & Baby Tate)",
          "Heartless (feat. Morgan Wallen)",
          "Espresso",
          "Te Robarï¿",
          "Super Shy",
          "River",
          "Turn Down for What",
          "Belly Dancer",
          "El Gordo Trae El Mando",
          "One Thing Right",
          "GREECE (feat. Drake)",
          "Rara Vez",
          "You Say",
          "La Forma en Que Me Miras",
          "pov",
          "Por las Noches",
          "Hype Boy",
          "Location (feat. Burna Boy)",
          "ceilings",
          "High Fashion (feat. Mustard)",
          "The Weekend",
          "Camelot",
          "Bejeweled",
          "Jordan",
          "Miss The Rage (feat. Playboi Carti)",
          "Fuera del mercado",
          "2/Catorce",
          "Jar of Hearts",
          "Un Coco",
          "BOOMBAYAH",
          "Angel Baby",
          "I KNOW ?",
          "Mirror",
          "GIRL LIKE ME",
          "Ocean (feat. Khalid)",
          "El Merengue",
          "Let You Love Me",
          "MAMACITA",
          "La Rompe Corazones",
          "Can't Remember to Forget You",
          "Homicide (feat. Eminem)",
          "Trust",
          "Shameless",
          "Losing It",
          "Element",
          "Tu Falta De Querer",
          "Baby (Lil Baby feat. DaBaby)",
          "Ginza",
          "What's My Name?",
          "Do It Again",
          "Tattoo",
          "De Los Besos Que Te Di",
          "My Head & My Heart",
          "What Ifs (feat. Lauren Alaina)",
          "My Ordinary Life",
          "This Side of Paradise",
          "We're Good",
          "Mamichula - con Nicki Nicole",
          "Barking",
          "Say Yes To Heaven",
          "Hell N Back",
          "Vista Al Mar",
          "Ch y la Pizza",
          "Like That (feat. Gucci Mane)",
          "Agora Hills",
          "OUT OUT (feat. Charli XCX & Saweetie)",
          "Daisy",
          "Baby Don't Hurt Me",
          "Don't Give Up On Me - (From \"Five Feet Apart\")",
          "Limbo",
          "Only Human",
          "Caramelo",
          "Soy Peor",
          "You Know You Like It",
          "Say Something (feat. Chris Stapleton)",
          "What A Man Gotta Do",
          "Reckless",
          "I Feel Like I'm Drowning",
          "Imitadora",
          "Let Me Know (I Wonder Why Freestyle)",
          "Chemical",
          "More Than My Hometown",
          "Amigos Con Derechos",
          "LALISA",
          "Matilda",
          "Sabor Fresa",
          "Trip",
          "Ex's & Oh's",
          "Got It On Me",
          "21",
          "Un Ratito",
          "She Don't Give a Fo",
          "Cry",
          "Tell Em",
          "Don't Go Yet",
          "Took Her To The O",
          "Drama (feat. Drake)",
          "TQM",
          "Si Te Pudiera Mentir",
          "Shotta Flow [Remix]",
          "Close Eyes",
          "Chica Ideal",
          "Bella y Sensual",
          "If You Want Love",
          "Houdini",
          "Hide Away",
          "Envy Me",
          "No Te Contaron Mal",
          "Jugaste y Sufrï¿",
          "Rolex",
          "Hot N*gga",
          "X SI VOLVEMOS",
          "Azul",
          "Feather",
          "Favorito",
          "Better Days (NEIKED x Mae Muller x Polo G)",
          "Me Too",
          "Love Is Gone - Acoustic",
          "Morado",
          "223's (feat. 9lokknine)",
          "In Da Getto",
          "Toda Remix - Remix",
          "Birthday Sex",
          "BED",
          "Baila Conmigo (with Rauw Alejandro)",
          "Ain't Your Mama",
          "MONACO",
          "Love Songs - Bonus",
          "this is what falling in love feels like",
          "T-Shirt",
          "Give It To Me - Full Vocal Mix",
          "Roses (with Juice WRLD feat. Brendon Urie)",
          "512",
          "Tadow",
          "EL AMOR DE SU VIDA",
          "Bangarang (feat. Sirah)",
          "You're Somebody Else",
          "Forever After All",
          "Happiest Year",
          "Entre Nosotros",
          "GOOBA",
          "Barbie World (with Aqua) [From Barbie The Album]",
          "The Kind of Love We Make",
          "Shirt",
          "Ya No Somos Ni Seremos",
          "Maan Meri Jaan",
          "Show Me How",
          "Diosa",
          "Players",
          "Country Girl (Shake It For Me)",
          "Smokin Out The Window",
          "Smile (with The Weeknd)",
          "HARLEY QUINN",
          "my future",
          "Afterglow",
          "You Make It Easy",
          "The Bones",
          "NI BIEN NI MAL",
          "edamame (feat. Rich Brian)",
          "(It Goes Like) Nanana - Edit",
          "DEUTSCHLAND",
          "Black Swan",
          "How Do I Say Goodbye",
          "Girls Want Girls (with Lil Baby)",
          "Coco Chanel",
          "IDOL",
          "ANTIFRAGILE",
          "Wiggle (feat. Snoop Dogg)",
          "The Adults Are Talking",
          "Control",
          "Buy Dirt",
          "Cover Me Up",
          "I Hate U",
          "On The Floor",
          "Cruise",
          "Satellite",
          "Tiago PZK: Bzrp Music Sessions, Vol. 48",
          "Remember",
          "Low",
          "she's all i wanna be",
          "Build a Bitch",
          "ON",
          "Medallo",
          "Out of Time",
          "Praise God",
          "Djadja",
          "Wide Awake",
          "Good News",
          "Sum 2 Prove",
          "Ferxxo 100",
          "Wellerman - Sea Shanty / 220 KID x Billen Ted Remix",
          "BREAK MY SOUL",
          "CAIRO",
          "What is Love",
          "To the Bone",
          "YuNg BrAtZ",
          "Hallelujah",
          "FLOWER",
          "Did It Again",
          "One Man Band",
          "Cover Me In Sunshine",
          "Something About You",
          "Se Te Nota (with Guaynaa)",
          "JGL",
          "Head Shoulders Knees & Toes (feat. Norma Jean Martine)",
          "Fingers Crossed",
          "Sexy And I Know It",
          "Pretty Savage",
          "Que Calor (with J Balvin & El Alfa)",
          "bad idea right?",
          "Perro Fiel (feat. Nicky Jam)",
          "7 Summers",
          "Sobredosis (feat. Ozuna)",
          "Andrea",
          "Quiere Beber",
          "VIBEZ",
          "The Feels",
          "Ya No Tiene Novio",
          "Snow On The Beach (feat. Lana Del Rey)",
          "SO DONE",
          "Adictiva",
          "redrum",
          "SAD GIRLZ LUV MONEY Remix (feat. Kali Uchis and Moliy)",
          "STAR WALKIN' (League of Legends Worlds Anthem)",
          "The Spectre",
          "Close Friends (Lil Baby & Gunna)",
          "Mi Cuarto",
          "You Should Probably Leave",
          "Savage",
          "N95",
          "Dos Mil 16",
          "TEXAS HOLD 'EM",
          "Sunshine",
          "Bang!",
          "MIENTRAS ME CURO DEL CORA",
          "Si Tu Novio Te Deja Sola",
          "Miracle (with Ellie Goulding)",
          "Parce (feat. Justin Quiles)",
          "Your Power",
          "Nosso Quadro",
          "The Astronaut",
          "Despeinada",
          "Woah",
          "Look At Me Now (feat. Lil' Wayne & Busta Rhymes)",
          "Fly Away",
          "Dreamers [Music from the FIFA World Cup Qatar 2022 Official Soundtrack]",
          "Here's Your Perfect",
          "Open Arms (feat. Travis Scott)",
          "We Paid (feat. 42 Dugg)",
          "Pour It Up",
          "Ayy Macarena",
          "Baila Conmigo (feat. Kelly Ruiz)",
          "Demasiadas Mujeres",
          "Loco",
          "I GUESS I'M IN LOVE",
          "Super Gremlin",
          "Go Stupid",
          "Besos Moja2",
          "Don't Mind",
          "Killshot",
          "LET GO",
          "GATTI",
          "Tak Segampang Itu",
          "Cuaderno",
          "Sex Sounds",
          "Amor Tumbado",
          "Follow You",
          "Rock and A Hard Place",
          "Ley Seca",
          "Come & Get It",
          "La Romana",
          "Last Last",
          "Tu Aake Dekhle",
          "Los Botones Azules",
          "Be Like That - feat. Swae Lee & Khalid",
          "Music For a Sushi Restaurant",
          "Conversations",
          "Aullando",
          "Broke In A Minute",
          "IDGAF (feat. Yeat)",
          "Is It Over Now? (Taylor's Version) (From The Vault)",
          "Jerusalema (feat. Nomcebo Zikode)",
          "Wellerman - Sea Shanty",
          "Puntos Suspensivos",
          "Candy",
          "Kaikai Kitan",
          "Make No Sense",
          "Hurricane",
          "Ella",
          "Lily",
          "MY EYES",
          "BOOKER T",
          "Love Scars",
          "Baianï¿",
          "Skechers",
          "The Perfect Girl",
          "BEBï¿",
          "Hold Me Closer",
          "I Hope",
          "HOTEL LOBBY (Unc & Phew)",
          "Girls Like You",
          "Motley Crew",
          "Turn Me On (feat. Vula)",
          "Over the Rainbow",
          "Que Va",
          "LOVE DIVE",
          "What If I Told You That I Love You",
          "PUNTO 40",
          "Porfa",
          "Siempre Pendientes",
          "Fortnight (feat. Post Malone)",
          "Por Fin Te Encontrï¿",
          "PUFFIN ON ZOOTIEZ",
          "Collide (feat. Tyga)",
          "Run It Up (feat. Offset & Moneybagg Yo)",
          "Summer of Love (Shawn Mendes & Tainy)",
          "Bubalu",
          "Agua (with J Balvin)",
          "El Rescate",
          "Zombie",
          "HACIENDO QUE ME AMAS",
          "My Type",
          "Dead Man Walking",
          "Into Your Arms (feat. Ava Max)",
          "DOLLAZ ON MY HEAD (feat. Young Thug)",
          "MILLION DOLLAR BABY",
          "TULUM",
          "A-O-K",
          "Where Did You Go? (feat. MNEK)",
          "Little Bit of Love",
          "Me Enamorï¿",
          "Salt",
          "Hot (feat. Gunna)",
          "Sacrifice",
          "Piensan",
          "Wasted Love (feat. Lagique)",
          "Ay Vamos",
          "2 Phones",
          "I CAN'T STOP ME",
          "Rover (feat. DTG)",
          "Words (feat. Zara Larsson)",
          "moment",
          "Every Summertime",
          "Like I Want You",
          "GHOST TOWN",
          "Home",
          "Sing Me to Sleep",
          "Copines",
          "Fever",
          "Ranjha (From \"Shershaah\")",
          "Hasta Abajo",
          "Gimme Love",
          "Sand In My Boots",
          "You Got It",
          "Lift Me Up - From Black Panther: Wakanda Forever - Music From and Inspired By",
          "Back In Blood (feat. Lil Durk)",
          "Stupid Love",
          "Que Tire Pa Lante",
          "Thotiana",
          "Los del Espacio",
          "Eyes Closed",
          "Rich Baby Daddy (feat. Sexyy Red & SZA)",
          "Rush",
          "Slow Dancing",
          "Crazy What Love Can Do",
          "Ojos Marrones",
          "Yo No Soy Celoso",
          "BIG BANK (feat. 2 Chainz, Big Sean, Nicki Minaj)",
          "MOJABI GHOST",
          "From The Start",
          "pushin P (feat. Young Thug)",
          "On Me",
          "God's Country",
          "No Me Acuerdo",
          "LA FALDA",
          "Me Fui de Vacaciones",
          "MERCHO",
          "Chillax",
          "WANNABE",
          "Rake It Up",
          "After LIKE",
          "A Ella",
          "Ella No Es Tuya - Remix",
          "From The D To The A (feat. Lil Yachty)",
          "SugarCrash!",
          "Y LLORO",
          "Remember That Night?",
          "The Thrill",
          "Vois sur ton chemin - Techno Mix",
          "Feel Special",
          "Am",
          "Un Finde | CROSSOVER #2",
          "KICK BACK",
          "Numb Little Bug",
          "Un Verano Sin Ti",
          "Go Loko (feat. Tyga, Jon Z)",
          "BELLAKEO",
          "Lovefool",
          "Sweetest Pie",
          "BILLIE EILISH.",
          "MEMORIAS",
          "Girl",
          "Love Shot",
          "Cupido",
          "Graduation (with Juice WRLD)",
          "El Hijo Mayor",
          "Typa Girl",
          "Spin Bout U",
          "Loading",
          "Better Together",
          "Shaky Shaky",
          "Afraid To Feel",
          "Get Back",
          "3 Headed Goat (feat. Lil Baby & Polo G)",
          "Hypnotized",
          "El Cielo",
          "Me Gusta",
          "When I Grow Up",
          "POP/STARS",
          "EVERY CHANCE I GET (feat. Lil Baby & Lil Durk)",
          "Pump It Up",
          "911",
          "Through Da Storm",
          "Set Me Free Pt.2",
          "SEJODIOTO",
          "500lbs",
          "THE SHADE",
          "About You",
          "TOES (feat. Lil Baby & Moneybagg Yo)",
          "Higher Power",
          "Mi Bello Angel",
          "Poblado (feat. Crissin, Totoy El Frio & Natan & Shander) [Remix]",
          "Outside Today",
          "MELTDOWN (feat. Drake)",
          "Pasoori",
          "Slut Me Out",
          "Mala Fama",
          "Slumber Party (feat. Princess Nokia)",
          "Yet To Come",
          "It'll Be Okay",
          "Broadway Girls (feat. Morgan Wallen)",
          "Bombonzinho - Ao Vivo",
          "Forget Me",
          "World's Smallest Violin",
          "Fall in Love with You.",
          "Aguacero",
          "X - Remix",
          "Ya Acabo",
          "Thought You Should Know",
          "Ignite",
          "23",
          "Ahora Me Llama",
          "Search & Rescue",
          "Moonwalking in Calabasas (feat. Blueface) - Remix",
          "VAGABUNDO",
          "Obsessed With You",
          "Debo Entender",
          "Mad at Disney",
          "In Your Eyes (feat. Alida)",
          "Deep Down (feat. Never Dull)",
          "Dancing in My Room",
          "ELOVRGA",
          "NDA",
          "All My Life (feat. J. Cole)",
          "Mercury: Retrograde",
          "Baguettes in the Face (feat. NAV, Playboi Carti & A Boogie Wit da Hoodie)",
          "Pantysito",
          "No Es por Acï¿",
          "WUSYANAME",
          "Headshot (feat. Polo G & Fivio Foreign)",
          "KU LO SA - A COLORS SHOW",
          "Body (Remix) [feat. ArrDee, E1 (3x3), ZT (3x3), Bugzy Malone, Buni, Fivio Foreign & Darkoo]",
          "Komang",
          "Fancy Like",
          "First Person Shooter (feat. J. Cole)",
          "Need It (feat. YoungBoy Never Broke Again)",
          "Tï¿",
          "Cooped Up (with Roddy Ricch)",
          "Monster",
          "Sial",
          "Big Energy",
          "Not Like Us",
          "Shorty Party",
          "When You're Gone",
          "exes",
          "La Playa",
          "Desde Esa Noche",
          "Forever",
          "Starting Over",
          "Holanda",
          "Heart On Ice",
          "Life's A Mess (feat. Halsey)",
          "Thot Shit",
          "Chulo pt.2",
          "Die Hard",
          "LOT OF ME",
          "Surface Pressure",
          "New Freezer (feat. Kendrick Lamar)",
          "Royalty",
          "Si Se Da",
          "Peru",
          "OOOUUU",
          "Feels Like Summer",
          "Focus",
          "Hold My Hand",
          "Down Under (feat. Colin Hay)",
          "Salimo de Noche",
          "Ambition For Cash",
          "ALL MINE",
          "Iko Iko (My Bestie)",
          "Personal",
          "TELEKINESIS",
          "Daechwita",
          "You",
          "Stunnin' (feat. Harm Franklin)",
          "Eladio Carrion: Bzrp Music Sessions, Vol. 40",
          "Ocean",
          "DILUVIO",
          "Wrecked",
          "Billete Grande (En Vivo)",
          "Calidad",
          "Travesuras",
          "What It Is (Solo Version)",
          "Champagne Poetry",
          "Sun to Me",
          "P power (feat. Drake)",
          "WANDA",
          "ELEVEN",
          "Hati-Hati di Jalan",
          "Si Supieras",
          "Clout (feat. Cardi B)",
          "21 Reasons (feat. Ella Henderson)",
          "Te Ire A Buscar",
          "For the Last Time",
          "If We Ever Broke Up",
          "Speechless (Full)",
          "Static",
          "EL BARCO",
          "Never Going Home",
          "3:15 (Breathe)",
          "DON'T YOU WORRY",
          "How To Love",
          "La Mordidita",
          "LAGUNAS",
          "Drankin N Smokin",
          "Starlight",
          "Green Green Grass",
          "My Heart Goes (La Di Da)",
          "Moon",
          "WORTH NOTHING (feat. Oliver Tree) - Fast & Furious: Drift Tape/Phonk Vol 1",
          "Thousand Miles",
          "Calling My Spirit",
          "Por Primera Vez",
          "POP!",
          "Hotel",
          "Tom's Diner",
          "Yacht Club (feat. Juice WRLD)",
          "Sexo Virtual",
          "Extssy Model",
          "ANDO",
          "Vamp Anthem",
          "Emotionally Scarred",
          "Prohibidox",
          "Queencard",
          "Dream Girl - Remix",
          "#BrooklynBloodPop!",
          "SG (with Ozuna, Megan Thee Stallion & LISA of BLACKPINK)",
          "On My Mind",
          "Chanel",
          "get him back!",
          "Nathy Peluso: Bzrp Music Sessions, Vol. 36",
          "Love Not War (The Tampa Beat)",
          "Ashes",
          "TOMBOY",
          "Asesina - Remix",
          "Mujeriego",
          "As the World Caves In",
          "K-POP",
          "Haegeum",
          "Scared To Start",
          "Sharks",
          "Polaroid Love",
          "Oklahoma Smokeshow",
          "Live Another Day",
          "GigaChad Theme - Phonk House Version",
          "Maria",
          "When I'm Gone",
          "Perfect Night",
          "Wrong",
          "Myself",
          "Never Lose Me",
          "FRANCHISE (feat. Young Thug & M.I.A.)",
          "Deep End",
          "Solid (feat. Drake)",
          "White Tee (with NO1-NOAH)",
          "Sisa Rasa",
          "Ginseng Strip 2002",
          "Dial Drunk (with Post Malone)",
          "Recognize (feat. Drake)",
          "Plan A",
          "Lollipop",
          "Sahara",
          "TO THE MOON",
          "Push Up - Main Edit",
          "Pussy & Millions (feat. Travis Scott)",
          "Austin",
          "PHONKY TOWN",
          "WASTE",
          "ONE CALL",
          "Backyard Boy",
          "Now That We Don't Talk (Taylor's Version) (From The Vault)",
          "SWEET / I THOUGHT YOU WANTED TO DANCE",
          "Never Felt So Alone",
          "That That (prod. & feat. SUGA of BTS)",
          "True Love",
          "I AM",
          "BABY HELLO",
          "295",
          "Automotivo Bibi Fogosa",
          "Brown Munde",
          "All We Got (feat. KIDDO)",
          "Off The Grid",
          "Cowgirls (feat. ERNEST)",
          "Sal y Perrea",
          "\"Slut!\" (Taylor's Version) (From The Vault)",
          "Tak Ingin Usai",
          "La Triple T",
          "En Tu Perra Vida",
          "No Love",
          "For My Hand (feat. Ed Sheeran)",
          "Bite Me",
          "Betty (Get Money)",
          "Fall In Love",
          "Baller",
          "Dawns (feat. Maggie Rogers)",
          "Pano",
          "Show Yourself",
          "Krippy Kush",
          "Ramen & OJ",
          "Bad Decisions (with BTS & Snoop Dogg)",
          "For Tonight",
          "Take Two",
          "'Til You Can't",
          "Baby Me Atende",
          "Disaster",
          "We Rollin",
          "I AM WOMAN",
          "Late At Night",
          "Shotta Flow",
          "Ram Pam Pam",
          "Panic Room",
          "Inolvidable",
          "NEON BLADE",
          "FRIKI",
          "TRUSTFALL",
          "Do What I Want",
          "La Bebe",
          "Magnetic",
          "Hit Different",
          "Rich Spirit",
          "The Bigger Picture",
          "Fulanito",
          "Gas Pedal",
          "New Jeans",
          "Las Morras",
          "Rainy Days",
          "Vacation",
          "NUEVA VIDA",
          "UN PREVIEW",
          "Sticky",
          "Massive",
          "penjaga hati",
          "Bye",
          "Training Season",
          "Lil Bit",
          "Fall In Love Alone",
          "El Envidioso",
          "I Can Do It With a Broken Heart",
          "Vampiro",
          "One Thing At A Time",
          "Malas Decisiones",
          "Skate",
          "Who Want Smoke?? (feat. G Herbo, Lil Durk & 21 Savage)",
          "Am I Dreaming (Metro Boomin & A$AP Rocky, Roisee)",
          "Dick (feat. Doja Cat)",
          "Bling-Bang-Bang-Born",
          "JACKIE BROWN",
          "ALMAS GEMELAS",
          "Opp Stoppa (feat. 21 Savage)",
          "United In Grief",
          "RUBICON",
          "Si Te La Encuentras Por Ahï¿",
          "Wish You The Best",
          "Die Young (feat. 347aidan)",
          "Next Level",
          "She Had Me At Heads Carolina",
          "Tap In",
          "Tuesday (feat. Drake)",
          "Nxde",
          "Private Landing (feat. Justin Bieber & Future)",
          "Essence (feat. Tems)",
          "Ring (feat. Kehlani)",
          "Lil Boo Thang",
          "Talk",
          "Hrs and Hrs",
          "Let The Light In (feat. Father John Misty)",
          "Khairiyat",
          "GIVENCHY",
          "S91",
          "Leave Em Alone (Layton Greene, Lil Baby feat. City Girls, PnB Rock)",
          "Rumah Singgah",
          "NIGHT DANCER",
          "Pipoco",
          "drunk text",
          "10 Things I Hate About You",
          "Clash (feat. Stormzy)",
          "In My Head",
          "BEST ON EARTH (feat. BIA) - Bonus",
          "Bad Boy (with Young Thug)",
          "Gangstas",
          "ETA",
          "Medusa",
          "INFERNO",
          "Cigarettes",
          "Next Thing You Know",
          "Como Si No Importara",
          "Overdrive (feat. Norma Jean Martine)",
          "Such a Whore (Stellular Remix)",
          "Je M'appelle",
          "all-american bitch",
          "Aquel Nap ZzZz",
          "Bar",
          "the perfect pair",
          "Already Dead",
          "Jiwa Yang Bersedih",
          "Bad boy",
          "Area Codes",
          "Experimento",
          "Tennessee Orange",
          "Rags2Riches 2 (feat. Lil Baby)",
          "Felina",
          "FINA",
          "Desire (with Sam Smith)",
          "MEMORIES!",
          "Religiously",
          "Bezos I",
          "What My World Spins Around",
          "His & Hers (feat. Don Toliver, Lil Uzi Vert & Gunna)",
          "Reggaeton Champagne",
          "Nail Tech",
          "Mi Cama",
          "Alcohol-Free",
          "DARARI",
          "La kiffance",
          "Evoque Prata",
          "Young Miko: Bzrp Music Sessions, Vol. 58",
          "UNFORGIVEN (feat. Nile Rodgers)",
          "Emiliana",
          "ARRANCARMELO",
          "i'm yours sped up",
          "Komet",
          "Faz um Vuk Vuk (Teto Espelhado)",
          "Let's Love",
          "One Of Your Girls",
          "Potion (with Dua Lipa & Young Thug)",
          "LUNCH",
          "Hey Driver (feat. The War and Treaty)",
          "OKI DOKI",
          "Ojitos Rojos",
          "if u think i'm pretty",
          "Fed Up",
          "Pasilyo",
          "No Friends In The Industry",
          "VIBE (feat. Jimin of BTS)",
          "Who's Laughing Now",
          "Gatita",
          "Go Down Deh (feat. Shaggy and Sean Paul)",
          "No_se_ve.mp3",
          "Besharam Rang (From \"Pathaan\")",
          "Bailando - English Version",
          "Substitution",
          "The Family Madrigal",
          "Ball If I Want To",
          "Overseas",
          "MODELITO",
          "Hayloft II",
          "En El Radio Un Cochinero",
          "Colors",
          "Rich Men North of Richmond",
          "BIRDS OF A FEATHER",
          "PERO Tï¿",
          "Back On 74",
          "Cupid",
          "Welcome To Brixton",
          "Way Back Home",
          "Style (Taylor's Version)",
          "Earth",
          "Tera Ban Jaunga",
          "Taboo",
          "En la Intimidad",
          "HOT",
          "Super",
          "Down Bad",
          "GALOPA",
          "Lisa",
          "Just Pretend",
          "Don't Rush (feat. Headie One)",
          "Glue Song",
          "Mahiye Jinna Sohna",
          "S-Class",
          "Bellaquita",
          "Una Foto Remix (feat. Emilia)",
          "CCC",
          "Single Soon",
          "Used To Be Young",
          "In the morning",
          "Mbappe",
          "STAYING ALIVE (feat. Drake & Lil Baby)",
          "Nada",
          "Dil Diyan Gallan",
          "Boy's a liar",
          "Slow It Down",
          "Slime You Out (feat. SZA)",
          "Bamba (feat. Aitch & BIA)",
          "Count Me Out",
          "ESCAPE PLAN",
          "Singapur",
          "We Ride",
          "Major Distribution",
          "Big Gangsta",
          "Captain Hook",
          "Chasing After You (with Maren Morris)",
          "Drunk (And I Don't Wanna Go Home)",
          "Heatin Up (feat. Gunna)",
          "Drama",
          "Tormenta (feat. Bad Bunny)",
          "TOPIA TWINS",
          "CASE 143",
          "Lemon",
          "Termina Comigo Antes",
          "Face Off",
          "Dancing Feet (feat. DNCE)",
          "TRUCK BED",
          "Whiskey On You",
          "5 Foot 9",
          "PAINTING PICTURES",
          "Freak (feat. REI AMI)",
          "Going, Going, Gone",
          "Beautiful Girl",
          "Casanova",
          "Overdose",
          "Time Today",
          "Turn On The Lights again.. (feat. Future)",
          "Deli",
          "Si La Calle Llama - Remix",
          "In Ha Mood",
          "Delincuente",
          "Grace (feat. 42 Dugg)",
          "MALA SANTA",
          "Overwhelmed",
          "Where the Wild Things Are",
          "Fruto",
          "Why Not",
          "Tu Turrito",
          "BABY OTAKU",
          "What Else Can I Do?",
          "Favorite Song",
          "El Incomprendido",
          "Bijlee Bijlee",
          "REMIX EXCLUSIVO",
          "Ropa Cara",
          "X1",
          "I'll Be Waiting",
          "La_Original.mp3",
          "on the street (with J. Cole)",
          "What If",
          "You & Me",
          "Wild Side (feat. Cardi B)",
          "Big City Life",
          "Stumblin' In",
          "Wild as Her",
          "Angel Numbers / Ten Toes",
          "M.A (Mejores Amigos)",
          "Stop Breathing",
          "DENTRO DA HILUX",
          "Sugar Rush Ride",
          "Where It Ends",
          "Beautiful Girls",
          "DE LUNES A LUNES",
          "N'y pense plus",
          "Famous Friends",
          "Blank Space (Taylor's Version)",
          "In The Dark",
          "Sakhiyaan",
          "Playing Games",
          "Good Luck, Babe!",
          "Still Trappin' (with King Von)",
          "REPEAT IT",
          "Solo Me Dejaste",
          "Man Made A Bar (feat. Eric Church)",
          "Freaky Deaky",
          "Heat",
          "Everything I Love",
          "Lottery (Renegade)",
          "Illegal Weapon 2.0 (From \"Street Dancer 3D\")",
          "Come Through (feat. Chris Brown)",
          "WA DA DA",
          "Cash In Cash Out",
          "Sharing Locations (feat. Lil Baby & Lil Durk)",
          "Antidepresan",
          "Delilah (pull me out of this)",
          "Kernkraft 400 (A Better Day)",
          "Epidemic",
          "Bertahan Terluka",
          "In A Minute",
          "Frozen",
          "banking on me",
          "Drugs From Amsterdam",
          "Teenage Dream",
          "Coal",
          "DONDE SE APRENDE A QUERER?",
          "Coming for You (feat. A1 x J1)",
          "March Madness",
          "TROLLZ (with Nicki Minaj)",
          "Me or Sum (feat. Future & Lil Baby)",
          "Ni Me Debes Ni Te Debo",
          "OJALï¿",
          "DIE",
          "FTCU",
          "Tell Ur Girlfriend",
          "Need A Favor",
          "Toca o Trompete",
          "ZOOM",
          "Cool With You",
          "MATHEMATICAL DISRESPECT",
          "Rainfall",
          "By Your Side",
          "De Vuelta Pa' La Vuelta",
          "Not Fair",
          "Rags2Riches (feat. ATR Son Son)",
          "Love You Anyway",
          "Spinnin",
          "Jalebi Baby",
          "Cure For Me",
          "Hasta la Miel Amarga (feat. Grupo Firme)",
          "Street Runner",
          "Matte Black",
          "Queen of Kings",
          "Finesse",
          "Mi Tesoro (feat. Nicky Jam)",
          "Jugnu",
          "Obsessed",
          "La Morocha",
          "Arranca (feat. Omega)",
          "Wildberry Lillet",
          "Minefields",
          "Mourning",
          "Rodeo (Remix)",
          "With You",
          "Suavemente",
          "Smart",
          "Can't Tame Her",
          "Duki: Bzrp Music Sessions, Vol. 50",
          "Dial Drunk",
          "Tomorrow 2 (with Cardi B)",
          "Spotless (feat. The Lumineers)",
          "Peaches & Eggplants (feat. 21 Savage)",
          "Shoong! (feat. LISA of BLACKPINK)",
          "Woo Baby (feat. Chris Brown)",
          "Free Mind",
          "Mmhmm",
          "White Horse",
          "New Gold (feat. Tame Impala and Bootie Brown)",
          "UNAVAILABLE (feat. Musa Keys)",
          "Do It Again (feat. 2Rare)",
          "Cochinae",
          "LALALALA",
          "23 Preguntas",
          "Tchuco Nela",
          "Jefe",
          "Narcotics (with Bryant Myers)",
          "No Wahala",
          "Churchill Downs (feat. Drake)",
          "act ii: date @ 8",
          "Pelele",
          "ROLLIN N CONTROLLIN FREESTYLE",
          "EL TONTO",
          "On Chill (feat. Jeremih)",
          "Poppin",
          "Bandit",
          "Bolide allemand",
          "City Boys",
          "Silent Hill",
          "Suzume",
          "Giving Me",
          "Softly",
          "Clouds",
          "Kiss Me",
          "Night Away (Dance) (feat. Tion Wayne)",
          "Mona Lisa - Spider-Man: Across the Spider-Verse (Deluxe Edition)",
          "PLEBADA",
          "Red Ruby Da Sleeze",
          "Levels",
          "Bilmem Mi?",
          "Kitsch",
          "Pointless",
          "Nashe Si Chadh Gayi",
          "Vamos Aclarando Muchas Cosas - En Vivo",
          "Buss It",
          "O Saki Saki (From \"Batla House\")",
          "What Happened To Virgil (feat. Gunna)",
          "NO ME QUIERO CASAR",
          "Me Enterï¿",
          "Rover",
          "RON COLA",
          "Save Me",
          "If I Didn't Love You",
          "Stuck In The Middle",
          "Made For Me",
          "Poland",
          "Won't Forget You - Edit",
          "Padam Padam",
          "Who Told You (feat. Drake)",
          "Pretty Little Poison",
          "Soundgasm",
          "Italodisco",
          "Se Grita",
          "Essence (feat. Justin Bieber & Tems)",
          "EASY",
          "Mi Gata",
          "DOGTOOTH",
          "Yana Yana",
          "bad",
          "I Wrote The Book",
          "Ni Una Ni Dos",
          "Waffle House",
          "Bailando",
          "Jericho",
          "Wockesha",
          "Tombstone",
          "REACT",
          "TOO MUCH",
          "LOS APARATOS",
          "Watch The World Burn",
          "Bel Mercy",
          "Bailando Bachata",
          "Boyz In Paris (with VINAI)",
          "Raining In Manila",
          "The Summoning",
          "wiggy",
          "Straightenin",
          "8:00 AM",
          "It's Plenty",
          "Last Night Lonely",
          "THIS YEAR (Blessings)",
          "Spicy",
          "Soweto",
          "Dream Girl",
          "Too Easy",
          "Stand By Me (feat. Morgan Wallen)",
          "POR EL CONTRARIO",
          "Never Sleep (feat. Lil Baby)",
          "One Up",
          "The Feeling",
          "Shootout",
          "Overdrive",
          "Le Va Doler",
          "Your Heart Or Mine",
          "adore u",
          "Por las Noches (Remix)",
          "Garmi (From \"Street Dancer 3D\") (feat. Varun Dhawan)",
          "Soak City (Do it)",
          "Piel",
          "LOVE YOU BETTER",
          "Desde Mis Ojos - Remix",
          "Nachts wach",
          "Uno",
          "Black Summer",
          "Johnny Dang (with Paul Wall & DRODi)",
          "On My Love",
          "Make You Mine",
          "Enough",
          "HAPPY",
          "Butakera",
          "wait in the truck (feat. Lainey Wilson)",
          "Black Friday",
          "Vaaste",
          "Jumbotron Shit Poppin",
          "SHOOTING STAR",
          "La La La (Brazil 2014)",
          "Supernova",
          "Got Me Started",
          "Call Me Every Day (feat. WizKid)",
          "SHEESH",
          "Gently (feat. Bad Bunny)",
          "You Broke My Heart",
          "Rampampam",
          "Where You Are",
          "The Last Goodbye (feat. Bettye LaVette)",
          "Voices In My Head",
          "Gogo Dance",
          "BATTER UP",
          "Right On",
          "Upside Down",
          "VOID",
          "Mwaki",
          "Jiggle Jiggle",
          "messy in heaven",
          "Mentalitï¿",
          "Paro",
          "Gentleman",
          "Bandana",
          "BABY NUEVA",
          "Shake It Off (Taylor's Version)",
          "ID",
          "IT GIRL",
          "Joro",
          "Steal The Show - From \"Elemental\"",
          "SET ME FREE",
          "Rhyme Dust",
          "Memory Lane",
          "Sip (Alcohol)",
          "Beat the Odds",
          "Girls",
          "Kya Baat Ay",
          "Ready For Love",
          "HVN ON EARTH (with Kodak Black)",
          "Un Cigarrillo",
          "Lagdi Lahore Di (From \"Street Dancer 3D\")",
          "Cynical",
          "Oh U Went (feat. Drake)",
          "Jungle",
          "Europapa",
          "The Door",
          "Charm",
          "Lionheart (Fearless)",
          "TABU.",
          "Own Brand Freestyle",
          "Se Joga no Passinho",
          "One in a Million",
          "Damage",
          "Buenas",
          "Asiwaju",
          "9 bis 9",
          "The Painter",
          "Exclusive.mp3",
          "Car Keys (Ayla)",
          "UNHEALTHY (feat. Shania Twain)",
          "FERXXO 151",
          "Enough Is Enough",
          "Vida Gangster",
          "Atmosphere",
          "Big Jet Plane",
          "AHHH HA",
          "Handle On You",
          "GTA.mp3",
          "Distraction",
          "What It Is (Block Boy) (with Kodak Black)",
          "Muqabla (From \"Street Dancer 3D\")",
          "Do It Like That",
          "NOSTYLIST",
          "Me & U",
          "World on Fire",
          "Dos Besitos",
          "Good Love",
          "Solo Conmigo",
          "Praise The Lord (Da Shine) (feat. Skepta) - Durdenhauer Edit",
          "Can't Have Mine",
          "Cracker Island (feat. Thundercat)",
          "Tigini (Remix)",
          "Baddie",
          "LosT",
          "8 Parche",
          "Love Me Like This",
          "Desejo Imortal (It Must Have Been Love)",
          "SkeeYee",
          "SNEAKERS",
          "Dile a Tu Orgullo (En Vivo)",
          "Esta Vida",
          "Vaathi Coming (From \"Master\")",
          "Back for More (with Anitta)",
          "Daru Badnaam",
          "Quicksand",
          "Down In Atlanta",
          "Con La Brisa",
          "Ms. Jackson",
          "Truth or Dare",
          "24/7, 365",
          "ISABELLE",
          "BAND4BAND (feat. Lil Baby)",
          "Adderall (Corvette Corvette)",
          "Get It Sexyy",
          "DISCOTEKA (feat. Locura Mix)",
          "Fast Forward",
          "prove it",
          "It's Getting Hot",
          "Flashback (feat. Gazo)",
          "She Make It Clap",
          "22",
          "Run Free",
          "Yaad Piya Ki Aane Lagi",
          "Strike (Holster)",
          "Asking",
          "Buga",
          "Mon Amour",
          "Fight The Feeling",
          "Genda Phool (feat. Payal Dev)",
          "Desenrola Bate Joga de Ladin (feat. DJ Biel do Furduncinho)",
          "Mood",
          "Cough",
          "In Your Love",
          "Ta Ta Ta",
          "Lonely At The Top",
          "Le Monde",
          "Push Up - Original Mix",
          "I Took A Pill In Ibiza",
          "Good To Be",
          "Piscina",
          "AA",
          "La Jeepeta",
          "Mother",
          "Alone (with Nicki Minaj)",
          "LAISSE MOI",
          "Hero",
          "Ascend",
          "2 Hielos",
          "Don't Go Insane",
          "I'm Geekin",
          "Maybach (feat. Future)",
          "World Cup",
          "Be The One",
          "Business (feat. Naza)",
          "Socadona (feat. Mr. Vegas)",
          "Aye (feat. Travis Scott)",
          "Photo (From \"Luka Chuppi\")",
          "Love Lee",
          "Better Things",
          "DNA (Loving You) [feat. Hannah Boleyn]",
          "Turn Yo Clic Up (feat. Future)",
          "Sensational (feat. Davido & Lojay)",
          "SHAKE SUMN",
          "Tek Tek (feat. MHD)",
          "Amapiano",
          "Is It Love",
          "F.N.F. (Let's Go)",
          "0800 HEAVEN",
          "Illegal Weapon",
          "Pump",
          "Now And Then",
          "Aynen",
          "Heyy",
          "Last Time I Saw You",
          "Outskirts",
          "Are You Entertained (feat. Ed Sheeran)",
          "FEEL",
          "Madrid City",
          "Lottery (feat. LU KALA)",
          "Highs & Lows",
          "A N X I E T Y (feat. Doechii)",
          "Walk",
          "Ameno Amapiano Remix (You Wanna Bamba)",
          "ONE MORE TIME",
          "Laxed (Siren Beat)",
          "Mesafe",
          "DFMU",
          "2 Million Up",
          "Mil Veces",
          "Baddest",
          "Overloading (OVERDOSE)",
          "JEALOUSY (feat. Cardi B)",
          "Girlfriend",
          "COULD BE WRONG",
          "Quickie",
          "Whole Lotta Choppas",
          "WY@",
          "Talibans",
          "Ya Lili",
          "Good Good",
          "Calor",
          "Sugarcane (Remix) [feat. King Promise, Mayorkun & Darkoo]",
          "ICU",
          "Arhbo [Music from the FIFA World Cup Qatar 2022 Official Soundtrack]",
          "Ngozi",
          "Drums (Feat. Kim Petras)",
          "WORTH IT (feat. Don Toliver)",
          "B.O.T.A. (Baddest Of Them All)",
          "Dame Tu Cosita (feat. Cutty Ranks)",
          "Little Things",
          "Butta My Bread",
          "DARBA 9ADIYA",
          "Not So Bad (Leans Gone Cold)",
          "Sittin' On Top Of The World",
          "La Triple M",
          "Sability",
          "Energy",
          "Burn It Down",
          "Dreaming",
          "Summer Too Hot",
          "Love",
          "Get In With Me",
          "Dientes",
          "When It Comes To You",
          "How We Roll",
          "Cumbia Buena",
          "TWINNEM",
          "Terminator",
          "Banana (feat. Shaggy)",
          "MON LOVE OHO",
          "Commando",
          "Who Is Your Guy?",
          "Oublie-moi",
          "Monkeys Spinning Monkeys"
         ],
         "legendgroup": "Radio & Playlist Hit",
         "marker": {
          "color": "#EF553B",
          "symbol": "circle"
         },
         "mode": "markers",
         "name": "Radio & Playlist Hit",
         "showlegend": true,
         "type": "scattergl",
         "x": [
          3.060882291925726,
          2.6164028910622688,
          2.8288440823080103,
          2.525361260210556,
          2.948918751203215,
          2.4848997347565405,
          2.492285419105872,
          2.9425161834182596,
          2.7845512124697915,
          2.9395623986997266,
          2.5535985714675364,
          2.611013597747436,
          1.760867798949566,
          2.6156904462863264,
          2.6967017942387383,
          2.5958090353120156,
          2.2957559798688156,
          2.4996879764065945,
          2.195412013107932,
          2.442677305027979,
          2.610492900927429,
          2.3582982439232416,
          2.6004755412708165,
          2.0322304308744643,
          2.0068569624325954,
          2.4397834582541646,
          1.2345568609410094,
          2.3314833466311518,
          2.510998286904047,
          2.5543654116565793,
          2.6379711052028028,
          2.234651822942651,
          2.3854879427833575,
          2.3691048085366613,
          2.095113890605478,
          2.3151998167369268,
          2.066542393121907,
          2.2520292674342013,
          2.292455027347631,
          1.6001741087847308,
          2.4610448215766656,
          2.24088134163258,
          2.3120291774302517,
          2.389698322140338,
          1.8760992608014688,
          2.431923207142308,
          2.290072502001628,
          0.9878261491830818,
          2.075809997940188,
          2.4109629769174603,
          2.2300798864859592,
          2.0908742450040614,
          2.362046074703117,
          1.863454927018895,
          2.523849204100766,
          2.399596068707397,
          2.021878323019107,
          2.3822983961565614,
          2.362228402121766,
          2.588524220946074,
          2.540495361786887,
          2.540169860917524,
          2.122786824390214,
          2.543094518292533,
          2.130939433072083,
          2.1576761384295344,
          1.6906058176639727,
          2.059611283914354,
          2.0067280407035475,
          2.362482372533002,
          2.4474057697457945,
          2.1425664996368563,
          1.759784830676688,
          2.474492002749022,
          2.29151106648088,
          1.8058770541063276,
          0.4104172888899816,
          1.959518379651344,
          1.6691368739514572,
          2.3768330130323037,
          1.7206865376410478,
          1.6867266439532729,
          2.41206248734352,
          2.5557889104300404,
          2.0175932106869054,
          1.907778763008874,
          1.7779802085859704,
          2.1240772871818336,
          2.2118351333542225,
          2.473139870929076,
          2.1857589370379324,
          2.2014283367009067,
          2.2468670701028035,
          2.40722728906044,
          2.1679011511338304,
          2.203981537862504,
          1.8733805490800681,
          2.234215669148874,
          2.0698123492198874,
          2.397042336957873,
          2.6348779471875807,
          2.7074766177322096,
          2.1053447517177153,
          1.7893676083614742,
          2.2668120451211107,
          2.4234421142096982,
          2.2333100439214193,
          2.1682342964570145,
          2.3349843974576654,
          2.408624422236181,
          2.1651222730510327,
          2.52272366092183,
          1.6030438303645624,
          2.2566820690044693,
          2.254987004687002,
          1.7692056200449064,
          0.6819198242991145,
          1.836813096678306,
          2.169109818178832,
          1.5285214328620327,
          1.814536924578992,
          1.5610128632082794,
          2.31175558328182,
          2.397060553646133,
          1.6663090688892537,
          1.7662924784414948,
          2.4482989953085124,
          2.2098020540702734,
          1.1946156843032993,
          2.443000168684036,
          1.973712854774739,
          2.382444370360684,
          1.9332487978705333,
          2.0583177109276005,
          2.433045906258367,
          1.8385922452229657,
          1.0141056806470174,
          2.3617759833873753,
          2.3597259545559237,
          2.008099400557477,
          2.1747389411510216,
          1.52738925109199,
          2.1014117318377883,
          1.3681243818181863,
          1.416928123822132,
          2.2279729052073827,
          2.5081464062987364,
          1.7685234180967715,
          2.3377240979113987,
          2.212658588785272,
          2.3721081692255703,
          2.4082395321294556,
          2.020337975229272,
          1.5375813996455108,
          2.3588549792673197,
          2.004721583543091,
          1.1478325271916128,
          2.2786351014838773,
          2.0862893182880344,
          2.2396503666054928,
          1.191333503908383,
          1.596477664793659,
          2.3954821012008662,
          2.0177700241085774,
          2.2071827943717746,
          1.843398407571188,
          2.071156594068964,
          2.4135001851384903,
          1.9592800904042857,
          2.042463343325308,
          1.860018254889815,
          1.87941617557322,
          1.9708171536754855,
          2.1377655200645984,
          1.888249468136977,
          1.891966983537358,
          2.3323548006449646,
          1.9446970623936533,
          1.3623258183742155,
          2.0201089384374775,
          1.5336042824835878,
          1.9934856642117043,
          2.53842920270836,
          2.2347681290249914,
          2.1411959912731215,
          2.0436158581485344,
          1.79836151725492,
          1.7933473727231988,
          2.2326125439763973,
          2.2834198766849116,
          1.540919319357512,
          2.204894520527152,
          2.0124297453767155,
          1.9133428457146247,
          1.6424119072166334,
          2.1841189309478914,
          2.0538851898611385,
          1.5424090990216057,
          1.9984182176439402,
          1.817326125542801,
          2.1624238809150644,
          1.9018658362230065,
          0.9450343357415945,
          2.222229041123107,
          2.237707328053991,
          1.9523286364986516,
          2.042193618789183,
          1.3118656628210668,
          2.19974416664511,
          2.258294789600463,
          1.5205612658876124,
          1.9122985734662838,
          2.102421843903002,
          1.8871209008231438,
          2.028462368194531,
          2.20904241454815,
          1.706811483774385,
          1.705935992111879,
          1.8931790257689094,
          2.057380386689894,
          1.8655134901648458,
          2.111086261525414,
          1.991073052499069,
          2.1647385789984965,
          1.5918258082831709,
          2.001398899353066,
          2.0568083278693416,
          2.2748907411129906,
          1.979951059297482,
          1.875300996341433,
          1.7027867401722032,
          2.3938062795142403,
          1.8329966137779106,
          1.813785948524417,
          1.5752952476039164,
          1.359677652748715,
          2.092049268041982,
          1.826059919902545,
          1.955225604425333,
          2.1521675909976103,
          1.8570499126675828,
          0.7896375669564779,
          2.1481827436231216,
          1.7850632616662407,
          1.8342040042592989,
          2.4026252410000737,
          2.085307433163832,
          1.8120525270750059,
          0.5207546210342006,
          1.5318907460861229,
          2.1606718404437584,
          2.2767069967964617,
          1.7270595161207019,
          2.1436913510120377,
          1.9735560272243677,
          1.3331989565757947,
          1.975282761799311,
          2.239044017321686,
          2.1754428165328354,
          2.0501087134951166,
          1.6657183809143692,
          1.872391703572652,
          2.1898137726603464,
          2.035355324568918,
          1.8071180743460493,
          1.6108866905200467,
          2.128219277546617,
          2.4414662366622797,
          2.376881905786535,
          1.8134273422483251,
          1.1998157800071614,
          1.6858594115995913,
          2.2318643508618163,
          1.5798896193130203,
          1.999891865220925,
          1.8120252242401982,
          1.7897623133905816,
          1.9771398700565688,
          1.5509222479898208,
          2.214803171756803,
          1.8806726577879143,
          2.1758271272759795,
          2.5002288241925377,
          1.6299819833147668,
          1.2769446561936824,
          1.7082103502386736,
          1.7098418961950232,
          1.9474364781871547,
          1.8421880693871162,
          2.143887077697666,
          1.9743323843739775,
          2.11638257632191,
          1.5230763858642065,
          1.9052284410395215,
          2.0420900673381905,
          2.120393468740011,
          2.0733754786132264,
          2.1037820661466045,
          1.7384288250331579,
          1.7463138325092096,
          2.2539757229236344,
          2.3397420414253425,
          1.27132184345075,
          1.6375284328473285,
          1.941684535427486,
          2.053441538952605,
          1.665684888421478,
          2.164316664743136,
          2.09883909890229,
          2.2047533876584904,
          1.877030095087269,
          2.1256148703895774,
          1.929420053703288,
          1.702301202574137,
          1.6157538014034645,
          1.7004751633199635,
          1.8025828247172635,
          2.062510050708518,
          1.708831353239612,
          2.1930473631460705,
          1.791890967782111,
          2.1235692419648684,
          2.109173700490568,
          1.919921463748427,
          1.6773584947294673,
          1.893937132247456,
          1.9874404116174127,
          1.9089952516302213,
          2.2346942078269008,
          1.9808347548482002,
          1.9302961167067,
          2.192015415474363,
          1.8549085482004868,
          2.0724258300602223,
          1.7307633602760457,
          0.774413156985368,
          1.7467890526884984,
          1.5709285057368012,
          2.1002803495317455,
          2.0905798746557402,
          1.1889647066042104,
          1.6944776260988539,
          2.136995182684061,
          1.4402375391417508,
          1.6388936156211358,
          1.9511821856245282,
          1.6863928658883915,
          1.2330894921467292,
          1.787798987392643,
          1.8163641980100238,
          2.038416039291344,
          1.8172508164561718,
          1.5379137551477369,
          1.6034473038850046,
          1.392260732548772,
          1.280433371257356,
          2.274262959098162,
          1.9682043338618391,
          2.2073072546462877,
          2.3310529811989027,
          2.037317790783001,
          2.139217529036739,
          2.195682063955853,
          2.0208818130803867,
          1.6495980057029185,
          1.7974437844239466,
          2.1114848547923115,
          1.7271736109271567,
          1.8591811974959411,
          1.844758315960796,
          2.213553065239078,
          1.349737449946312,
          2.2233371019875436,
          1.7529852181360936,
          1.7987265493708384,
          1.8472302781032868,
          1.8162666777488452,
          2.071146021831749,
          1.275225079930923,
          1.1874791292420996,
          1.726697278518452,
          1.727989474440645,
          1.291912169556565,
          1.3937972048650693,
          1.3982361347048415,
          1.6021862138929825,
          1.7007768995699741,
          1.9974217964314824,
          1.8790559340633985,
          1.4950243554101463,
          1.7304905035933174,
          1.9159806359731602,
          2.104444050226792,
          1.645531745756863,
          2.16292972620566,
          1.3247587589655396,
          1.6733463567934432,
          1.3122881505586081,
          2.0738359345781046,
          2.1941100880069206,
          1.9416345645594193,
          1.7649276664764046,
          2.2454223408302707,
          2.137400930653241,
          1.1922520279272815,
          1.785444759071149,
          1.6957043718424063,
          2.0770082740238403,
          1.905588995153528,
          1.4320475404763602,
          1.9274168721461538,
          1.7835200652893242,
          2.142717001293691,
          1.8065170394907095,
          1.637432368833122,
          1.8354152866584337,
          1.7422705634487403,
          1.901285496105625,
          1.531159396365241,
          1.8393382772125386,
          1.473784095666006,
          1.846605516595756,
          1.806290368185883,
          1.3250717335870679,
          1.7858370896786846,
          1.5777307222172894,
          1.626756919482338,
          1.6806196465120558,
          1.8250498088522984,
          2.175733972798206,
          1.8922857133981907,
          1.812858378272989,
          1.5175673206421278,
          1.6678232558366726,
          1.7054801819096856,
          1.7426081304029661,
          1.9750985337993148,
          2.205910729633849,
          1.8281422045519742,
          2.0307914440040786,
          1.8026703226214764,
          1.9476221817472923,
          1.247030424898271,
          1.762849345982549,
          1.6821858342710538,
          1.8528428858550332,
          1.7789739393810806,
          1.6100826553394527,
          1.9216993776334392,
          1.1258104332646963,
          2.1286866173955508,
          1.3815285838131377,
          1.6206861153273353,
          1.9877372849356592,
          1.5735313238756783,
          1.7985494309872643,
          1.6105386237896713,
          1.277677676059894,
          1.642921069674262,
          1.4710638134054728,
          1.697947452917481,
          1.5821467473832673,
          1.3125939761260554,
          1.685088231283289,
          1.9362361506196841,
          1.837885753784914,
          1.4155564482058896,
          1.601418832010385,
          1.6619326888435166,
          1.6423772722298065,
          1.9163254305533919,
          1.4292645455119284,
          1.726807949144406,
          1.701455500440086,
          1.5990397516484893,
          1.9099003372050194,
          1.9306796389213308,
          0.41852728013620405,
          1.9581587433375944,
          1.3813309805778542,
          1.7610651546983243,
          1.8698557518300896,
          1.7320644411986574,
          1.579737324622645,
          1.4553096993191288,
          1.3201867573852464,
          1.43288296491493,
          0.024504025449373516,
          0.7983200367397397,
          1.942657013479834,
          1.6544266473488576,
          0.984039365268404,
          1.508534442639227,
          1.7060013220877228,
          1.33959405677266,
          2.183141302815585,
          1.9923007749397414,
          1.7152341398213602,
          1.8258803218623603,
          1.8958491622179074,
          2.0650742199650574,
          1.905445123007428,
          1.2882737951169092,
          1.202312114431454,
          1.394798016845399,
          1.761178652401154,
          1.9667689678579476,
          1.995895959477802,
          1.4396765542324732,
          1.5902321102324068,
          1.8087243589707587,
          1.5924350740169233,
          1.8061220674896115,
          1.8422730745798672,
          1.2811482524447408,
          1.6331716267053034,
          1.4978302935716905,
          1.7355101731899327,
          1.5495168407748983,
          1.5593397855898294,
          1.7719574660968556,
          2.1585833814984547,
          1.6122088466133646,
          1.8364970240289418,
          1.1830609427467915,
          2.002990452490006,
          1.0861046338156974,
          1.9152249112728876,
          1.685862899842951,
          1.968237197145077,
          1.8860070417676287,
          2.0094114813216377,
          1.7192370141579072,
          1.5036262015898982,
          1.702231887497854,
          2.0437013534785464,
          1.7502624726502929,
          1.1977687162138961,
          1.4523408298996099,
          1.4329894138359656,
          1.2837423250614606,
          1.3838358467147096,
          1.5053369825437686,
          2.0673202133668083,
          0.7052433140628952,
          1.8572808874815914,
          1.8722164676729964,
          1.9592843721612931,
          1.3513203180945996,
          1.5917791821194884,
          1.8839510569046602,
          1.8413884872002193,
          1.2983414630380083,
          1.5702546404378592,
          1.4033048668936197,
          1.5997905819985143,
          1.9243091438248707,
          0.6606106791126686,
          1.6546445012640338,
          1.6111969801565467,
          1.7737241422400651,
          2.126162822918005,
          1.4178215530737204,
          1.9498258894854432,
          1.523119733631487,
          1.5045531594100254,
          1.8280981634302713,
          1.1509022588809923,
          1.0492533961127557,
          1.6810684345906832,
          1.546124427285016,
          1.6044836546422443,
          1.172172669965306,
          1.6140178674478172,
          1.6021930634887938,
          1.6665735547435936,
          1.323649297294605,
          1.703719299946144,
          1.670811841751426,
          1.6901293439634755,
          1.8031593206827192,
          1.5576467006487142,
          1.8561172294813857,
          2.0787178250255307,
          1.9008623665753468,
          1.7073451519475216,
          1.8905205380747432,
          1.7839848255426096,
          2.1780212591431196,
          1.9379687846605134,
          0.7838751326332462,
          1.4180473789795354,
          1.2883982761275927,
          1.2788295643820053,
          2.0963086347514017,
          1.502258229822202,
          1.4322098203124145,
          1.5348373933211303,
          1.8328777575172117,
          1.0988462287615157,
          1.514754501545676,
          1.0445196115385191,
          1.4049037743930983,
          1.0656300095200457,
          1.8962315581957834,
          1.387252185366745,
          1.6811894422550537,
          1.9667080815085574,
          1.555449671588749,
          0.9671338205609055,
          1.7292376248891965,
          1.210116876896179,
          1.4701597728195075,
          1.8479771650958805,
          0.8501169262071923,
          1.5802623270377738,
          0.7322381128623474,
          1.9979843265695216,
          1.6339054072674175,
          1.5694469252275807,
          1.5908901914224498,
          1.223274066920993,
          1.4437899858065297,
          1.8633001414274775,
          1.7876185895209793,
          1.5463855185412294,
          1.3056612629547506,
          1.7601331271188771,
          1.9121634118198598,
          0.9733845507170475,
          1.732164720110078,
          2.201972261784379,
          1.3437214973370168,
          1.4208746605955842,
          1.449563599062409,
          1.4530978843387392,
          1.9022947138176187,
          1.8934899958722233,
          1.3440608215222793,
          1.4001796036970726,
          2.04252631534346,
          1.7066469249074308,
          1.236533448494772,
          1.3893521249184815,
          1.5787829700674623,
          1.410581247027176,
          1.54433081501654,
          1.2682122665359354,
          1.7117394698996342,
          1.5568902476384208,
          1.2465589865471467,
          1.3092643858143878,
          1.6036346246318016,
          1.9719855976815373,
          2.138087744937483,
          2.0030049451198013,
          1.6115178150162304,
          1.9854047266041692,
          1.624790021205225,
          1.5871018256137037,
          1.5534440510103427,
          1.8822494905747538,
          1.020447586240394,
          1.4060491272454902,
          1.7299574806573046,
          1.4073124036707902,
          1.8835424130124627,
          2.0215524724093856,
          0.6362868824360142,
          1.5236228634250368,
          1.761750122437443,
          1.620921848152338,
          1.4751595497995573,
          1.11440732287535,
          1.8723252926623009,
          1.2890066087187269,
          1.344132480646105,
          1.2524618957032934,
          1.6553498993518252,
          1.1725874988839473,
          1.256675310470798,
          1.9876631651808885,
          1.6508265794523758,
          1.5723442403175776,
          1.7373436678077818,
          1.8745551489044818,
          1.7810953369653408,
          1.551576960020404,
          1.600923489485956,
          0.8250809368568618,
          1.3075932994226787,
          1.1492352964625978,
          1.9458833974666372,
          0.9543143686363691,
          1.473296804259965,
          1.2912262601382607,
          1.2260592127099799,
          1.1777751187182541,
          1.4205551920660344,
          1.385834829048872,
          1.3225716977727693,
          1.550344758635179,
          1.9660407600252103,
          1.5747633080942163,
          1.1472519068709266,
          1.3820887100939294,
          1.609106588525479,
          1.114265348000148,
          1.1533248398560496,
          1.7259500965658756,
          1.965854335967704,
          1.4960822686198925,
          1.951447953848228,
          1.3621018046043174,
          1.5650861213170257,
          1.5149257240921232,
          1.2326508696013574,
          1.4606592309754498,
          0.9280667038200645,
          1.3279590117831161,
          0.9821781057301118,
          1.5307797549360553,
          1.1893574638724664,
          1.5969694261181226,
          1.5290351604962138,
          1.4039416288264364,
          1.680324568154955,
          0.8019161045421092,
          1.2516289996057428,
          1.650127020949063,
          1.733134139805491,
          1.547634888567678,
          1.3522481012530108,
          1.599530065542772,
          1.4789572270200184,
          1.8011917650088214,
          1.3066570102369732,
          1.8962489528542985,
          1.3131391518942095,
          1.7471269949900254,
          1.6561289026170012,
          1.564897636403072,
          1.385753236463926,
          2.0372554974218424,
          1.634840938609839,
          1.068165384349707,
          1.0272610673706786,
          1.3945052961869129,
          1.2612913945526918,
          1.2681497728892206,
          1.4649698360446644,
          1.2678620998864225,
          1.6059309625658766,
          1.032760660625985,
          1.5529353901004723,
          1.232467374324102,
          1.4140831861282492,
          0.8973472441797518,
          1.5032382897303393,
          1.2175297392691284,
          1.5936508503831064,
          1.7337162083754192,
          1.7996804894867855,
          0.28596156829983105,
          1.4560002934592349,
          0.9741459457187372,
          1.3431627806504625,
          1.2966646758838485,
          0.9167087136639389,
          1.5732140879212808,
          1.8028761694237845,
          1.8334843893044068,
          1.3525265079281041,
          1.541522441778126,
          1.7108452018788554,
          1.1409584608665702,
          1.3686000178741218,
          1.735004393095542,
          1.8313422692589643,
          1.63133901659462,
          1.6591517591866738,
          1.2864118483126017,
          1.4610939746325942,
          0.9677428625956651,
          1.2899178025685294,
          1.1699862879866967,
          0.5742455062485957,
          1.3636071434887438,
          1.5458497898351617,
          1.2572017636785306,
          1.0947881119920373,
          0.7316736450810207,
          1.3928973726518024,
          1.4605259228425407,
          1.3269244600087977,
          1.3012160497287542,
          1.7876016350374546,
          1.6281929332505787,
          0.6523493093907178,
          1.1531512940961268,
          1.5085192480678873,
          1.2506704802120112,
          0.7560330765393471,
          1.402857434640196,
          0.9584254959316306,
          -0.003773702646668198,
          1.1713268588511525,
          1.2518530115486681,
          1.8966548135223542,
          1.9677750264978726,
          1.1714880738839983,
          1.5895447608881863,
          1.5462917271056043,
          1.5640831170584433,
          0.8574659012261351,
          1.1143124886745153,
          1.1430301817541846,
          0.2596993475896629,
          1.3540790961015798,
          1.488462327282246,
          1.821409732312528,
          1.504071436696478,
          1.4733806788339312,
          1.3842879535759633,
          1.2140363723248653,
          1.8040629228302287,
          1.461756403758851,
          1.000949298156487,
          1.2470352582371484,
          1.382981700919759,
          1.411006100798778,
          1.3387465909602287,
          0.7205592432382143,
          1.3669233830850407,
          1.101922215327213,
          1.3213373805945439,
          1.5903775276848597,
          1.44028554728163,
          1.2656444219578993,
          1.307401257460736,
          1.2184732998338863,
          1.1370786957233214,
          1.1486533167670923,
          1.3865512525829917,
          0.7539888185892135,
          1.5673475190443125,
          1.168962034021014,
          1.194224385196713,
          0.9289930023651519,
          1.4542908316545105,
          1.400399917556453,
          1.298707837388163,
          1.4205602009502032,
          1.6038641536625378,
          0.9787668858639725,
          1.8211218236528577,
          1.4920851059312419,
          1.6240670632606482,
          1.6393406393302568,
          1.4559795085228933,
          1.0808157553006883,
          1.570717768413913,
          1.311386251471535,
          1.2004987069363018,
          1.7260443539462136,
          0.3355865111559248,
          1.1883285290079144,
          1.5243016392459325,
          1.7667539735541002,
          1.1037410789764386,
          1.002160281047007,
          1.2928968523032633,
          0.9717945164851998,
          1.8520622012123982,
          1.6098438361316876,
          1.8328294506135576,
          1.0845503060871793,
          1.0923827137560291,
          0.9660770455499262,
          1.3690503521636221,
          1.7650354392295655,
          1.2137881949756892,
          1.7741083479917668,
          1.454246397525684,
          0.5452698180035349,
          1.8812177928318619,
          1.6260231871046573,
          1.0412466410698078,
          1.139816828534888,
          1.165636936374438,
          1.2106573765473647,
          0.9715092158662932,
          1.1501307863302885,
          1.3080931763004389,
          1.1628114251543218,
          1.017725559605853,
          0.9862737844419527,
          0.9265087714078962,
          1.522492266079728,
          1.6905527622234942,
          1.1140594758078164,
          1.1580686390665698,
          1.184533019679096,
          1.4418668321404335,
          1.4485386273339642,
          1.502575752349887,
          1.354547740980573,
          0.9550743708348215,
          1.3803717871888903,
          1.452467843399009,
          0.8613511233212797,
          1.1554942092828406,
          1.2746128488239474,
          1.6635534163990997,
          1.1246584318009005,
          1.5329359998107719,
          1.8160571286380416,
          1.1726468578179738,
          1.4900235994844704,
          1.4595232379181013,
          1.539240640351347,
          0.6566192621291926,
          1.3920636105720217,
          1.4371529435183328,
          1.1655896571848843,
          0.7871169603517659,
          1.122888965693205,
          1.2967277780514381,
          1.1978752412370823,
          0.9959128585123452,
          1.2332528681595505,
          1.3934501271611088,
          1.4568972763470074,
          1.287418144018424,
          0.44175706415807797,
          0.8381460761311685,
          1.5055316157920595,
          0.9482956837193707,
          1.1355140311196896,
          1.1853248723215033,
          1.2615488345149386,
          1.7401133841743701,
          1.072627438315281,
          1.4960788109480843,
          1.151582988617947,
          1.4655386711256115,
          1.1300320033221387,
          1.3435565260095088,
          0.5740647412992999,
          1.564120569070927,
          1.1968851312222641,
          2.2629585705968616,
          1.0901454508851134,
          1.5905080769817137,
          1.3592084514736207,
          0.9588402584610709,
          0.9160560011605489,
          1.3953905588284288,
          1.2672498811958932,
          0.7663860902454921,
          1.130073434969293,
          1.3416744028258145,
          1.4450733475003028,
          1.155423223079243,
          1.2479343620640901,
          1.5814075814676996,
          1.469458375349957,
          1.4408616446189915,
          1.0786336779701748,
          1.3655705762223902,
          1.0462368459068379,
          1.268131035365627,
          1.5366962157899138,
          1.7870755318938059,
          0.7043762472093844,
          0.8437724638585756,
          1.5049403934073176,
          1.1659336266836156,
          0.483852115978713,
          1.4690655454126644,
          0.9526100291973542,
          1.4730151568509953,
          1.4144098531175635,
          0.923836115335705,
          1.1224335062400845,
          1.2047206525889211,
          1.546146838683635,
          1.071498228556247,
          1.259569271983187,
          1.226651041580288,
          1.3477652304896797,
          1.5362929713341535,
          1.6227287569451858,
          1.362906987108336,
          1.3641448583261606,
          1.2727156113007871,
          1.2489826163233764,
          0.899569263726936,
          0.443043996081208,
          1.2958750027650263,
          1.7863949555142569,
          0.7532329624228249,
          1.3544104755490276,
          1.5584543760621543,
          1.0106848022926076,
          1.430195839251984,
          1.002692385825822,
          1.281663595627376,
          1.166429518743492,
          1.749588861386595,
          1.2271808734312095,
          0.42069206839661616,
          1.1043303785416227,
          1.0414350669853882,
          1.1836612372559363,
          1.628357847117461,
          1.7649085806042848,
          1.605165215411068,
          0.5317693673460965,
          1.3770190829586617,
          1.2902835741657617,
          1.189928054147178,
          1.6996011120165342,
          1.0558113685828128,
          1.4694908180896675,
          0.0950002777784801,
          0.8231986939510906,
          1.2950183911388944,
          1.2224555251417244,
          1.740390096303355,
          1.0336522716761094,
          0.18064908779192856,
          0.7513092061526445,
          1.367151513060628,
          1.3097305925244127,
          1.3477412492249852,
          1.4124480532390606,
          1.4344689067440743,
          0.8322811047657146,
          1.0931241932623166,
          1.3754189512566957,
          1.5722429446092352,
          0.8484759838677779,
          1.4718612645379772,
          1.2412343132984136,
          1.4580184841072603,
          1.0647987352458292,
          1.6709783764833421,
          1.0857804989858275,
          1.4172238490799043,
          0.8261319777112801,
          0.7771437079889021,
          1.2043934962978415,
          1.562523728123417,
          0.9629383934535213,
          1.1876250032596845,
          0.8196864213315623,
          1.4300729536153145,
          1.1917809820553094,
          0.6156921020036922,
          1.743359061128041,
          1.084550478792042,
          1.593751183202861,
          1.239461822459798,
          0.943278427297321,
          0.7539852916284611,
          1.4684828637353258,
          1.0583089921844928,
          1.3873206346583016,
          1.2708915682329736,
          1.6197978532296042,
          1.0887708698346394,
          0.5604751720280129,
          0.9877555085493362,
          1.5522351198119178,
          1.2515961733960832,
          1.359807675490473,
          0.8030877869768706,
          1.2727331572819167,
          1.4065805411131398,
          1.5092866664131643,
          1.220834525055726,
          1.079062008191525,
          1.3797470460681467,
          1.2779930196639941,
          1.3267960149306797,
          1.1843345344878633,
          1.546018004668565,
          1.2307953840879864,
          0.49423311976147,
          1.5030604503691314,
          1.2763766606966587,
          0.5403575593943665,
          1.137038770987764,
          0.8161181961043075,
          0.8288684884006247,
          1.5411799140898348,
          1.5423718263443873,
          1.0881629858008435,
          0.44748153132034485,
          0.8215582644509436,
          1.0122795958807533,
          0.6920736416439718,
          1.0164068938669166,
          1.5830362743766855,
          1.1087517578168729,
          0.6978577853900612,
          0.7898248601434719,
          1.225255119786828,
          0.9628811270643556,
          1.2903752856014399,
          1.2522630412689693,
          0.961133036134427,
          0.5603484965564716,
          1.512380501616814,
          1.1950920713044935,
          1.4837351193260415,
          0.9665606998910975,
          0.9346024851755326,
          1.1132448723577983,
          1.543775896718301,
          0.9103689207550981,
          1.2011694728399993,
          1.2519772865868304,
          1.2156087255480568,
          1.5347180116354115,
          1.2430066613475974,
          1.0796014477626623,
          0.6632956165129996,
          0.9276745317769691,
          1.7834828589697989,
          1.19396028821683,
          1.0313252305341034,
          1.4338104092469324,
          1.2528291374969451,
          1.4829777090572,
          1.3779713688998765,
          1.0448709542133168,
          1.3882435281485164,
          0.8307546167650319,
          0.4950197611263448,
          0.4786758107507204,
          1.1229738846808766,
          1.5128952987584903,
          1.0429317113710674,
          1.5245705628522035,
          1.582980712464469,
          1.5033202099195806,
          1.0033723363263516,
          1.0572088363313894,
          1.0307431246382093,
          0.32898621760970187,
          1.476450227924329,
          1.437965121626904,
          1.0601872823252352,
          0.6054111812256852,
          1.0635182942172228,
          1.2083069990894115,
          1.808516940214127,
          1.369370429303229,
          1.4258398237511212,
          0.8454801078101418,
          1.0198723888864736,
          1.123351770223876,
          1.5610895530752087,
          1.1098528555851477,
          1.3015713405060907,
          0.9151365123626805,
          1.7522242100660992,
          1.626376989159356,
          1.0600755919508282,
          0.13240657528260377,
          1.5461932904657054,
          1.0877747169473546,
          1.0753105239918244,
          0.9275961541253321,
          0.8428606273368225,
          1.3888450349474406,
          1.4192958360697396,
          1.7023004561164108,
          1.2038732093827833,
          0.8033150775277416,
          1.493883657713855,
          1.1867163977496933,
          0.971299884335775,
          1.2197788497619264,
          0.5467704178464767,
          1.3593718937853443,
          0.6061165510079705,
          1.4352227008858838,
          1.6022422232822016,
          1.0151827148367958,
          1.346008138286445,
          1.4195059535953376,
          1.20816627959115,
          1.5141976026334905,
          1.2961976621782922,
          1.0970413215188068,
          1.5374183747466206,
          1.045080400941041,
          1.4802827499182583,
          1.6413972996528179,
          1.192096271680497,
          0.9442754455371588,
          0.9102618980485653,
          0.37257347143386754,
          0.6405598037797748,
          1.1226121070209598,
          0.3801676865867617,
          1.0616582523649385,
          1.560836875714872,
          0.74269082619244,
          1.261011257033649,
          0.8279716024407484,
          1.495898983615529,
          1.390263958068349,
          1.4577628488865764,
          0.8050431635509276,
          1.4287977034313573,
          0.8825509362056951,
          1.2188034176283655,
          1.08020801787524,
          1.0457109072875959,
          0.9773287213018803,
          0.2959024129653883,
          1.3782052423797628,
          1.1529774272162325,
          0.9057689374723235,
          0.5495072393985401,
          1.1284315947175534,
          0.9969040727111887,
          1.2230607004711183,
          1.50050719864028,
          1.6558502234493282,
          1.3987459498561832,
          1.37188090796007,
          1.2289144065144895,
          1.2489600203754916,
          1.3512116916185308,
          1.2005169315730833,
          0.6590718532421418,
          1.3886428010746066,
          0.46993833454629785,
          1.569401370011388,
          1.0550906254092338,
          0.8458642689309688,
          1.2918705077014685,
          1.1154580063865285,
          1.2906896945441848,
          0.9013006910738148,
          0.9643551451924045,
          1.2036921721550489,
          1.4888175188220654,
          1.4344516123073385,
          1.292077016199181,
          1.1332809210330228,
          1.183742837232937,
          0.6541547267604533,
          1.5429641740521576,
          1.1491060826795658,
          1.1813246044946304,
          1.3136286487949225,
          1.1542905508349943,
          1.2590774071901947,
          0.9514461390173374,
          1.6737811815143038,
          1.1985147384819557,
          1.216755029513904,
          0.7991899656193845,
          0.7253055902073968,
          1.4391370460609167,
          0.9387860444443583,
          0.549975408358654,
          0.8905270389057777,
          0.8165132461510375,
          0.5401890998163849,
          1.5322034554030097,
          1.4878699554950165,
          1.1426664474900945,
          1.33040130920286,
          1.0922592789821082,
          1.768911290008018,
          0.5369922225504875,
          0.23464397248442198,
          1.2390142182096024,
          1.406551997252816,
          0.23842595306783254,
          0.8911289977530544,
          0.7638262341133832,
          0.7849897953930584,
          1.01720615510715,
          1.837424328809047,
          1.3235909355324746,
          0.6669156028528328,
          0.9173886954809124,
          0.8509895586890832,
          0.1681799706890728,
          1.1561853112035725,
          0.4015671428860394,
          1.0220344749390717,
          0.7283753681950941,
          0.8544892691383416,
          0.29295660248027805,
          1.4125034942732075,
          0.20914859498009924,
          0.9445190808724253,
          1.176443069049305,
          1.5383772976377204,
          1.5067011147242406,
          1.0239033846664605,
          1.2685447638390834,
          1.2035252004092314,
          1.3794226040931254,
          1.365764643129378,
          0.9346624754378867,
          0.8492014514713443,
          1.3021861379126554,
          1.3019555086488979,
          0.8659456172039106,
          0.5417067013591681,
          0.9228891512281271,
          0.9471963751054323,
          0.8732595316529391,
          1.0618964878580563,
          0.9624132305377199,
          1.1628443013901237,
          0.7415418866451886,
          1.3841796375975153,
          0.2801179148999904,
          1.3719750660211834,
          0.25714602116008045,
          0.768101645968301,
          0.8837302679045448,
          1.4708785829408895,
          1.0608275353331478,
          1.2049038808981227,
          1.0958201908092426,
          1.315650431123741,
          1.375252690879162,
          1.3686475632469937,
          1.1243820038988874,
          1.5536681985221807,
          0.44825610707787933,
          1.3398782800641753,
          0.6990552777731571,
          1.4000079284907432,
          1.2087888815937586,
          0.6479073221881984,
          0.847559472420128,
          1.276817631265911,
          1.160477645124265,
          0.31968587668187337,
          1.1852615500169246,
          0.4119184239607509,
          1.3216584944768728,
          0.9063953967322116,
          0.872846115627391,
          1.5233255008580817,
          1.3115781878663755,
          0.547929924121862,
          1.005705084027263,
          0.9748570997881774,
          1.2402073432618765,
          0.8724659813926949,
          1.5086424805930732,
          1.497008425052769,
          1.2587397140132075,
          1.2093879719744383,
          1.1543886305842301,
          1.2115900864549467,
          1.5127742219960187,
          1.1702548641600865,
          1.6643860394818186,
          0.07740246542772025,
          1.198179225935026,
          1.0874087445335225,
          0.5881588862191651,
          1.137583349712002,
          0.5969414641393759,
          0.9563423931179952,
          1.1900813187282626,
          1.483568240196187,
          1.449761362629185,
          1.092161430958333,
          0.4743577573492683,
          1.047982731583279,
          1.1679475929643348,
          1.0902464737796356,
          0.780458056529051,
          0.31141612400290947,
          0.6838346259802238,
          0.580321168202338,
          1.1777926221374944,
          0.32270115044241754,
          0.9331662220506755,
          0.38988135617467234,
          0.9677247049905178,
          0.7748713705690252,
          1.2509572215803129,
          0.6108870810657874,
          1.1988750565493633,
          1.0158073485563799,
          0.8957622004646495,
          1.417683838546739,
          0.4979539530593475,
          1.1883848496258003,
          0.9878435461268013,
          1.5473957829834533,
          1.2389941944747522,
          1.6500098422770781,
          0.92411050584249,
          1.0741586587486807,
          0.8038593624313691,
          1.0872402341429486,
          0.4778251239592136,
          0.2097208140763565,
          0.5134069579043914,
          0.696268163128514,
          1.1424511244809568,
          1.2855571705060282,
          1.143456738709241,
          1.5574279451350752,
          0.6698435871626218,
          1.002115749755608,
          1.5071372182273766,
          0.8907611443847986,
          1.2299023839892613,
          0.4854641585492475,
          0.7363833298636195,
          1.4290717105490431,
          1.1827109396781994,
          1.2083148661961323,
          0.635868074770886,
          0.45543079949232257,
          0.8739284276373431,
          0.5367290098340444,
          0.9552211643333354,
          0.9828111163716476,
          0.7444823625912026,
          1.4151393094916536,
          0.3985437242097473,
          1.1197587364647947,
          0.7274991115513505,
          1.0806574582375226,
          0.6384162212388097,
          0.4325355203548776,
          0.7456957744647785,
          0.9802775145582712,
          0.8590529495476936,
          1.2590311222008448,
          0.7600301525309803,
          0.5753529110760823,
          1.4649798161821108,
          1.4444500168071532,
          0.3803427429679496,
          0.6249707101240839,
          0.8774584691227187,
          0.867391741399267,
          1.1066626839358167,
          1.1296251757294853,
          1.172448512536049,
          0.8290640595285973,
          1.2642596096218897,
          0.878276975838874,
          1.2039753695683573,
          1.2109167195462345,
          0.5652275803517418,
          1.1282489536687912,
          1.4087531786469696,
          1.159677203580589,
          1.151827719465984,
          0.7123063906519425,
          1.0999151909158917,
          1.6744328817285106,
          0.5457754028413024,
          0.32142504782537956,
          1.0625364810954594,
          0.6037121206150408,
          0.5863652939092578,
          0.745648233696936,
          1.399204171389129,
          1.2527367544179036,
          0.4838082424208012,
          1.5095105050688145,
          0.974659941906804,
          0.5686023218061519,
          0.9217745047824587,
          1.296714268291244,
          0.5850830048815785,
          0.4331548189179583,
          1.5482481630303584,
          0.9322680738701477,
          0.8624229077805291,
          1.2484518182487987,
          0.984901093727936,
          0.8340915878611974,
          0.8168740879662066,
          0.8480597105669107,
          1.157953061465216,
          1.0638258050765954,
          1.149041942148661,
          0.22519187976704644,
          1.375475885196196,
          1.0361616746271292,
          0.9791635344377279,
          0.34102115155011475,
          0.8154989462492955,
          0.9732763754238594,
          1.1262538914005542,
          0.929672972328613,
          1.5029637447543354,
          1.1399481697328209,
          1.0004166482090184,
          0.8683776463660201,
          1.50063281498628,
          1.3047370403055079,
          0.861913489448528,
          0.9415132470139269,
          1.195137475448369,
          1.6963241433187735,
          0.5775120811616307,
          0.4260904286417792,
          0.21434939720566698,
          1.1873450352470345,
          1.243778238729888,
          0.5876651954426979,
          0.9167100935695489,
          0.8006017321829685,
          1.2280516715084693,
          0.10323482490691802,
          0.7176296154514238,
          1.0336093676278295,
          0.6920813981248065,
          0.73642229032203,
          0.3267339316358811,
          0.8500662319586509,
          0.5246273850381774,
          0.7559194121248505,
          0.7049894795293603,
          0.7980963732074517,
          1.1186977806905558,
          1.07393096066272,
          0.16603926085028314,
          0.14003225600593394,
          1.2859632312844012,
          0.7117435298530502,
          0.7232337966219382,
          0.7369085449334727,
          1.3542405112543443,
          0.8754904790304431,
          1.3392323558402064,
          0.9984014858619142,
          1.0414208081797847,
          0.1512275100517545,
          1.0271774686268902,
          1.1097382284159334,
          1.3886921291416188,
          1.0444593649859633,
          0.5850095054920621,
          0.8537871466724294,
          1.2864437473168322,
          0.6229453167372706,
          0.8206340094725662,
          0.8068345751831949,
          0.6141477078507454,
          1.287931685620154,
          0.30286304243540507,
          0.7639527397799537,
          0.011305298296876628,
          0.7483374838251967,
          0.399974674252325,
          1.2816651491131175,
          0.8108639710744728,
          0.8052413213726076,
          0.9458198440747386,
          0.5457657033570847,
          0.5180610039487243,
          1.2691814221517097,
          0.5275874648130287,
          0.14773895502285292,
          1.0114844394320037,
          1.450933015568645,
          0.7152022004650846,
          0.6671225296982035,
          0.676204426227351,
          1.3265037576585585,
          0.8689446970853051,
          0.85471402565948,
          0.1991906166711987,
          0.5583441178012248,
          1.1489962416640862,
          0.7110929109825534,
          0.32782445387805764,
          0.16643183109296952,
          0.3670588310484703,
          0.6683442026932129,
          1.0036651687268459,
          0.6254818513212516,
          0.3213696357856702,
          0.8064754771890039,
          0.10595079947239379,
          1.1809889756509986,
          1.4419928836508045,
          0.414774222459573,
          0.8558645140521075,
          0.5334653716646491,
          1.032647949661316,
          0.13770804656822996,
          0.5978301265495557,
          0.8234077486673891,
          1.1515232824198285,
          0.9715087508101079,
          1.5532356618311263,
          0.9161509705423084,
          0.081821970508019,
          0.9368530453980554,
          0.40591207152259495,
          0.38208942980295674,
          0.22988695048962457,
          0.8971610452649612,
          0.14573707790533139,
          0.6301675666638442,
          0.8254903901415698,
          0.9675262103793123,
          0.18693782693899322,
          0.6125306421145283,
          0.9195468694478719,
          0.11695956056084016,
          0.6756545455063517,
          0.6900556657096919,
          1.2860887397869452,
          0.8489586445448605,
          0.6847558087210829,
          0.972612686853918,
          0.2838896114090714,
          0.5703263801101713,
          0.7799312502741476,
          0.6142866200373597,
          0.9149442153533233,
          1.1669183322857857,
          0.46749767639450407,
          1.2980038490795716,
          1.169337537134288,
          0.23328599148025303,
          0.19767708741480153,
          0.5135322725455364,
          0.3986907453467137,
          0.8041836230288436,
          0.6202001831682991,
          0.9312138158041444,
          0.9668056942132327,
          0.3757006319593449,
          1.2370836598871724,
          0.6958943186122281,
          0.1012577135546437,
          0.1871657265577434,
          1.0820834687910814,
          0.9636792195489325,
          0.4922848562251168,
          1.204243995875128,
          0.5407421412869768,
          0.7377383410022046,
          0.21480245611596763,
          0.7567110411741519,
          1.2313553397476593,
          0.22660110139818604,
          0.8451134760889045,
          0.5007344372993483,
          1.0107639485540305,
          0.637808467067242,
          1.2133313364472313,
          1.0781216677942074,
          0.7338710517148099,
          0.11264795053611155,
          0.28371454940780316,
          -0.03519475941052391,
          1.1901487672313158,
          0.2830535155793151,
          0.7988842351344488,
          0.8204568509762431,
          1.29101152432361,
          0.29218406466081165,
          0.4467882338894727,
          0.9773068735996563,
          0.9420170914342434,
          0.7323000211022668,
          0.7513784861111985,
          0.12934604665184776,
          0.2113751420015668,
          0.755263655300406,
          0.6635859587257411,
          1.0544914336287519,
          1.0029258976334086,
          0.7227998464310892,
          0.8112162978057385,
          0.5109659681464392,
          0.6484777260016775,
          0.775956057969413,
          0.49045113459938966,
          0.6349976791636377,
          0.4574059152156643,
          0.6346605213951549,
          1.104664602722919,
          0.6694655422592377,
          0.7574178187728637,
          1.108114451894395,
          1.149638560970449,
          0.07318635492621917,
          0.4756779378322243,
          0.9463142416670691,
          1.6237849230837722,
          0.8896463661695216,
          1.2607360745911214,
          0.367771384090642,
          1.4431122142134567,
          -0.03322393408740655,
          0.08837209499557083,
          0.5040781828919882,
          0.7525512154217449,
          0.29029173557109067,
          0.5374387683468775,
          0.9041498180864322,
          0.7282607087325422,
          0.5727156764278354,
          0.894528025458497,
          0.9177420199136194,
          0.6720249311395216,
          1.0316572364331629,
          0.4868727704970954,
          0.5483312611837597,
          0.43100014894956795,
          0.7065598569447457,
          0.8998980006733562,
          0.49665753289607484,
          0.8090677518433124,
          0.5480988706493101,
          0.9507539909038099,
          0.35130001323719884,
          0.6610241431279833,
          0.07657529322030847,
          0.6886434091683902,
          0.2670828488836236,
          0.8241067440515996,
          0.21180846792775782,
          0.4203640154216963,
          1.2081197792171186,
          1.059316089210398,
          0.939987898576917,
          0.8239648534279179,
          1.0853965217697106,
          0.0652011836401371,
          0.41931955045378916,
          0.8570940248194042,
          0.5004961595998598,
          0.7469727698124878,
          0.5101167910571917,
          0.71071209089212,
          0.5908791776228897,
          0.507918544651339,
          0.9099703403598304,
          0.7288694087877243,
          0.5934760553188932,
          0.7749558515174899,
          0.9671578442062353,
          0.35166738544977244,
          0.5206771772981286,
          0.43523427736476716,
          1.300304092709474,
          0.6025261652730379,
          0.2932899941404361,
          0.5995178154540525,
          0.373010082769391,
          1.2337942398828043,
          0.6988325738064692,
          0.7741332226519299,
          0.5789880677228831,
          0.14606353091161559,
          0.4477184593762942,
          0.5992911654674717,
          0.36830571576545656,
          0.32397088767846444,
          0.3677842653192923,
          0.6825531728266881,
          0.4546980496959,
          1.0908524715869192,
          0.8469999544806839,
          1.3089540248767784,
          0.8980720368535466,
          0.38487659275606323,
          0.639689340868561,
          1.120869844324055,
          0.36314295882602593,
          0.8658621846053558,
          0.8522600807359292,
          0.45600148181616296,
          0.5801399984109776,
          0.27933529248041644,
          1.2137033954023186,
          0.7184421548079871,
          0.1373934186296484,
          0.20501460281192774,
          0.9578648663551429,
          0.9886824195647191,
          0.4339901984869504,
          0.4233040116916656,
          0.3458546233899535,
          0.43760777438612974,
          0.08416227284390186,
          0.7500953397007297,
          0.638322432690269,
          0.4530872071032024,
          0.5023128461462574,
          -0.18112645255202683,
          0.6559106442366694,
          0.5151883382000195,
          0.960582868250259,
          0.382583364801353,
          0.48133292609166095,
          0.1425794642420731,
          0.3983717622990352,
          0.6579067733351386,
          0.2926308275311529,
          0.2663265265246734,
          0.9102803199119344,
          1.1570537210381833,
          0.4828062176914282,
          0.5602967889592849,
          1.0662002404042776,
          0.4226286476794313,
          0.5307484625052403,
          -0.30573543455117963,
          0.2636145640084307,
          0.03947778007388667,
          0.8449197080842168,
          0.41923750933831583,
          0.6753445472605838,
          0.6819867480416966,
          0.6680771935232341,
          0.04859567203484087,
          0.13345347359631232,
          0.5400817914426753,
          0.7591218003288416,
          0.9732093984521376,
          0.5237764656076358,
          0.3189394427997803,
          0.650604430087912,
          0.15201696831400255,
          0.4753641540550479,
          0.48091516637397563,
          0.358789941752738,
          0.8283740721413833,
          0.795827884685663,
          0.7674266844534614,
          0.7847712609371651,
          0.6352723859738043,
          1.1647361208583946,
          0.8216067106195933,
          0.7432896829999158,
          0.7316417403361061,
          0.8955716072012042,
          0.2967144754710794,
          1.0877571560943633,
          0.8729142716509598,
          0.7987642972506319,
          0.3724283757184774,
          1.0527108945370929,
          0.39770960436360203,
          0.42214632858867757,
          0.65023870214342,
          0.8758762095955341,
          0.6314456357125193,
          0.05779566854004738,
          0.1545753906949094,
          0.4671560603648582,
          0.655490146415828,
          0.09709660092550386,
          1.186793586494393,
          1.0490586985739017,
          0.3472003497358377,
          0.3475583522631306,
          0.6951415185666551,
          0.09702647852856253,
          0.8216457984332646,
          0.6599914434652647,
          0.5068001545688786,
          0.5709989545780929,
          0.41015851239936835,
          1.122117951420292,
          0.7453860898921413,
          0.8359087817660802,
          0.7753378893056506,
          0.7286519239897028,
          0.3075799691256173,
          0.045716934998286295,
          0.007890077688928817,
          0.31946462304846496,
          0.7380757778728125,
          1.5028633666486362,
          0.3428923084081365,
          1.1430878023767013,
          0.8226051295881877,
          0.15503836075022742,
          1.034367399186086,
          0.12685169746411065,
          0.9119947736589417,
          0.29032549914798594,
          0.6493170444878452,
          0.2815387084482995,
          0.055437185797119495,
          0.5706584125774062,
          0.962918025533711,
          0.9946930279935592,
          0.7620544377358527,
          0.3894386788518195,
          0.18876978448195203,
          0.8852893342789853,
          0.4945467418196355,
          0.8180453197225946,
          0.8637171017251938,
          0.7561131578672613,
          0.3240452560557583,
          0.8361779770055642,
          0.27598774330620174,
          0.25860806775125006,
          1.310621660792274,
          1.0056174876096058,
          0.909236170065515,
          0.9003257879210356,
          0.15784387860852114,
          0.2635963224965058,
          0.22750424975348973,
          0.9110718879432356,
          0.5331977288197891,
          0.8262024638823063,
          1.0847327786098866,
          0.241085629107827,
          0.47897070591869384,
          0.7574216323686795,
          0.5474780602741086,
          0.3688818229376725,
          0.9701461802307821,
          -0.00518336457079768,
          0.7687202416917865,
          0.18026242004893922,
          -0.008131284933129838,
          0.05944952395945159,
          0.7036350379616528,
          0.7314818753080395,
          0.19212433343195534,
          0.841863627532544,
          0.836516905365307,
          0.12336251085093493,
          1.283328023781683,
          0.9389071174778837,
          0.2443060543928067,
          0.5833332547362428,
          0.34077469514199676,
          0.7794666170047627,
          1.1400410399902485,
          0.4260004781593484,
          0.07661766286152259,
          0.2735901555138874,
          0.46065404174531077,
          0.7562168078790514,
          0.7763163332162042,
          0.9711927398461023,
          0.48077618698526803,
          0.7116072729112068,
          0.036031748789173354,
          1.09033813517706,
          0.0719066296722033,
          0.9064890371328576,
          0.3561256567145777,
          0.5245350792387354,
          1.0527983183478316,
          -0.07126869013914822,
          1.0256366639732897,
          0.34052874508494113,
          0.8196395214292004,
          1.3401322958149031,
          0.3893713810632408,
          0.7481176707773765,
          0.8174314220973837,
          1.067488537792106,
          0.6437119114023182,
          0.48755481681956814,
          0.2578701964256594,
          0.3929574411449294,
          0.051183123356557364,
          0.5913336567045148,
          -0.019067836878381608,
          0.9736602155245464,
          0.4801325776068879,
          0.8086377981356226,
          0.7347982184449569,
          0.5829263358145772,
          0.5262817509605663,
          1.0021992182992043,
          0.028415718783325668,
          0.37725322471356454,
          0.5868809490174244,
          0.958280822812556,
          0.7534828710790346,
          0.414422598412506,
          0.8675850331372068,
          0.0410511460662812,
          0.39868718533381886,
          0.8878026368761007,
          0.7097741547316829,
          0.37453901695991254,
          0.08975130267454057,
          0.6505136673041989,
          0.026445910185742747,
          0.664013365406907,
          0.1197359470274836,
          0.8048180424153937,
          0.242819005461616,
          0.159588053343471,
          0.9620484076587147,
          0.5343699352440635,
          1.099827811145754,
          0.21888572011159127,
          0.23589301642372287,
          0.12091753434536785,
          0.293328059653982,
          0.4435573892059504,
          0.7744939739258075,
          0.6245792388983822,
          0.6672682749574212,
          -0.0323828042360261,
          0.9423849606252468,
          0.7986024558500461,
          0.7760410554545101,
          0.7583216287942948,
          0.8879111243662533,
          0.9423068907321882,
          0.5816749096324717,
          0.8637617454893198,
          -0.0007169985370098317,
          0.6379349339439387,
          0.5192682783735183,
          0.3096675385550703,
          0.20828169729024779,
          0.011690464495600258,
          0.1553256043285798,
          0.5923857714049804,
          0.26738255876633377,
          0.40290420675758504,
          1.079443166008992,
          0.8240960674997199,
          0.7617351754143625,
          0.5247963650047311,
          0.3169536071910565,
          0.6550892812140818,
          0.7451999211333016,
          0.7289533661609893,
          0.3098571291656146,
          -0.07964702703157817,
          0.2901281593312192,
          0.5206023097241402,
          0.8928161470816222,
          0.29069906676679774,
          0.8010246175654945,
          0.49373933725909813,
          0.7408087568620838,
          0.2133717790539107,
          0.9028590762608443,
          0.8682541122622824,
          0.6230483529742563,
          0.3235309579220099,
          0.241036902028977,
          0.18343098261243293,
          0.14246849073147064,
          0.6060463348652045,
          0.5335863602585285,
          0.19488148226416824,
          0.029705639355915383,
          0.36604711517252203,
          0.62544541762014,
          0.06435504697104584,
          0.14367028494119538,
          0.398433085616916,
          0.019229161528818057,
          0.8534244535182797,
          0.5484113031977204,
          0.3558806435555371,
          0.1229431869641042,
          0.8112978610305436,
          0.6630301555944198,
          0.4788599836278386,
          0.46746977602314777,
          0.7195177093779709,
          0.6034006593991263,
          0.35556994505151823,
          0.7455157372479914,
          0.1760058993295137,
          0.1721256388830371,
          0.24677077647568577,
          0.1674819269245239,
          0.5528273052226984,
          0.31846521174183157,
          0.5256927591130561,
          0.8794394590366177,
          -0.06080357180784679,
          0.29895758974044945,
          0.4630626544219391,
          1.0472531080490217,
          0.47574832332402256,
          0.7541663956263973,
          0.6125038749961188,
          0.7560963451104417,
          0.001158405267752225,
          0.5844114008253989,
          0.3902383707123856,
          0.39945991318656615,
          1.0083593484858657,
          0.6721265169654661,
          0.6854647590455384,
          0.32698421497181934,
          0.9582874274529011,
          0.6250425766960649,
          0.5313990161853732,
          0.024996416909160185,
          -0.009721521397015417,
          0.21489048317720963,
          0.09442609253763115,
          0.9456251343751316,
          0.48986415619028484,
          0.09320804452678788,
          0.45552479238651394,
          0.2684826059519675,
          0.8568648586308484,
          0.6426890855334034,
          0.11039434034071426,
          0.18193887207780604,
          -0.0654062409553709,
          0.055024301056755924,
          0.2682411413466083,
          -0.06370619933189782,
          0.38276535510113086,
          0.6581576150722723,
          0.30843183236447014,
          0.08230318433468956,
          0.1878038714415914,
          0.6754236872545175,
          0.546200519241066,
          0.24964526365485665,
          0.5309425462286235,
          0.28301293437789293,
          0.1741003146205762,
          0.9259364189522604,
          0.030943000747808792,
          0.6169696046720379,
          0.15137918099552677,
          0.385708459068798,
          -0.14812012557598966,
          0.34082248611318283,
          0.5620310403759949,
          0.11747933443612547,
          0.16323551274794043,
          0.09166540129076607,
          -0.05746570346848594,
          0.31986080500635483,
          0.49451805661170534,
          0.49683962739448556,
          0.06423046498497727,
          0.21647742559207955,
          1.0876579991700623,
          0.14233008625506166,
          0.3273042223317047,
          0.20886796866077237,
          0.5170210159172137,
          0.44929210210352777,
          0.30731665404822106,
          0.32051723402527627,
          0.45476009626685726,
          0.38424001243070816,
          0.4686102475260542,
          0.6635372047762851,
          0.05064456649152963,
          -0.008432534715816689,
          0.2606302291413335,
          -0.05521884647266763,
          -0.08823383055435091,
          0.01208086064010655,
          0.40536522666054237,
          0.12688443063688754,
          0.11993674916016095,
          0.500441482724497,
          -0.02568245905567151,
          0.042574497336966756,
          0.11085656545650906,
          0.8703625496201903,
          0.3618042207212705,
          0.15269876635165316,
          -0.004466258748550267,
          0.36836949420809467,
          0.04525004279750909,
          0.338496276274491,
          0.1572225645027485,
          0.20104599886371075,
          0.30878765445332124,
          -0.10999902218751718,
          -0.013170961370970645,
          -0.02726729559567045,
          0.37649619716398947,
          0.139576290911325,
          0.5513340478711078,
          0.36287225997533396,
          -0.017678094608315927,
          -0.0032658371842177575,
          0.2294156359586835,
          0.06293670011168004,
          0.849264795842315,
          0.3467250098715991,
          0.5508237918609066,
          0.10280406693242541,
          -0.046817001377001496,
          0.7084120716490404,
          0.7712326486858995,
          0.2573771389289289,
          0.5925117309462524,
          0.4326852273536523,
          0.2389773801474605,
          0.5453483055358342,
          0.4101813867297693,
          0.0787227931246175,
          0.17344723310332846,
          0.5151055799077079,
          0.19281306812596277,
          0.514186615675181,
          0.4706463756101812,
          0.3010785059632351,
          -0.014039748229181448,
          0.49168834574102793,
          -0.11201786316471711,
          -0.05429333268992236,
          0.25017189041435633,
          0.4993022626779678,
          -0.08390472671770874,
          0.04202553433612877,
          0.41024377363520376,
          0.1217084662676166,
          -0.08642018954781161,
          -0.09165508230063399,
          0.09539141652173018,
          -0.16371203789889657,
          0.29244311819605295,
          0.5346301360653504,
          0.5401682208726717,
          0.292817535437698,
          0.49818448806489496,
          0.21990815287548865,
          0.1587975403537661,
          0.6254814459685177,
          0.12745465796121005,
          0.09361996949624815,
          0.13195429151288454,
          0.47164494038026233,
          -0.06782693735103312,
          0.5186190519916635,
          0.15111057336275177,
          -0.079635041929397,
          0.2289802019286998,
          0.2235585867552222,
          0.23423590970143013,
          0.4030275324895505,
          -0.04161230531720176,
          0.038115071461221596,
          0.051306919542442556,
          0.8193145938470726,
          0.46367571936557883,
          0.07529008918929682,
          0.01918255382551007,
          0.39255565817626853,
          0.613136863205998,
          -0.12821413130364606,
          0.6768225420953052,
          0.18799870697910112,
          0.28674130001677417,
          0.3892091184696986,
          0.04819704545076059,
          0.15399076342007004,
          0.2588959952759661,
          0.23707248452085364,
          0.5798710522048774,
          0.32213063545977616,
          0.6393424373993656,
          0.10513726729880217,
          0.4874200924124167,
          0.5076312982247831,
          0.34708215105882334,
          0.03733190122663923,
          0.025122856181558868,
          0.28457106389236614,
          0.7806890196958708,
          0.3856880155113561,
          0.2587024744813017,
          0.15183363861627136,
          0.13617790591362314,
          0.0440217065605816,
          0.3585689012147961,
          0.14082665355220927,
          0.21966746541269053,
          -0.03460952996496179,
          -0.0020344386902978267,
          -0.06550804245598525,
          0.012859705449354556,
          0.09564926031395869,
          0.08522419225267996,
          0.2233669574029392,
          0.10033638945367057,
          0.33851277610905306,
          -0.048994535144885484,
          0.0036120760369676925,
          -0.11995084573621746,
          0.13640947103166942,
          -0.002083826418632363,
          -0.06665564448576634,
          -0.042173626304171305,
          -0.07787588011490461,
          -0.11097844742397729
         ],
         "xaxis": "x",
         "y": [
          -0.5271447554810633,
          0.04015898151490222,
          -0.21420536775233864,
          -0.12311707459072835,
          -0.45947721950293996,
          -0.023940844817913646,
          -0.44432695806662315,
          -0.09343084562545677,
          0.028574194233940038,
          -0.35735092408805924,
          -0.09076959628225471,
          -0.02926559930670829,
          -0.09608926273006661,
          -0.34854650768109446,
          -0.30375953917306,
          -0.0977843076142611,
          -0.1843343569693203,
          -0.3194908079726282,
          0.08585534439966183,
          -0.018895512902439574,
          -0.16060452179661214,
          -0.3906912233206205,
          -0.3558284160956245,
          -0.49124460456084895,
          -0.07541101487193877,
          -0.08432561638691659,
          0.7610808353023578,
          -0.05405955267650062,
          -0.051323138385629435,
          -0.01792692668704004,
          -0.05833302856434884,
          0.17625520141707982,
          -0.09943899747579056,
          -0.052309729059853885,
          -0.10328199201862576,
          -0.11063295391167507,
          0.05401628013891974,
          -0.20287636750045993,
          -0.47798455957216807,
          -0.3547051963340752,
          -0.1426065522754051,
          -0.5640012654284555,
          -0.028122024106601695,
          -0.026825738322154617,
          -0.128684707600829,
          -0.17024000411398063,
          -0.38195289612009975,
          0.06891777118447477,
          -0.16621922751241164,
          -0.09287586037129861,
          -0.3186492429571491,
          -0.02393273874443076,
          0.07675290472790937,
          -0.31964569272707954,
          -0.14968993195341904,
          0.08093745475799165,
          0.03532594402965437,
          -0.1233138736309661,
          -0.3959270059286899,
          -0.18549796309751546,
          -0.4041676286088211,
          -0.23054687997691486,
          -0.21989861844345812,
          0.16577962373509939,
          0.05494646420162023,
          -0.12639089886622237,
          0.19005392435538299,
          -0.8454685937991931,
          -0.8563771474684556,
          -0.2679520857601163,
          -0.46466043228064013,
          -0.14853261605255566,
          0.17365960891680587,
          -0.35596043394584986,
          -0.02730308009155944,
          0.04086598476589857,
          -0.6666512611999384,
          0.07572020078461537,
          0.043262595594611666,
          -0.03337001561768687,
          -0.09471385622403744,
          -0.04450354040756728,
          0.010654726456778518,
          -0.34749519231232284,
          -0.02123774489906197,
          0.39166359177260124,
          -0.06815204286036007,
          0.19309615796468252,
          -0.11340651941190148,
          -0.44839084767069803,
          0.01594133810261318,
          -0.10885016556104045,
          -0.11993287143201731,
          -0.22843479024591123,
          -0.2698379311612326,
          -0.19876843599786606,
          0.190354551565365,
          0.030336018620177204,
          0.22890932341945544,
          0.03914831783943508,
          -0.30444684834549557,
          0.00986556938851272,
          -0.4209003103217709,
          -0.1966682293226047,
          -0.0605257851994298,
          0.3228145103175685,
          0.0685112731819047,
          -0.24124348490941802,
          -0.06291869952332617,
          0.059777573051207455,
          -0.15808063847313414,
          -0.19404780764944038,
          0.4896557746696715,
          -0.09379724606319814,
          -0.2926245368578073,
          -0.1426309459505431,
          -1.4684093113745476,
          -0.27473710993022915,
          -0.25232837977350325,
          -0.005240485761787822,
          -0.4128962360577715,
          -0.13059825032894776,
          -0.3160513559333632,
          -0.13097723062500893,
          0.13672805158717535,
          -0.024065926779681654,
          -0.42026979011607574,
          -0.3481031137739791,
          -0.0797105210802575,
          -0.11424461020577942,
          -0.18277514599799713,
          0.1601813847230202,
          0.05885769883538916,
          -0.2158432794010407,
          -0.13925996472315463,
          -0.03969646052087989,
          0.3904160344809383,
          -0.04831765390313975,
          -0.028830626925042607,
          -0.1862422586333936,
          -0.1189812331568765,
          -0.6939621626366042,
          -0.45016244246225606,
          -0.1335459156994498,
          0.07453935860125495,
          -0.10476639984032744,
          -0.20934515923181404,
          -0.09595950919003045,
          -0.3812981146261428,
          -0.23346953830740763,
          -0.26230561350945186,
          -0.07578895791061924,
          0.10056847232108498,
          0.5202159116223932,
          -0.1363796544764875,
          -0.04903883680932552,
          0.388923983123639,
          -0.15758723403711697,
          -0.12789136720210936,
          -0.38126905751516077,
          0.04951923069210925,
          0.20905283660431254,
          -0.32066448699862016,
          -0.19521726768317188,
          -0.5307630848941066,
          -0.3763065513150402,
          -0.3006494707484879,
          -0.4692572586605763,
          -0.23359371989157496,
          -0.34534851576239445,
          0.09423720392819605,
          -0.1597468489147767,
          -0.7062441835480152,
          0.08643643584880051,
          0.3311881150899839,
          -0.21533720742203652,
          0.10022980214334606,
          0.027948192121460262,
          -2.294705167791695,
          -0.09694935333789469,
          0.00437014724634436,
          -0.36252943371507323,
          -0.07625164413430917,
          0.09045689465630896,
          0.00005664011503930889,
          -0.14105582993727941,
          -0.2813570160705495,
          -0.12655820565173875,
          0.24508710696650005,
          0.02780374578639428,
          0.18567050559439197,
          -0.2686255336617815,
          -0.14306131664540164,
          -0.042689517474892344,
          0.19399593991911648,
          -0.2957836052462129,
          0.017099332339162172,
          0.15081594509854912,
          0.10940863388683318,
          0.08771738375668137,
          -0.37295389840300847,
          -0.010979234345489827,
          0.49178385738833746,
          -0.23289053212535418,
          -0.03799002330882671,
          0.07819907556009606,
          -0.21649865808789923,
          0.2913214268865336,
          -0.23318929669732696,
          0.0005286892653415057,
          0.022284883847509613,
          -0.31810223152479783,
          0.18972123810161315,
          -0.415317247119027,
          0.12201413666630993,
          -0.221337813098376,
          -0.11109303214505484,
          -0.17885171138389064,
          -0.07365943719227777,
          -0.042958678753751554,
          -0.16395095097169107,
          -0.2778292864675404,
          -0.16740766162455245,
          0.2552925819939016,
          0.24327161545254308,
          0.00776678158266325,
          0.04859069678845767,
          -0.00024059417989196095,
          -0.34680895062114087,
          -0.0029524045683608493,
          -0.007203758737529927,
          -0.08443697313220334,
          -0.08684311498650465,
          0.035164912208139595,
          -0.31421004935115987,
          0.4506188568698991,
          0.003414463508311335,
          -0.2911063222641611,
          -0.08327121322797344,
          0.12121708238242121,
          -0.0323100768900269,
          0.8585631325060606,
          0.1602828218956519,
          -0.12196150629817885,
          -0.09276889719488352,
          -0.2511178126665943,
          -0.18923680247789168,
          -0.6122274344897756,
          -4.040344075113027,
          -0.08203480431405467,
          -0.06673719673606451,
          -0.5472981727240253,
          -0.19509306531211387,
          -0.5285048883280941,
          -0.4226188331674975,
          0.296338828779403,
          -0.032149308724413475,
          -0.09146338591308573,
          0.03948997689328698,
          -0.1543564061881427,
          0.09445821703203815,
          0.0590026871459485,
          -0.008723124080770271,
          0.013015004859948833,
          -0.16060637882590284,
          -0.19403201021247313,
          -0.09315087484890675,
          -0.17630230891093895,
          -0.09346725586402295,
          -0.23738287403458488,
          0.3230471338333399,
          -0.13762861021927736,
          0.02012722129021366,
          -0.22620255046874396,
          -0.2649866989153631,
          -0.06413082764223704,
          -0.15197518977800828,
          -0.21269950884090705,
          0.17295914720983452,
          -0.337676259052578,
          -0.172969491975102,
          -0.395261853808684,
          -0.08240184203583265,
          0.15589681920403614,
          0.26244792746569895,
          0.14509525886953703,
          -0.05226280268836582,
          -0.28862795491136123,
          -0.292116172819263,
          -0.3357830888374349,
          -0.05256932644374838,
          0.041865644791945815,
          0.103122385707262,
          -0.13683977372478742,
          -0.5624347257714184,
          -0.520083148569269,
          -0.004730361071546056,
          -0.05091315071867998,
          0.08938222905085091,
          0.04002613479856174,
          -0.14111280006195376,
          -0.21698492181086157,
          0.5122422148514681,
          -0.21213692753689256,
          0.300810234655716,
          -0.31599140317414426,
          0.009931865964424271,
          0.04457639777251143,
          -0.04446343769994357,
          -0.21720158010095977,
          -0.1813374336563861,
          -0.45931339772954816,
          -0.2021493007155003,
          0.0641639848074974,
          -0.09253674161616066,
          -0.2039402576380137,
          -0.11734189961257217,
          -0.38419824861229995,
          0.2881278198200501,
          -0.20427706889087113,
          -0.10064530514158697,
          -0.3595114336672966,
          -0.05848891808355566,
          0.16317819169154862,
          -0.4351753666141106,
          -0.30736733019756624,
          0.01793589442542204,
          -0.047816171205281754,
          -0.20512344863415785,
          0.07206255689509357,
          0.2196411953884308,
          -0.26034628651035346,
          0.18448622943281057,
          -0.1196076656011845,
          0.25705420401120455,
          -0.19366870779792456,
          -0.7859702305550957,
          0.4077391897280691,
          0.12871781811591781,
          -0.42820275232971095,
          0.15068962984420545,
          -0.03456792252147854,
          0.1212816764241633,
          0.15372110323394186,
          -0.08883771450234659,
          0.20094314531719282,
          0.27117191797449225,
          0.47057050644889703,
          -0.41278745282078727,
          -0.49444344407845925,
          0.0396553635805106,
          -0.32573491422997997,
          -0.1997483064249263,
          -0.15267253523292776,
          -0.5118890692495385,
          -0.24263912144092736,
          -0.03674937935172447,
          0.05208030652226325,
          -0.2814973563655314,
          -0.24240921683202296,
          -0.2874836782596022,
          -0.3334220334265006,
          -0.3528588532415656,
          -0.16806951149055693,
          0.11700232460194983,
          0.013214441774216858,
          -0.15626371549832038,
          0.08501531901981008,
          -0.19813480740404213,
          -0.4072635478740924,
          -0.1547560982567916,
          0.2581023185630362,
          -0.2370916638937517,
          -0.39877402647252314,
          -0.04445354264100674,
          0.011036024698387867,
          -0.2256127513990017,
          -0.1593688753201881,
          -0.14416455336774586,
          -0.10930915948508015,
          -0.1910696522493147,
          0.11873082077722108,
          0.1847729505512454,
          -0.21182343165068804,
          -0.8551396145370923,
          -0.12490228739588685,
          -0.5309846481648103,
          -0.4944232130176315,
          -0.04259127550763342,
          -1.4351754885487815,
          -0.20542143610714172,
          -0.14806456107005067,
          -0.04140200672233459,
          -0.5499029910959095,
          0.011193706273757735,
          -0.4810547416229426,
          0.11162768467672171,
          -0.09068782807075142,
          -0.18979839659685777,
          -0.46907265141737653,
          -0.22975608261973626,
          0.02134836802082482,
          -0.12579019450809878,
          -0.17961950285780687,
          0.0025274423839297183,
          -0.09165073769155745,
          0.18762183145503591,
          -0.02477121564508079,
          -0.06810965786928086,
          -0.8003694485275759,
          -0.5133256388319309,
          -0.021935238189957542,
          0.0771399755980911,
          -0.0329374993346235,
          -0.5769797872132616,
          0.20451469735938074,
          -0.12804962031216988,
          -0.4374028026956353,
          -0.9833061397110081,
          -0.15979375962638048,
          0.014354864899726006,
          0.20988751746606515,
          0.04620716865998175,
          0.3957296038441824,
          -0.013375411608366392,
          -0.17374137249348653,
          0.028762453578225284,
          0.11708443603993222,
          -0.005580044367370274,
          -0.24668753325845405,
          -0.022956361410727256,
          -0.23389437362742754,
          0.08676766490501964,
          -0.29399972155793097,
          0.029286203040541962,
          -0.08358535238211492,
          -0.3033576726058217,
          0.09319736707530595,
          0.3020445883849642,
          0.2915987872517089,
          0.016027069739581068,
          -0.028562831235089244,
          -0.13292041194077972,
          0.34291747385448657,
          -0.09059394569527865,
          -0.19629208985890387,
          -0.43257170624682,
          -0.4756449330276707,
          -0.08175088822853055,
          0.16670685490863268,
          -0.19014564770727302,
          0.036982612519117365,
          -0.9233694840194159,
          0.06866636274046625,
          -0.13697175033435247,
          -0.4610504033506473,
          -0.0065469092716518825,
          -0.004222177494853585,
          -0.11965436344540693,
          -0.22611490671204834,
          -0.12916228441163552,
          -0.364178776263036,
          0.19258178286897507,
          -0.4007656948260938,
          -0.7076306977731813,
          -0.15034280687900775,
          -0.29537265984582634,
          -0.027177109966468407,
          -0.17706526635982697,
          0.07667033589922692,
          0.07798509815833381,
          0.009854851121715143,
          0.176725765204541,
          -0.22892862441663275,
          -0.36351609007660457,
          -0.24048516858853006,
          0.07054558986028393,
          0.1419621030721815,
          -0.1927947589355367,
          0.24932582534335918,
          -0.5571205082491617,
          -0.18157848843078073,
          -0.07319759012272704,
          0.22022869146025875,
          0.17869871789513952,
          0.007913312620067876,
          0.4163917956332392,
          -3.897232973485111,
          0.6445238079445471,
          -0.5129361086003595,
          -0.4258658604447082,
          0.4453247900541791,
          -0.22526861631942838,
          0.015777680276409203,
          0.09263056679482716,
          -0.20638761750532286,
          0.09253425511577729,
          0.15476338225027345,
          0.3832247544930077,
          -0.30345768656418526,
          0.19655424967567064,
          -0.052157200404941345,
          0.09140310141020988,
          0.33226185799078606,
          -0.04507186930271653,
          0.0078030861100165366,
          -0.02873250493745416,
          -0.7354952212967426,
          0.1833855074734133,
          -0.2182745642608681,
          -0.3046426286558376,
          -0.009288113352169768,
          0.03290807375651034,
          -0.02392052946865402,
          0.024555953213608723,
          -0.24582517899999837,
          -0.0738709953939859,
          -0.19963760466306757,
          -0.4111230154002952,
          -0.11224490528726495,
          0.026343750486434368,
          -0.19954237493870325,
          0.30060423225977373,
          -0.18419335196551018,
          0.14468989163392448,
          0.138547788046897,
          0.2444101494430979,
          0.04692548631422672,
          0.20883373237227748,
          0.008612187429793862,
          -0.2615395464221758,
          -0.18173977151974846,
          0.09238872542333805,
          -0.23091227120075875,
          0.1349867165511037,
          0.11371249795573966,
          -0.17017347647601602,
          0.09254902708668752,
          0.08903009517026875,
          0.21873345587215418,
          -0.038199225473411424,
          0.05575035772998785,
          -0.08746938967820883,
          -0.3542061627466337,
          0.6134583351558395,
          -0.24788029907523149,
          -0.07137255962359065,
          -0.3652218571762519,
          0.16757579323343325,
          -0.05649293030589208,
          -0.2893842276946081,
          0.08041586264957179,
          0.15221097817454593,
          -0.41525083217783987,
          0.03386791617244476,
          -0.45603292404545037,
          -0.3994002350714459,
          0.2940504226498653,
          -0.5468892646041873,
          0.3560994856671023,
          -0.08649047924608164,
          0.02807429224430919,
          -0.2406503302729982,
          0.03456456342390385,
          -0.15195846970539645,
          0.13120879907399893,
          0.2535563003187567,
          0.028985963778796066,
          0.1623364096127427,
          0.07442834440330522,
          -0.27139854841069355,
          -0.04684388022294555,
          -0.2796554532158941,
          -0.046877755611918086,
          0.012094175654438434,
          0.20876511162352265,
          -0.09239899505652531,
          0.14813390012921904,
          -0.022613875811930903,
          -0.7787736249198708,
          -0.5198043743102093,
          0.028816940792500644,
          -0.4360063691062843,
          0.06291496997865974,
          -0.030017230301165345,
          -0.058364136230000606,
          0.18151039755591314,
          0.10850142657467672,
          0.04307086918675401,
          -0.2968609857544172,
          -0.25303953087579734,
          -0.1375544882878659,
          0.1946434953771256,
          0.3991552527583549,
          -0.5237638371610075,
          0.3229832825316734,
          -0.32264714968848673,
          -0.3183787400624956,
          -0.32999857999687054,
          0.09860184122780759,
          -0.31536743169529347,
          0.11286208596731115,
          0.12864000908856058,
          -0.3483987423093078,
          -0.2987182957556686,
          0.12349767114569456,
          -0.07828535296696333,
          0.192376004862881,
          -0.08740860362843948,
          0.06927278419272118,
          -0.36382990479977056,
          0.11609407842124278,
          -0.1982424016785177,
          -0.2245708816464576,
          0.26587894982708293,
          -0.12301134812923144,
          0.5135865989749998,
          -0.339910680770333,
          0.2207497392157352,
          0.012573154118821275,
          0.1917089198667392,
          0.13575483825433704,
          0.13730734352208124,
          -0.07910166064394732,
          -0.10590446217505442,
          0.456183691067754,
          -0.22119068338556505,
          -0.30448616777072696,
          -0.017513425084328342,
          0.21020078831286432,
          -0.47337379269239166,
          -0.3771355768142623,
          0.1802738273265928,
          -0.3119482503203322,
          0.13343471433530088,
          -0.2062219950145932,
          0.2917231645877003,
          0.30218887647242515,
          0.006458597028468088,
          0.32258820667519245,
          0.04653609614755154,
          -0.4700462184126269,
          -0.0664729893993754,
          -0.10589633704125295,
          0.05330950774223484,
          -0.019586920841503486,
          0.1871366151030595,
          0.09688679581750662,
          0.009184205188396211,
          -0.11505775849108196,
          -0.14564995901575722,
          0.07651816208273396,
          -0.1842717956275535,
          -0.23853366206624857,
          -0.4157641300034029,
          -0.3785978506741443,
          -0.024047720239008297,
          -0.3625300687199376,
          -0.3760980766215289,
          -0.16817675189276474,
          -0.3066631241885772,
          0.012125702761335696,
          0.09523812201820443,
          0.10456143232496519,
          -0.1053186796777624,
          0.4358453473559853,
          -0.23861884152414886,
          -0.28308295627862146,
          0.45481240653137445,
          -0.4019892968376057,
          -0.11896212982154065,
          0.3649544112625951,
          -0.207957294443483,
          0.521151658128114,
          0.12324236065800885,
          0.21826135230737323,
          -0.38899043701355934,
          0.08530560553279815,
          -0.07970345162797812,
          0.07708925677513695,
          -0.28203874147591673,
          -0.1357170097893331,
          0.3175327698187624,
          0.32388483471243446,
          -0.24554781259184683,
          0.20797520936989183,
          -0.3797108574837194,
          -0.16254760196990953,
          -0.3089372193742052,
          0.1105638597981449,
          0.349753106329377,
          -0.20725703407461946,
          -0.47288756584123465,
          0.6308393764490722,
          0.5622820068807857,
          -0.14561700342051323,
          -0.11072313031472064,
          0.24222027740222996,
          -0.0661671673401457,
          0.07848678474913458,
          0.2796938327476642,
          0.3478139527715329,
          -0.4463580658572164,
          0.13025450583777246,
          0.09120979985443622,
          -0.0022077556495833347,
          0.031204730577333563,
          -0.002496209450826784,
          -0.0030023112299353764,
          0.23036753355782424,
          -0.18087794030951967,
          0.05399601471446924,
          0.21041341352396137,
          -0.27292429926788336,
          0.14589978357960132,
          0.01624512020932391,
          0.19920716051535306,
          0.0009924313929909354,
          0.3997131891272356,
          0.1882819369088163,
          0.14351814440078065,
          -0.10182479113553358,
          0.08641430168285506,
          -0.20062979361945973,
          -0.23601222176553838,
          0.05810760738212067,
          -0.09698775481393661,
          0.26585446483277136,
          0.15904919240858317,
          -0.43277067547273723,
          -0.2279882055214711,
          -0.07546140306426896,
          -0.0321064949807586,
          0.20538941015073522,
          -0.13679780394584895,
          -0.4854926718112585,
          1.0886508815687137,
          -0.27571769210020153,
          0.1525642467291179,
          0.014583835077071033,
          -0.3582994887998475,
          -0.1870336406020406,
          0.12328319748176444,
          0.24244913124383757,
          -0.2312123318812201,
          -0.008179347470336114,
          0.36480867899065145,
          0.26567313587561137,
          -0.5797807125437893,
          -0.6846952227574912,
          -0.5084239003392796,
          0.007656760587051731,
          -0.345431987576573,
          0.16893997427983032,
          0.36628434676799126,
          -0.07287029801503908,
          0.2607287602589678,
          0.23921666964832133,
          -0.209414004811612,
          0.32365510170904105,
          -0.29518725388717476,
          0.17997398971531323,
          -0.17619338848353142,
          0.5883137703870612,
          0.1611939171570735,
          0.6160022951462722,
          0.061497983973886894,
          0.5813131607055427,
          0.404120810335301,
          0.14918801627964795,
          0.07709717497082891,
          -0.30407068881273575,
          0.1705232157691197,
          0.32037310722471357,
          0.04900472844879222,
          0.28399080004685423,
          0.2657557319487157,
          -0.1748043455355313,
          -0.07795124699761444,
          -0.37819601302661315,
          -0.3032105705363928,
          -0.16240979694721633,
          0.33028344867381254,
          0.13854088376915505,
          0.1396042282542822,
          0.1359573528302141,
          0.20159479090005838,
          0.08537170095060467,
          -0.05372270230778141,
          0.006326963332716833,
          -0.09725392979286535,
          0.25553953449903455,
          -0.4717911950005295,
          -0.20073936757417793,
          0.22324479611823211,
          -0.30957273005183167,
          -0.19497363887398642,
          0.10160704879033193,
          0.3252064813457966,
          -0.231640032893238,
          0.16424559073418124,
          0.026384811759676014,
          0.4741812881820246,
          -0.017615733111299846,
          0.23746159020248064,
          -3.777152903084186,
          0.016873972359549235,
          -0.02613952093344782,
          -0.4178720359010266,
          -0.2685221136966086,
          -0.1690533754625432,
          0.05926656171032861,
          0.11706293899037687,
          0.14699405365521814,
          -0.12705509678686708,
          -0.018761283205709373,
          0.0962359278721567,
          0.09015163847264245,
          0.1467416784195496,
          0.007305292611544597,
          -0.1955798538149308,
          -0.30386442516533324,
          0.04248804395732634,
          0.20670848853856574,
          0.03670579803342181,
          -0.005601772835057783,
          0.16317681063565564,
          0.337336006593741,
          0.2698434441358452,
          -0.15429855189017633,
          -0.2871777715267919,
          0.3262602557651202,
          -0.10900860238276715,
          0.14128861371424242,
          0.13710021531708838,
          -0.37504964862635587,
          -0.20427334691200555,
          0.05355622401100769,
          -0.2174956373556631,
          0.17129343231387295,
          0.4596187348613082,
          -0.10537182135541463,
          -0.04777924371067339,
          0.3989816520443046,
          0.3878885011905453,
          -0.05383456380907976,
          0.19932581697245205,
          -0.10594573039726311,
          0.04075469393120627,
          0.32391842443939356,
          0.295806648632819,
          0.18289821084658997,
          0.19436958145421934,
          0.12249960414971553,
          -0.004041453822928539,
          0.011133288104200223,
          -0.3821010357347155,
          0.2382595367050145,
          -0.038703532220674845,
          0.18775223405863442,
          0.3855700466094633,
          0.16309351073976894,
          -0.02013734753708454,
          -0.09649501100205404,
          -0.29253258236335716,
          0.10162663679519891,
          0.28307511143920294,
          -0.051068838169544856,
          0.11002546853269361,
          0.4198972265360297,
          -0.05885117025635302,
          -0.5364232130882834,
          0.5247917526053042,
          -0.1395671346596096,
          -0.3318294830104709,
          -0.5902233698296017,
          0.32124811884783383,
          0.01994765527182694,
          -0.15451566050553905,
          -0.46504418001587733,
          -0.2582435401944288,
          -0.043054016001446385,
          -0.22612009425080973,
          -0.04414622314117993,
          -0.04665195302870848,
          -0.31928293645494354,
          -0.29482341734026535,
          0.31032843408749416,
          -0.5319287374313243,
          -0.11674478621977168,
          -0.06845370473489382,
          0.37235672216803073,
          0.1764941592645347,
          -0.17685259693807096,
          0.1677693010110986,
          0.128282450278349,
          0.6523929070942311,
          0.09316663659090037,
          0.08773048134726474,
          -0.10631632708476502,
          0.04830235698653437,
          -0.03125865773726546,
          0.23708667852346405,
          0.3326006880952296,
          0.3873112730836984,
          0.3219350256806702,
          -0.5523311160040306,
          0.40464391802886646,
          -0.03045839621094129,
          -0.21609809850348743,
          -1.2153140081234297,
          -0.09111068652008619,
          0.003320565044245826,
          -0.05089406547247347,
          -0.21693693809247133,
          -0.21732552754631523,
          -0.18659744523162922,
          0.16318662410579554,
          0.25933088696659695,
          0.3685567546543609,
          -0.2397320987782742,
          0.2945092711792102,
          -0.5452511843445897,
          0.09571466774032406,
          -0.10677428817243609,
          0.2116825102888709,
          -0.14618453417709226,
          0.07122628128896592,
          0.13169866113903997,
          0.09798628508224853,
          0.1028994235011787,
          0.18647719054873468,
          -0.08727413180563086,
          -0.019390102177186043,
          0.08228507144748494,
          0.46373326861949193,
          -0.2895730658529383,
          -0.16776275840297433,
          0.47618736796296773,
          0.22576586239927546,
          -0.02643622030564744,
          -0.1631533144424739,
          -0.032181718305234135,
          0.16083638203344874,
          0.03373921109795708,
          -0.03968470037244323,
          0.29971863045551234,
          0.0007798920972697647,
          -0.14927269719256592,
          0.14214344549120855,
          0.15295975897214734,
          0.1093227388475319,
          0.2075864509142873,
          0.19645945796842074,
          0.3121994398259239,
          0.33003106572637864,
          0.42121793384021505,
          -0.15873482767612218,
          0.016394067187798976,
          0.06074680252804381,
          0.21824319083091923,
          0.2928836095314557,
          0.16300624430278632,
          0.27787324832626636,
          -0.1007157202499971,
          -0.11711735417617959,
          0.20227617673201972,
          0.22783649303953357,
          -0.0854195073331444,
          -0.16350306448755536,
          -0.11558575069690168,
          0.1778014308907091,
          0.06189645771766154,
          -0.06998699644409022,
          -0.4418929477268999,
          0.1777063443103431,
          -0.08532785331440207,
          0.32961944271077015,
          0.22033223228184629,
          0.20586738979874197,
          0.8474541530053337,
          -0.39279193671888146,
          0.009954795447610418,
          0.17335062908095225,
          0.36440261683733255,
          0.09205784636898658,
          -0.27673017448531906,
          -0.5842770068016938,
          0.2386979467800217,
          -0.34506706809280563,
          -0.012514570592691643,
          0.09642543018970563,
          -0.20045910925328866,
          0.04132079155851343,
          0.3124433970748605,
          -0.04988007346003429,
          -0.4617738383084109,
          0.17768584290736247,
          0.09071315453633859,
          -0.21716228200459975,
          -0.2322239886181021,
          0.25614287543258996,
          -0.2812867639628232,
          -0.08151491879947599,
          0.5669012648105467,
          0.09839834699261041,
          0.25254579214937245,
          0.17519520252669732,
          0.17389932522196144,
          -0.34027246109607756,
          -0.02831646215710946,
          0.4259292003490993,
          -0.18447604670122836,
          0.185083345532789,
          -0.05029260723713456,
          0.13913533548036525,
          0.2974626075567807,
          -0.2802844229631215,
          0.38555197888413106,
          -0.05209909757792865,
          -0.1449006776145368,
          -0.012092907946195738,
          -0.060548347579017496,
          0.5138976600815057,
          -0.20191164475919893,
          0.8964683855559406,
          -0.28402374187951446,
          0.0043901328380815275,
          -0.4044772772418839,
          -0.2360498688736718,
          0.17302406334724235,
          0.6857931457780513,
          -0.4011246121907687,
          0.19799159154105436,
          0.010592503483403352,
          -0.0973844596370618,
          0.21569595304819714,
          0.06480934267868244,
          0.18747857529613918,
          0.4973295515193,
          0.0142773815455397,
          -0.34370929379476267,
          0.6935528894746529,
          -0.45379711613727863,
          0.03331160243755128,
          -0.17154127596690746,
          0.38541225792824924,
          -0.08015802819101633,
          0.3625075318456985,
          0.34816757494369105,
          0.16333207250367524,
          0.22995600334243435,
          0.16455378235097073,
          -0.2380668178491804,
          0.08097487512854404,
          0.36691354639485446,
          0.25208370126097046,
          0.2518166480192736,
          -0.010862282417600596,
          0.5451673711991519,
          -0.12914266319480094,
          0.2963074724248292,
          -0.20376813619561482,
          -0.10517422613640348,
          0.5845855822802739,
          0.4227941227670561,
          -0.3269924653762517,
          0.2648001407199827,
          -0.2595427532272304,
          -0.2600515066277514,
          -0.5573115771904994,
          -0.06620784149808798,
          0.3333151657259168,
          0.45229112394494686,
          -0.5515094417278632,
          -0.6797635384591787,
          -0.008220779957356964,
          -0.7981632688997358,
          0.019661656238063627,
          0.3351878789207242,
          -0.36889695601175787,
          0.19436524770169275,
          0.4586770835702755,
          -0.10348741623718409,
          -0.01045014339375202,
          -0.30605112869386236,
          -0.10911214977931076,
          0.03189572430062851,
          0.36883431590907545,
          0.37255083914244086,
          -0.4508877137876458,
          -0.2019878546990885,
          0.6001748848357591,
          0.33840318443989725,
          -0.1974614568492215,
          0.06706599354669296,
          -0.014121175012220679,
          -0.1418846914834738,
          -0.0032161591240879644,
          0.29420254334539836,
          0.08399570679870415,
          0.33166764595613885,
          0.1860299365356031,
          0.15589379610170673,
          -0.22425330407231078,
          0.19771467338992518,
          0.08156416284054537,
          0.09078579549901675,
          0.33314080318686373,
          0.21450679077330606,
          0.2655237754410166,
          0.02108583506160277,
          0.32271073665983674,
          0.4141594053656436,
          -0.3432156296895568,
          -0.07032926543912364,
          -0.020503931836131865,
          0.33730790783020576,
          0.4140260158273323,
          0.11237438577944342,
          0.2430848242749993,
          -0.24807023482630516,
          0.14411245515034435,
          -0.3604583797142126,
          0.15573402285383411,
          -0.43436970172987743,
          -0.0948073738863592,
          0.12374590629040227,
          0.311152915061122,
          0.19182708456541947,
          -0.10904329145363847,
          0.5288016271976104,
          -0.08023095875949651,
          -0.4957316979304875,
          -0.06674207713232966,
          0.18360956637963208,
          -0.18058131277564954,
          0.05640957326631531,
          -0.062028203969664054,
          0.36486434247886046,
          -1.1250740899825762,
          -0.0659538492539241,
          0.0653397311935608,
          0.2830805431163087,
          0.21311631042989815,
          0.33639163047692466,
          -0.041691942414889056,
          -0.19983348937691484,
          0.22034082233771982,
          0.0640490542702042,
          0.6666795600539358,
          0.5279568309832618,
          -0.3485241928266753,
          -0.42566440789469506,
          0.13139741991313356,
          0.42399161191265683,
          -0.0012244955538235306,
          0.14303063750983794,
          -0.36499300564110737,
          -0.1879268794823406,
          -0.2481654508800162,
          -0.18110406400270787,
          -0.08147581895942145,
          -0.08590140656485183,
          -0.2325502546919025,
          -0.20038184184414193,
          -0.39076654667820415,
          0.2705268437844402,
          -0.2309829155434976,
          -0.8449115825934005,
          0.11289636961770154,
          0.8882682756985133,
          -0.32054334307826926,
          -0.03995115528851829,
          -0.20916522053456932,
          0.5651835733783855,
          0.2071769628502819,
          0.15135500777893898,
          -0.12810072058276464,
          -0.14747623919519945,
          -0.6039726103068396,
          0.24564502133474536,
          -0.23128814874466286,
          0.5508299078087291,
          -1.0576611968035468,
          -0.3273471924360839,
          -0.5403084827167025,
          -0.4561351644589412,
          -0.11618343316940419,
          -0.36033684893844337,
          0.14315490215948046,
          0.34795073953127353,
          0.11580454033038126,
          -0.1647722078569133,
          -0.02187838417870466,
          0.24866300749425002,
          0.2552726453274293,
          0.02328000693872662,
          -0.021705184034737056,
          0.10024487574634303,
          -0.6250211483056674,
          -0.3497945295409431,
          -0.01939074582788227,
          0.43586719350103686,
          0.29202029979128175,
          0.38089466193730614,
          0.5262597533448033,
          0.2646998874532534,
          0.13729038652894818,
          -0.039626901535371226,
          -0.34653302568535,
          -0.14790334377237102,
          0.17349359828916236,
          0.032203645099658694,
          -0.3230179649601156,
          -0.43096038445145507,
          0.4087968497748914,
          0.25401156620275406,
          -0.01291423938275021,
          -0.2915228129168905,
          0.34321427632320073,
          -0.20707068645718993,
          0.3494462720883066,
          0.23199815794445233,
          0.7768011462700466,
          -0.13377142564491482,
          0.25796686849025224,
          0.35552595726823166,
          -0.03249035962812297,
          -0.33667263210821297,
          0.22813350095205237,
          -0.3019794300152007,
          -0.16642037629880216,
          -0.33867531318652466,
          0.44652188656962327,
          0.03752632062462539,
          0.21760800944837913,
          -0.31790841874200754,
          0.006055823681537654,
          -0.1245365620492543,
          0.281676336874302,
          -0.49942113857130377,
          -0.19913784631618747,
          -0.3163651258991773,
          0.05596528621017892,
          0.42466460286238067,
          -0.22174326857786533,
          0.22367173935874962,
          -0.1406493671989192,
          0.12648370189062827,
          -0.06300047018967228,
          0.22409201108849233,
          -0.0005281536731417658,
          0.1831462551791151,
          -0.3420711083292709,
          0.14543819373212893,
          0.12013892072718174,
          0.09167525032769794,
          0.0025182863175586168,
          0.07815474949439119,
          0.2545384904210064,
          0.05924259122643088,
          -0.007234430623626227,
          -0.48044523858421717,
          -0.3168416710386681,
          -0.24893215146460246,
          -0.07177907285258446,
          0.007995806068547355,
          0.2710085028906907,
          0.4367423206494233,
          -0.22764551814411282,
          0.12337070645477705,
          0.1515673508057734,
          0.320064984983656,
          0.27039834441973587,
          0.45847796121309486,
          -0.25421734399455037,
          -0.20452714811401707,
          -0.025366997685131804,
          0.3297264512562064,
          0.19270077312134315,
          -0.10974436022359546,
          0.461059559984135,
          0.40711167235287443,
          -0.23153881032723386,
          -0.3279775274422625,
          0.42170093369418427,
          0.2750831935675408,
          -0.1713776653642895,
          -0.2750294434045326,
          -0.6193171499061585,
          0.13637679438454647,
          -0.23094154005467607,
          0.3401821890268682,
          0.08681582354844136,
          0.3944240161640405,
          0.5923475866396144,
          -0.38759011772718804,
          0.5157310774626639,
          0.5219404962658201,
          -0.06564403968955976,
          0.4104395822287432,
          0.3899944792657666,
          -0.11423456405543847,
          0.3818340202234628,
          0.4117115954138265,
          0.14381857835711495,
          -0.4783611963167206,
          -0.20707164189199612,
          -0.4641444914799478,
          0.45341212037766787,
          -0.21088513084454816,
          -0.4375771618832105,
          0.40724593469587944,
          0.2967360958695204,
          0.37865487267870884,
          0.058168861250764585,
          -0.03356621211174505,
          0.19649915340039095,
          0.1488137226612988,
          -0.22935178925347938,
          0.4059375775656355,
          0.038356027741229794,
          0.06386403450438641,
          -0.012986178767162968,
          -0.3727834329835786,
          0.412935940587443,
          0.30833349496013207,
          0.4558379619015017,
          -0.1891671343528986,
          0.6424929271459405,
          0.5074460426229381,
          0.031560244819613524,
          0.2383421081880856,
          -0.13433706205404122,
          -0.16665960783906347,
          0.06616500661778248,
          -0.6252400857229392,
          -0.48542612615352343,
          -0.358914241160952,
          0.3274803488921603,
          -0.0887297420528449,
          0.6398515670370728,
          -0.3200674496426532,
          0.3675331315646881,
          -0.3808502211643038,
          0.47190388973911634,
          0.002277792449289896,
          0.40162564245081,
          -0.135459494325584,
          -0.40940928334852017,
          0.10074324558311694,
          -0.16378376135533923,
          0.35771414599235124,
          -0.3078945808970884,
          0.26784647835861414,
          0.25589605573547775,
          0.3148805280319235,
          -0.12725845421187346,
          0.2890370535280213,
          0.3954594870222804,
          0.030994975242402818,
          -0.248927303703567,
          0.2022844220973304,
          -0.4617548849869221,
          0.008867354980479589,
          -0.18486248510092831,
          0.3113211240403333,
          0.16198445321493118,
          0.07838785053168086,
          -0.31825646370928584,
          -0.24397277096960138,
          0.008846657570658589,
          -0.10303301981643774,
          -0.5226165335828277,
          -0.23567100109663844,
          0.10874751952671222,
          0.04936193469192035,
          -0.13796666438383987,
          -0.13150558593768727,
          -0.32762169264918856,
          -0.17013935976902808,
          -0.04931303129173901,
          0.41998463773271827,
          -0.30545443127380023,
          0.025216606244569263,
          0.00424145396212276,
          0.4466334659922154,
          0.4335583048328481,
          0.6648062742365006,
          0.15809995501766594,
          0.4846941249002091,
          0.038736260983380004,
          -0.04324775502551598,
          0.11640416546676771,
          0.25363221538782926,
          -0.2410864184663119,
          -0.1937214223169601,
          -0.4577884250682578,
          0.44872105079569896,
          0.2786400583508947,
          0.13090176607574466,
          0.12827495860750351,
          -0.5115886325099674,
          0.09665802714010917,
          0.09592716638551427,
          0.1751836840519637,
          -0.14175530168203776,
          -0.30424642958594794,
          -0.2256579378072077,
          -0.028315300945296742,
          0.1866590916225435,
          0.41883891042223614,
          0.022559795278796042,
          0.2530073887019981,
          0.7265837544896504,
          0.2636285587862534,
          0.02367246324445456,
          0.042178679010564726,
          -0.18398468760313258,
          0.5216267896211272,
          -0.4142885475028106,
          0.05620760929825967,
          -0.007653973434972067,
          -0.21355392242356913,
          -0.16171636589907912,
          0.05731567247489726,
          0.3903372748970904,
          0.37470576992136395,
          -0.06556017255744409,
          -0.3728252237359635,
          0.12011625554760653,
          0.25613266468478274,
          0.167871519702343,
          -0.02125917994732144,
          -0.20303492216482105,
          -0.058691715103009474,
          -0.22533659532441855,
          0.02234030473085615,
          -0.2700085148817237,
          0.15427249473514315,
          0.1922535616334984,
          0.24599353595028678,
          -0.47954754107242764,
          0.3719308806804672,
          -0.02677579483729644,
          0.4365857048112316,
          0.09685386992043984,
          0.10701708014405731,
          -0.14674201789622077,
          0.19573002573945447,
          0.11762278990302252,
          -0.4258265145879467,
          0.03326871471902973,
          0.04447890103003597,
          0.21369374397299187,
          0.596655054342184,
          0.36260380631535427,
          -0.27697085045049075,
          0.30993850761677066,
          0.41886307053481436,
          0.5183883961567033,
          -0.45444039963080496,
          -0.055474856161934843,
          -0.03691772320729291,
          0.03482188914329225,
          0.6490771991987349,
          -0.0027919072618659032,
          -0.2051544934260257,
          -0.5461584351294986,
          0.03491937977945958,
          0.17831234046923528,
          -0.16009091856109264,
          -0.20203309468154798,
          0.6826936458916935,
          0.11004602127912616,
          -0.07768141404424234,
          0.23718210329993578,
          -0.4358867915858614,
          -0.34087028500552546,
          -0.2308535443319523,
          0.056249744451983996,
          0.09004170739588589,
          -0.17802205325034784,
          -0.4092584908183044,
          0.33243519814199657,
          0.36022451374887215,
          -0.23187797798630266,
          0.4042940920524723,
          0.04823114234552221,
          -0.4497592407303229,
          -0.11816165395814135,
          0.32596295398417163,
          -0.4011054209989859,
          -0.4267988884533075,
          0.4341944859613119,
          0.5134529039035975,
          0.1813134807148696,
          -0.15235183844152378,
          -0.1088481261357318,
          0.12017432149869452,
          0.23938628854745606,
          -0.08480390401768051,
          0.14665624092323257,
          -0.41347829424986743,
          0.10672474000894369,
          0.4246731231121601,
          -0.013827270482375236,
          0.08626623458137828,
          0.5107079344517821,
          -0.07972805842115918,
          0.27050154572759955,
          0.2356038416230742,
          0.42676137778635703,
          -0.06576508650298188,
          -0.33375287524426284,
          0.13528112592844532,
          -0.24349958908901312,
          -0.2812608038587613,
          -0.12240912764483568,
          0.49100190181626396,
          -0.054853130413116125,
          0.5059318576854207,
          -0.34699705405790243,
          -0.1982548004246913,
          0.3645128305669429,
          0.404365691964255,
          -0.00031456470415802104,
          -0.13305544911236175,
          0.7851944327595917,
          0.2131972034871559,
          0.3833213372261373,
          0.05181469090047148,
          0.0238075922502461,
          -0.20311212519843727,
          -0.2154042900772613,
          -0.20455748354280687,
          0.358979983301252,
          0.13224076096989668,
          0.34198175109387585,
          0.25068629351742944,
          -0.4683505752892681,
          0.7771591479881059,
          0.5436717770066122,
          -0.25656755404334913,
          0.2989864411080099,
          -0.25287146060221655,
          0.38685846532859997,
          -0.29134262181833515,
          0.22956118130945818,
          -0.13014467840804703,
          0.17380441062117166,
          0.5154454751900572,
          0.31670294712826547,
          -0.07229827816283417,
          -0.12287077603480116,
          -0.2182649611938429,
          -0.33030377419752144,
          -0.13000567563641446,
          -0.01869210752216976,
          -0.31834919869338746,
          0.11871107692034512,
          0.31072913438481925,
          0.36896810819956394,
          -0.06382068776949901,
          0.13355526418194733,
          -0.12323848892027098,
          0.20466107931287103,
          0.6240208107723925,
          0.39457761931748025,
          0.08166428482238143,
          -0.02880090839092949,
          0.09690655045819732,
          0.3048998612658525,
          0.3209711614865866,
          0.6568893074473379,
          0.42678239542571217,
          -0.21099005663299925,
          0.34196628197644835,
          0.258451949757663,
          0.3369070667766387,
          -0.10687022671886896,
          0.38748378866694594,
          0.3785358114199866,
          0.3765737870594237,
          0.1815688066796777,
          0.2614588943813092,
          -0.2666804989745154,
          0.11435873512475475,
          -0.5093181299076733,
          -0.1049122364334783,
          0.1747486409429074,
          0.042514325625191494,
          0.6768242957762891,
          0.17325598827175653,
          0.36965083604089516,
          -0.46486129769662715,
          0.05643564466296796,
          0.5880274453674066,
          0.27997857092750605,
          -0.019245465552846223,
          -0.044526733389883145,
          -0.08147660322813591,
          -0.9647017853830306,
          0.17791036602982954,
          0.253076223859121,
          0.28714976326104386,
          -0.9229593726015973,
          0.3963764390070738,
          0.12131837445533852,
          0.1960343378780005,
          0.3202452576271298,
          -0.2962468291933328,
          -0.2983598794954972,
          -0.029321835724478065,
          -0.3539946273291876,
          0.43785059743067045,
          0.2161649801470254,
          -0.15234880980930063,
          0.03784131522056009,
          -0.2873841553257551,
          -0.11441873478543606,
          -0.2528365847263237,
          0.4066461987130859,
          -0.7100183410403924,
          0.2595259988064835,
          -0.21468045694183308,
          0.7429048251669074,
          0.28988307507029687,
          0.4944104409571976,
          -0.3227895748179445,
          -0.23820649312403908,
          -0.28646062173353154,
          0.10578884355497704,
          -0.39396343043517323,
          0.17942701865868818,
          0.118119692300238,
          0.2928081948340055,
          -0.103075326800544,
          -0.005074767186807903,
          0.22343850787020678,
          -0.24116864519700973,
          -0.20976883624586445,
          0.27022560333468104,
          -0.24571730572995573,
          0.2828920573115333,
          0.514043559138836,
          0.5389341322480516,
          0.08515862822298347,
          -0.13565929034327665,
          -0.2522964867563827,
          -0.13244614487630615,
          -0.22045852687061285,
          0.3185693562220559,
          0.5064763939187352,
          0.554265984357644,
          -0.37176374946267204,
          -0.36062616439599154,
          0.6623496291954964,
          0.34198132792258684,
          0.34158326811015943,
          0.45370080415333125,
          0.7862360211396604,
          0.14202834568823444,
          -0.30233011050759634,
          0.3030223404564907,
          0.15487614984173662,
          0.23515163847584056,
          0.01223244106620691,
          -0.07366878945899406,
          -0.00047317670322075464,
          0.23630990345378416,
          -0.22976758252632853,
          0.03480903744795598,
          0.2766083693145254,
          0.04435828110500097,
          0.11138113507275821,
          0.479940724326174,
          -0.16052729464187368,
          0.04791126589825441,
          -0.33646995580419076,
          0.10181743798635357,
          0.31148194476576047,
          -0.25992472995836213,
          -0.28120063688344027,
          -0.16240357906614653,
          0.37438105038650105,
          -0.2521452962571872,
          0.3842365320488025,
          -0.3838964647711454,
          0.15629879641595606,
          -0.2216785578652771,
          0.1978273659548251,
          -0.020637660675960137,
          0.13538812372620576,
          0.46660290546844707,
          -0.06301492642615622,
          0.1517528361148487,
          -0.12370607445512405,
          -0.01950170814128994,
          0.2346110740810754,
          0.012636892781118968,
          -0.2465532051467,
          -0.115433407569128,
          0.3839008480754837,
          -0.2988489180782506,
          -0.04316833820145506,
          -0.021120986245889747,
          0.2721821027431378,
          -0.37863839497786356,
          -0.012638477331677429,
          0.09875276799420393,
          -0.5109438494623273,
          0.10298402851962991,
          -0.08978009897838135,
          -1.5040514705576602,
          0.627721500144262,
          0.29431821854731655,
          0.04850532440829341,
          0.5437585580936584,
          0.2537743167490706,
          0.33615851441515243,
          0.34907717522833726,
          0.033681229710198476,
          -0.31861381177705655,
          -0.055538215785254634,
          -0.2578447929650006,
          -0.26875275791542114,
          -0.3498216174080507,
          0.27157808037866454,
          0.24825866003302277,
          0.3383314899615309,
          0.21077870256105496,
          -0.1697765199022728,
          -0.6995326216535586,
          0.2892015340527354,
          -0.30738989963609564,
          0.5939761496240051,
          0.1850454798853038,
          -0.0064845854354260435,
          0.20524615036233118,
          0.14160150141331923,
          -0.2800246981808402,
          0.13427555350497689,
          0.23363109235597918,
          0.37073524624586396,
          -0.18947644186910007,
          -0.014132165199716515,
          -0.4084080346488476,
          -0.22353664877710977,
          0.5823614688057058,
          -0.1214401298407699,
          -0.38184488912239506,
          0.004989309589848069,
          -0.47638903408960515,
          0.32430261612474237,
          -0.7854975002863233,
          0.12982473281746684,
          0.3482741154062832,
          -0.16626927864280153,
          0.5323997037747437,
          0.4086984073840683,
          0.1732474688762002,
          0.15453024721008385,
          0.2283362438301947,
          0.016037011639220205,
          0.20162555398127857,
          0.005962966237286947,
          0.1809742059634692,
          -0.10547098825131035,
          -0.28708983078625844,
          0.2764557518833288,
          -0.29512897176642755,
          -0.27016388350044834,
          -0.3573646119059327,
          -0.22726264616958092,
          -0.15388769415321685,
          0.10595143182004549,
          0.23875281911774723,
          -0.05865016959399186,
          0.5767679382827144,
          0.18098468626479114,
          -0.12050648665810039,
          0.17685066809622868,
          -0.02230740300300192,
          0.14804060016463982,
          0.23164231125768214,
          0.1332567928479156,
          0.5614155937148275,
          0.9091567264079561,
          -0.2620616731249597,
          0.48975654346761044,
          -0.042301459580987126,
          0.009509121905658086,
          -0.14776398074915473,
          0.06024357900339005,
          0.6275119610693192,
          0.058476506676399906,
          0.08288233680135125,
          -0.2744543274394388,
          0.25617660614452986,
          -0.16974327356325794,
          0.05577148451296143,
          0.340781307335167,
          0.44407187956982436,
          -0.2798971944432647,
          0.6610009038076459,
          0.5501016326262559,
          0.4993198026529037,
          0.34650682266845445,
          0.3800372939998633,
          0.29430868930298637,
          -0.1795617310113297,
          0.320371866392896,
          0.14066921158734041,
          -0.42009083993257085,
          0.6294983305474174,
          -0.147876307250273,
          0.30140729254483833,
          0.37131017423165524,
          0.5151931456382055,
          -0.14722680394095128,
          0.1700880999665133,
          -0.2735475421880294,
          -0.32320540500074363,
          0.434456225264085,
          0.07640737526389936,
          -0.31067351432134555,
          0.6535347919524479,
          0.6302336951945452,
          -3.6046417984879064,
          -0.3547757811071419,
          -0.2964314840861868,
          -0.024501930958436374,
          0.12820302033023748,
          -0.20398310299746183,
          0.48156239100915454,
          -0.34484110154268477,
          0.14946275459865846,
          0.8175614560399391,
          0.2651265922380162,
          -0.2599611259024299,
          -0.25894105628802433,
          0.10336374864311863,
          0.31286725777244817,
          -0.20271926233175305,
          0.09023991903328846,
          0.3373308911778563,
          0.5585993806000581,
          0.350037453782018,
          0.28739754643516113,
          -0.50304233780495,
          -0.34483889050824656,
          -0.4990741401913111,
          -1.1177914385240943,
          -0.1475524581849174,
          0.36382720114859063,
          -0.35601903303016785,
          -0.12764761923691478,
          0.11900586916817125,
          0.5314364805197835,
          -0.1763153081092756,
          -0.6220931563148057,
          -0.012440419899899139,
          0.25058953848127463,
          -0.16652721788053365,
          0.29740180684837453,
          0.41154784989737725,
          0.4058841398337825,
          -0.3692359540568833,
          -0.4029309214989383,
          -0.14697204166753206,
          0.6381318293624824,
          0.3588505350523486,
          -0.01402788021171702,
          0.5504938101330724,
          -0.03165391636798092,
          -0.07824727894883278,
          0.5440055807020878,
          -0.008426950296827225,
          0.3001721671813144,
          0.6869889282887,
          -0.32751363545765994,
          0.0074599200534961226,
          0.02736129630991565,
          0.2496602206588909,
          0.2272166670514342,
          0.03658139761029354,
          -0.3548617772337921,
          -0.36282804000177477,
          -0.39198102402746327,
          -0.06510176732906152,
          0.2554150967632093,
          0.21966593025145068,
          0.31565372516810963,
          0.2932654309625635,
          -0.40628968025639106,
          0.49368233405346795,
          0.034924911329336596,
          0.22085706916314785,
          -0.3977240299302648,
          -0.35189611222835315,
          -0.31546360849080846,
          0.8174145688171163,
          0.01308087262137793,
          -0.4895753189698461,
          -0.040169685412781576,
          -0.26224299078226937,
          0.5731196984226926,
          -0.2331261121862012,
          -0.10938254133489518,
          0.08952924010180471,
          -0.4774738448859866,
          0.44930133872815536,
          0.5854339926332746,
          -0.14325441142782191,
          0.4094242385517891,
          -0.3440339949152363,
          -0.11264889403020073,
          0.12275649238790087,
          -1.0350684226063747,
          -0.5319375281761318,
          0.2940295940369414,
          0.3457016183720636,
          -0.044051550358769925,
          -0.13226378086105392,
          -0.1534298814119052,
          -0.36165745959956414,
          0.2087905408910728,
          -0.22484412788186617,
          -0.2413216861837858,
          0.02869342523369253,
          0.016528802129921676,
          0.423425256109109,
          -0.07281413649589553,
          0.18587716847138674,
          0.3285297270799324,
          0.09738612659081772,
          -0.26667094547092235,
          -0.1569871170069192,
          -0.35597112682796334,
          0.5888391133122831,
          0.39269725944987965,
          0.013429333647991728,
          0.056861990892952886,
          -0.18655811694580585,
          -0.015855005143372843,
          0.2633673477097164,
          -0.9062278843358909,
          0.1362351688924035,
          -0.27290009641447877,
          -0.03371761542094868,
          0.3992364417656514,
          0.1464738193153045,
          0.5347689250647464,
          0.3270025728874186,
          0.1456169957725394,
          0.05359667140517999,
          -0.3237066744040195,
          0.36215485930230157,
          0.5579089423383258,
          0.3718579668029709,
          0.3269568235734258,
          -0.19144229972870636,
          -0.0773768805414719,
          0.19118384678261263,
          -0.08616443555687972,
          -0.01876724935017142,
          0.2644694470586894,
          0.1984497746168344,
          0.3913937696871161,
          -0.33238075096561287,
          0.20086854651692365,
          -0.44501575063084303,
          0.014976704364480257,
          -0.5475512525913098,
          -0.07907682729272529,
          0.2576795189952266,
          -0.14340060568071974,
          -0.11819368577206646,
          -0.27853466552655004,
          -0.3282571054009698,
          -0.2956689180951616,
          0.04295955701696984,
          0.09618439556653723,
          0.498873914399627,
          0.29951742584219615,
          0.3924864742553539,
          0.5775863774686013,
          0.20065813991647616,
          0.47813764526558056,
          0.2493627306907931,
          0.11693208909357848,
          -0.2311888686780071,
          0.14176847726252997,
          0.14277024045300085,
          -0.07426727539053087,
          0.027750976148930774,
          0.24894615837991657,
          -0.5426846409300223,
          0.1409432885232923,
          -0.05609631323883799,
          -0.25132261464657696,
          0.2690665868663701,
          -0.1589207231222285,
          0.5060379386418683,
          -0.43383134237342186,
          -0.255861135809859,
          -0.28346567619225777,
          -1.1035758118920063,
          0.284586610450113,
          -0.28246528377379915,
          0.552643413873334,
          0.37483360730924503,
          0.3413951877693864,
          -0.38227634898444096,
          0.7179506417220161,
          0.4882480908050234,
          0.09600644174269873,
          0.7735372316020216,
          -0.11494075257796113,
          -0.14213461220951323,
          0.11695966095789014,
          0.33520863147858326,
          -0.14506011948076147,
          0.513249844678311,
          -0.1915499185525751,
          -0.07405804784861268,
          -0.19943350942689264,
          -0.08103953211133269,
          -0.28462852669201366,
          -0.244528011047462,
          -0.35297846008360906,
          -0.23987090910605058,
          0.07201775563094047,
          0.033787617190182875,
          0.14437357405927148,
          -0.31006268705797396,
          0.2930759261351208,
          0.15879795602746635,
          -0.4099637724929241,
          0.21820750806081765,
          0.07280129690543717,
          -0.06065164985740584,
          0.2799587584229389,
          -0.418443782155747,
          0.5052108960310433,
          0.010207637091339025,
          -0.029321463967788952,
          0.0750162830292679,
          -0.19781096663530695,
          -0.24647824005899419,
          0.11081910538533424,
          0.04371744897783543,
          -0.4995548042125394,
          0.22107324684510005,
          -0.5335222355683878,
          0.340343316905777,
          -0.06408798211001487,
          0.010599588429871016,
          0.062096080438686245,
          0.2480149123830402,
          0.057760690102965195,
          -0.425153759071074,
          0.21831170007743514,
          0.4209145316889334,
          0.16031016805229187,
          0.2022542202842938,
          -0.26850005362784485,
          -0.1367342342591214,
          0.2445728860410777,
          -0.20560055695574914,
          0.05991168409443997,
          -0.40631134685872083,
          0.1352612731044025,
          -0.3410767484566108,
          0.32549891813181125,
          -0.49608706815782394,
          -0.4456271779098286,
          0.37204732450420386,
          0.6616029950204729,
          -0.032880008382301894,
          0.21089835045119287,
          -0.27029375659394234,
          0.19385722011760553,
          -0.6413171664811121,
          0.3710806575528524,
          -0.24708292483849573,
          -0.009340504012434183,
          -0.48267271615433033,
          -0.19015719914271437,
          -0.14684334385087106,
          -0.14388787204569187,
          0.3659828336559163,
          -0.13290059719575043,
          -0.25251031641784033,
          0.871457646535494,
          0.08010624877381176,
          0.3403279133188082,
          0.8265226811763302,
          -0.11677200792941399,
          -0.2668149873052419,
          -0.02635732741254608,
          0.565310745753376,
          -0.16373931444717052,
          -0.3990207681303593,
          0.09855086441866356,
          -0.3354400412181992,
          -0.0302850785794522,
          -0.014757985358388081,
          0.3794935866890059,
          0.5252376106913381,
          0.13113750544769487,
          -0.0338470644511632,
          -0.1131366874171291,
          -0.07927056136107712,
          -0.16212279182566985,
          -0.30799323311997057,
          0.44800321880663213,
          0.396703576020353,
          0.7429607107487778,
          -0.23226218793766415,
          0.048170448680746825,
          -0.3364764842923024,
          0.06115265373636899,
          0.051104623069596095,
          0.40636994210177574,
          0.3772118457285453,
          0.38566970276559215,
          -0.41893346307112883,
          -0.5007351438590499,
          0.3006649932023221,
          -0.1493234058865372,
          0.5317662574051362,
          0.7375789188897409,
          0.5094183469622701,
          -0.30149804100994226,
          0.03772452081450965,
          0.7282325438993974,
          -0.35007837865202013,
          -0.33212597947508776,
          -0.4326895330078354,
          0.011828528183773793,
          -0.1750628880205075,
          0.15277427280339656,
          -0.39941823686459443,
          -0.38276088304588457,
          0.1750809408158866,
          0.6039109887251249,
          -0.546987754275152,
          0.05385117237538735,
          -0.1836139148963927,
          0.2146310915125945,
          -0.7014598068713982,
          -0.4647478433519759,
          0.15031656519617048,
          -0.4976299057818891,
          -0.36952656525142497,
          0.10038574606004895,
          -0.5790308681195455,
          0.5817444061068692,
          -0.9510374828430523,
          -0.5312418090670198,
          0.19377555394699486,
          -0.3595988667844155,
          0.06892055727921872,
          -0.002845380234332869,
          -0.16789993085568902,
          0.7908517155268963,
          0.052280726359482554,
          -0.01057783725947579,
          -0.11536788682584793,
          -0.48155993950056414,
          0.3912479510045946,
          -0.22591046289163824,
          0.31977101063647784,
          -0.36012320237758094,
          -0.4091585344191776,
          -0.05551735290964231,
          0.29097456709417197,
          0.38024103498646394,
          -0.23112081517527214,
          0.9977301632131036,
          0.4719798076444766,
          0.42674250853022444,
          0.023577747167659393,
          0.5260963496882439,
          0.5121031769160551,
          -0.06555260502607009,
          0.8498430609045228,
          0.3001256319119224,
          0.9466967966540931,
          0.21103589205037993,
          -0.34090250229612223,
          0.5889468735262133,
          -0.34100890906120274,
          -0.1511205991145547,
          0.0930475250026647,
          0.2565325888974679,
          0.09230355472227243,
          0.21858225801396935,
          -0.07046816570716895,
          0.4211149527717566,
          0.42668922666890574,
          -0.05244871005926411,
          -0.2411090319841929,
          0.08167588873606302,
          -0.08940267359315873,
          -0.049234006906512584,
          0.14090349953911369,
          0.7992917067596583,
          0.17185693988199327,
          -0.43451476962477537,
          0.3849138300385132,
          0.17726039004777935,
          -0.05684258973048873,
          0.8864915680518866,
          0.14954601869197698,
          -0.03386683244171215,
          0.3410494527788598,
          -0.2634204137660621,
          0.15773008018839196,
          0.1620757400116068,
          -0.4969270769819263,
          -0.35570746143958576,
          0.7892734883179718,
          -0.2550397826098748,
          0.21251923800578354,
          -0.03398698657632709,
          0.6736184080639024,
          0.01204311199808867,
          -0.1338989021502729,
          0.13006498900479835,
          0.15012969752586847,
          0.08542734223233744,
          0.43295616950280225,
          0.27791821493562535,
          -0.24128439909303062,
          0.3364300442425717,
          0.6667235888156263,
          -0.2057516136132252,
          0.12064668796429635,
          0.3387487435839736,
          -0.26463845521528856,
          0.6867766607404303,
          0.4492325438792674,
          0.3929896757868359,
          -0.18591760480766434,
          -0.09559451595276021,
          -0.06313875516284044,
          0.1004365907289388,
          0.16376539590717124,
          0.04680324700118941,
          -0.2368750249630748,
          0.055684452868743115,
          -0.30299670025848086,
          0.8291254546049314,
          -0.1915461546761719,
          0.010502961749096708,
          0.4089890326565973,
          -0.16965688670231924,
          -0.21283133204465968,
          -0.48133296316703017,
          -0.014814792546113184,
          0.11383891832168173,
          -0.012148155089456542,
          -0.1751194618957989,
          0.21674411707597105,
          -0.29073632491317347,
          0.0889677105669968,
          0.1692209302059182,
          -0.15799274700692437,
          -0.15038419931962838,
          0.309664594976866,
          0.05564301606808431,
          0.044330291433224145,
          0.21205133602264034,
          0.029173549227597847,
          -0.08552153924075741,
          -0.07156671941009458,
          0.36046653506061277,
          -0.1462441374181565,
          0.11357027580975533,
          0.18512616809804813,
          -0.23892125940443376,
          0.16053871677844667,
          0.9766504026870049,
          -0.015166046550199937,
          0.14454429009814299,
          0.331992348750265,
          0.010537198554689074,
          0.3917668052281756,
          0.20485694193530668,
          -0.28358841716694705,
          -0.3988489783695167,
          0.2354907621094633,
          0.7516021874893268,
          -0.2567517644396995,
          0.2029647006325814,
          0.4134043130859483,
          0.313839008452964,
          -0.17925384873832492,
          0.36846569232028203,
          0.2492097079358617,
          -0.05428037262458113,
          -0.1532844008803086,
          -0.5746935858325442,
          -0.16745401375963231,
          0.4179492021205035,
          0.05476038304449981,
          -0.1471467239918642,
          0.08929246594527146,
          0.14119679524046838,
          0.2521305813844701,
          0.5509679065870497,
          0.3718625777113735,
          0.5609289511278374,
          0.13767528715371505,
          0.5160253464688436,
          0.6379378563451863,
          0.5806046961824621,
          0.3723236600804457
         ],
         "yaxis": "y"
        },
        {
         "customdata": [
          [
           "Nick White",
           2300429829
          ],
          [
           "Linkin Park",
           2045512421
          ],
          [
           "Miley Cyrus",
           2031280633
          ],
          [
           "SZA",
           1873746537
          ],
          [
           "Coolio",
           1675750095
          ],
          [
           "MUSIC LAB JPN",
           1655575417
          ],
          [
           "LOVE BGM JPN",
           1622824522
          ],
          [
           "DJ Laxman",
           1389772733
          ],
          [
           "Bora Media",
           1271094976
          ],
          [
           "The Rolling Stones",
           1196773729
          ],
          [
           "Ben King",
           1094052047
          ],
          [
           "Doja Cat",
           1065399331
          ],
          [
           "YNW Melly",
           1055558326
          ],
          [
           "JAY-Z",
           1003215671
          ],
          [
           "Bobby Helms",
           964357785
          ],
          [
           "The Script",
           858979483
          ],
          [
           "ati2x06",
           846435891
          ],
          [
           "Rick Astley",
           839345554
          ],
          [
           "Pinkfong",
           720822868
          ],
          [
           "Linkin Park",
           687919107
          ],
          [
           "Linkin Park",
           670009914
          ],
          [
           "FloyyMenor",
           668280514
          ],
          [
           "Travis Scott",
           656618110
          ],
          [
           "Aretha Franklin",
           607726217
          ],
          [
           "Christian Nodal",
           597899105
          ],
          [
           "Linkin Park",
           570290910
          ],
          [
           "Amy Winehouse",
           562814594
          ],
          [
           "Nickelback",
           537623170
          ],
          [
           "Linkin Park",
           497285757
          ],
          [
           "Tina Turner",
           479417905
          ],
          [
           "Kanye West",
           465320426
          ],
          [
           "Linkin Park",
           428629823
          ],
          [
           "Ariana Grande",
           416813996
          ],
          [
           "Silento",
           387389363
          ],
          [
           "Nickelback",
           378296524
          ],
          [
           "Lil Uzi Vert",
           377174503
          ],
          [
           "DJRemixGod",
           348676476
          ],
          [
           "Linkin Park",
           340239513
          ],
          [
           "BARATO NATION",
           332936854
          ],
          [
           "Shaboozey",
           311928522
          ],
          [
           "Selena",
           302177116
          ],
          [
           "Sam Cooke",
           293683495
          ],
          [
           "Boy Wonder CF",
           272261201
          ],
          [
           "The Beach Boys",
           271362772
          ],
          [
           "Linkin Park",
           270590102
          ],
          [
           "Violent Femmes",
           250321751
          ],
          [
           "Post Malone",
           250080413
          ],
          [
           "Selena",
           212272036
          ],
          [
           "Bryson Tiller",
           207093873
          ],
          [
           "JUVENILE",
           199929812
          ],
          [
           "Selena",
           195435575
          ],
          [
           "Sticky Fingers",
           190342124
          ],
          [
           "Bing Crosby",
           186123398
          ],
          [
           "Tyler Antonius",
           168663071
          ],
          [
           "P!nk",
           162054666
          ],
          [
           "Linkin Park",
           160127218
          ],
          [
           "MiyaGi",
           136456221
          ],
          [
           "Kurochuu",
           136237285
          ],
          [
           "Goovex",
           126247886
          ],
          [
           "Josh Groban",
           124486631
          ],
          [
           "The Platters",
           106782384
          ],
          [
           "seyhqnsert",
           97901971
          ],
          [
           "Jelly Roll",
           95946720
          ],
          [
           "GloRilla",
           89513100
          ],
          [
           "Sir Neville Marriner",
           88934872
          ],
          [
           "Kurochuu",
           86203995
          ],
          [
           "Central Cee",
           86144467
          ],
          [
           "Adrian L Santos",
           84049041
          ],
          [
           "B Praak",
           81182241
          ],
          [
           "Rahul Sipligunj",
           72962855
          ],
          [
           "Taylor Swift",
           72634553
          ],
          [
           "Selena",
           66283950
          ],
          [
           "Gunna",
           58469975
          ],
          [
           "Selena",
           58157068
          ],
          [
           "dreamsoda",
           51035638
          ],
          [
           "Selena",
           50962805
          ],
          [
           "RUNE",
           50652672
          ],
          [
           "Tommy Richman",
           48720820
          ],
          [
           "LuckReaper",
           47151307
          ],
          [
           "Kurochuu",
           43492280
          ],
          [
           "MC Ryan SP",
           39157273
          ],
          [
           "corwinn",
           29938396
          ],
          [
           "Savi Kahlon",
           29171226
          ],
          [
           "$uicideboy$",
           28870396
          ],
          [
           "Gunna",
           28658023
          ],
          [
           "Boaz van de Beatz",
           24407534
          ],
          [
           "Kurochuu",
           24071511
          ],
          [
           "Tate McRae",
           21648841
          ],
          [
           "Neelkamal Singh",
           20981562
          ],
          [
           "Lil Tecca",
           20742763
          ],
          [
           "Tee Grizzley",
           20520983
          ],
          [
           "Gunna",
           18861338
          ],
          [
           "Future",
           17192758
          ],
          [
           "Komal Choudhary",
           15483918
          ],
          [
           "Guns N' Roses",
           14394612
          ],
          [
           "Don Toliver",
           14204736
          ],
          [
           "$uicideboy$",
           13289346
          ],
          [
           "TitoM",
           13092462
          ],
          [
           "John Summit",
           12724701
          ],
          [
           "Alacranes Musical",
           12495358
          ],
          [
           "Estelle",
           12102307
          ],
          [
           "Yeat",
           11680886
          ],
          [
           "JUVENILE",
           11610247
          ],
          [
           "Mc IG",
           11576361
          ],
          [
           "Kayz66",
           11495032
          ],
          [
           "Mongo Santamaria",
           10747498
          ],
          [
           "Kalpana",
           10371919
          ],
          [
           "Zero Two",
           10265841
          ],
          [
           "50 Cent",
           10163724
          ],
          [
           "MEDUZA",
           10114922
          ],
          [
           "Sleepy Hallow",
           9889717
          ],
          [
           "Khesari Lal Yadav",
           9396018
          ],
          [
           "Lil Tecca",
           9126485
          ],
          [
           "Luke Bryan",
           8943283
          ],
          [
           "ian",
           8857839
          ],
          [
           "Robin Trower",
           8820808
          ],
          [
           "Bahaa Sultan",
           8316794
          ],
          [
           "Grupo Marca Registrada",
           8104357
          ],
          [
           "Royel Otis",
           8053814
          ],
          [
           "Prashant Nakti",
           6740285
          ],
          [
           "The Weeknd",
           6231986
          ],
          [
           "Nemzzz",
           6184259
          ],
          [
           "Luke Combs",
           5942861
          ],
          [
           "Pawan Singh",
           5842217
          ],
          [
           "A Boogie Wit da Hoodie",
           5758887
          ],
          [
           "Aitch",
           5698784
          ],
          [
           "Baby Lullaby",
           5484513
          ],
          [
           "Ikka",
           5200791
          ],
          [
           "JO1",
           5148212
          ],
          [
           "DJ MANIKCI REMIX",
           5101261
          ],
          [
           "ANGGA DERMAWAN",
           4906976
          ],
          [
           "Dro Perez",
           4671066
          ],
          [
           "Flex (UK)",
           4505404
          ],
          [
           "Santa Fe Klan",
           4453194
          ],
          [
           "XXXTENTACION",
           4306793
          ],
          [
           "Amrinder Gill",
           4128853
          ],
          [
           "Falling In Reverse",
           4094651
          ],
          [
           "ian",
           3970523
          ],
          [
           "The Weeknd",
           3913988
          ],
          [
           "ian",
           3884887
          ],
          [
           "FloyyMenor",
           3870862
          ],
          [
           "Thaman S",
           3754914
          ],
          [
           "KAYTRANADA",
           3663303
          ],
          [
           "LUCKI",
           3495596
          ],
          [
           "sped up nightcore",
           3492767
          ],
          [
           "Happy Asmara",
           3451208
          ],
          [
           "El Reino Infantil",
           3415634
          ],
          [
           "Bad Bunny",
           3397421
          ],
          [
           "Jeremya Ginting",
           3211473
          ],
          [
           "aldn",
           3162942
          ],
          [
           "MELON",
           3119521
          ],
          [
           "Valentino Merlo",
           3084236
          ],
          [
           "Manuel Turizo",
           2935372
          ],
          [
           "Ski Mask The Slump God",
           2886460
          ],
          [
           "Shreya Ghoshal",
           2827545
          ],
          [
           "Swedish House Mafia",
           2480498
          ],
          [
           "ARTMS",
           2371467
          ],
          [
           "Music Factory",
           2368578
          ],
          [
           "PAMOKHOL ID",
           2347433
          ],
          [
           "Ian Lucas",
           2164864
          ],
          [
           "Butrint Imeri",
           2112678
          ],
          [
           "Yasin",
           2109876
          ],
          [
           "Grupo Firme",
           1969714
          ],
          [
           "Dom Dolla",
           1920905
          ],
          [
           "Mika Singh",
           1852457
          ],
          [
           "Darshan Raval",
           1843453
          ],
          [
           "Melinda Ademi",
           1761843
          ],
          [
           "Diljit Dosanjh",
           1633647
          ],
          [
           "Aerosmith",
           1598680
          ],
          [
           "Pawan Singh",
           1540667
          ],
          [
           "Samara",
           1477559
          ],
          [
           "Khesari Lal Yadav",
           1319711
          ],
          [
           "digV",
           1315948
          ],
          [
           "TWS",
           1010608
          ],
          [
           "JRitt",
           996881
          ],
          [
           "Anirudh Ravichander",
           945093
          ],
          [
           "AL SHAMI",
           916695
          ],
          [
           "Dante9k",
           902103
          ],
          [
           "Chahat Fateh Ali Khan",
           901007
          ],
          [
           "NEXZ",
           899456
          ],
          [
           "Roylimar y Royerlin",
           853397
          ],
          [
           "Imagine Dragons",
           820953
          ],
          [
           "Maluma",
           783995
          ],
          [
           "Terry Flow",
           752826
          ],
          [
           "DJ Boneng",
           716453
          ],
          [
           "El Reino Infantil",
           665611
          ],
          [
           "D Billions",
           628692
          ],
          [
           "Alvee",
           551388
          ],
          [
           "Ashley Mehta",
           546633
          ],
          [
           "DJ TikTok",
           539984
          ],
          [
           "Ghaliaa",
           447624
          ],
          [
           "CoComelon",
           433037
          ],
          [
           "Hachi",
           423395
          ],
          [
           "Baba Blakes",
           408449
          ],
          [
           "Shaun Reynolds",
           303962
          ],
          [
           "DJ USUP",
           302568
          ],
          [
           "Through Fire",
           301362
          ],
          [
           "2Rare",
           299871
          ],
          [
           "Dejavu FF",
           288153
          ],
          [
           "Diego & Victor Hugo",
           278318
          ],
          [
           "Wild Child",
           271785
          ],
          [
           "Jamik Jams",
           271438
          ],
          [
           "Steps",
           242231
          ],
          [
           "Jamie Llewellyn",
           240712
          ],
          [
           "Alfianie",
           218621
          ],
          [
           "Nimra Mehra",
           209649
          ],
          [
           "IMP.",
           207454
          ],
          [
           "Jagananna Connects",
           200302
          ],
          [
           "FARIANA",
           184278
          ],
          [
           "Gracie's Corner",
           173242
          ],
          [
           "Exhumed",
           158627
          ],
          [
           "Carella",
           149072
          ],
          [
           "Leoo Remix",
           144767
          ],
          [
           "Aurel Surya Lie",
           142732
          ],
          [
           "great area",
           130895
          ],
          [
           "Carlos Agassi",
           125395
          ],
          [
           "Shaan",
           125047
          ],
          [
           "DJ San",
           121283
          ],
          [
           "Kazuo",
           118164
          ],
          [
           "Skolim",
           115283
          ],
          [
           "Mvua",
           104271
          ],
          [
           "Vishal Mishra",
           96766
          ],
          [
           "Bingo Club",
           84198
          ],
          [
           "ALPHA 9",
           78985
          ],
          [
           "Guru Randhawa",
           77999
          ],
          [
           "Xamdam Sobirov",
           75486
          ],
          [
           "HCTM",
           72997
          ],
          [
           "Vinay Pandey Sanu",
           72880
          ],
          [
           "Donald",
           67852
          ],
          [
           "Calvin Harris",
           57151
          ],
          [
           "Maian",
           55346
          ],
          [
           "Jubin Nautiyal",
           53437
          ],
          [
           "Ron Gallo",
           53305
          ],
          [
           "Ven'nus",
           53058
          ],
          [
           "Mazhar Rahi",
           49081
          ],
          [
           "LOLA",
           48428
          ],
          [
           "Guy Mac",
           46567
          ],
          [
           "Biomigrant",
           42761
          ],
          [
           "Raj Mawer",
           41746
          ],
          [
           "Khushi Kakkar",
           41745
          ],
          [
           "Paylon",
           41254
          ],
          [
           "Siddhant",
           40654
          ],
          [
           "Pinkfong",
           38895
          ],
          [
           "Jovanie",
           37866
          ],
          [
           "D Billions",
           37396
          ],
          [
           "OP",
           37291
          ],
          [
           "Surgeon",
           37199
          ],
          [
           "Aldo Zee",
           32642
          ],
          [
           "DJ BAHBUS",
           32014
          ],
          [
           "J Ross",
           31867
          ],
          [
           "PIGGS",
           29649
          ],
          [
           "Down Time",
           29375
          ],
          [
           "koko die",
           24935
          ],
          [
           "Anni K",
           22362
          ],
          [
           "TAIRA",
           20855
          ],
          [
           "Tina Turner",
           20455
          ],
          [
           "TR-MEET",
           18204
          ],
          [
           "Parsa Nani",
           17255
          ],
          [
           "Dildora Niyozova",
           17009
          ],
          [
           "Hussain Aljassmi",
           16119
          ],
          [
           "Akassh",
           15619
          ],
          [
           "Sintage",
           15579
          ],
          [
           "clipping.",
           14148
          ],
          [
           "Derya Yildirim",
           12750
          ],
          [
           "Donny Fernanda",
           12415
          ],
          [
           "Fire! Orchestra",
           11960
          ],
          [
           "Vayah",
           11648
          ],
          [
           "Mehmood J",
           10762
          ],
          [
           "florias",
           10554
          ],
          [
           "Colouour",
           9897
          ],
          [
           "Tiesco le sultan",
           9452
          ],
          [
           "Tanveer Anjum",
           9015
          ],
          [
           "HCTM",
           8761
          ],
          [
           "WasteLand",
           8327
          ],
          [
           "Shivali",
           8313
          ],
          [
           "Alex Temple",
           8104
          ],
          [
           "Dave Angel",
           8082
          ],
          [
           "PowerDress",
           7909
          ],
          [
           "Blood Dance",
           7332
          ],
          [
           "NANI",
           6610
          ],
          [
           "Benny Dayal",
           6355
          ],
          [
           "DAMIEN",
           6300
          ],
          [
           "Matteo Rossanese",
           5936
          ],
          [
           "KIDS",
           5316
          ],
          [
           "Jelly Roll",
           4522
          ],
          [
           "Pawan Singh",
           4283
          ],
          [
           "Vanco",
           3835
          ],
          [
           "Barracca Republic",
           3739
          ],
          [
           "BCD Studio",
           3711
          ],
          [
           "prod.67",
           3589
          ],
          [
           "TOADI",
           3574
          ],
          [
           "Jason Derulo",
           3369
          ],
          [
           "Bob and Tom",
           3115
          ],
          [
           "Young Sunny Boy",
           2974
          ],
          [
           "Uni kukka",
           2814
          ],
          [
           "Dada Black Sheep",
           2754
          ],
          [
           "Claps",
           2723
          ],
          [
           "Pierce",
           2508
          ],
          [
           "Carrier",
           2265
          ],
          [
           "MAKAELA",
           1696
          ],
          [
           "Marka",
           1537
          ],
          [
           "mitsu sound",
           1384
          ],
          [
           "Zeme Libre",
           1332
          ],
          [
           "Dan-E-MC",
           1224
          ],
          [
           "Azul",
           1186
          ],
          [
           "Harp and a monkey",
           1071
          ]
         ],
         "hovertemplate": "<b>%{hovertext}</b><br><br>archetype=Digital Native<br>Principal Component 1 (Overall Scale)=%{x}<br>Principal Component 2 (Performance Style)=%{y}<br>artist=%{customdata[0]}<br>spotify_streams=%{customdata[1]}<extra></extra>",
         "hovertext": [
          "Wake Me Up (Remix)",
          "In the End",
          "Flowers",
          "Kill Bill",
          "Gangsta's Paradise",
          "Danza Kuduro - Cover",
          "Cake By The Ocean - Cover",
          "Calm Down Baby",
          "Poker Face ( Remix )",
          "Paint It, Black",
          "Stand by Me",
          "Paint The Town Red",
          "Murder On My Mind",
          "Numb / Encore",
          "Jingle Bell Rock",
          "Breakeven",
          "Broccoli",
          "Never Gonna Give You Up (2022 - Remaster)",
          "New Baby Shark",
          "One Step Closer",
          "Faint",
          "GATA ONLY (Con Cris MJ)",
          "FE!N (feat. Playboi Carti)",
          "Respect (2021 Remaster)",
          "Adios Amor",
          "Crawling",
          "Valerie - Live At BBC Radio 1 Live Lounge, London / 2007",
          "Rockstar (2020 Remaster)",
          "Papercut",
          "What's Love Got to Do with It - 2023 Remaster",
          "Carnival",
          "Breaking the Habit",
          "yes, and?",
          "Watch Me",
          "Far Away (2020 Remaster)",
          "Watch This - ARIZONATEARS Pluggnb Remix",
          "Stereo Love (TikTok Remix)",
          "New Divide",
          "Montagem - Pr Funk",
          "A Bar Song (Tipsy)",
          "Amor Prohibido - Remasterizado 2024/30th Anniversary",
          "Bring It on Home to Me",
          "0 Sentimientos (Remix) [feat. Baby Rasta, Noriel, Darkiel, Messiah & Lyan]",
          "Kokomo",
          "Leave Out All The Rest",
          "Blister In The Sun",
          "I Had Some Help (feat. Morgan Wallen)",
          "Si Una Vez (Remasterizado 2024/30th Anniversary)",
          "Whatever She Wants",
          "Back That Azz Up (feat. Lil Wayne & Mannie Fresh)",
          "El Chico Del Apartamento 512 - Remasterizado 2024/30th Anniversary",
          "How To Fly (Abbey Road Remaster 2024)",
          "Mele Kalikimaka",
          "All I Need",
          "Never Gonna Not Dance Again",
          "Waiting for the End",
          "I Got Love",
          "Again",
          "Losing Interest - Original Mix",
          "You Raise Me Up",
          "Smoke Gets in Your Eyes",
          "All Night Longer",
          "Save Me (with Lainey Wilson)",
          "Yeah Glo!",
          "Canon and Gigue for Three Violins and Continuo in D Major: Canon",
          "Bad idea",
          "BAND4BAND",
          "Ya No Estoy Dolido",
          "Filhall 2",
          "Halli Naatu (From \"Rrr\")",
          "How Did It End?",
          "Fotos Y Recuerdos (Remasterizado 2024/30th Anniversary)",
          "one of wun",
          "Bidi Bidi Bom Bom (Remasterizado 2024/30th Anniversary)",
          "Girls Just Wanna Have Some",
          "Techno Cumbia (Remasterizado 2024/30th Anniversary)",
          "30 GRADOS RKT",
          "Million Dollar Baby (Vhs)",
          "Oye",
          "Loosing interest",
          "Melhor Vibe",
          "Alo",
          "Apa Fer Milaange",
          "Are You Going to See the Rose in the Vase, or the Dust on the Table",
          "on one tonight",
          "Hey Mama (feat. Nicki Minaj, Bebe Rexha & Afrojack) - Boaz van de Beatz remix",
          "You can't control my heart",
          "greedy sped up",
          "Pagli Dekhave Agarbatti",
          "Number 2",
          "IDGAF (feat. Chris Brown and Mariah the Scientist)",
          "hakuna matata",
          "WTFYM",
          "Kallo(Feat.Ajay Hooda,Pooja Hooda)",
          "November Rain (2022 Version)",
          "Attitude (feat. Charlie Wilson & Cash Cobain)",
          "The Thin Grey Line",
          "Tshwala Bam (feat. S.N.E) - Remix",
          "Go Back (feat. Julia Church)",
          "Zapateado Encabronado #3",
          "American Boy (No Rap Version)",
          "Heavy stunts (with Don Toliver)",
          "400 Degreez",
          "Sorriso no Rosto",
          "Vivencias",
          "Linda Guajira",
          "Maroon Color Sadiya (From \"Fasal\")",
          "Mood - Remix",
          "In Da Club",
          "Fire - Official UEFA EURO 2024 Song",
          "Winners In Paris",
          "Nimbu Kharbuja Bhail 2",
          "Never Last",
          "Love You, Miss You, Mean It",
          "Never Stop",
          "Too Rolling Stoned - 2024 Remaster",
          "Ana Ghaltan",
          "Mi Morenita",
          "Linger - SiriusXM Session",
          "Nakhrewali",
          "Starboy - Live",
          "ATM",
          "The Man He Sees in Me",
          "Dhaniya Ae Jaan",
          "Body (feat. Cash Cobain)",
          "Baddies",
          "Baby Songs",
          "House Of Lies",
          "Love seeker",
          "DJ BIWIR BEUREUM-BEUREUM JAWER HAYAM PANO COKLAT KOPI SUSU - RUNTAH",
          "DOLA",
          "Aking Pahinga - Sped Up Version",
          "6 In the Morning (feat. Nate Dogg)",
          "A LA ORDEN",
          "MANIKIN (feat. Wifisfuneral)",
          "That Girl",
          "All My Life",
          "AirBnb",
          "Save Your Tears - Live",
          "Magic Johnson",
          "Gata Only (Remix)",
          "Jaragandi (From \"Game Changer\") (Telugu)",
          "Witchy (feat. Childish Gambino)",
          "Heavy On My Heart",
          "Left and Right (Charlie Puth) [feat. Jung Kook of BTS] - Sped Up Version",
          "Satu Rasa Cinta",
          "Los Patitos",
          "Amorfoda",
          "Dj Dayak Full Beat Lagu Malihi Janji",
          "icantbelieveiletyougetaway",
          "Say It Right (Dance)",
          "Hoy",
          "Una Lady Como Tï¿",
          "Wake Up! (feat. Juice WRLD)",
          "Sooseki (From \"Pushpa 2 The Rule\") [TELUGU]",
          "Lioness",
          "Virtual Angel",
          "Cat Partying (TikTok Sped Up) - Remix",
          "Dj Terompet Pemersatu Bangsa",
          "TIKTOK",
          "Psikopat",
          "Turbo S",
          "Yo Ya No Vuelvo Contigo - En Vivo",
          "girl$",
          "Pushpa Pushpa (From \"Pushpa 2 The Rule\") [HINDI]",
          "Mahiye Jinna Sohna Slowed + Reverb",
          "Alkool",
          "Tu Juliet Jatt Di ( From \"Jatt & Juliet 3\")",
          "Rag Doll - Live",
          "Piya Chhod Dihin Na",
          "Souk",
          "Bhauji Lenge Lenge",
          "Sonchadi | Coke Studio Bharat",
          "hey! hey!",
          "Benjamins Deli",
          "Fear Song (From \"Devara Part 1\") [Tamil]",
          "Khodni",
          "Spongebob",
          "Bado Badi",
          "Ride the Vibe",
          "2 Balas",
          "Enemy - Radio Edit",
          "El Perdedor",
          "Fly high to cloud nine",
          "Aku Sayang Tapi Kau Tak Paham",
          "La llama que Baila",
          "123 Song",
          "Ruper Jadu",
          "Weekend",
          "Back to the Beat",
          "Akher Yawm",
          "If You're Happy and You Know It (Clap Your Hands)",
          "HONEY BEES",
          "April Rain in August Weather",
          "2002 - Remix",
          "Dj Balada Boa X Pika Pika Kawenimeri",
          "Lose It",
          "2Humpy is Back",
          "A Mimir En El Chat",
          "Facas - Ao Vivo",
          "Dear John",
          "Bahagiaku Sederhana",
          "Braten",
          "Nature Sounds with Music: Inspiring Thunder and Rain with Relaxing Music",
          "Drift Night",
          "Mahiya Ve Gal Sun Mahiya Vey",
          "NINNIN JACK",
          "Maa Nammakam Nuvve Jagan, Vol 1",
          "El Caballito",
          "Veggie Dance - Remix",
          "Drained of Color",
          "Cari Mama Muda (Senorita Joven) - Original Mix",
          "Caramelo - Remix",
          "Cute",
          "shipping",
          "Problema",
          "Bura Na Mano Holi Hai",
          "Rude Boy (Superbowl Klean)",
          "BANZAI!",
          "BEBECITA",
          "Panda Basi",
          "Kya Hua",
          "Always This Same Old Song",
          "Into the Unknown",
          "Lahore",
          "Malohat",
          "Falling Angel",
          "Jaldi Chhoda Ghare Bullet Se",
          "A ver, a ver - Ric Piccolo Edit",
          "Miracle (Extended)",
          "Mitu",
          "Lambiyan Raataan",
          "SAN BENEDETTO",
          "Diable",
          "Lahore Brand",
          "Back",
          "Babba",
          "Voz Emplumada del Monte",
          "Fouji Fojan Lofi 2 (feat. Aamin Barodi & Sapna Choudhary)",
          "Bam Lagatar",
          "Chiky Boom",
          "Ranjha Maahi",
          "Bebefinn Song",
          "Happy Birthday",
          "Zombie Dance with New DB Heroes",
          "Original som fan",
          "We Laugh And Clap At The Circus",
          "Semangat Kerjanya Kawan",
          "Dj Gamm Gamm Piri Slow",
          "Abc",
          "BOO!SHUT",
          "So Far Away",
          "Too Little Light",
          "Nenas",
          "Param Pom",
          "Proud Mary - 2023 Remaster",
          "Lullaby - BadWolf Remix",
          "A Real Playa",
          "Yugur",
          "Bel Bont El3areedh",
          "Romeo Juliet - Title Song",
          "Venom",
          "He Dead (Oil Thief Remix)",
          "Dandini Dandini Dastana",
          "Hei Apa Apa / Tik Tak Tik Tik",
          "ECHOES: Cala Boca Menino",
          "Lil Somethin Somethin",
          "Eid",
          "So Far",
          "Bus 11 - John Falke Remix",
          "Mon ami",
          "Chana Tera Shukriya",
          "Revisando El Celu",
          "Looking Like a Wow End of Year 2023",
          "Om Jai Jagdish Hare",
          "Purple Stain",
          "Peekaboo",
          "The Way We Move - Extended Mix",
          "Halloween",
          "Search Bar",
          "Jai Jai Shivshankar (The Unwind Mix)",
          "Joy (In My Own Time) - Tribe Song",
          "Sunny Day",
          "Night Bus",
          "I Am Not Okay",
          "Raja Ji Ke Dilwa",
          "BellaBella",
          "Mua!",
          "Fadeaway",
          "Funk Estranho",
          "He Ya Pyar Sajena",
          "Savage Love",
          "Ch-Ch-Ch Chick (feat. Chick McGee)",
          "Bodak Black",
          "SAY for thank YOU",
          "Sabka Malik Ek",
          "Do Not Climb",
          "Do you like yogurt",
          "Ten by Ten",
          "LEATHER",
          "La solution",
          "Very Cute Melody by Marimba Tone (39813)",
          "No Fuss",
          "Numero Uno",
          "6. A.M.",
          "Poor People We"
         ],
         "legendgroup": "Digital Native",
         "marker": {
          "color": "#00cc96",
          "symbol": "circle"
         },
         "mode": "markers",
         "name": "Digital Native",
         "showlegend": true,
         "type": "scattergl",
         "x": [
          -5.483000680356181,
          -4.510929721159864,
          -5.357288280076697,
          -5.373364527589934,
          -4.1938005540342544,
          -5.0485855991244675,
          -5.552487754533206,
          -5.432868857020765,
          -5.450644801646999,
          -4.882048374358512,
          -5.480514579541036,
          -3.222813340685178,
          -3.9076562291919563,
          -3.283415632352999,
          -5.417610777045009,
          -5.52868735111139,
          -5.531616881421567,
          -4.448327999622651,
          -5.141123589905394,
          -4.741660995037754,
          -4.19360607565489,
          -5.428188140394028,
          -5.4316941658763565,
          -4.64755793034701,
          -3.5833183975012797,
          -4.6394018564208315,
          -5.135836702049329,
          -3.9554860841717665,
          -4.729554741871328,
          -4.050553480946766,
          -4.472108459653644,
          -4.354734009858802,
          -2.894399717804129,
          -3.6778439575279185,
          -4.198619103898378,
          -3.343258465754497,
          -5.509296760926127,
          -3.4940407415503394,
          -5.4454427867466,
          -3.1040208972262784,
          -5.115316475049469,
          -5.654385626120854,
          -4.364559215509465,
          -4.853518518355146,
          -4.328768970571261,
          -5.152808667944965,
          -3.16126244552389,
          -5.384582737263204,
          -3.4578834592849375,
          -5.620056602212077,
          -5.372048098565883,
          -4.970408231669767,
          -5.121732543436775,
          -3.634577846082994,
          -3.038655072803452,
          -4.4112432903649195,
          -3.4045022706871695,
          -5.8073494558310035,
          -5.672022604525142,
          -5.424557679309007,
          -5.943894188542602,
          -5.961185170127928,
          -4.056432610193848,
          -3.874451766456944,
          -5.7813760401968,
          -5.898494247931056,
          -5.283501908849595,
          -3.124998569463665,
          -3.4505070282633477,
          -3.447270220664143,
          -2.9974808484504423,
          -5.616371228707275,
          -3.219081112513799,
          -5.469829109188806,
          -6.241408257728229,
          -5.684806586124886,
          -6.004384289737779,
          -3.4148763184869098,
          -6.2571730266609205,
          -6.034735617529986,
          -3.3169016364171524,
          -6.109104483862882,
          -3.486019395957487,
          -3.357259632955967,
          -3.4138892379055905,
          -3.2103624785131544,
          -6.152540453164522,
          -3.4171565747806474,
          -3.769875328670335,
          -4.294631647783566,
          -4.2656712439262,
          -3.595426266040064,
          -3.141650210501177,
          -3.6626038748245078,
          -2.988137387554887,
          -3.0201370610262757,
          -4.633380179841851,
          -3.007729871005248,
          -3.0024735781601684,
          -6.132622047441017,
          -5.097965922353887,
          -3.584226722386112,
          -6.297744890828713,
          -3.812539366514746,
          -5.162464769880898,
          -6.4011539507092055,
          -3.348787527933913,
          -3.7045998550177064,
          -4.516849120615301,
          -3.03530095350973,
          -3.723337106919853,
          -3.336905605688219,
          -3.903534108314249,
          -3.117615907547542,
          -3.8098637790592855,
          -6.352464748069312,
          -2.9446442626991702,
          -3.297067845412405,
          -4.1373389342756415,
          -3.6018474666506832,
          -3.2486928305045937,
          -3.003123837963388,
          -3.0856297568969935,
          -3.4219946347509667,
          -3.4844741199465394,
          -3.842331256682779,
          -3.9299403246334723,
          -3.5488731860708382,
          -3.123049282402476,
          -4.043108894428506,
          -3.593194516384702,
          -3.718617038723783,
          -3.9663169894053762,
          -3.4248902593825523,
          -3.997458551229433,
          -3.331627542576212,
          -3.861395544668441,
          -4.3012586442967535,
          -3.557813919109992,
          -4.137735074787786,
          -4.077000053277269,
          -3.853646848535616,
          -3.19170235421929,
          -3.3671491143977135,
          -3.075028825624887,
          -3.190971669384555,
          -2.9612461484721067,
          -3.747895693502478,
          -4.311327272758855,
          -3.6485614559869597,
          -3.9585992179280414,
          -3.3130319876660885,
          -4.502461219716264,
          -4.515016917701908,
          -3.9336184251852373,
          -3.383759031659259,
          -3.5083765353912155,
          -4.362415385811742,
          -4.398071269046472,
          -3.4770257212091575,
          -3.5264383115571505,
          -3.311804849306905,
          -3.3005823562243513,
          -3.218042317473134,
          -3.5089992292902386,
          -3.6703800368091017,
          -3.619023166094024,
          -3.5998440116472117,
          -6.099863451574048,
          -4.990866137970093,
          -3.8169140182707304,
          -4.277881229250252,
          -4.120584028813963,
          -3.7863174436438074,
          -3.2507429267392807,
          -4.163578942341636,
          -3.6239279668663533,
          -4.126224651319929,
          -5.009562938671783,
          -3.6152370268502345,
          -3.4945253200526327,
          -3.280875642675454,
          -4.585778115071727,
          -6.599324491439966,
          -4.822782176980331,
          -4.487180856178255,
          -3.170173601477308,
          -3.3915350739925945,
          -3.003269234895546,
          -4.422166322017348,
          -3.286795373813944,
          -4.69329022747372,
          -3.248719397726028,
          -3.9867469645164366,
          -4.86505859774161,
          -4.9526365289123655,
          -3.3337915616451697,
          -4.528490744028753,
          -4.749663996816221,
          -3.9344608916928014,
          -4.205771776306083,
          -3.755124992878799,
          -4.048715491429371,
          -7.30816070887109,
          -5.2097791751863705,
          -5.501362080334698,
          -4.435027874735965,
          -5.014702049742344,
          -4.544853781302432,
          -4.927721498010083,
          -3.2446069843960896,
          -4.967980841425511,
          -5.025490194001866,
          -3.596238778215388,
          -3.9360492506497433,
          -5.181038526340195,
          -5.002578596359194,
          -3.400964290982954,
          -4.328452786019286,
          -5.045350331035608,
          -3.196418634653475,
          -5.6969623415786845,
          -4.889621705394882,
          -4.903902119944709,
          -4.6353872828162475,
          -4.673607927114085,
          -4.024778781982833,
          -5.694324696349845,
          -4.1386273823044935,
          -4.524421511871501,
          -4.396410911274339,
          -5.0854449635054255,
          -4.616484357231136,
          -4.557352257533656,
          -4.181480150818864,
          -4.0512417346781096,
          -3.992049320616801,
          -4.52712948768637,
          -6.040850176676366,
          -6.247558779105298,
          -5.584811155546366,
          -4.483654784596305,
          -5.9539376435564515,
          -3.2341300417456584,
          -6.042073309049586,
          -5.520866481362347,
          -5.116873412791785,
          -5.523711407916074,
          -4.756304504422227,
          -4.690156950116251,
          -4.517927566486603,
          -5.401629927704142,
          -5.4357212617767035,
          -5.853587126340016,
          -4.591321540714528,
          -7.498133833616732,
          -4.761269469095612,
          -5.516809257034834,
          -5.252974963955284,
          -6.039644769745244,
          -5.342744421748369,
          -5.225237352583656,
          -5.404067668948887,
          -5.3445059083278315,
          -6.653757182913544,
          -5.414988092527576,
          -5.436384058515929,
          -4.457738869902795,
          -4.992792058252001,
          -5.267238626550267,
          -5.907336816471925,
          -6.254386083814072,
          -4.937851001115179,
          -6.227345914189247,
          -6.084739237883551,
          -5.8335003544191615,
          -4.780317624439929,
          -4.640809386317804,
          -5.280102181549528,
          -5.675773953853715,
          -6.481453254323443,
          -5.249671103953375,
          -4.9798750213222185,
          -6.008401722196499,
          -4.7774934046636615,
          -6.614654028405997,
          -5.806803407365072,
          -6.9751911398064825,
          -6.656190432853419,
          -7.009349683751817,
          -6.247213799384637,
          -6.247303294494249,
          -5.845804036275424,
          -6.421069920499383,
          -6.456162953930918,
          -5.638927992673061,
          -6.054236801151372,
          -6.045583546081398,
          -5.612294754760226,
          -6.674329099645928,
          -6.478492850943021,
          -6.079395223758997,
          -6.215129472520199,
          -6.528170215453937,
          -6.439360127365627,
          -6.155624013044739
         ],
         "xaxis": "x",
         "y": [
          -3.1957125092820746,
          -3.3486558640116337,
          -3.200275815647818,
          -3.1862315811128825,
          -3.376116830421278,
          -3.2255545662067924,
          -3.135008494487261,
          -3.1342485074706925,
          -3.1187194149256,
          -3.209357981255846,
          -3.0926251310509025,
          -3.8125394980895813,
          -3.361575717763147,
          -3.188894539431567,
          -3.0860052814944146,
          -3.0505413237709464,
          -3.0479820815896197,
          -3.2354833335287694,
          -3.0936175764705207,
          -3.156682825943534,
          -2.9899877485580197,
          -3.0330783489854025,
          -3.0300154797356766,
          -3.1558080796061554,
          1.0001002471948,
          -3.1483729217323457,
          -3.060072358924172,
          -3.25927187881565,
          -3.1135912813034383,
          -2.955876888280009,
          -3.1877630955086897,
          -2.9017384061984375,
          -4.038063992550509,
          1.138349012558116,
          -3.1679690820516573,
          -3.316530755296227,
          -2.928335826920111,
          -3.010966782503331,
          -2.9330230981300343,
          -3.944662262997092,
          -2.977017565433448,
          -2.879158409445623,
          -3.131840868273248,
          -3.007632643009978,
          -2.8407941576597304,
          -2.9442643280986878,
          -3.841545490745888,
          -2.8809312911695955,
          -3.8137606102984796,
          -2.8315758593473714,
          -2.871603896359082,
          -2.9990374488454687,
          -2.9084003566754246,
          -2.8949467433152987,
          -3.9475612626936405,
          -2.7570361563298342,
          1.1065238821494305,
          -2.7455289727227496,
          -2.7584914782814605,
          -2.7996347843488403,
          -2.687815992465144,
          -2.672710564377922,
          -3.0016452402754505,
          -3.6509950533806816,
          -2.6906469503942065,
          -2.665904742264919,
          -2.7729197637893956,
          0.5417336409806934,
          1.663539660940458,
          0.993945758422783,
          -0.1583419609100729,
          -2.678440508811388,
          0.06476955065532691,
          -2.685744277021654,
          -2.533166484103282,
          -2.6299090884731706,
          -2.573399039001562,
          -3.536498685910703,
          -2.5193943577350177,
          -2.546884072395736,
          0.6560970561694858,
          -2.481915316470791,
          0.8144443905686892,
          0.0033510685008516275,
          0.12351319848441045,
          1.4129139589718192,
          -2.443969586932711,
          -2.4830478614254794,
          1.1493590084427199,
          -2.9431367997941678,
          -3.4062075214974845,
          0.0533149037686495,
          -0.12384558835932638,
          1.0623574048452398,
          -3.1335587565603897,
          -0.1831151966043494,
          -2.7481292065207237,
          -3.0715685975923805,
          -3.1232395624091187,
          -2.3561110970609613,
          -2.282301212561483,
          -2.7899966138331385,
          -2.317118767026495,
          0.48478392034232065,
          -2.2984882013151737,
          -2.28835316147992,
          1.1953204257805328,
          -2.2548207315424786,
          1.8135939063051227,
          -3.1591770073654897,
          -2.742471610556281,
          1.3646276407613955,
          0.30708453636856753,
          -3.179862491434887,
          0.05370887186277127,
          -2.269315415642883,
          -2.7553999896140646,
          0.6829415451958534,
          -2.1814666581366287,
          1.0717475001126893,
          1.4980854243761172,
          -0.08309006653119166,
          -0.17263645821927018,
          1.3456349211031304,
          -0.12352639364421825,
          -2.7788927512573336,
          1.8545533717173472,
          0.6525088301321066,
          0.599144875371326,
          -2.1052893489522773,
          0.8408532796910304,
          -2.029515979911827,
          -2.5914443145994452,
          0.7206988672057989,
          -2.3907039041720215,
          0.6526334961418047,
          -2.785169531748944,
          0.1378856763655487,
          1.5252247079310746,
          -0.8197728407922156,
          -2.6106176486870254,
          1.1222208441712234,
          -0.12098804989622942,
          0.24327533479660565,
          1.761786581145262,
          0.9406075957803844,
          2.0782688088864716,
          1.6918693717625204,
          -1.9894583462941209,
          0.14589956734349155,
          1.5055881705921963,
          0.8866795177235516,
          1.9539375178568184,
          0.1366939578962511,
          1.280283908990311,
          -0.1938087222508262,
          0.7469697732517381,
          -1.9849892591623481,
          -1.9276585735225253,
          0.7025532111244743,
          1.0052584588690054,
          1.55278591293065,
          1.9630460733770554,
          -0.43248824972246497,
          1.0189267828232262,
          0.9043638222739797,
          1.1647595289250627,
          0.7553264011564114,
          -2.0754143122341784,
          1.307914332606465,
          1.1038857966194566,
          1.5698308171350583,
          1.2112911879845452,
          0.8075216298056345,
          0.540929903160924,
          1.4079375631390938,
          0.9685168047803734,
          -1.8995300044974073,
          1.257387671798233,
          1.085737438849867,
          1.7377626990133397,
          0.37706336303665783,
          2.0717042794425273,
          -1.871110266562017,
          0.17559617968536104,
          2.0221348178474745,
          2.3941419679028675,
          0.788284533191267,
          0.34956534291030933,
          -1.6160640481533262,
          0.19140504073493908,
          1.8838669712828773,
          2.0834008512120574,
          1.9058802894924831,
          -1.5201986643749965,
          -1.5409249276055748,
          1.412740050413507,
          -1.5658365473207554,
          1.5809950111685716,
          1.9882192995451726,
          1.508285172856061,
          0.7718517174192345,
          1.8677208226129325,
          -1.6012499033071481,
          -1.4667604545678816,
          -1.4746627613566634,
          1.1118750870345868,
          1.805414746829512,
          -1.5764484415610795,
          1.4281526827774171,
          2.266311933592634,
          -1.3605123548856228,
          2.254009113413471,
          1.0307774572151733,
          1.721141796568348,
          -1.3149051950660897,
          2.297570958282681,
          1.6180714638493796,
          2.10915874096199,
          1.4547341976519073,
          2.5340191840053135,
          1.5672977036976685,
          2.0804404755195476,
          2.1391355970970345,
          2.584935504043197,
          2.0867192096105094,
          0.7803692004778463,
          2.383002041152244,
          1.7493747396461854,
          -0.3287093035627558,
          2.407761864451904,
          2.8830199437402544,
          2.1607629999236746,
          2.1297771967885377,
          1.8049527227366056,
          2.5678484176507475,
          2.384772583063628,
          2.4473817361700725,
          2.143273865813101,
          1.8956923456225234,
          2.454556335953009,
          2.1166442089558384,
          2.057490995677943,
          1.503697686873273,
          2.2171956141233022,
          -1.1084363220965159,
          2.14852927836669,
          1.0419201714539612,
          1.142808107592313,
          2.4079929454283633,
          2.2496231866275744,
          2.3717222695325533,
          2.4379550106110726,
          2.40378592313976,
          2.3905326682832837,
          -1.2247706101138962,
          2.4259836734582794,
          0.4899530986512632,
          2.2965161909283474,
          2.716890058350788,
          2.218782263050514,
          2.316772009165638,
          2.5065144944207733,
          2.5659090539382814,
          -0.7941341112942525,
          2.3298316414211624,
          2.6510342149016557,
          2.273171488536067,
          2.3279701310942476,
          2.5204951783033764,
          -0.7995291749938043,
          -0.8133421164827525,
          1.185601503583806,
          -0.7841851943674449,
          2.6342456894337527,
          2.5019874837318685,
          2.7973831459101595,
          2.7101312725076463,
          2.6593500385307176,
          2.572490644576642,
          2.8707782005602587,
          2.6501918949001,
          -0.7322712075283627,
          2.7032079921343537,
          0.8124970580950176,
          2.788534644731981,
          2.8900615696006624,
          -0.6093194429449398,
          -0.641308051892188,
          -0.8295237109768858,
          -0.6131447178529711,
          3.0180357774074755,
          3.0243120120050144,
          2.9108866853077604,
          2.834332691885836,
          2.804710073087528,
          2.642946284092663,
          2.787629187632007,
          2.8169156739823875,
          3.0226333746353706,
          2.956188697193345,
          1.9683282832085447,
          2.908118667266278,
          2.983724663030513,
          3.24742371887976,
          3.1168601094783384
         ],
         "yaxis": "y"
        },
        {
         "customdata": [
          [
           "Olivia Rodrigo",
           2167768056
          ],
          [
           "Macklemore & Ryan Lewis",
           1226381432
          ],
          [
           "Dan + Shay",
           1060667446
          ],
          [
           "A Boogie Wit da Hoodie",
           921936314
          ],
          [
           "Taylor Swift",
           859985881
          ],
          [
           "THE SCOTTS",
           789962731
          ],
          [
           "Jack Harlow",
           742255774
          ],
          [
           "Taylor Swift",
           732118596
          ],
          [
           "Summer Walker",
           625999943
          ],
          [
           "Ariana Grande",
           591068364
          ],
          [
           "Famous Dex",
           577534277
          ],
          [
           "Jung Kook",
           573249007
          ],
          [
           "BTS",
           563366391
          ],
          [
           "Hugh Jackman",
           552343934
          ],
          [
           "ThxSoMch",
           519330096
          ],
          [
           "Pritam",
           516740949
          ],
          [
           "SZA",
           463298197
          ],
          [
           "BTS",
           439395056
          ],
          [
           "J. Cole",
           436133194
          ],
          [
           "Bizarrap",
           434019386
          ],
          [
           "Hotel Ugly",
           428290193
          ],
          [
           "Bad Bunny",
           426439016
          ],
          [
           "Juice WRLD",
           392674468
          ],
          [
           "KHEA",
           376842137
          ],
          [
           "J. Cole",
           367165473
          ],
          [
           "Billie Eilish",
           366169549
          ],
          [
           "Future",
           355186436
          ],
          [
           "SZA",
           343090427
          ],
          [
           "Anirudh Ravichander",
           334578317
          ],
          [
           "Oscar Maydon",
           332741927
          ],
          [
           "Metro Boomin",
           325654069
          ],
          [
           "MUPP",
           317919778
          ],
          [
           "Fuerza Regida",
           316447060
          ],
          [
           "Imagine Dragons",
           313209345
          ],
          [
           "Bizarrap",
           305438624
          ],
          [
           "Tiago PZK",
           297383787
          ],
          [
           "Kaifi Khalil",
           296648613
          ],
          [
           "Taylor Swift",
           285889664
          ],
          [
           "Xavi",
           283079113
          ],
          [
           "Felix Jaehn",
           283002053
          ],
          [
           "Piso 21",
           281927185
          ],
          [
           "Daniel Caesar",
           281707091
          ],
          [
           "Grupo Marca Registrada",
           278308556
          ],
          [
           "Shubh",
           276505971
          ],
          [
           "Grupo Los de la O",
           274559147
          ],
          [
           "Natanael Cano",
           272838329
          ],
          [
           "RAYE",
           270327239
          ],
          [
           "Mc IG",
           269785626
          ],
          [
           "Noah Kahan",
           269280631
          ],
          [
           "Junior H",
           266127900
          ],
          [
           "Zach Bryan",
           261905370
          ],
          [
           "Peso Pluma",
           261311116
          ],
          [
           "King Von",
           261230912
          ],
          [
           "Junior H",
           257812063
          ],
          [
           "Kygo",
           256297608
          ],
          [
           "Anuel AA",
           256112908
          ],
          [
           "Drake",
           253540951
          ],
          [
           "Arijit Singh",
           250599391
          ],
          [
           "The Black Keys",
           248857241
          ],
          [
           "SUICIDAL-IDOL",
           242661037
          ],
          [
           "Gabito Ballesteros",
           242519709
          ],
          [
           "Lil Baby",
           241293946
          ],
          [
           "Chino Pacas",
           241174958
          ],
          [
           "Mac Miller",
           240912994
          ],
          [
           "Bob Sinclar",
           240482615
          ],
          [
           "SAIKO",
           238718077
          ],
          [
           "Trippie Redd",
           238027193
          ],
          [
           "Vishal Mishra",
           235472222
          ],
          [
           "Takeoff",
           234838690
          ],
          [
           "Metro Boomin",
           234350961
          ],
          [
           "Mark Ambor",
           233969547
          ],
          [
           "Oscar Maydon",
           230291754
          ],
          [
           "Natanael Cano",
           226233020
          ],
          [
           "DaBaby",
           225260644
          ],
          [
           "ZWE1HVNDXR",
           224798632
          ],
          [
           "Rels B",
           223617742
          ],
          [
           "Junior H",
           223422665
          ],
          [
           "Odetari",
           222975417
          ],
          [
           "Kygo",
           222354971
          ],
          [
           "Peso Pluma",
           222295526
          ],
          [
           "L7NNON",
           219756697
          ],
          [
           "AUR",
           218471293
          ],
          [
           "Ariana Grande",
           216386557
          ],
          [
           "Arijit Singh",
           214352397
          ],
          [
           "Los Gemelos De Sinaloa",
           209092342
          ],
          [
           "Eugenio Esquivel",
           207103587
          ],
          [
           "Baby Keem",
           206432478
          ],
          [
           "Future",
           205206688
          ],
          [
           "$uicideboy$",
           204669341
          ],
          [
           "Varun Jain",
           203379355
          ],
          [
           "BANDIDO",
           203081704
          ],
          [
           "Fuerza Regida",
           202633616
          ],
          [
           "Drake",
           201467069
          ],
          [
           "Dimitri Vegas & Like Mike",
           200151839
          ],
          [
           "Christian Nodal",
           199953495
          ],
          [
           "Metro Boomin",
           199846893
          ],
          [
           "Odetari",
           199444237
          ],
          [
           "Natanael Cano",
           199378491
          ],
          [
           "Metro Boomin",
           197477305
          ],
          [
           "V",
           196612187
          ],
          [
           "Peso Pluma",
           192231633
          ],
          [
           "Jaziel Avilez",
           191918763
          ],
          [
           "Shubh",
           191465461
          ],
          [
           "A$AP Rocky",
           190634973
          ],
          [
           "$uicideboy$",
           189588270
          ],
          [
           "Jung Kook",
           188249146
          ],
          [
           "Mora",
           187631508
          ],
          [
           "Xavi",
           186482379
          ],
          [
           "Lumi Athena",
           185817317
          ],
          [
           "Bizarrap",
           185316307
          ],
          [
           "Pritam",
           184580310
          ],
          [
           "Odetari",
           183162195
          ],
          [
           "Oscar Maydon",
           183146334
          ],
          [
           "Nicki Nicole",
           182184068
          ],
          [
           "Manu",
           181784966
          ],
          [
           "Bizarrap",
           181516735
          ],
          [
           "Anuv Jain",
           181457783
          ],
          [
           "Elley Duhï¿",
           179176296
          ],
          [
           "Anuel AA",
           178950943
          ],
          [
           "Crazy Frog",
           178536020
          ],
          [
           "KayBlack",
           178044172
          ],
          [
           "Taylor Swift",
           176970541
          ],
          [
           "Oscar Maydon",
           176958728
          ],
          [
           "Taylor Swift",
           175613480
          ],
          [
           "Ariana Grande",
           175336290
          ],
          [
           "Isabel LaRosa",
           174933335
          ],
          [
           "Vulgo FK",
           174583156
          ],
          [
           "Teto",
           174165147
          ],
          [
           "Sam Barber",
           174154846
          ],
          [
           "Maluma",
           173609862
          ],
          [
           "Jubin Nautiyal",
           171856399
          ],
          [
           "Bizarrap",
           170834610
          ],
          [
           "Billie Eilish",
           169410711
          ],
          [
           "Metro Boomin",
           168713011
          ],
          [
           "Kendrick Lamar",
           168434320
          ],
          [
           "Jaxomy",
           168145583
          ],
          [
           "Drake",
           167840439
          ],
          [
           "Jung Kook",
           167384917
          ],
          [
           "1nonly",
           166436749
          ],
          [
           "Taylor Swift",
           165611453
          ],
          [
           "Jessie Murph",
           165347464
          ],
          [
           "Drake",
           165204421
          ],
          [
           "Peso Pluma",
           164219485
          ],
          [
           "Milo j",
           163958167
          ],
          [
           "Taylor Swift",
           161916445
          ],
          [
           "Bad Bunny",
           160821035
          ],
          [
           "Odetari",
           160320384
          ],
          [
           "Pritam",
           159909273
          ],
          [
           "Zach Bryan",
           159880836
          ],
          [
           "Fuerza Regida",
           159876075
          ],
          [
           "Travis Scott",
           159483318
          ],
          [
           "David Guetta",
           158952262
          ],
          [
           "Luis R Conriquez",
           158131138
          ],
          [
           "Memphis Cult",
           157826873
          ],
          [
           "Natanael Cano",
           157476564
          ],
          [
           "Yeat",
           156047755
          ],
          [
           "Tropa do Bruxo",
           155915718
          ],
          [
           "R3HAB",
           155454907
          ],
          [
           "Taylor Swift",
           154819909
          ],
          [
           "Alok",
           153478699
          ],
          [
           "Laddi Chahal",
           152564352
          ],
          [
           "Kanii",
           152454686
          ],
          [
           "MoonDeity",
           152307497
          ],
          [
           "Taylor Swift",
           150693008
          ],
          [
           "Ski Aggu",
           150508549
          ],
          [
           "Brent Faiyaz",
           149609501
          ],
          [
           "Luan Pereira",
           149455007
          ],
          [
           "B Praak",
           149351877
          ],
          [
           "Peso Pluma",
           148341816
          ],
          [
           "Drake",
           147688885
          ],
          [
           "League of Legends",
           147487181
          ],
          [
           "Calle 24",
           145975016
          ],
          [
           "Conjunto Rienda Real",
           145707423
          ],
          [
           "Gabito Ballesteros",
           145332157
          ],
          [
           "juju<3",
           145323071
          ],
          [
           "6arelyhuman",
           144555119
          ],
          [
           "Jack Black",
           144252786
          ],
          [
           "Drake",
           143220845
          ],
          [
           "Anirudh Ravichander",
           143053873
          ],
          [
           "Veigh",
           142474379
          ],
          [
           "Anirudh Ravichander",
           142430643
          ],
          [
           "Doble ONE Flow Letal",
           140356426
          ],
          [
           "Fuerza Regida",
           140289944
          ],
          [
           "Taylor Swift",
           140177107
          ],
          [
           "Cris Mj",
           139929615
          ],
          [
           "Luan Pereira",
           139669652
          ],
          [
           "LXNGVX",
           139208438
          ],
          [
           "Clara La San",
           138987928
          ],
          [
           "Gaby Music",
           138904532
          ],
          [
           "Bad Bunny",
           138855240
          ],
          [
           "Rosa Linn",
           138349331
          ],
          [
           "PEDRO SAMPAIO",
           137276005
          ],
          [
           "Travis Scott",
           137071285
          ],
          [
           "Hypaton",
           136778408
          ],
          [
           "Travis Scott",
           133152051
          ],
          [
           "Empire Of The Sun",
           131670125
          ],
          [
           "Yeat",
           131100973
          ],
          [
           "Michelle Maciel",
           127818826
          ],
          [
           "Victony",
           127806442
          ],
          [
           "SleazyWorld Go",
           127742133
          ],
          [
           "LATIN MAFIA",
           127503950
          ],
          [
           "phonk.me",
           127080399
          ],
          [
           "Yandel",
           126879048
          ],
          [
           "Slowboy",
           126698724
          ],
          [
           "NLE Choppa",
           126680278
          ],
          [
           "MC Rogerinho",
           126063862
          ],
          [
           "Carin Leon",
           125938742
          ],
          [
           "Alok",
           125445403
          ],
          [
           "Javed Ali",
           125396685
          ],
          [
           "Zach Bryan",
           125267352
          ],
          [
           "Lil Uzi Vert",
           125102655
          ],
          [
           "Future",
           124945674
          ],
          [
           "Jere Klein",
           124155654
          ],
          [
           "Blessd",
           124020754
          ],
          [
           "Thalapathy Vijay",
           123908201
          ],
          [
           "Isabel LaRosa",
           123802404
          ],
          [
           "Enrique Iglesias",
           123776123
          ],
          [
           "Jorja Smith",
           123627077
          ],
          [
           "Manan Bhardwaj",
           123276250
          ],
          [
           "Peso Pluma",
           123243341
          ],
          [
           "BM",
           123113806
          ],
          [
           "Dominic Fike",
           122999909
          ],
          [
           "Taylor Swift",
           122986507
          ],
          [
           "Shakira",
           122882453
          ],
          [
           "Stebin Ben",
           122853878
          ],
          [
           "Tate McRae",
           120880428
          ],
          [
           "Eric Land",
           120491749
          ],
          [
           "NATTI NATASHA",
           120404381
          ],
          [
           "Kanye West",
           120079689
          ],
          [
           "Sarah Jeffery",
           118934988
          ],
          [
           "Chase & Status",
           118804209
          ],
          [
           "Myke Towers",
           118631919
          ],
          [
           "juan karlos",
           117290821
          ],
          [
           "Lil Baby",
           116994951
          ],
          [
           "YSY A",
           116625807
          ],
          [
           "BLACKPINK",
           116539504
          ],
          [
           "Taylor Swift",
           115748552
          ],
          [
           "Mitraz",
           114992281
          ],
          [
           "Nicki Minaj",
           114947522
          ],
          [
           "KAROL G",
           113567783
          ],
          [
           "PARTYNEXTDOOR",
           113153819
          ],
          [
           "Ariana Grande",
           113104452
          ],
          [
           "NewJeans",
           112730335
          ],
          [
           "Jay Wheeler",
           112634428
          ],
          [
           "Daniel Caesar",
           112162450
          ],
          [
           "Odetari",
           111532358
          ],
          [
           "MC PH",
           111408880
          ],
          [
           "XXXTENTACION",
           111369377
          ],
          [
           "Javed-Mohsin",
           110644306
          ],
          [
           "Luck Ra",
           110573724
          ],
          [
           "d4vd",
           110377644
          ],
          [
           "Young Miko",
           109149345
          ],
          [
           "Arijit Singh",
           108748134
          ],
          [
           "Dua Lipa",
           108501771
          ],
          [
           "Drake",
           107762230
          ],
          [
           "Dave",
           107742416
          ],
          [
           "Jaani",
           107595657
          ],
          [
           "Heuss L'enfoirï¿",
           107498014
          ],
          [
           "DELLAFUENTE",
           106759874
          ],
          [
           "Diljit Dosanjh",
           106514756
          ],
          [
           "Jere Klein",
           106290197
          ],
          [
           "Taylor Swift",
           106201248
          ],
          [
           "Rels B",
           105759424
          ],
          [
           "Taylor Swift",
           105424914
          ],
          [
           "41",
           104897425
          ],
          [
           "Travis Scott",
           104724143
          ],
          [
           "Jung Kook",
           104618147
          ],
          [
           "Morgan Wallen",
           104516305
          ],
          [
           "Gabriela Rocha",
           103132095
          ],
          [
           "21 Savage",
           102829758
          ],
          [
           "Bad Bunny",
           102660899
          ],
          [
           "Travis Scott",
           102510409
          ],
          [
           "Guri",
           102266938
          ],
          [
           "xxanteria",
           101938916
          ],
          [
           "Lil Baby",
           101717995
          ],
          [
           "Bad Bunny",
           101706440
          ],
          [
           "DJ Arana",
           101571557
          ],
          [
           "YNW Melly",
           101094621
          ],
          [
           "Billie Eilish",
           100838516
          ],
          [
           "Tiagz",
           100634965
          ],
          [
           "Mc Ws da leste",
           100530093
          ],
          [
           "Bizarrap",
           100182006
          ],
          [
           "Alex Warren",
           99946842
          ],
          [
           "Big One",
           99865431
          ],
          [
           "Parmish Verma",
           99237146
          ],
          [
           "Uzielito Mix",
           99086405
          ],
          [
           "YoungBoy Never Broke Again",
           99037719
          ],
          [
           "Bad Bunny",
           99022909
          ],
          [
           "Lefty Sm",
           98795736
          ],
          [
           "Karan Aujla",
           97989585
          ],
          [
           "Travis Scott",
           97901897
          ],
          [
           "Badshah",
           97600091
          ],
          [
           "Raghav Chaitanya",
           97393603
          ],
          [
           "Ken Carson",
           97155109
          ],
          [
           "Pritam",
           97050082
          ],
          [
           "Bad Bunny",
           96595281
          ],
          [
           "Grupo Marca Registrada",
           96383243
          ],
          [
           "Don Toliver",
           96288883
          ],
          [
           "ATEEZ",
           95981326
          ],
          [
           "DJ LG PROD",
           95980260
          ],
          [
           "Neha Kakkar",
           95962246
          ],
          [
           "Bad Bunny",
           95925842
          ],
          [
           "Cleffy",
           95871805
          ],
          [
           "Tyla",
           95341415
          ],
          [
           "Mahmood",
           95029509
          ],
          [
           "G-Eazy",
           94635338
          ],
          [
           "Shilpa Rao",
           94518210
          ],
          [
           "YOVNGCHIMI",
           94305899
          ],
          [
           "Milo j",
           94097213
          ],
          [
           "KRYPTO9095",
           92985109
          ],
          [
           "Betillo Guerrero",
           92981184
          ],
          [
           "Justin Timberlake",
           92932220
          ],
          [
           "Nej",
           92866817
          ],
          [
           "Libianca",
           92719593
          ],
          [
           "iZaak",
           92573075
          ],
          [
           "Taylor Swift",
           92296736
          ],
          [
           "Luis R Conriquez",
           92158242
          ],
          [
           "Armaan Malik",
           92120986
          ],
          [
           "Andrew Underberg",
           91969282
          ],
          [
           "Kali Uchis",
           91553012
          ],
          [
           "Billie Eilish",
           91272461
          ],
          [
           "Travis Scott",
           90921914
          ],
          [
           "Fuerza Regida",
           90149537
          ],
          [
           "Badshah",
           89815962
          ],
          [
           "Kendrick Lamar",
           89806639
          ],
          [
           "4batz",
           89787741
          ],
          [
           "B Praak",
           89701636
          ],
          [
           "KAROL G",
           89487508
          ],
          [
           "Alek Olsen",
           89292592
          ],
          [
           "ENHYPEN",
           88814008
          ],
          [
           "Destroy Lonely",
           88771696
          ],
          [
           "Clovis Reyes",
           88673935
          ],
          [
           "Metro Boomin",
           88524099
          ],
          [
           "Taylor Swift",
           88244010
          ],
          [
           "Humbe",
           88072335
          ],
          [
           "Sonny Wern",
           87323895
          ],
          [
           "Bad Bunny",
           86588767
          ],
          [
           "Drake",
           86155124
          ],
          [
           "Tony Kakkar",
           84890640
          ],
          [
           "Feid",
           84131713
          ],
          [
           "Shubh",
           84030576
          ],
          [
           "Luck Ra",
           83544478
          ],
          [
           "Taylor Swift",
           83518075
          ],
          [
           "Yeat",
           83393310
          ],
          [
           "Mithoon",
           82758005
          ],
          [
           "Logan Paul",
           82539441
          ],
          [
           "Ice Spice",
           82013588
          ],
          [
           "Gabito Ballesteros",
           81942319
          ],
          [
           "Dave",
           81911061
          ],
          [
           "Angelina Mango",
           81694468
          ],
          [
           "Anuel AA",
           81623095
          ],
          [
           "Taylor Swift",
           81419779
          ],
          [
           "Luis R Conriquez",
           81186913
          ],
          [
           "Drake",
           81093233
          ],
          [
           "Megan Thee Stallion",
           80952546
          ],
          [
           "Anirudh Ravichander",
           80886056
          ],
          [
           "Fred again..",
           80795111
          ],
          [
           "Rod Wave",
           79871904
          ],
          [
           "Ella Mai",
           79783827
          ],
          [
           "Elevation Worship",
           79621215
          ],
          [
           "Chris Stapleton",
           78855298
          ],
          [
           "Camila Cabello",
           78537688
          ],
          [
           "Lithe",
           78227549
          ],
          [
           "Ella Henderson",
           78096380
          ],
          [
           "Juice WRLD",
           78001581
          ],
          [
           "Eladio Carrion",
           77975794
          ],
          [
           "Guru Randhawa",
           77941531
          ],
          [
           "ZICO",
           77757035
          ],
          [
           "HEARTSTEEL",
           77600263
          ],
          [
           "Morgan Wallen",
           77564567
          ],
          [
           "Kanye West",
           77403728
          ],
          [
           "Billie Eilish",
           77212437
          ],
          [
           "Disclosure",
           76959761
          ],
          [
           "Beyoncï¿",
           76870736
          ],
          [
           "TOMORROW X TOGETHER",
           76642740
          ],
          [
           "Kaka",
           76630812
          ],
          [
           "Dave",
           76510509
          ],
          [
           "Saad Lamjarred",
           75152048
          ],
          [
           "Leo Santana",
           74934765
          ],
          [
           "Riley Green",
           74806048
          ],
          [
           "Bad Bunny",
           74331462
          ],
          [
           "Drake",
           74265576
          ],
          [
           "Neha Kakkar",
           74027513
          ],
          [
           "$uicideboy$",
           73979851
          ],
          [
           "Campbell",
           73821370
          ],
          [
           "Eternxlkz",
           73316998
          ],
          [
           "ITZY",
           73213687
          ],
          [
           "LIZOT",
           72773866
          ],
          [
           "MAX",
           72492332
          ],
          [
           "Travis Scott",
           72380469
          ],
          [
           "B Praak",
           72348363
          ],
          [
           "Drake",
           72335127
          ],
          [
           "Dawin",
           71345247
          ],
          [
           "Renn",
           71320813
          ],
          [
           "Canbay & Wolker",
           71190581
          ],
          [
           "Mc Don Juan",
           71078859
          ],
          [
           "Stray Kids",
           71016852
          ],
          [
           "UZI",
           70664645
          ],
          [
           "Payal Dev",
           70622319
          ],
          [
           "Lil Baby",
           70601620
          ],
          [
           "Nicki Minaj",
           70351205
          ],
          [
           "Juice WRLD",
           70180212
          ],
          [
           "Duo Tiempo de Sol",
           70061366
          ],
          [
           "Fuerza Regida",
           69834726
          ],
          [
           "Future",
           69705399
          ],
          [
           "Ana Castela",
           69417527
          ],
          [
           "*NSYNC",
           69041864
          ],
          [
           "Burak Bulut",
           68985345
          ],
          [
           "Lil Uzi Vert",
           68598656
          ],
          [
           "Future",
           68542565
          ],
          [
           "Arthur Miguel",
           68411628
          ],
          [
           "Luan Pereira",
           68372540
          ],
          [
           "Dan Ventura",
           68273832
          ],
          [
           "Jagwar Twin",
           68270779
          ],
          [
           "JENNIE",
           68266114
          ],
          [
           "Lana Del Rey",
           68235585
          ],
          [
           "Darshan Raval",
           68139013
          ],
          [
           "Dom Dolla",
           68053989
          ],
          [
           "Ricky Desktop",
           68033539
          ],
          [
           "Annalisa",
           67967157
          ],
          [
           "RIIZE",
           67887030
          ],
          [
           "Ivete Sangalo",
           67224922
          ],
          [
           "Travis Scott",
           66878719
          ],
          [
           "GloRilla",
           66836198
          ],
          [
           "Rod Wave",
           66813186
          ],
          [
           "The Kid LAROI",
           66555473
          ],
          [
           "Ezhel",
           66553836
          ],
          [
           "Jason Aldean",
           66418201
          ],
          [
           "Bad Bunny",
           66274186
          ],
          [
           "Bhavi",
           66225764
          ],
          [
           "mikeeysmind",
           66104800
          ],
          [
           "Billie Eilish",
           66101468
          ],
          [
           "Drake",
           65870686
          ],
          [
           "Taylor Swift",
           65809859
          ],
          [
           "mafalda cardenal",
           65670361
          ],
          [
           "Diljit Dosanjh",
           65661355
          ],
          [
           "Emanero",
           65617109
          ],
          [
           "Kendrick Lamar",
           65520394
          ],
          [
           "Gunna",
           65374827
          ],
          [
           "MISAMO",
           65157999
          ],
          [
           "Mundo Bita",
           65098757
          ],
          [
           "Lil Mabu",
           64754747
          ],
          [
           "Dhvani Bhanushali",
           64612903
          ],
          [
           "SEVENTEEN",
           64530857
          ],
          [
           "Future",
           64193671
          ],
          [
           "Drake",
           64168685
          ],
          [
           "DJ Tao",
           64143264
          ],
          [
           "Jubin Nautiyal",
           64013323
          ],
          [
           "Babyface Ray",
           63725545
          ],
          [
           "Yahir Saldivar",
           63296147
          ],
          [
           "Zerb",
           63142772
          ],
          [
           "Nicki Minaj",
           63109089
          ],
          [
           "Ariis",
           63016744
          ],
          [
           "Rels B",
           62552825
          ],
          [
           "DENNIS",
           62158125
          ],
          [
           "Sai Abhyankkar",
           61447714
          ],
          [
           "Drake",
           61355849
          ],
          [
           "YAKARY",
           61127558
          ],
          [
           "IU",
           60903416
          ],
          [
           "Jordan Davis",
           60355607
          ],
          [
           "Junior H",
           60248282
          ],
          [
           "Zach Bryan",
           60240739
          ],
          [
           "Afsana Khan",
           60103893
          ],
          [
           "Baby Keem",
           59629684
          ],
          [
           "Grupo Frontera",
           59582290
          ],
          [
           "Feid",
           59546208
          ],
          [
           "Sabrina Carpenter",
           59314441
          ],
          [
           "Drake",
           59262518
          ],
          [
           "G.D. Kaur",
           58989412
          ],
          [
           "(G)I-DLE",
           58909647
          ],
          [
           "BINI",
           58823260
          ],
          [
           "Billie Eilish",
           58810212
          ],
          [
           "Jay Wheeler",
           58652026
          ],
          [
           "ATEEZ",
           58520078
          ],
          [
           "Kanye West",
           58509914
          ],
          [
           "Tucker Wetmore",
           58496778
          ],
          [
           "Dhanush",
           58283353
          ],
          [
           "IVE",
           58048453
          ],
          [
           "Thomas Rhett",
           57956846
          ],
          [
           "Badger",
           57562320
          ],
          [
           "Gunna",
           57374288
          ],
          [
           "Beyoncï¿",
           57163264
          ],
          [
           "Burna Boy",
           57146959
          ],
          [
           "Frizk",
           56978899
          ],
          [
           "Rod Wave",
           56903153
          ],
          [
           "Karan Aujla",
           56798458
          ],
          [
           "Lil Yachty",
           56789868
          ],
          [
           "TWICE",
           56463608
          ],
          [
           "Beyoncï¿",
           56412921
          ],
          [
           "Mr. Belt & Wezol",
           56343820
          ],
          [
           "SAIKO",
           56282981
          ],
          [
           "Zack Knight",
           55362558
          ],
          [
           "Ghali",
           55157600
          ],
          [
           "Reynmen",
           54940563
          ],
          [
           "Dyan Dxddy",
           54477192
          ],
          [
           "Pritam",
           54461319
          ],
          [
           "Salastkbron",
           54141672
          ],
          [
           "L.Dre",
           54104852
          ],
          [
           "$OHO BANI",
           54065563
          ],
          [
           "21 Savage",
           54062895
          ],
          [
           "YoungBoy Never Broke Again",
           53849840
          ],
          [
           "Gustixa",
           53532212
          ],
          [
           "Karan Aujla",
           53303131
          ],
          [
           "Ken Carson",
           53163000
          ],
          [
           "B Praak",
           53064181
          ],
          [
           "Nemo",
           52925522
          ],
          [
           "Shubh",
           52919662
          ],
          [
           "MC Cabelinho",
           52754470
          ],
          [
           "JC Reyes",
           52585215
          ],
          [
           "Mahalini",
           52510463
          ],
          [
           "LXNGVX",
           52295701
          ],
          [
           "Atif Aslam",
           52282360
          ],
          [
           "Realest Cram",
           52265945
          ],
          [
           "Lewis Capaldi",
           52223414
          ],
          [
           "Gotye",
           51862502
          ],
          [
           "Lost Frequencies",
           51812189
          ],
          [
           "Belinda",
           51637997
          ],
          [
           "Tyla",
           51588608
          ],
          [
           "THE BOX",
           51390127
          ],
          [
           "21 Savage",
           51365907
          ],
          [
           "Camilo",
           50955386
          ],
          [
           "Sunidhi Chauhan",
           50831625
          ],
          [
           "KISS OF LIFE",
           50824333
          ],
          [
           "Darell",
           50761385
          ],
          [
           "Dalex",
           50739695
          ],
          [
           "El Turko",
           50652672
          ],
          [
           "Skrillex",
           50471076
          ],
          [
           "Rels B",
           50171337
          ],
          [
           "Gunna",
           50098085
          ],
          [
           "Kanii",
           49939720
          ],
          [
           "Bring Me The Horizon",
           49756092
          ],
          [
           "Jhay Cortez",
           49585127
          ],
          [
           "Polo G",
           49246411
          ],
          [
           "AKDO",
           49161062
          ],
          [
           "Renuka Panwar",
           48929060
          ],
          [
           "Yung Filly",
           48858795
          ],
          [
           "Carly Pearce",
           48751057
          ],
          [
           "Drake",
           48556312
          ],
          [
           "Ayra Starr",
           48408512
          ],
          [
           "Diljit Dosanjh",
           48353674
          ],
          [
           "AYLIVA",
           47364546
          ],
          [
           "Pablo Chill-E",
           47329404
          ],
          [
           "Rod Wave",
           47296342
          ],
          [
           "21 Savage",
           47098347
          ],
          [
           "cassï¿",
           47098121
          ],
          [
           "Anirudh Ravichander",
           46879854
          ],
          [
           "Little Big",
           46872738
          ],
          [
           "Tyla",
           46863836
          ],
          [
           "Joel Sunny",
           46714864
          ],
          [
           "Fer Vazquez",
           46660424
          ],
          [
           "Lvbel C5",
           46650884
          ],
          [
           "YoungBoy Never Broke Again",
           46368950
          ],
          [
           "Flo Milli",
           45943524
          ],
          [
           "Selena Gomez",
           45878045
          ],
          [
           "DJ RICK 013",
           45821951
          ],
          [
           "NATTAN",
           45545495
          ],
          [
           "Aditya Gadhvi",
           45526343
          ],
          [
           "6arelyhuman",
           45351290
          ],
          [
           "B Praak",
           45306335
          ],
          [
           "Cris Mj",
           45287928
          ],
          [
           "RM",
           44991905
          ],
          [
           "Sachin-Jigar",
           44619695
          ],
          [
           "Franglish",
           44456165
          ],
          [
           "Meghan Trainor",
           44441672
          ],
          [
           "MC Paulin da Capital",
           44365910
          ],
          [
           "SB19",
           44345269
          ],
          [
           "Pressure 9X19",
           44343451
          ],
          [
           "Chase & Status",
           44316864
          ],
          [
           ".diedlonely",
           44235866
          ],
          [
           "Dhee",
           44231951
          ],
          [
           "Cody Johnson",
           44047842
          ],
          [
           "Chencho Corleone",
           44035743
          ],
          [
           "$uicideboy$",
           44027794
          ],
          [
           "AJR",
           43940810
          ],
          [
           "D-Block Europe",
           43844757
          ],
          [
           "The Kolors",
           43499127
          ],
          [
           "TAEYEON",
           43428134
          ],
          [
           "Mounika Yadav",
           43286859
          ],
          [
           "Thaman S",
           43280156
          ],
          [
           "XXXTENTACION",
           42993944
          ],
          [
           "Dilaw",
           42862565
          ],
          [
           "Burna Boy",
           42115225
          ],
          [
           "Sumit Goswami",
           42067554
          ],
          [
           "Eladio Carrion",
           42043071
          ],
          [
           "Peso Pluma",
           42032763
          ],
          [
           "Tucker Wetmore",
           41953270
          ],
          [
           "Marshmello",
           41924126
          ],
          [
           "ITZY",
           41904754
          ],
          [
           "Geolier",
           41788648
          ],
          [
           "Alvaro Diaz",
           41517704
          ],
          [
           "Gracie Abrams",
           41114784
          ],
          [
           "NMIXX",
           40620097
          ],
          [
           "Argy",
           40556347
          ],
          [
           "Pharrell Williams",
           40447209
          ],
          [
           "RIIZE",
           40415304
          ],
          [
           "Santhosh Narayanan",
           40358575
          ],
          [
           "Kreepa",
           40284121
          ],
          [
           "Nirvair Pannu",
           40178056
          ],
          [
           "El Malilla",
           40072883
          ],
          [
           "Elton John",
           39941762
          ],
          [
           "Emiway Bantai",
           39899018
          ],
          [
           "Sidhu Moose Wala",
           39891157
          ],
          [
           "Yo Yo Honey Singh",
           39793463
          ],
          [
           "Bheems Ceciroleo",
           39057770
          ],
          [
           "Future",
           38912003
          ],
          [
           "Jassie Gill",
           38630486
          ],
          [
           "21 Savage",
           38445811
          ],
          [
           "That Mexican OT",
           38388843
          ],
          [
           "Toy Cantando",
           38260236
          ],
          [
           "Natanael Cano",
           38139811
          ],
          [
           "Werenoi",
           38079739
          ],
          [
           "Camilo",
           37814314
          ],
          [
           "Dua Lipa",
           37789672
          ],
          [
           "Jason Derulo",
           37640497
          ],
          [
           "Tyler Braden",
           37634335
          ],
          [
           "Guru Randhawa",
           37248788
          ],
          [
           "J. Cole",
           37057985
          ],
          [
           "Shoti",
           37027643
          ],
          [
           "Fadhilah Intan",
           36975805
          ],
          [
           "Kygo",
           36844307
          ],
          [
           "J. Cole",
           36824548
          ],
          [
           "DobleP",
           36559856
          ],
          [
           "Luke Bryan",
           36475819
          ],
          [
           "Alan Walker",
           36474848
          ],
          [
           "Gallina Pintadita",
           36465157
          ],
          [
           "iilliaa",
           36157546
          ],
          [
           "Luis R Conriquez",
           36145614
          ],
          [
           "Kane Brown",
           36059521
          ],
          [
           "Charly Black",
           36044532
          ],
          [
           "Nemzzz",
           35900099
          ],
          [
           "Carbonne",
           35864342
          ],
          [
           "Galantis",
           35712909
          ],
          [
           "MC PH",
           35473387
          ],
          [
           "Chris Grey",
           35384383
          ],
          [
           "Sohail Sen",
           35269135
          ],
          [
           "SEVENTEEN",
           35244286
          ],
          [
           "Chike",
           35119540
          ],
          [
           "Mariah Carey",
           35004403
          ],
          [
           "Sanju Rathod",
           34996527
          ],
          [
           "Baby Lasagna",
           34926866
          ],
          [
           "Number_i",
           34820660
          ],
          [
           "Luclover",
           34621941
          ],
          [
           "Tems",
           34621656
          ],
          [
           "&ME",
           34601626
          ],
          [
           "Rylo Rodriguez",
           34566972
          ],
          [
           "Odetari",
           34391822
          ],
          [
           "Livingston",
           34343044
          ],
          [
           "Bayhan",
           34304595
          ],
          [
           "Badshah",
           34233316
          ],
          [
           "OneRepublic",
           34203987
          ],
          [
           "Ricky Desktop",
           34096694
          ],
          [
           "Royel Otis",
           33867992
          ],
          [
           "Fujii Kaze",
           33845527
          ],
          [
           "Dylan Scott",
           33733960
          ],
          [
           "Roxy Dekker",
           33677357
          ],
          [
           "Luke Combs",
           33661899
          ],
          [
           "JC NO BEAT",
           33605864
          ],
          [
           "NewJeans",
           33595707
          ],
          [
           "BIBI",
           33558829
          ],
          [
           "Tobiahs",
           33401958
          ],
          [
           "Tony Kakkar",
           33384757
          ],
          [
           "Lyrical Lemonade",
           33319902
          ],
          [
           "David Morris",
           33278200
          ],
          [
           "Future",
           33224742
          ],
          [
           "VaporGod",
           33044062
          ],
          [
           "aespa",
           32942304
          ],
          [
           "Future",
           32935844
          ],
          [
           "A Boogie Wit da Hoodie",
           32916107
          ],
          [
           "Nate Smith",
           32849769
          ],
          [
           "Khalid",
           32679509
          ],
          [
           "HISTED",
           32435333
          ],
          [
           "Millind Gaba",
           32433183
          ],
          [
           "Glwzbll",
           32244050
          ],
          [
           "Jimin",
           32018123
          ],
          [
           "Charli xcx",
           31940305
          ],
          [
           "Anuel AA",
           31900914
          ],
          [
           "P!nk",
           31809079
          ],
          [
           "Pritam",
           31783195
          ],
          [
           "Tim McGraw",
           31705548
          ],
          [
           "Tinashe",
           31612906
          ],
          [
           "RM",
           31453044
          ],
          [
           "Victor Cibrian",
           31438986
          ],
          [
           "alyona alyona",
           31380070
          ],
          [
           "Trueno",
           31366703
          ],
          [
           "Yo Yo Honey Singh",
           31193454
          ],
          [
           "The Rolling Stones",
           31185560
          ],
          [
           "Lartiste",
           31038318
          ],
          [
           "The Blessed Madonna",
           30812151
          ],
          [
           "Pawan Singh",
           30668840
          ],
          [
           "HUGEL",
           30377279
          ],
          [
           "Flo Milli",
           30301728
          ],
          [
           "Mannat Noor",
           30173434
          ],
          [
           "Cris Mj",
           30160112
          ],
          [
           "John Summit",
           30048265
          ],
          [
           "Stray Kids",
           29994527
          ],
          [
           "Lyanno",
           29683046
          ],
          [
           "TINI",
           29604808
          ],
          [
           "Shivani Singh",
           29424141
          ],
          [
           "Biper Y Sus Amigos",
           29422741
          ],
          [
           "Marlon Hoffstadt",
           29365536
          ],
          [
           "Sky Rompiendo",
           29254420
          ],
          [
           "ILLIT",
           29089538
          ],
          [
           "Dan + Shay",
           28945482
          ],
          [
           "Rod Wave",
           28876525
          ],
          [
           "Kim Loaiza",
           28817964
          ],
          [
           "Mankirt Aulakh",
           28816253
          ],
          [
           "Aastha Gill",
           28805237
          ],
          [
           "Future",
           28767834
          ],
          [
           "Maria Becerra",
           28563790
          ],
          [
           "Tayc",
           28543791
          ],
          [
           "Frenna",
           28452972
          ],
          [
           "Alan Walker",
           28340672
          ],
          [
           "Y2K",
           28240865
          ],
          [
           "Diego Torres",
           28210202
          ],
          [
           "Dalex",
           28185177
          ],
          [
           "HARDY",
           27891947
          ],
          [
           "Central Cee",
           27850857
          ],
          [
           "Jax Jones",
           27715232
          ],
          [
           "Linkin Park",
           27605207
          ],
          [
           "KCee",
           27444985
          ],
          [
           "Bizarrap",
           27327435
          ],
          [
           "Xilo",
           27312761
          ],
          [
           "Pawan Singh",
           27244358
          ],
          [
           "Semicenk",
           27235294
          ],
          [
           "The La Planta",
           27026914
          ],
          [
           "GIMS",
           26972053
          ],
          [
           "Tyler Hubbard",
           26917389
          ],
          [
           "Jung Kook",
           26891849
          ],
          [
           "Ariana DeBose",
           26674909
          ],
          [
           "Rod Wave",
           26215354
          ],
          [
           "Vishal-Shekhar",
           26192177
          ],
          [
           "Thrife",
           26054526
          ],
          [
           "Wakyin",
           26036782
          ],
          [
           "Eclipse",
           25974901
          ],
          [
           "Lil Durk",
           25898720
          ],
          [
           "Badshah",
           25893883
          ],
          [
           "Pritam",
           25820250
          ],
          [
           "Oscar Maydon",
           25593926
          ],
          [
           "Sia",
           25180079
          ],
          [
           "Ozuna",
           25134764
          ],
          [
           "Kaio Viana",
           24963236
          ],
          [
           "Tam Sir",
           24933240
          ],
          [
           "BossMan Dlow",
           24834118
          ],
          [
           "Renuka Panwar",
           24806000
          ],
          [
           "Olexesh",
           24652626
          ],
          [
           "Blessd",
           24345826
          ],
          [
           "Lil Wayne",
           24285898
          ],
          [
           "Elissa",
           24195796
          ],
          [
           "Lvbel C5",
           24176156
          ],
          [
           "Simone Mendes",
           23883628
          ],
          [
           "Aliyah's Interlude",
           23708233
          ],
          [
           "Cardi B",
           23475715
          ],
          [
           "Martin Garrix",
           23089149
          ],
          [
           "4batz",
           23065156
          ],
          [
           "Kenia OS",
           23061213
          ],
          [
           "Future",
           22715763
          ],
          [
           "Mankirt Aulakh",
           22697447
          ],
          [
           "Lomiiel",
           22692011
          ],
          [
           "Macklemore",
           22463244
          ],
          [
           "Neha Bhasin",
           22317486
          ],
          [
           "Vishal-Shekhar",
           22277518
          ],
          [
           "Brytiago",
           22216368
          ],
          [
           "Sandeep Surila",
           22148259
          ],
          [
           "Sabrina Carpenter",
           22007314
          ],
          [
           "KeBlack",
           21670034
          ],
          [
           "New Era",
           21664308
          ],
          [
           "Megan Thee Stallion",
           21644029
          ],
          [
           "YungManny",
           21634137
          ],
          [
           "NLE Choppa",
           21488710
          ],
          [
           "Jason Aldean",
           21485335
          ],
          [
           "EBK Jaaybo",
           21255642
          ],
          [
           "Thirty Seconds To Mars",
           21188649
          ],
          [
           "Spyro",
           21134265
          ],
          [
           "Meet Bros.",
           21092086
          ],
          [
           "Robin Schulz",
           21067560
          ],
          [
           "Koe Wetzel",
           20827832
          ],
          [
           "Doja Cat",
           20814043
          ],
          [
           "D Gerrard",
           20710234
          ],
          [
           "NewJeans",
           20630900
          ],
          [
           "Pashanim",
           20583156
          ],
          [
           "Shoreline Mafia",
           20538101
          ],
          [
           "Pozer",
           20395364
          ],
          [
           "Ava Max",
           20012688
          ],
          [
           "Gunna",
           20011325
          ],
          [
           "Aman Jaji",
           19938326
          ],
          [
           "Bossman Dlow",
           19565712
          ],
          [
           "USHER",
           19485870
          ],
          [
           "Purple Disco Machine",
           19468909
          ],
          [
           "Future",
           19420471
          ],
          [
           "Camilo",
           19388370
          ],
          [
           "CG5",
           19236234
          ],
          [
           "Future",
           19215365
          ],
          [
           "Oliver Tree",
           19182347
          ],
          [
           "Dei V",
           19104053
          ],
          [
           "Justice",
           18919068
          ],
          [
           "Joyner Lucas",
           18852560
          ],
          [
           "10CM",
           18800716
          ],
          [
           "Jogga",
           18794730
          ],
          [
           "Sum 41",
           18708085
          ],
          [
           "Ohboyprince",
           18637452
          ],
          [
           "beabadoobee",
           18634348
          ],
          [
           "Lauty Gram",
           18611163
          ],
          [
           "Disco Lines",
           18566967
          ],
          [
           "Glass Animals",
           18564601
          ],
          [
           "Evan Loss",
           18296870
          ],
          [
           "Karan Aujla",
           17917738
          ],
          [
           "The Newton Brothers",
           17822349
          ],
          [
           "INJI",
           17756452
          ],
          [
           "Raju Punjabi",
           17675254
          ],
          [
           "Falling In Reverse",
           17589316
          ],
          [
           "Carin Leon",
           17237503
          ],
          [
           "Tony Effe",
           16883730
          ],
          [
           "XG",
           16684393
          ],
          [
           "Ruchika Jangid",
           16483067
          ],
          [
           "JT",
           16446111
          ],
          [
           "RIIZE",
           16327372
          ],
          [
           "The King Khan & BBQ Show",
           16326628
          ],
          [
           "Yall",
           16264949
          ],
          [
           "Diljit Dosanjh",
           16264473
          ],
          [
           "Bento e Totï¿",
           16197748
          ],
          [
           "Perrie",
           16171953
          ],
          [
           "J. Cole",
           15948344
          ],
          [
           "Rob49",
           15885603
          ],
          [
           "6ix9ine",
           15856627
          ],
          [
           "Grupo Firme",
           15557247
          ],
          [
           "BOYNEXTDOOR",
           15434400
          ],
          [
           "Cordelia",
           15433188
          ],
          [
           "Amo988",
           15352061
          ],
          [
           "Green Day",
           15336055
          ],
          [
           "NTG",
           15333864
          ],
          [
           "Clairo",
           15290073
          ],
          [
           "Chris Pine",
           15090071
          ],
          [
           "Wish - Cast",
           15085389
          ],
          [
           "Imagine Dragons",
           15062636
          ],
          [
           "Khaid",
           14645123
          ],
          [
           "Harjeet Deewana",
           14329936
          ],
          [
           "ElMusto",
           14289955
          ],
          [
           "Camila Cabello",
           14234598
          ],
          [
           "Angi Fire",
           14137400
          ],
          [
           "Ricky Desktop",
           13847072
          ],
          [
           "Casper Magico",
           13741023
          ],
          [
           "Headie One",
           13712090
          ],
          [
           "Gracie Abrams",
           13700065
          ],
          [
           "Sexyy Red",
           13671209
          ],
          [
           "Galinha Pintadinha",
           13615330
          ],
          [
           "Karan Aujla",
           13606839
          ],
          [
           "Maria Becerra",
           13528794
          ],
          [
           "MELON",
           13502324
          ],
          [
           "BE:FIRST",
           13407929
          ],
          [
           "Bring Me The Horizon",
           13330547
          ],
          [
           "Shubh",
           13194395
          ],
          [
           "BABYMETAL",
           12875105
          ],
          [
           "Luis R Conriquez",
           12809544
          ],
          [
           "Twenty One Pilots",
           12478109
          ],
          [
           "ALYPH",
           12383314
          ],
          [
           "Ariana DeBose",
           12375503
          ],
          [
           "IVE",
           12367963
          ],
          [
           "Latto",
           12270831
          ],
          [
           "Payal Dev",
           12208412
          ],
          [
           "Yo Yo Honey Singh",
           12044437
          ],
          [
           "Cage The Elephant",
           12032878
          ],
          [
           "Toosii",
           11923405
          ],
          [
           "Pearl Jam",
           11776885
          ],
          [
           "The Black Keys",
           11742947
          ],
          [
           "Scotty McCreery",
           11614161
          ],
          [
           "Fred again..",
           11581454
          ],
          [
           "Giblack",
           11569095
          ],
          [
           "YoungBoy Never Broke Again",
           11393565
          ],
          [
           "FARIANA",
           11328011
          ],
          [
           "SEVENTEEN",
           11282322
          ],
          [
           "Xavi",
           11107400
          ],
          [
           "Justin Timberlake",
           11092257
          ],
          [
           "Bento e Totï¿",
           11029541
          ],
          [
           "Diler Kharkiya",
           10848948
          ],
          [
           "Paloma Faith",
           10296798
          ],
          [
           "Kenny Chesney",
           10292715
          ],
          [
           "Rauw Alejandro",
           10100645
          ],
          [
           "GC Eternal",
           10019831
          ],
          [
           "YUQI",
           9956970
          ],
          [
           "SEVENTEEN",
           9866591
          ],
          [
           "AL SHAMI",
           9736339
          ],
          [
           "Lil Durk",
           9682984
          ],
          [
           "ANOTR",
           9591249
          ],
          [
           "Alex Warren",
           9428361
          ],
          [
           "Thomas Rhett",
           9327924
          ],
          [
           "Jennifer Lopez",
           9293098
          ],
          [
           "Q' Lokura",
           9244547
          ],
          [
           "Cash Cobain",
           9215777
          ],
          [
           "Twenty One Pilots",
           9084595
          ],
          [
           "Pozer",
           9034106
          ],
          [
           "Luck Ra",
           8981282
          ],
          [
           "Adam",
           8893883
          ],
          [
           "Bulan Sutena",
           8887656
          ],
          [
           "tripleS",
           8797665
          ],
          [
           "Feid",
           8757910
          ],
          [
           "Ice Spice",
           8734499
          ],
          [
           "ZEROBASEONE",
           8699917
          ],
          [
           "Moneybagg Yo",
           8635035
          ],
          [
           "Pawan Singh",
           8607782
          ],
          [
           "Tri Suaka",
           8517888
          ],
          [
           "Philly Goats",
           8470479
          ],
          [
           "Ice Beats Slide",
           8434856
          ],
          [
           "Lil Big Stack",
           8388731
          ],
          [
           "Coogie",
           8163960
          ],
          [
           "TREASURE",
           8078265
          ],
          [
           "Skylar Blatt",
           8040021
          ],
          [
           "HoodBlaq",
           8033479
          ],
          [
           "Tee Grizzley",
           7785021
          ],
          [
           "Himesh Reshammiya",
           7762464
          ],
          [
           "Badshah",
           7682285
          ],
          [
           "Nardo Wick",
           7615489
          ],
          [
           "Big Sean",
           7569031
          ],
          [
           "Oualid",
           7506086
          ],
          [
           "Jux",
           7403756
          ],
          [
           "WZ Beat",
           7382759
          ],
          [
           "Childish Gambino",
           7362358
          ],
          [
           "Number_i",
           7269751
          ],
          [
           "Bebe Rexha",
           6958248
          ],
          [
           "Picus",
           6591040
          ],
          [
           "Gippy Grewal",
           6576855
          ],
          [
           "Charli xcx",
           6446985
          ],
          [
           "Pearl Jam",
           6247901
          ],
          [
           "Soy Pau",
           6220250
          ],
          [
           "BLACKPINK",
           6197708
          ],
          [
           "iZaak",
           6172030
          ],
          [
           "Koe Wetzel",
           6120999
          ],
          [
           "Lil Mabu",
           6097493
          ],
          [
           "Ayra Starr",
           6073281
          ],
          [
           "Rajeev Raja",
           5984965
          ],
          [
           "Adam Port",
           5917083
          ],
          [
           "Cavendish Music",
           5866282
          ],
          [
           "Himesh Reshammiya",
           5828713
          ],
          [
           "Kukuli",
           5755295
          ],
          [
           "El Payaso Plim Plim",
           5741262
          ],
          [
           "Gya",
           5633595
          ],
          [
           "Moneybagg Yo",
           5588636
          ],
          [
           "AL SHAMI",
           5501185
          ],
          [
           "Danilo Stankovic",
           5467217
          ],
          [
           "Wizard Chan",
           5408464
          ],
          [
           "Tank",
           5283089
          ],
          [
           "Dj Samir",
           5157486
          ],
          [
           "Joost",
           4794950
          ],
          [
           "Olivetheboy",
           4792243
          ],
          [
           "QWER",
           4579390
          ],
          [
           "Sie7e",
           4561175
          ],
          [
           "Dj Bentoa",
           4546579
          ],
          [
           "Udit Narayan",
           4527224
          ],
          [
           "Ritesh Pandey",
           4078322
          ],
          [
           "Luvia band",
           3900009
          ],
          [
           "Kuami Eugene",
           3604452
          ],
          [
           "Ecko Show",
           3479935
          ],
          [
           "Boy Spyce",
           3475009
          ],
          [
           "Coco Jones",
           3459469
          ],
          [
           "Karl Wine",
           2947162
          ],
          [
           "Bgnzinho",
           2613573
          ],
          [
           "Badshah",
           2574126
          ],
          [
           "Spyro",
           2490826
          ],
          [
           "Bebe Rexha",
           2447043
          ],
          [
           "Lainey Wilson",
           2378738
          ],
          [
           "D Billions",
           2300838
          ],
          [
           "PAWSA",
           2284977
          ],
          [
           "Gracie's Corner",
           2279039
          ],
          [
           "OctaSounds",
           2248788
          ],
          [
           "Arthur Hill",
           2035613
          ],
          [
           "Abd El Fattah Grini",
           1993244
          ],
          [
           "MEYY",
           1867282
          ],
          [
           "HCTM",
           1858478
          ],
          [
           "Misael De La Rosa",
           1612356
          ],
          [
           "Nassif Zeytoun",
           1579231
          ],
          [
           "Grant Averill",
           1479227
          ],
          [
           "Enchan",
           1426122
          ],
          [
           "Ander Huang",
           1415206
          ],
          [
           "DJ MOIGUS",
           1378494
          ],
          [
           "Pawan Singh",
           1332230
          ],
          [
           "Tollan Kim",
           1212312
          ],
          [
           "The Puddleducks",
           1165982
          ],
          [
           "Nabila Maharani",
           1088915
          ],
          [
           "SPENCE",
           861521
          ],
          [
           "Huda Sisters",
           693675
          ],
          [
           "Xamdam Sobirov",
           344691
          ],
          [
           "Kids With Buns",
           297185
          ],
          [
           "Dj Belite",
           155367
          ]
         ],
         "hovertemplate": "<b>%{hovertext}</b><br><br>archetype=Niche/Emerging Hit<br>Principal Component 1 (Overall Scale)=%{x}<br>Principal Component 2 (Performance Style)=%{y}<br>artist=%{customdata[0]}<br>spotify_streams=%{customdata[1]}<extra></extra>",
         "hovertext": [
          "good 4 u",
          "Thrift Shop (feat. Wanz)",
          "10,000 Hours",
          "Drowning (feat. Kodak Black)",
          "ME! (feat. Brendon Urie of Panic! At The Disco)",
          "THE SCOTTS",
          "WHATS POPPIN (feat. DaBaby, Tory Lanez & Lil Wayne) - Remix",
          "Wildest Dreams (Taylor's Version)",
          "Girls Need Love (with Drake) - Remix",
          "we can't be friends (wait for your love)",
          "PICK IT UP (feat. A$AP Rocky)",
          "3D (feat. Jack Harlow)",
          "Blood Sweat & Tears",
          "The Greatest Show",
          "SPIT IN MY FACE!",
          "Kesariya (From \"Brahmastra\")",
          "The Weekend - Funk Wav Remix",
          "Run BTS",
          "m y . l i f e (with 21 Savage & Morray)",
          "Peso Pluma: Bzrp Music Sessions, Vol. 55",
          "Shut up My Moms Calling - (Sped Up)",
          "Otro Atardecer",
          "Fast",
          "Loca - Remix",
          "p r i d e . i s . t h e . d e v i l (with Lil Baby)",
          "hotline (edit)",
          "Like That",
          "Saturn",
          "Chaleya (From \"Jawan\")",
          "Los Collares",
          "Niagara Falls (Foot or 2) [with Travis Scott & 21 Savage]",
          "vendetta!",
          "Igualito a Mi Apï¿",
          "Enemy - from the series Arcane League of Legends",
          "Villano Antillano: Bzrp Music Sessions, Vol. 51",
          "Entre Nosotros (Remix) [con Nicki Nicole]",
          "Kahani Suno 2.0",
          "Enchanted (Taylor's Version)",
          "Poco A Poco",
          "Call It Love",
          "Los Cachos",
          "Always",
          "Di Que Si",
          "Cheques",
          "Fuga Pa Cali 2",
          "Madonna",
          "Escapism. - Sped Up",
          "Let's Go 4",
          "Northern Attitude (with Hozier)",
          "ROCKSTAR",
          "Burn, Burn, Burn",
          "LA PEOPLE",
          "Crazy Story",
          "El Tsurito",
          "What's Love Got to Do with It",
          "Mas Rica Que Ayer",
          "On BS",
          "Apna Bana Le (From \"Bhediya\")",
          "Tighten Up",
          "ecstacy (slowed)",
          "LOU LOU",
          "Low Down",
          "Dijeron Que No La Iba Lograr",
          "Love Lost",
          "World Hold On - FISHER Rework",
          "POLARIS - Remix",
          "Who Needs Love",
          "Pehle Bhi Main",
          "Casper",
          "Calling (feat. A Boogie wit da Hoodie) [Spider-Man: Across the Spider-Verse]",
          "Belong Together",
          "First Love",
          "O Me Voy O Te Vas",
          "Goin Baby",
          "LOVELY BASTARDS",
          "lo que hay x aquï¿",
          "Vamos Para Arriba",
          "GOOD LOYAL THOTS",
          "Whatever",
          "BIPOLAR",
          "Ai Preto",
          "Tu hai kahan",
          "intro (end of the world)",
          "Satranga (From \"Animal\")",
          "Andamos Mejor",
          "Alucin",
          "lost souls",
          "Type Shit",
          "Avalon",
          "Tere Vaaste (From \"Zara Hatke Zara Bachke\")",
          "No Me Conocen (Remix) [con DUKI, Rei & Tiago PZK]",
          "CRAZYZ",
          "Circo Loco",
          "Thank You (Not So Bad)",
          "Por el Resto de Tu Vida",
          "Annihilate (Spider-Man: Across the Spider-Verse) (Metro Boomin & Swae Lee, Lil Wayne, Offset)",
          "GMFU (w/ 6arelyhuman)",
          "Pacas De Billetes",
          "Raindrops (Insane) [with Travis Scott]",
          "FRI(END)S",
          "Rosa Pastel",
          "Ando Enfocado",
          "Still Rollin",
          "I Smoked Away My Brain (I'm God x Demons Mashup) (feat. Imogen Heap & Clams Casino)",
          "1000 Blunts",
          "Still With You",
          "REINA",
          "Modo DND",
          "SMOKE IT OFF!",
          "Paulo Londra: Bzrp Music Sessions, Vol. 23",
          "O Bedardeya (From \"Tu Jhoothi Main Makkaar\")",
          "NARCISSISTIC PERSONALITY DISORDER",
          "Elvira",
          "DISPARA ***",
          "Daqui pra Sempre",
          "Milo J: Bzrp Music Sessions, Vol. 57",
          "Husn",
          "MONEY ON THE DASH - SPED UP",
          "OA",
          "Axel F",
          "Melhor Sï¿",
          "Say Don't Go (Taylor's Version) (From The Vault)",
          "Skin de Bandida",
          "So Long, London",
          "the boy is mine",
          "older",
          "Ballena",
          "Fim de Semana no Rio",
          "Straight and Narrow",
          "COCO LOCO",
          "Lut Gaye",
          "Rauw Alejandro: Bzrp Music Sessions, Vol. 56",
          "CHIHIRO",
          "Self Love (Spider-Man: Across the Spider-Verse)",
          "euphoria",
          "Pedro",
          "Privileged Rappers",
          "Yes or No",
          "Step Back!",
          "Guilty as Sin?",
          "Wild Ones (feat. Jelly Roll)",
          "Virginia Beach",
          "Rompe La Dompe",
          "M.A.I",
          "My Boy Only Breaks His Favorite Toys",
          "HIBIKI",
          "I LOVE YOU HOE (w/ 9lives)",
          "What Jhumka ? (From \"Rocky Aur Rani Kii Prem Kahaani\")",
          "Tourniquet",
          "UNA CERVEZA",
          "THANK GOD",
          "When We Were Young (The Logical Song)",
          "Si No Quieres No",
          "9mm",
          "Mas Altas Que Bajadas",
          "Already Rich",
          "Baile do Bruxo",
          "Rock My Body",
          "But Daddy I Love Him",
          "All By Myself",
          "Rubicon Drill",
          "I Know - PR1ISVX Edit",
          "WAKE UP!",
          "The Tortured Poets Department",
          "Friesenjung",
          "Best Time",
          "ELA PIROU NA DODGE RAM",
          "Mann Bharryaa 2.0 (From \"Shershaah\")",
          "CARNAL",
          "Hours In Silence",
          "GODS",
          "Apaga El Cel",
          "Sobran Motivos",
          "A Puro Dolor",
          "Wasted Summers",
          "Hands up!",
          "Peaches",
          "Broke Boys",
          "Hukum - Thalaivar Alappara (From \"Jailer\")",
          "Engana Dizendo Que Ama",
          "Naa Ready (From \"Leo\")",
          "Mi Kryptonita",
          "EXCESOS",
          "Florida!!! (feat. Florence + the Machine)",
          "Daytona",
          "Moletom",
          "Montagem Mysterious Game",
          "In This Darkness",
          "No Te Quieren Conmigo",
          "SEDA",
          "SNAP - High and Fast",
          "POCPOC",
          "HYAENA",
          "Be My Lover (feat. La Bouche) - 2023 Mix",
          "TIL FURTHER NOTICE",
          "We Are The People - southstar Remix",
          "Breathe",
          "CCC - Remix",
          "Soweto (with Don Toliver, Rema & Tempoe)",
          "Sleazy Flow (with Lil Baby) - Remix",
          "Patadas de Ahogado",
          "GHOST!",
          "Yankee 150",
          "Life in Rio",
          "Famous Hoes",
          "085 - Ao Vivo",
          "ALCH SI",
          "LET'S GET FKD UP",
          "Srivalli (From \"Pushpa The Rise Part - 01\")",
          "Sarah's Place (feat. Noah Kahan)",
          "Flooded The Face",
          "Cinderella",
          "X ESO BB",
          "SI SABE FERXXO",
          "Ranjithame (From \"Varisu\")",
          "favorite",
          "ASI ES LA VIDA",
          "Little Things x Gypsy Woman - L BEATS MASHUP",
          "Arjan Vailly",
          "LA PEOPLE II",
          "M.A - Remix",
          "Mama's Boy",
          "The Smallest Man Who Ever Lived",
          "El Jefe",
          "Thoda Thoda Pyaar",
          "run for the hills",
          "Chorei na Vaquejada",
          "Mayor Que Usted",
          "Fuk Sumn",
          "Queen of Mean",
          "Baddadan (feat. IRAH, Flowdan, Trigga & Takura)",
          "ADIVINO",
          "ERE",
          "California Breeze",
          "FLECHAZO EN EL CENTRO",
          "THE GIRLS - BLACKPINK THE GAME OST",
          "loml",
          "Akhiyaan Gulaab (From \"Teri Baaton Mein Aisa Uljha Jiya\")",
          "Everybody (feat. Lil Uzi Vert)",
          "DISPO",
          "PERSIAN RUGS",
          "eternal sunshine",
          "ASAP",
          "Pacto (feat. Bryant Myers & Dei V) - Remix",
          "Superpowers",
          "HYPNOTIC DATA",
          "Tenho Que Me Decidir",
          "vice city",
          "Zihaal e Miskin",
          "HOLA PERDIDA",
          "Feel It",
          "offline",
          "Tera Fitoor",
          "Illusion",
          "Push Ups",
          "UK Rap",
          "Saari Duniya Jalaa Denge (From \"Animal\")",
          "Saiyan",
          "Manos Rotas",
          "Hass Hass",
          "PRINCESITA DE ...",
          "The Alchemy",
          "Por Dentro",
          "Fresh Out The Slammer",
          "Bent",
          "MODERN JAM",
          "Hate You",
          "Sunrise",
          "Me Atraiu - Ao Vivo",
          "n.h.i.e.",
          "MERCEDES CAROTA",
          "SIRENS",
          "Nira Ishq",
          "BAIXO",
          "Forever (feat. Fridayy)",
          "TELEFONO NUEVO",
          "MONTAGEM ANOS 2000",
          "Butter Pecan",
          "WILDFLOWER",
          "Tacata (Remix)",
          "Tipo Hollywood",
          "Entre las de 20",
          "Before You Leave Me",
          "Mentiras | CROSSOVER #3",
          "Check It Out",
          "Linea del Perreo (feat. Dj Kiire)",
          "Solar Eclipse",
          "CYBERTRUCK",
          "Por Mi Mexico (Remix)",
          "Admirin' You (feat. Preston Pablo)",
          "SKITZO",
          "Akh Lad Jaave (From \"Loveyatri\")",
          "Hua Main (From \"ANIMAL\")",
          "Fighting My Demons",
          "Ve Kamleya (From \"Rocky Aur Rani Kii Prem Kahaani\")",
          "THUNDER Y LIGHTNING",
          "Bling Bling",
          "Embarrassed (feat. Travis Scott)",
          "BOUNCY (K-HOT CHILLI PEPPERS)",
          "Mtg Quero Te Encontrar",
          "Taaron Ke Shehar",
          "MR. OCTOBER",
          "Meet you at the Graveyard",
          "Jump",
          "TUTA GOLD",
          "Lady Killers II (Christoph Andersson Remix)",
          "Kaavaalaa (From \"Jailer\")",
          "TU$$I (with Dei V)",
          "UNA BALA",
          "Woah (feat. D3Mstreet)",
          "Por Clave el 13",
          "Selfish",
          "Paro - Speed Up",
          "People (feat. Ayra Starr & Omah Lay)",
          "BBY BOO (REMIX)",
          "I Can Fix Him (No Really I Can)",
          "Sin Tanto Royo",
          "Buttabomma - Telugu",
          "Loser, Baby",
          "Labios Mordidos (with KAROL G)",
          "BLUE",
          "CIRCUS MAXIMUS",
          "BARBIEZ",
          "Paani Paani",
          "The Heart Part 5",
          "act ii: date @ 8 (remix)",
          "Kya Loge Tum",
          "CAROLINA",
          "someday i'll get it",
          "Sweet Venom",
          "if looks could kill",
          "Fluxxwave",
          "Hummingbird (Metro Boomin & James Blake)",
          "imgonnagetyouback",
          "fantasmas",
          "Dance For Me (1, 2, 3) - Stutter Techno",
          "NADIE SABE",
          "On The Radar Freestyle",
          "Coca Cola (From \"Luka Chuppi\")",
          "CUAL ES ESA",
          "King Shit",
          "QUE ME FALTE TODO",
          "Clara Bow",
          "My wrist (with Young Thug)",
          "Phir Bhi Tumko Chaahunga",
          "Help Me Help You (feat. Why Don't We)",
          "Think U The Shit (Fart)",
          "El Boss",
          "Meridian",
          "la noia",
          "Mejor Que Yo",
          "The Prophecy",
          "De Fresa y Coco",
          "8am in Charlotte",
          "HISS",
          "Badass (From \"Leo\")",
          "ten",
          "Turks & Caicos (feat. 21 Savage)",
          "Boo'd Up",
          "Praise (feat. Brandon Lake, Chris Brown & Chandler Moore)",
          "Think I'm In Love With You",
          "I LUV IT (feat. Playboi Carti)",
          "Fall Back",
          "Alibi (feat. Rudimental)",
          "Doomsday",
          "Hey Lil Mamï¿",
          "Naach Meri Rani",
          "SPOT!",
          "PARANOIA",
          "Spin You Around (1/24)",
          "Back to Me",
          "SKINNY",
          "You & Me - Rivo Remix",
          "II MOST WANTED",
          "Chasing That Feeling",
          "Libaas",
          "Trojan Horse",
          "Guli Mata",
          "Cama Repetida",
          "Different 'Round Here",
          "LOS PITS",
          "Calling For You (feat. 21 Savage)",
          "Gali Gali (From \"Kgf Chapter 1\")",
          "Not Even Ghosts Are This Empty",
          "Would You (go to bed with me?)",
          "BRODYAGA FUNK",
          "CAKE",
          "This Is The Life",
          "STUPID IN LOVE (feat. HUH YUNJIN of LE SSERAFIM)",
          "LOOOVE (feat. Kid Cudi)",
          "Filhaal2 Mohabbat",
          "Family Matters",
          "Jumpshot",
          "Maquillaje",
          "Bertaraf",
          "Banco do Carona",
          "MEGAVERSE",
          "XXL",
          "Baarish Ban Jaana",
          "Go Hard",
          "Needle (feat. Drake)",
          "Lace It",
          "Bartolito",
          "Brillarosa",
          "Young Metro",
          "Lua",
          "Better Place (From TROLLS Band Together)",
          "Kehribar",
          "Endless Fashion (feat. Nicki Minaj)",
          "We Don't Trust You",
          "Lihim",
          "Entra Na Defender",
          "Passinho Debochado",
          "Bad Feeling (Oompa Loompa)",
          "You & Me (Coachella ver.)",
          "Summertime Sadness (Sped Up)",
          "Teri Aankhon Mein",
          "Saving Up",
          "The Chicken Wing Beat",
          "Sinceramente",
          "Get A Guitar",
          "Macetando",
          "LOST FOREVER",
          "Wanna Be",
          "Great Gatsby",
          "BLEED",
          "Margiela",
          "Try That In A Small Town",
          "ACHO PR",
          "BESAME (feat. Tiago PZK, Khea & Neo Pistea) - Remix",
          "VVV",
          "THE DINER",
          "Fear Of Heights",
          "thanK you aIMee",
          "Tu Fan",
          "Naina (From \"Crew\")",
          "ATORRANTE - con Los Palmeras",
          "meet the grahams",
          "back to the moon",
          "Do not touch",
          "Fazendinha",
          "MR. TAKE YA B*TCH (FEAT. CHRISEANROCK)",
          "Leja Re",
          "God of Music",
          "We Still Don't Trust You",
          "Members Only (feat. PARTYNEXTDOOR)",
          "ROZE | DJ TAO Turreo Sessions #22",
          "Dil Galti Kar Baitha Hai",
          "Ron Artest",
          "SC-9",
          "Addicted",
          "Pink Friday Girls",
          "MANDA BALA",
          "Un Desperdicio",
          "RAM TCHUM",
          "Katchi Sera - From \"Think Indie\"",
          "Another Late Night (feat. Lil Yachty)",
          "sonnenbank.mp3",
          "Love wins all",
          "Tucson Too Late",
          "A Tu Manera",
          "Pink Skies",
          "Titliaan",
          "The Hillbillies",
          "AMOR PROPIO",
          "Brickell",
          "Please Please Please",
          "What Would Pluto Do",
          "Gypsy",
          "Wife",
          "Salamin, Salamin",
          "BITTERSUITE",
          "Pacto (feat. Luar La L)",
          "Crazy Form",
          "Do It",
          "Wind Up Missin' You",
          "Rowdy Baby (From \"Maari 2\")",
          "Off The Record",
          "Mamaw's House",
          "These Words",
          "Prada Dem (feat. Offset)",
          "JOLENE",
          "Cheat On Me (feat. Dave)",
          "ALL MY FELLAS",
          "Boyz Don't Cry",
          "Jee Ni Lagda",
          "A Cold Sunday",
          "I GOT YOU",
          "BODYGUARD",
          "It's Not Right But It's Okay",
          "BADGYAL",
          "Bom Diggy",
          "Casa Mia",
          "Renklensin",
          "CUTE DEPRESSED",
          "Lutt Putt Gaya (From \"Dunki\")",
          "Tal Para Cual",
          "Steven Universe",
          "ZEIT, DASS SICH WAS DREHT",
          "sneaky",
          "No Switch",
          "Somewhere Only We Know",
          "Bachke Bachke (feat. Yarah)",
          "Jennifer's Body",
          "Baarish Ki Jaaye",
          "The Code",
          "You and Me",
          "Carta Aberta",
          "FARDOS",
          "Mati-Matian",
          "YUM YUM (Slowed)",
          "Dil Meri Na Sune",
          "So Fine",
          "Before You Go - Guitar Acoustic",
          "Somebody (2024)",
          "Head Down",
          "300 Noches",
          "Water (Remix)",
          "THE BOX MEDLEY FUNK 2",
          "should've wore a bonnet",
          "Una Vida Pasada",
          "Saami Saami (From \"Pushpa The Rise Part - 01\")",
          "Midas Touch",
          "Lollipop - Remix",
          "Pa Mi",
          "30 GRADOS",
          "Fine Day Anthem",
          "La Vida Sin Ti",
          "bread & butter",
          "I Know",
          "Kool-Aid",
          "No Me Conoce",
          "Barely Holdin' On",
          "SUBMARINER",
          "52 Gaj Ka Daman",
          "Grey",
          "We Don't Fight Anymore (feat. Chris Stapleton)",
          "All The Parties (feat. Chief Keef)",
          "Commas",
          "Case",
          "Wunder",
          "Gitana (feat. Bryartz)",
          "Call Your Friends",
          "dangerous",
          "Prada (Valexus Remix)",
          "Not Ramaiya Vastavaiya (From \"Jawan\")",
          "Skibidi",
          "ART",
          "Luminary",
          "Sin Querer",
          "Sezen Aksu",
          "Bitch Let's Do It",
          "Never Lose Me (feat. Lil Yachty)",
          "Love On",
          "The Autotrem 1.0",
          "Amor Na Praia",
          "Khalasi | Coke Studio Bharat",
          "Faster n Harder",
          "Yaar Ka Sataya Hua Hai (feat. Nawazuddin Siddiqui)",
          "SI NO ES CONTIGO",
          "Come back to me",
          "Tum Se (From \"Teri Baaton Mein Aisa Uljha Jiya\")",
          "Position",
          "Been Like This",
          "Samba de Malandro",
          "GENTO",
          "VVS Switch",
          "Liquor & Cigarettes (feat. ArrDee)",
          "stellar",
          "Enjoy Enjaami",
          "Dirt Cheap",
          "HUMO",
          "Us Vs Them",
          "Yes I'm A Mess",
          "Pakistan",
          "UN RAGAZZO UNA RAGAZZA",
          "To. X",
          "Saami Saami",
          "Kurchi Madathapetti",
          "I spoke to the devil in miami, he said everything would be fine",
          "Uhaw",
          "Tested, Approved & Trusted",
          "Feelings",
          "TQMQA",
          "LA DURANGO",
          "Wine Into Whiskey",
          "Miles On It",
          "UNTOUCHABLE",
          "L'ULTIMA POESIA",
          "GATITAS SANDUNGUERAS VOL.1",
          "Risk",
          "DASH",
          "Aria",
          "Doctor (Work It Out) [feat. Miley Cyrus]",
          "Love 119",
          "Chamkeela Angeelesi",
          "Oh No",
          "Bandook",
          "Dime",
          "Cold Heart (Claptone Remix)",
          "Company",
          "Drippy",
          "Saiyaan Ji",
          "Pulsar Bike",
          "Ice Attack",
          "Nikle Currant",
          "red sky",
          "02.02.99",
          "La Vaca Lola",
          "Ya Te Olvide",
          "Pyramide",
          "PLIS",
          "These Walls",
          "Spicy Margarita",
          "Devil You Know",
          "High Rated Gabru (From \"High Rated Gabru\")",
          "Crocodile Tearz",
          "LDR",
          "Dawai (From \"Air Mata Di Ujung Sajadah\")",
          "For Life (feat. Zak Abel & Nile Rodgers)",
          "H.Y.B. (feat. Bas & Central Cee)",
          "Me Escapï¿",
          "But I Got A Beer In My Hand",
          "Who I Am",
          "Pollito Amarillito",
          "life gets hard",
          "Que Se Cuide",
          "I Can Feel It",
          "Gyal You a Party Animal - Sped Up",
          "MONEY AND VIBES",
          "Imagine",
          "Lighter",
          "Vem Desestressar",
          "LET THE WORLD BURN",
          "Shaitan Ka Saala (From \"Housefull 4\")",
          "MAESTRO",
          "Egwu",
          "It's A Wrap - Sped Up",
          "Gulabi Sadi",
          "Rim Tim Tagi Dim",
          "GOAT",
          "L$d",
          "Love Me JeJe",
          "The Rapture Pt.III",
          "Thang For You (feat. No Cap)",
          "DICE AND ROLL",
          "Shadow",
          "Tiryakinim",
          "God Damn",
          "Nobody - from Kaiju No. 8",
          "The Banjo Beat, Pt. 1",
          "Murder on the Dance Floor - triple j Like A Version",
          "Michi Teyu Ku (Overflowing)",
          "What He'll Never Have",
          "Sugardaddy",
          "Ain't No Love In Oklahoma (From Twisters: The Album)",
          "Maria Mariah",
          "How Sweet",
          "Bam Yang Gang",
          "Lifetime",
          "Goa Beach",
          "Stop Giving Me Advice (with Jack Harlow & Dave)",
          "Carrying Your Love",
          "Fried (She a Vibe)",
          "Diamondz n Roses",
          "Armageddon",
          "Everyday Hustle",
          "Did Me Wrong",
          "Bulletproof",
          "Please Don't Fall In Love With Me",
          "MASHA ULTRAFUNK",
          "She Don't Know (From \"Blessed\")",
          "Untitled #13",
          "Christmas Love",
          "360",
          "Tacos Gucci",
          "All Out Of Fight",
          "Leke Prabhu Ka Naam (From \"Tiger 3\")",
          "Standing Room Only",
          "Nasty",
          "LOST!",
          "Porque Te Vas",
          "Teresa & Maria",
          "REAL GANGSTA LOVE",
          "Kalaastar (From \"Honey 3.0\")",
          "Angry",
          "Zarzour",
          "Happier (feat. Clementine Douglas)",
          "Piyar Farak Wali",
          "Patadas de Ahogado / LATIN MAFIA - Rework",
          "Never Lose Me (feat. SZA & Cardi B)",
          "Laung Laachi Title Track",
          "Que Hay Amor",
          "Shiver",
          "Lose My Breath (Feat. Charlie Puth)",
          "LA NENA",
          "pa",
          "Sent Gamkauwa",
          "El Patito Juan",
          "It's That Time",
          "Espectacular",
          "Lucky Girl Syndrome",
          "Save Me The Trouble",
          "Come See Me",
          "Mal Hombre",
          "Koka",
          "Saawariya",
          "Slimed In",
          "PRIMER AVISO",
          "Yimmy Yimmy",
          "Pretty Girls",
          "Endless Summer",
          "Lalala - Ilkan Gunuc Remix",
          "Mejor Que Ayer",
          "Hola",
          "Pickup Man (feat. Post Malone)",
          "Entrapreneur",
          "Never Be Lonely",
          "Friendly Fire",
          "Ojapiano",
          "MHD: Bzrp Music Sessions, Vol. 44",
          "Aesthetic",
          "Raja Ji",
          "Eyvah Neye Yarar",
          "Mil Preguntas",
          "SPIDER",
          "Back Then Right Now",
          "Never Let Go",
          "This Wish - From \"Wish\"",
          "Long Journey",
          "Ishq Jaisa Kuch (From \"Fighter\")",
          "SEVILLA",
          "Beso (Fruta Fresca)",
          "Sudden Shower",
          "Pelle Coat",
          "Bachpan Ka Pyaar",
          "Ruaan (From \"Tiger 3\")",
          "Volver Al Futuro",
          "Dance Alone",
          "Guay",
          "Mas Existe um Lugar",
          "Coup du marteau",
          "Talk My Shit",
          "Chatak Matak",
          "Pistoleta",
          "Mirame",
          "Sorry 4 The Wait",
          "Min Awel Dekika",
          "nE !?",
          "Oi Erro - Ao Vivo",
          "IT GIRL - Sped up Version",
          "Like What (Freestyle)",
          "Real Love",
          "act iii: on god? (she like)",
          "Kitty",
          "Red Leather",
          "8 Raflaan (feat. Gurlez Akhtar)",
          "HAY LUPITA",
          "HIND'S HALL",
          "Swag Se Swagat",
          "Sher Khul Gaye (From \"Fighter\")",
          "Kilerito",
          "Kamar Teri Left Right Hale",
          "Feather - Sped Up",
          "Boucan (feat. Franglish)",
          "Birds In The Sky",
          "BOA",
          "Clap For 'Em (feat. Flo Milli & Sada Baby)",
          "SLUT ME OUT 2",
          "Let Your Boys Be Country",
          "Boogieman",
          "Seasons",
          "Who Is Your Guy? - Remix",
          "Cham Cham",
          "I'll Be There",
          "Sweet Dreams",
          "OKLOSER",
          "Galaxy Express",
          "Bubble Gum",
          "Mittelmeer",
          "HEAT STICK",
          "Kitchen Stove",
          "My Oh My",
          "Whatsapp (Wassam)",
          "Bhai Tera Gunda",
          "Mr Pot Scraper",
          "Ruin",
          "Honey Boy (feat. Nile Rodgers & Shenseea)",
          "Out Of My Hands",
          "No Se Vale",
          "Sleep Well",
          "Show of Hands",
          "Miss You - Remix",
          "Martini",
          "Neverender",
          "Best For Me",
          "Spring Snow",
          "SKEU SKEU (SPEED UP)",
          "Landmines",
          "Bounce When She Walk",
          "Take A Bite",
          "Uff Mi Amor",
          "Love Story",
          "Creatures in Heaven",
          "Full Senyum Sayang",
          "Winning Speech",
          "Five Nights at Freddy's",
          "GASLIGHT",
          "Laad Piya Ke",
          "Ronald",
          "Cuando La Vida Sea Trago",
          "SESSO E SAMBA (feat. Gaia)",
          "WOKE UP",
          "Coco Cola",
          "OKAY",
          "Impossible",
          "Love You So",
          "Hundred Miles (Sped Up Version)",
          "Choli Ke Peeche (From \"Crew\")",
          "Funk do Patinho",
          "Forget About Us",
          "7 Minute Drill",
          "Mama (with Skilla Baby & Tay B)",
          "Bori",
          "El Beneficio De La Duda",
          "Earth, Wind & Fire",
          "Little Life",
          "Elini Ver",
          "The American Dream Is Killing Me",
          "Suano",
          "Sexy to Someone",
          "This Is The Thanks I Get?! - From \"Wish\"",
          "I'm A Star - From \"Wish\"",
          "Nice to Meet You",
          "Anabella",
          "Razzi Bolja",
          "Dale Don Dale",
          "HE KNOWS (feat. Lil Nas X)",
          "Chakalitos",
          "The Boat Beat",
          "Toki",
          "Cry No More (feat. Tay Keith)",
          "Close To You",
          "U My Everything (feat. Drake)",
          "Upa Cavalinho",
          "Goin' Off",
          "IMAN (Two Of Us)",
          "Runaway (U & I) [Dance]",
          "Masterplan",
          "Top 10 staTues tHat CriEd bloOd",
          "MVP",
          "RATATATA",
          "Martes 13",
          "Overcompensate (edit)",
          "SWIPE",
          "Welcome To Rosas - From \"Wish\"",
          "Accendio",
          "Sunday Service",
          "Baarish",
          "Vigdiyan Heeran (From \"Honey 3.0\")",
          "Neon Pill",
          "Favorite Song - Sped Up",
          "Dark Matter",
          "Beautiful People (Stay High)",
          "Cab In A Solo",
          "places to be",
          "El Avioncito",
          "Fuck Niggaz",
          "DORA",
          "LALALI",
          "Ya Te Superï¿",
          "No Angels",
          "O Patinho Colorido",
          "Wish",
          "Only Love Can Hurt Like This (feat. Teddy Swims) - Remix",
          "Take Her Home",
          "Touching The Sky",
          "Back It up and Dump It (Dump Truck)",
          "FREAK",
          "Spell",
          "Ya Leil W Yal Ein",
          "Old Days",
          "How You Feel (Ft. Leven Kali)",
          "Carry You Home",
          "Beautiful As You",
          "Can't Get Enough",
          "Tu Foto",
          "Fisherrr",
          "The Craving (single version)",
          "Malicious Intentions",
          "HOLA PERDIDA REMIX",
          "Zhurek",
          "I Love Mama Mantu",
          "Girls Never Die",
          "SORRY 4 THAT MUCH",
          "Gimmie A Light",
          "Feel the POP",
          "Bussin (with Rob49)",
          "Kalkatiya Raja",
          "Merayu Tuhan",
          "Get Off The Wall",
          "JAGERMEISTER",
          "Skibidi Toilet",
          "Right Now (Feat. Crush)",
          "KING KONG",
          "Wake Up (feat. Chris Brown)",
          "BLAQ ON BLAQ (feat. Luciano)",
          "Swear to God (feat. Future)",
          "Terre Pyaar Mein",
          "Zaalim",
          "Back To Back (feat. Future)",
          "Precision",
          "Di Mochkila",
          "Enjoy",
          "Beat Automotivo Tan Tan Tan Viral",
          "Little Foot Big Foot (feat. Young Nudy)",
          "BON",
          "Chase It (Mmm Da Da Da)",
          "FBI",
          "90-90 Nabbe Nabbe (From \"Jatt Nuu Chudail Takri\")",
          "Talk talk",
          "Wreckage",
          "Besito",
          "SOLO - Live",
          "BBY BOO",
          "High Road (feat. Jessie Murph)",
          "EVIL EMPIRE",
          "Last Heartbreak Song",
          "Main Sharabi",
          "Move",
          "Funny Song",
          "Naiyo Lagda (From \"Kisi Ka Bhai Kisi Ki Jaan\")",
          "Bakkal Amca",
          "Abejita Chiquitita",
          "Baklava",
          "TRYNA MAKE SURE",
          "Sabran",
          "Pieces",
          "Earth Song",
          "Sex Music",
          "Montagem Rave Eterno",
          "Luchtballon",
          "Asylum",
          "T.B.H",
          "Ya No Tengo Tu Love",
          "Yeshua (dance cruise)",
          "Udd Jaa Kaale Kaava (From \"Gadar 2\")",
          "Hello Koun",
          "Orang Yang Salah - Sped Up Version",
          "Monica",
          "Kini Ecko Pergi Meninggalkanku",
          "I Don't Care",
          "Here We Go (Uh Oh)",
          "Baila",
          "Murder",
          "Aashiq Awaara (feat. Sunidhi Chauhan)",
          "Only Fine Girl",
          "Say My Name (feat. Bebe Rexha & J Balvin) - Corey James Remix",
          "Hang Tight Honey",
          "Yummy Fruits and Vegetables",
          "PICK UP THE PHONE (feat. Nate Dogg)",
          "Veggie Dance",
          "Thank You for Being You",
          "Iced Coffee",
          "Jhoome Jo Pathaan (From \"Pathaan\") [Arabic Version]",
          "Pretty - Sped Up",
          "Chichiquetere",
          "Hijo Mio",
          "Ma Fi Leil",
          "Barely Breathing",
          "Very Sad",
          "F Boy",
          "PHONK BRASILEIRO FRESCO (Slowed + Reverb)",
          "Dhani Ho Sab Dhan",
          "Chill Vibes",
          "Milf Song",
          "Ayang",
          "Breakfast Challenge Song (Slowly)",
          "Hasbi Rabbi",
          "Janze",
          "bathroom floor",
          "All Eyes on Me"
         ],
         "legendgroup": "Niche/Emerging Hit",
         "marker": {
          "color": "#ab63fa",
          "symbol": "circle"
         },
         "mode": "markers",
         "name": "Niche/Emerging Hit",
         "showlegend": true,
         "type": "scattergl",
         "x": [
          -0.6493968939447033,
          0.42344905193386645,
          -0.9150869608266234,
          -0.6947584913503365,
          0.2557088273820617,
          -0.20844355395281844,
          -0.8350091638626261,
          0.14493365428528487,
          -0.300283167466271,
          0.2887532771724236,
          -2.1738881200232143,
          -0.0999448739750786,
          -0.330391589900106,
          0.0023865885444903073,
          -0.41306889552439435,
          -0.22548861299790707,
          -0.253903394615951,
          -0.6067651965026467,
          0.3088473192117935,
          -0.016199574765641774,
          -2.3009955845832737,
          0.04744021698771683,
          0.058210656568757846,
          -0.15028948698426833,
          0.06540153534554682,
          -0.15380024427523742,
          0.19631491139750135,
          -0.05446105143120547,
          -0.4553746304344273,
          -0.35160408913016555,
          -0.2675452370346102,
          -0.12055083032710956,
          -0.769616608652453,
          -1.1781506143307605,
          -0.027186650835642694,
          -0.05431943397224787,
          -0.213267074725734,
          -1.840610946911126,
          -0.09730393458986847,
          0.2093103451400183,
          -0.15139810200789097,
          -0.07429566783190447,
          -0.48343678342226853,
          -0.3045751637160706,
          -0.0026832277729375497,
          -0.14331713693176193,
          -0.36159362969572567,
          -1.222820895095351,
          -1.6849786794118657,
          -0.7556117216176055,
          -0.07789752402042757,
          -0.28685807723477613,
          -1.3880436774813703,
          -0.25967346688134235,
          0.28146728014383243,
          -0.1536010422348697,
          -0.07049139859085758,
          -0.4835099562886584,
          -2.76426325423409,
          -0.08104047913275116,
          -0.47640519886103244,
          -0.08875144735776666,
          -0.9266952765843589,
          -0.5445467011134565,
          -0.31407228914236435,
          -0.37642214730685997,
          -0.12272025518037538,
          -0.8772072784179318,
          0.021140661956723213,
          -0.03144355951882609,
          -0.6477936721981503,
          -0.6014503598030745,
          -0.7627373762122752,
          -0.18199629575560222,
          -0.0034702934164433812,
          -0.07520998685736323,
          -0.3645957872934681,
          -0.19341641359129266,
          -0.0934473141050673,
          -0.02876606261264687,
          -0.24827321646936934,
          -0.7747386343666528,
          -1.34768739849395,
          -1.2934080482758195,
          -0.029366390290085385,
          -0.5525373285633748,
          -0.4825367589565919,
          -0.48221317418789295,
          -0.10070283997289606,
          -0.6548444416948498,
          -0.5329234483716333,
          -0.44630759534574316,
          -0.18096337711105512,
          -0.2852958430420218,
          -0.5005342159329974,
          -0.5983056366898852,
          -0.4155823094758507,
          -0.24439228155809176,
          -0.39912387659362375,
          -0.4905747611613616,
          -0.11133834748894589,
          -0.3086643650508111,
          -0.5241030933072345,
          -0.9880042840931004,
          -0.5488801669892517,
          -1.1978301148619586,
          -0.41865450388658104,
          -1.0598227864982401,
          -0.3332685496171814,
          -1.1227091648672274,
          -1.0235519068680747,
          -0.205269926787987,
          -1.6447663260477228,
          -0.5499309239352368,
          -0.3543504775501255,
          -0.6315093484880986,
          -1.0485964967172392,
          -0.9773872539156301,
          -0.33975768620634417,
          -1.6846499460739452,
          -0.479841498175064,
          -0.1645974492809442,
          -0.6982823086234542,
          -0.6397325927381062,
          -0.0961753863159702,
          -0.17374232914172913,
          -0.14616417304693194,
          -0.153681740361894,
          -0.7166005609911874,
          -0.2204393499624601,
          -0.4990523178215246,
          -0.5383442373716928,
          -0.9743974977565427,
          -0.5885467073169874,
          -0.5680143929326085,
          -0.4218718816709384,
          -0.09688374554894305,
          -0.18400267226274233,
          -0.14031615156990462,
          -0.6891163285697395,
          -0.2481001138686651,
          -0.6690856477118002,
          -0.9581558870240032,
          -0.30272702819291186,
          -1.3817343065959415,
          -0.20694739436168588,
          -0.5717663775606464,
          -0.9626088797896865,
          -0.5092421689276868,
          -0.4117107905532427,
          -0.09143292049550364,
          -0.1995637616623421,
          -0.8396959608052493,
          -0.5324383300718128,
          -0.5522414722201993,
          -0.3059132204540434,
          -1.1173028021721052,
          -0.6244191982611919,
          -2.1682612318499768,
          -0.2539654480735577,
          -0.4066067814284778,
          -2.191585372027084,
          -0.3006752145521838,
          -1.0047186539608075,
          -0.32609788529744704,
          -0.2967924008215197,
          -0.47357163782132383,
          -0.09151516119111976,
          -1.586372097040686,
          -0.028253158468380137,
          -1.5018195547516726,
          -1.8076207224147052,
          -1.0165734866311924,
          -0.3792102822537645,
          -0.23964129116973681,
          -0.46868578869241784,
          -0.31704256754875765,
          -0.1060697728228574,
          -0.7525696392603588,
          -1.4985704175751307,
          -0.8611903178599656,
          -0.37720642428188556,
          -0.39479651549213957,
          -0.44350139252769066,
          -1.1082859566520995,
          -0.9985275024993047,
          -0.49190516528361033,
          -0.07827582402940245,
          -0.0541754292831995,
          -0.8755539145126371,
          -0.13249812531148356,
          -0.14318425953303396,
          -0.14454851745768746,
          -0.6564783808246959,
          -0.23850529470575949,
          -0.77778878920263,
          -1.0183777329611243,
          -1.7568913162578272,
          -1.5846715207010527,
          -0.5183415341763137,
          -0.7043182782933338,
          -1.5264081809462313,
          -0.04769939601384973,
          -0.5578585498970081,
          -0.605680905179474,
          -0.316625638458726,
          -1.8588055936193613,
          -1.3603032906014363,
          -1.7366627694812093,
          -0.598310484153116,
          -0.7326887485120095,
          -1.0598359747275816,
          -0.758473218444856,
          -0.8733492225825147,
          -1.834557390278088,
          -0.12061918077901738,
          -0.4986384472274167,
          -0.7946094842165512,
          -1.1489655134544292,
          -0.9798048739811321,
          -0.6670938604917697,
          -0.30859992531486025,
          -1.0148534890042318,
          0.0043914801084564935,
          -0.8432592121041705,
          -0.9748591434983813,
          -0.30792698923432893,
          -0.43577092974297377,
          -0.5133686641809142,
          -0.09592583674192943,
          -0.43973821589780815,
          -0.9657634165285989,
          -0.3353595882446706,
          -0.3855897428623014,
          -1.040129912576598,
          -0.2094752397596995,
          -1.6899476065022974,
          -1.241981601867822,
          -0.5494960562838221,
          -1.0122151990642956,
          -0.3401048572740133,
          -1.528029754250399,
          -0.22064007639308822,
          -0.7741375910233101,
          -0.2882658895010914,
          -0.6645907666555648,
          -1.3721669726290877,
          -0.26689234140599377,
          -1.179923273250489,
          -0.3793337706525782,
          -0.1895833833267365,
          -1.0506988106384223,
          -0.2982551640776975,
          -0.24083054607639268,
          -1.209682126288929,
          -0.4969884969626407,
          -1.3748709558032186,
          -0.11071721726914266,
          -0.7476167219094197,
          -0.4050224525271768,
          -0.7966373505798507,
          -1.8065329044687202,
          -1.1282473815314213,
          -1.1179042166507174,
          -0.5971909997798464,
          -0.17157739206270356,
          -0.6128778193523069,
          -0.3439746838484769,
          -0.2501867881935764,
          -1.1689154543959728,
          -0.3074654531759958,
          -0.3391234727430571,
          -0.6385141936483503,
          -0.6376681746092471,
          -0.02687809743877687,
          -0.09092780066802147,
          -0.7244456657213637,
          -0.4545720664742714,
          -1.5977698724514187,
          -1.0843977431563876,
          -1.1250153264845761,
          -1.7407759520873805,
          -0.25234090111915075,
          -0.9009015742144126,
          -0.7468804921617161,
          -0.7525405747260195,
          -0.23676838840014083,
          -1.1369445948169838,
          -0.35325216354800754,
          -1.0863200923614276,
          -0.5661071396533494,
          -0.3091479239392281,
          -2.061577681908055,
          -0.3800204612907302,
          -1.2451189592233067,
          -1.1321410259732316,
          -0.3351532882120762,
          -0.3244665816153677,
          -0.15870389178336491,
          -2.195273776725812,
          -1.383303660499364,
          -0.6347164043291826,
          -0.6082828579978182,
          -0.8297537739629182,
          -0.8723327420516731,
          -0.8550577368425583,
          -0.3295257792161719,
          -0.5933447219260976,
          -1.1346081691905736,
          -0.2134462657352738,
          -0.4585617154111431,
          -0.39857641713061187,
          -0.5266709069704714,
          -2.0867001061506154,
          -0.8454349849445757,
          -1.9908295792239568,
          -0.9810394547800685,
          -0.39560803310929155,
          -1.9820980449943906,
          -0.946498166720107,
          -0.38560908429507773,
          -0.5560307451663282,
          -0.6682888916700784,
          -0.8986753131043704,
          -0.052823495183443966,
          -1.77069368392014,
          -0.6262121276948145,
          -0.2776033413525596,
          -0.4145921045667696,
          -0.715765353455798,
          -0.3645636033698951,
          -0.5877716274639658,
          -0.2117451464926622,
          -1.1132798455558692,
          -0.19543958603532557,
          -1.0344577637618548,
          -0.5614246023317903,
          -0.061261186425418716,
          -0.2162937475921504,
          -0.5171005870559935,
          -1.4055603363914866,
          -0.1948429243601089,
          -1.2851584849403526,
          -0.28644056246172933,
          -0.5902580983020698,
          -0.6170106270560748,
          -0.6695008908388163,
          -2.1269060568005598,
          -0.5529734409813228,
          -0.22362593664317212,
          -0.8187582085105977,
          -1.374677705877137,
          -1.7550463199617172,
          -0.239505068295229,
          -1.107931064265368,
          -0.992236950570518,
          -0.8354041145828295,
          -0.11466351964634898,
          -0.5759481739939927,
          -0.8047982928707296,
          -0.3067214968984299,
          -1.0539499578635276,
          -0.2822640016362152,
          -0.7443024641406232,
          -2.070491850159341,
          -1.2245164960272181,
          -0.9829390282646023,
          -0.2781452374597685,
          -0.5162431003406893,
          -2.337614356490613,
          -0.6117381843201518,
          -1.0449865455111114,
          -1.8742106280034043,
          -1.018635547814786,
          -0.30148305191292046,
          -0.41811270566867426,
          -0.650723275284324,
          -0.2217911284710078,
          -0.9713838815305853,
          -1.0869442906716644,
          -0.6260523189730155,
          -2.1326526310006213,
          -1.0515410361504198,
          -0.4265840541491766,
          -0.1764912999513328,
          -0.8344917982536547,
          -0.23618806718049076,
          -1.0992919282259506,
          -1.2796216569319137,
          -0.8702722232471904,
          -0.2894523876339598,
          -1.1281255865783693,
          -0.1841909841761779,
          -0.3199892559209036,
          -0.16032137400279717,
          -1.0252840309773277,
          -0.7577427709290473,
          -0.18641490877363437,
          -0.9947775274212475,
          -0.10887477784824427,
          -0.17468657025932025,
          -1.1138699423040286,
          -1.2087575494383487,
          -1.17876833795125,
          -1.3781712201938272,
          -1.6985563723844197,
          -0.5042582787013781,
          -1.0352616545046638,
          -1.0899917094835687,
          -1.2337995210639143,
          -0.6653957084448209,
          -1.599944100776072,
          -0.20208415616666545,
          -0.7890883533154923,
          -2.062335696743372,
          -0.6212790812102248,
          -1.2118185919547404,
          -0.4470562304815421,
          -0.14614218541235038,
          -0.9668709227154934,
          -0.22024066946178897,
          -0.5498664973924007,
          -0.732728625677298,
          -1.1511659652017316,
          -0.1648735416682041,
          -0.3027652835620659,
          -0.2212203298978082,
          -0.43423321088573785,
          -0.4440580665453328,
          -2.759001697468487,
          -0.5883079306925483,
          -1.031487317859459,
          -0.7859126333879993,
          -2.0924428461456626,
          -0.14196396517863036,
          -1.539210344877513,
          -0.1688155683239828,
          -0.5646097587058752,
          -0.2988880381153011,
          -0.5333937722203771,
          -0.48697967833105765,
          -0.1733413386343577,
          -0.7640748291055055,
          -0.3221910966417374,
          -1.1635294200769517,
          -0.9610470042771301,
          -1.4175727873967876,
          -0.426355353573179,
          -0.6752536082010641,
          -1.0243886876482342,
          -0.29309753544864875,
          -1.0976297485022917,
          -0.9759077380647294,
          -1.8941729679265062,
          -1.067593808465481,
          -1.6509896362877143,
          -0.430703026237097,
          -0.2698110600250662,
          -1.3848157303865505,
          -0.3282461702002558,
          -1.8323374315767444,
          -0.915211035640253,
          -0.2658535743366567,
          -0.11622813983482683,
          -0.3777746027094835,
          -1.272737509642123,
          -0.8731445761318252,
          -0.7517305813610328,
          -1.1533836765945074,
          -1.5932101811173967,
          -1.2593932164639496,
          -2.9314797817288416,
          -0.25958013454933976,
          -0.34947045081873696,
          -0.4893468856962054,
          -0.4502907325460885,
          -3.1640911479539695,
          -0.48809797475662486,
          -1.2522141019549022,
          -1.1800054497789807,
          -0.15443985328409962,
          -0.516967691989367,
          -0.4043432750643585,
          -0.44767574901033497,
          -0.5694071957227076,
          -0.6906765045975679,
          -1.4814292149807762,
          -1.4915123179616818,
          -1.528721181164236,
          -1.0539215760068137,
          -1.3900163418617861,
          -0.09384810610516103,
          -1.1597718565691801,
          -1.3546277956269268,
          -1.265816217495024,
          -1.4615914317533218,
          -1.644774947054108,
          -1.4492495526948193,
          -1.1932157476645444,
          -1.3648605523424198,
          -0.1184556148933164,
          -0.18523565269164932,
          -0.9876495972474506,
          -1.9461835952651543,
          -0.5215718961505417,
          -0.4388322151556801,
          -1.6647370278464522,
          -1.311572464111995,
          -1.3436687627095234,
          -2.0337673547902964,
          -0.834185331741701,
          -0.7808129560729647,
          -1.4770486799553142,
          -1.1464292013743609,
          -1.1648333485804319,
          -0.8054950175380639,
          -1.5888806390511738,
          -1.1750056087416532,
          -2.2028420687177923,
          -1.2450208955878836,
          -0.4548837362274213,
          -1.3320569929293056,
          -1.5166663352256233,
          -1.2998256287196823,
          -0.44547905532688187,
          -1.4393787298757177,
          -0.12169173627093038,
          -1.7282288366145626,
          -0.1719797351721075,
          -0.1643653339500614,
          -0.8084140175797129,
          -0.04198604797864091,
          -0.1695166016209672,
          -1.672140940547401,
          -0.7822620788672112,
          -0.43768730316702953,
          -0.971725762350884,
          -0.7899400619571301,
          -0.9456139076994188,
          -0.6743453684101014,
          -1.3285515145528681,
          -1.7422362918413383,
          -0.35431304507179884,
          -1.619336258651555,
          -2.4943236880268604,
          -1.6639211938001641,
          -0.17344640974321882,
          -0.5792257575335173,
          -0.2859408312286426,
          -0.4428049883045623,
          -1.6586512163268745,
          -0.08493130139595223,
          -0.7197288595145557,
          -1.035387805958131,
          -0.9273630215511243,
          -1.8979580552744137,
          -0.4537299398606683,
          -1.1642963794540766,
          -0.8260094678044758,
          -2.17735310358442,
          -1.969109270395803,
          -1.9149732108238604,
          -1.1705032484066873,
          -0.3391316285808844,
          -1.7462749995732365,
          -0.40292970594860356,
          -1.059701465532396,
          -1.360571136669203,
          -0.9157100575618217,
          -0.795123878257078,
          -0.15815183118533205,
          -1.527273994148452,
          -2.201394665964613,
          -0.22060214698056163,
          -0.7757816108038095,
          -1.2242311072279028,
          -0.5172035285681574,
          -1.3369135700531927,
          -2.0261973187346847,
          -1.2045798965702428,
          -1.2644750163883631,
          -0.11415785342243638,
          -1.2290541170458638,
          -0.9674293404235778,
          -2.1533808233608975,
          -0.6513939493721471,
          -1.5056451453996076,
          -0.734896277512401,
          -1.4005511723751325,
          -1.9055503569417478,
          -1.6587956048667667,
          -0.939880462123988,
          -0.09031912740232827,
          -0.2871648376956257,
          -0.8517882734994957,
          -2.244351784804165,
          -0.39650387419046773,
          -0.89761349683092,
          -2.232435647708525,
          -0.6763034504407208,
          -1.0108959180565071,
          -1.836615683915244,
          -1.2224915034342796,
          -2.549987350373867,
          -1.896229418765588,
          -0.4242361783132755,
          -1.8753541048581657,
          -1.6846507134228408,
          -1.1549010135743494,
          -2.3354633785877357,
          -1.3218075244390792,
          -0.43388086183392854,
          -2.8133276543941057,
          -0.34844158978240897,
          -1.5077935957705897,
          -1.3616103280437213,
          -1.849673359862132,
          -1.1892670340262648,
          -0.5629169826525763,
          -1.4744900063527113,
          -1.4140432199083588,
          -0.5776945833110398,
          -0.31790278184067705,
          -1.3874393546619554,
          -1.7505852940558486,
          -0.24803702264554375,
          -2.042541542205557,
          -0.3498310241766535,
          -1.9761247222137,
          -0.5586802531412193,
          -1.460742029702207,
          -1.2645417389191258,
          -2.2949783431821276,
          -2.4385415230027703,
          -0.5973290923017438,
          -0.8653415977986474,
          -0.3547606936461148,
          -2.07372516160431,
          -1.8892664244274975,
          -1.4245944087906524,
          -1.2744641528165908,
          -0.30246165701871497,
          -0.8834363810699027,
          -1.6437182442098386,
          -0.8769399561776902,
          -2.3525936998034047,
          -0.9335065889072446,
          -1.7435342506587623,
          -1.9973572099800674,
          -2.5578075622829406,
          -0.5023631677211975,
          -1.2423354318484143,
          -1.8498129135262464,
          -2.0346910543484493,
          -1.6822293251511382,
          -0.7706756026216836,
          -0.4795036573033398,
          -1.8407848425442126,
          -0.7495317980954626,
          -1.3793548163138076,
          -0.39433011739826934,
          -1.1895832298572515,
          -0.4461045775085844,
          -1.5571449291444834,
          -0.9653538045944071,
          -2.0460553991936967,
          -1.7078070198001996,
          -0.3802057505146425,
          -1.3048764306374356,
          -1.6575291790044129,
          -1.2993651834740152,
          -1.029704229667402,
          -0.7375273951303656,
          -1.4173139129038932,
          -1.8127263879376903,
          -1.4802512579060874,
          -1.129254261175343,
          -1.8834909631257086,
          -0.30300661154429503,
          -0.5260527373887766,
          -2.462424003549955,
          -2.297632420435286,
          -1.453224911480297,
          -2.1939976682617495,
          -1.714202451917669,
          -0.8759577134826529,
          -1.0325232519710688,
          -1.3503302309306158,
          -1.995692499065316,
          -1.8207918175566045,
          -2.57126840650921,
          -1.902003955654944,
          -2.4607959914928363,
          -1.2701327503002364,
          -0.9917571872674831,
          -1.7734518904849161,
          -1.8500197670168557,
          -2.22075349478681,
          -0.5541198518534414,
          -0.21678387807271135,
          -1.7664513681460272,
          -1.1716987590211283,
          -1.5569484905431465,
          -0.9850909043369421,
          -1.292696179683871,
          -1.9348400839452542,
          -0.8498226711435842,
          -2.2607445646500413,
          -0.974421923785899,
          -1.5269309699283669,
          -1.5897470458696927,
          -0.2835368389076462,
          -1.2258706006922417,
          -0.20609825223204922,
          -1.048010390779855,
          -2.3819107006072646,
          -1.3088135484053682,
          -1.2202106059879128,
          -1.1727028993880948,
          -0.21457156526421142,
          -0.8050020938842689,
          -1.3263887159803898,
          -2.9035348487372117,
          -1.9048596359653667,
          -1.8355740573721537,
          -1.5053953367621042,
          -0.45015606309808176,
          -2.36680922045695,
          -0.9754149473085983,
          -1.1105993781311259,
          -1.9104968077822917,
          -0.8499214415486226,
          -1.4383667029099876,
          -2.09883055686666,
          -0.5086889092512847,
          -1.543572193672957,
          -1.616657771973234,
          -2.8326644033326804,
          -1.4026029323031135,
          -1.2967433067980887,
          -1.1412081416577264,
          -0.2523722906978778,
          -0.8789098805405958,
          -1.4681990286514652,
          -1.7893647395728576,
          -1.9430055869744776,
          -1.060627751291532,
          -0.2104034783584984,
          -2.1975860876905315,
          -1.3598839740283877,
          -1.7708691209693812,
          -0.6877350266086649,
          -0.4628440345762645,
          -1.8561755087448082,
          -2.356726441820668,
          -1.9113581138490388,
          -1.291684900568875,
          -0.6636769115083383,
          -1.3680512585686635,
          -0.41166238101328984,
          -1.937395733521271,
          -1.7559616039395367,
          -1.6798788381022312,
          -2.355619550528653,
          -1.6840812715973748,
          -2.7288582735930897,
          -2.5005686269394687,
          -0.9339582596673873,
          -2.2538586058879218,
          -0.5275359186575677,
          -2.4756840596787604,
          -0.3133875612189229,
          -1.478487984130439,
          -0.9548665300194977,
          -0.3374273128957907,
          -2.3216285089812674,
          -2.071875647719036,
          -1.8609537112686385,
          -2.63953481360044,
          -2.1297927752275005,
          -1.4121582907515446,
          -1.886937273934618,
          -1.5578522971098405,
          -1.349660044548704,
          -2.051363654594286,
          -1.1294951854020552,
          -1.3816269551307472,
          -1.7082508758633055,
          -2.2243546607873546,
          -1.0144386007774302,
          -2.5802061860098386,
          -2.417178527866106,
          -1.8281835776887312,
          -2.346076358435227,
          -1.8563642460758016,
          -0.8550170925792933,
          -2.3364660240327675,
          -0.5609154222527445,
          -0.581621663392205,
          -0.3745765032390745,
          -2.0385367988866685,
          -0.7867767846765428,
          -0.6720106159785437,
          -1.6539945824318185,
          -0.8984658619712065,
          -2.462764543749227,
          -1.2291477443477319,
          -0.7316570398028628,
          -2.618278790997106,
          -1.893503005409289,
          -2.205755102340815,
          -2.163490447894865,
          -2.1233606315020435,
          -2.511183532792453,
          -2.0728227804185866,
          -1.3534993934607913,
          -0.28389293827297507,
          -1.4822318805364025,
          -2.263504832270986,
          -1.678201518919535,
          -1.7346551890085407,
          -1.8836630188207446,
          -0.3346660064925064,
          -0.7033542863754425,
          -2.60184094402522,
          -1.4687140298139028,
          -0.926529077587692,
          -2.29867582717868,
          -0.5209745443545477,
          -2.2078267360476356,
          -2.2083209128560473,
          -1.7257905035224548,
          -2.095199207888663,
          -1.578896814410356,
          -0.7058827832266653,
          -2.004535082131951,
          -2.3887777685221914,
          -1.9825615168328554,
          -1.5843903455590658,
          -1.5194905621447985,
          -1.9128048097979093,
          -1.8632921743952908,
          -2.5750170325968114,
          -1.449246552605123,
          -1.5507276735517967,
          -2.5084549038449504,
          -2.2738321317050048,
          -1.4086185124645618,
          -2.6926694324694984,
          -2.5430279684342842,
          -2.6594474577973997,
          -2.5001487976692487,
          -2.9126195433483,
          -1.6553383601857043,
          -0.7177008457437274,
          -1.8194873089816495,
          -2.4319608669078643,
          -0.8844823387494422,
          -1.5684126585883453,
          -2.8792023494843093,
          -1.6099786143672106,
          -2.2070547196805594,
          -1.679045855497708,
          -1.5573625856870081,
          -0.7760665286103947,
          -2.276766338674298,
          -0.49950333845071454,
          -2.377763126344586,
          -1.110228204551056,
          -2.1758333288999405,
          -3.107459823254435,
          -2.778179005839287,
          -1.7461907170313835,
          -1.99541416071205,
          -1.747476287923394,
          -0.982444655585052,
          -2.3042060940488645,
          -1.5369826060848397,
          -1.7067932850830596,
          -2.871677979115363,
          -0.9502499478819738,
          -2.116268162474282,
          -2.019391252418895,
          -2.6377400072020336,
          -2.2895229810519653,
          -0.8578364293078251,
          -2.683447691200116,
          -0.7583494089700178,
          -2.0842393497756633,
          -2.353353085083521,
          -2.497347860342858,
          -0.7172729759830387,
          -1.101373401609244,
          -2.5963399654494355,
          -1.6330293025919491,
          -2.2483422688418266,
          -2.0924735911777637,
          -2.6937066308899986,
          -2.7376142876090674,
          -1.52374261774058,
          -1.125342766580012,
          -1.9032825748069977,
          -1.9988076551722547,
          -0.9175436754122491,
          -2.9594332787975812,
          -1.985831041739539,
          -2.7438961005822935,
          -2.85232723948308,
          -1.4303997522401584,
          -3.0425890224058376,
          -2.4532528178049158,
          -1.8608838092899673,
          -2.016004838480951,
          -0.71079376277232,
          -1.4399269627048683,
          -2.4023338444311126,
          -2.982434429800299,
          -1.8328433088162674,
          -2.642401729591187,
          -2.3119814087973953,
          -2.519313529498506,
          -2.224304982827707,
          -2.0586339267965923,
          -2.3234751801183102,
          -2.6387601485867553,
          -2.493957300004994,
          -2.2621958965749367,
          -2.6834060702310376,
          -1.9284718813917376,
          -1.8964605682689362,
          -0.629607610390052,
          -2.888730751280003,
          -1.9397562373352693,
          -2.585803819505829,
          -3.2199212617198163,
          -3.0402556943460546,
          -2.5196533879985594,
          -1.5706106776902633,
          -1.104255972105062,
          -1.9825280008454826,
          -2.690354815818612,
          -3.054022772502114,
          -1.813499284221948,
          -3.182850759679262,
          -1.3838811969344438,
          -1.3942785411423413,
          -2.6381630398989784,
          -2.5321873261265564,
          -2.6816494129908452,
          -1.5951136422314784,
          -1.8545770556884769,
          -2.2526993926182985,
          -2.6690350034642587,
          -1.6657829994346869,
          -2.223542368810855,
          -1.9691302681204346,
          -1.8180534559669648,
          -2.688980875150409,
          -2.7343929119202843,
          -2.3563102029242087,
          -2.9358223139905517,
          -2.611691224641078,
          -2.2422643903507438,
          -2.7047629682992014,
          -2.741773098045224,
          -2.6787370079986843,
          -2.3544700037341655,
          -2.47569489244664,
          -3.075805869801978,
          -2.2438775283962404,
          -2.456313721213051,
          -2.3996783925439784,
          -2.7347269814445445,
          -2.713992663206668,
          -2.500481621517786,
          -2.4866873014292636,
          -2.4089476861781614,
          -2.6978083126697543,
          -2.6563653635258326,
          -2.864186243227155,
          -2.5257279090827156,
          -2.4149132854579713
         ],
         "xaxis": "x",
         "y": [
          -4.504574138979014,
          -0.029122604263618873,
          -3.844390436297109,
          0.4744877667290342,
          -0.31329232838738885,
          -3.515975995921073,
          -4.182521507347922,
          -0.7872917987462766,
          -3.5307877700475663,
          -0.5600565203417049,
          -3.318797534051622,
          0.6239453613520419,
          1.0867578056194829,
          -0.12734432614716995,
          -1.501067558847759,
          0.034522155600159296,
          -3.640378897600645,
          -3.4510170877890984,
          -0.561876249170263,
          -0.13012737284359752,
          -3.2747334659816483,
          0.6859682819113013,
          0.4967627261487752,
          0.5082555894067662,
          -0.4717238602550295,
          0.19825172388659568,
          -0.521218514696958,
          -0.7151696706487141,
          0.08373470076432352,
          0.70368680955568,
          -0.370165041251692,
          0.45753694874879186,
          0.2438907079685714,
          -2.9390647491591624,
          -0.11783056594542136,
          -0.041438916707590354,
          0.9867667692216691,
          -3.7261929803245133,
          0.1368636410512763,
          -0.6962440482459196,
          -0.2729030008584589,
          0.1987231981433903,
          -0.4127977229753318,
          0.9241600535851494,
          0.6268422601162664,
          0.19087200169370236,
          -3.5076718103631537,
          0.5917038016275137,
          -0.20319281985683624,
          0.4606358668092586,
          0.05496146304348271,
          0.35178698767840905,
          -0.5564076342300946,
          0.7057031154518928,
          -0.6173203706307978,
          -0.1492128030961907,
          0.3131301222760793,
          0.24395386035831718,
          -3.09838101245925,
          0.5642776783726682,
          0.5013319504676039,
          0.5170536006581181,
          0.2205025369460908,
          -0.5173339872892028,
          -3.688175454110913,
          -0.3119814074458663,
          0.41361730668564844,
          0.04496689397926097,
          0.2774715499507425,
          -0.4717543779275988,
          0.30676155472475886,
          -0.09065178424326571,
          0.8015044128685772,
          0.4994718102523652,
          0.668320047253916,
          0.2964712797516967,
          0.8562247377302785,
          0.5058543610540378,
          -0.6111540082959998,
          0.09846365796710943,
          0.42003336943062425,
          0.17568062063746123,
          -0.48137960838482063,
          0.7137005505535837,
          0.6839637661294536,
          -0.1823016649554075,
          0.31943776703992305,
          -0.3456184078387994,
          0.33017446920334464,
          0.17824312419454985,
          0.26054485929446486,
          0.4860970676336117,
          0.322223107920422,
          -0.7349050069405649,
          -0.2152928207725863,
          -0.17956388357482664,
          0.4561827853438287,
          0.6683223342642824,
          -0.8602775578874475,
          -0.15222083525935268,
          0.41920085199691065,
          0.683312542375517,
          0.7824965104746231,
          -0.2941490831541218,
          0.5136587982867279,
          0.18183233786902755,
          -0.441966050656505,
          0.16858017285120072,
          0.7634785525601734,
          0.39662178263286246,
          0.18011911334630248,
          0.42699000393977,
          0.49569675812490965,
          -0.12268957822568172,
          0.1979914055221641,
          -0.013876100656049137,
          0.19382733571012126,
          -3.293385945938217,
          -0.20271755836513847,
          1.354203071368341,
          0.6415729790574476,
          -0.19443895552752732,
          0.5795864630532808,
          -0.12174228444494807,
          -0.052951021098967196,
          -0.11147429583051,
          0.6163540473279355,
          0.6199841584212815,
          -1.1841867676863747,
          -0.39106303330690373,
          1.230174664029136,
          -0.7549394610692534,
          -0.3258450963240818,
          -0.25812107913918064,
          -0.2806968241873185,
          -0.349742652310677,
          0.20414492002292536,
          0.05974266481532339,
          0.49753638900381775,
          -0.1088149946773858,
          0.22712056250382953,
          -0.44016295016733853,
          0.02729058475192294,
          0.31283594387620683,
          -0.38103864968140994,
          -0.10178781182646163,
          0.3230415440214522,
          0.2317964652295074,
          -0.11183756302088475,
          0.2544047836675596,
          0.0065113058730803235,
          -0.5851933054662437,
          0.61544292701151,
          0.3813976104209021,
          0.7479657660002107,
          0.18085613453454621,
          0.1962796198764685,
          0.565532802776213,
          0.1123927201092355,
          -0.8601800874471313,
          0.6321825311380067,
          -3.459520336990633,
          0.8375100047897118,
          -0.0959046974290501,
          -0.4057968893101378,
          -0.3977555860170545,
          0.7388599260409654,
          0.6411301830180604,
          0.3331282055130529,
          0.1029053716715941,
          0.47357791471696303,
          0.4323513957436256,
          0.1340704302480624,
          0.20588607899837247,
          -0.15568674814022004,
          0.5271307821730647,
          0.7318963707484492,
          0.08678898690242927,
          0.7140260909029627,
          0.5707027290278884,
          0.6482641729899689,
          0.7052948561502709,
          0.44660999449118294,
          -0.12188880550187249,
          0.15425968942921017,
          0.03242817042754319,
          0.35707431593538347,
          0.4057083037179172,
          -0.12734456811537337,
          -0.19109152331558096,
          -0.21854557294116841,
          0.1202798564333892,
          -0.0698400196015899,
          -3.577874719642784,
          -0.005671578367504339,
          -3.4609394788133296,
          -0.5938187095809963,
          0.5156310014245642,
          -3.747278144481293,
          -3.6021063514533105,
          -0.22484305336648655,
          0.43157654157959663,
          -0.2154901828102463,
          0.6534033791705237,
          0.7692692705082446,
          0.6010505629478013,
          0.420597078042804,
          -0.922725326916294,
          0.9409155442919471,
          -0.4608464410742071,
          0.2207204111151606,
          -0.3119193645649495,
          0.057209230580277194,
          -0.32827177722773526,
          0.8501671735947126,
          -0.0318185372291901,
          0.8142169265074068,
          -3.515291392433553,
          0.2888519682046224,
          0.5210585202452638,
          0.09722560616149672,
          -0.03709624482220074,
          -0.13163393600027887,
          0.09871030748734956,
          0.5249092414001751,
          -0.5174933812621156,
          0.39596939961299105,
          -0.045422174453389905,
          -0.38597116499925177,
          0.8437927599318892,
          -0.49239283492697467,
          -0.5737753658680288,
          0.31730116566999156,
          -0.02915352989976386,
          0.17044445773835987,
          0.141299658361904,
          -0.24646633600336498,
          0.21524114478657927,
          -0.5362639567517145,
          -0.03317620625165771,
          0.10244241298547442,
          -0.23738933699828477,
          0.34686607868623337,
          0.0477585997906873,
          0.3016516255264382,
          0.6560406131183799,
          0.3651197099553475,
          0.3422500656196414,
          0.3940476258232808,
          0.12565093979264336,
          -0.26729385128112876,
          -0.2837296211468269,
          0.7112190244333175,
          -0.7195794734276162,
          -0.17242518042883917,
          -0.3241820278262386,
          0.16796625409390806,
          -0.06144740164934604,
          -0.27911923572122427,
          0.24122934748824545,
          0.28334681275533263,
          -0.35426110122938237,
          -0.08313226222392281,
          -0.0646611932834369,
          -0.5297537225586214,
          0.09531166001112147,
          0.3629049004729763,
          0.2877857337646653,
          0.7192650670889563,
          -0.506532680948624,
          0.21421477187561186,
          0.14654433214580406,
          1.1803687273413812,
          0.7977817055806014,
          -0.1691409905950522,
          0.1094130769364621,
          0.6548296895846938,
          0.716145956255645,
          -0.2981124892049473,
          -0.2752112934874501,
          0.5360613665155478,
          0.03599580889604666,
          -0.4746507858065135,
          0.09538257390317267,
          0.45631025707977324,
          0.3625034612133831,
          0.6554932892498898,
          -0.23527797860313804,
          0.8021171088311939,
          0.1185740647256067,
          0.08142388992188437,
          0.7146909946077373,
          0.6108884768851126,
          -0.07201573151256972,
          0.25091676568342053,
          -0.1329252794123829,
          0.2101125550070075,
          -0.1208963294976031,
          0.4629128416055534,
          0.26202721567351817,
          0.7416700792567331,
          0.35407072396854905,
          0.4745259010884199,
          -0.5269579957916543,
          -0.16157977827427497,
          0.020116097414202765,
          0.6778852549309726,
          0.5193385949628835,
          -0.02784424795897048,
          1.0228432552160158,
          0.8105643512488773,
          -0.4604935685024889,
          -0.2024791875970668,
          -3.3927776714407667,
          -0.6755487416528944,
          -0.4100545387761507,
          0.704861980972718,
          1.119271867291177,
          0.485495308845188,
          -0.1704605465070649,
          0.1972704725577345,
          -0.20047793130638808,
          0.5603801203824925,
          0.4874090297960761,
          0.3283569376666918,
          -3.737949079253437,
          0.7476814735357192,
          0.4096334470478993,
          0.11614825919964646,
          0.14258067143483194,
          0.13982262496617248,
          0.9914454519343784,
          0.20833214299625114,
          0.06646449118966385,
          0.478631237298745,
          -3.2722339466842514,
          0.29549676941227027,
          -0.014396964898562294,
          0.8053532607780903,
          0.03209971444170636,
          0.2848758396055166,
          0.26339618942992327,
          -0.19306594980775357,
          0.021873035931224992,
          1.343523002376305,
          1.1324513069206326,
          0.14937563199599477,
          0.4107442776111214,
          0.758081849454914,
          0.030208762924577283,
          0.03229735754867471,
          -0.012590693135243773,
          0.523455059054059,
          -0.2218429138412484,
          0.6156479532429617,
          0.5609157009578571,
          -0.6701270626106588,
          0.05846746248067926,
          0.3907545192656651,
          0.08794051637962294,
          -0.38600839293668227,
          -0.3473754957454326,
          0.06488296122297042,
          -0.6599258640437323,
          -3.5005371346004024,
          -0.11846095137761381,
          0.4620802050614822,
          0.4122135534157593,
          0.43677976868795654,
          -3.5344985040478547,
          -0.1734496151235429,
          -0.02372847280781411,
          -3.6151529689190958,
          -0.6390910703458791,
          0.4276376614858375,
          1.1303510288175949,
          -0.014519019506761585,
          0.6372271652077978,
          0.49882841206572237,
          -3.54870319888626,
          0.15927625604996828,
          -3.5194240679727518,
          0.585896301363152,
          0.3191734857900203,
          -0.1795687273950684,
          0.8271965792962023,
          0.5264801718498366,
          -0.4537613204036778,
          -0.20837916920114474,
          -0.09634266703616345,
          0.9113054629084842,
          -0.051763348683254454,
          0.5240182021699828,
          0.17837461162153007,
          0.38596808951277095,
          0.9796801271188129,
          0.5031360533867095,
          0.5965790491087216,
          0.9639122310227607,
          -0.1805691774261499,
          -0.43065521081941266,
          -0.2690444553949593,
          0.9504822035142916,
          0.7226799619019759,
          -0.15822327914368337,
          0.12349241246622998,
          0.39872677245799854,
          1.0048463506465664,
          0.3856104922517534,
          -0.16173821753192946,
          0.17319546487357373,
          0.6298249756888414,
          0.5245303912683486,
          -0.13086494398702272,
          0.719949916897039,
          0.7691719249828878,
          0.5527060068387473,
          -0.3339978484793713,
          0.6148461380615653,
          -0.11398408493854699,
          0.45816551380972353,
          0.49846748472247393,
          -0.09640776496587365,
          -0.108629286209373,
          0.3380485655909439,
          -0.3075639574873079,
          0.1730736672343669,
          -0.3530248585381326,
          0.08862732333958735,
          -3.2924640688059017,
          0.5194384282415596,
          -0.060790032806021764,
          -0.18819163558284732,
          -0.15825664588335434,
          0.4898776722050641,
          0.22519303666701576,
          0.4320186901388762,
          0.297398790339287,
          0.23578567332806624,
          0.6738567974599555,
          1.0188705579831367,
          0.4431087313405858,
          0.8653982366510574,
          0.3519012367328082,
          -0.3331078499114216,
          0.005482466236998695,
          0.07996623751417906,
          0.8024129652825348,
          0.20526745800288773,
          0.710353196985143,
          -0.8952568746135221,
          -0.45857919901862826,
          0.587082556880725,
          0.0816213751538675,
          0.5313237115712182,
          0.46224102338764433,
          0.04972940208201188,
          -0.26506352856970306,
          0.9457891960976368,
          -0.5754390607918245,
          0.1952542680360816,
          -0.23319511454235173,
          0.9730536726026768,
          -0.4045200463395478,
          0.368978763127478,
          -0.1167703471081263,
          0.07506510180636711,
          -0.007878830783501772,
          1.1049693241968024,
          0.2214909699079689,
          0.3961972881378929,
          -3.200261025249844,
          0.5856976402812797,
          0.47621792953574915,
          -0.5412122852367984,
          -0.13625125921364423,
          1.471586616832904,
          0.4282651012274297,
          -3.5388844972684077,
          -0.6487784937304578,
          -0.23900647422840315,
          -0.059100830748059184,
          -0.27112730759912457,
          0.5508764874730441,
          0.3011177298593273,
          0.5148953645417997,
          -0.5388468210279377,
          0.031471377713650266,
          -0.41069071577961036,
          -0.8955236418900817,
          -0.1850694136686745,
          0.9959618186125949,
          -0.14250975662174906,
          0.10859875156795105,
          0.7483733763549146,
          0.2896472183616136,
          0.31574199272524656,
          -2.7777793113247427,
          -0.4710894140352635,
          -0.25585959913163964,
          0.3631017801704954,
          0.671854308966161,
          0.767388628470568,
          -2.9189809604711763,
          1.101826699674399,
          0.13245713764303166,
          0.2870740919304296,
          0.5077550592077618,
          -0.16809626629677019,
          0.04700205734415112,
          0.9671459137915508,
          0.8713480631695687,
          0.8334827645112816,
          -3.5786873026415225,
          -0.7072551800768881,
          -0.6984674921291235,
          -0.13780680621898928,
          -3.3599907997213716,
          0.6945013785987962,
          -0.2720108004411542,
          0.21543813770848344,
          0.5700674659649018,
          0.8303746259724788,
          -0.2425194479167722,
          0.9736005617676126,
          0.22747412399951508,
          -0.2688155250255511,
          -0.1362644065235797,
          0.15941846776596896,
          0.4915497393002315,
          -0.12158356824766076,
          1.05591708349996,
          0.0371419268989576,
          0.0028733326602098487,
          1.448157974307028,
          0.018552802313453253,
          -0.5476464541727548,
          -0.13094828616302195,
          -0.13684837112291198,
          0.5185606340916377,
          -0.3119628140570333,
          0.012613480945784062,
          0.2428758117229487,
          -0.46397748862818544,
          -3.27880480655712,
          0.3446207511099286,
          1.2159966173601249,
          0.005200824912575958,
          0.2544113210385297,
          0.4681824322528467,
          0.0523616699752557,
          0.3771466135388603,
          0.1125588640382486,
          -0.38513748763655864,
          0.8034985383174359,
          0.17704013297135732,
          0.6646069867316158,
          0.7746112206032807,
          0.6890582607329268,
          0.3289973605845616,
          -0.004664445254652521,
          0.2801154890375859,
          -0.08978598506550212,
          -0.25823821574616496,
          0.231840313385135,
          0.44115667997508673,
          0.8700653208695321,
          -0.09600850403615013,
          0.37420910484902675,
          0.8065101423729852,
          -0.23417789278426324,
          -0.05912167222254824,
          -2.8711372468157546,
          -0.20033791624249214,
          -0.09865764438568124,
          -0.21444634273734645,
          0.5029937666718604,
          0.7661158433569145,
          0.618964145462597,
          0.44970653023946,
          0.43355049951461977,
          0.1771427915815394,
          1.38544390851817,
          -0.09274749140575728,
          0.17281740487136926,
          -0.09211771821124369,
          -0.442135706169208,
          0.37389254874621414,
          -0.017971436067011175,
          -0.43403260007129923,
          -0.47448182083194074,
          0.39633495108345784,
          -0.43298070589795606,
          -0.09059107592180105,
          0.3872246030926753,
          0.8345973964229187,
          0.41680066071366195,
          1.0656571240866595,
          0.20311058068611743,
          0.28513337671353356,
          1.0331113027692596,
          0.3547799804104348,
          0.6039410353138095,
          1.0088801910451868,
          -0.15238176125602917,
          1.046916224194248,
          -0.2173638323628942,
          0.20316370562138042,
          1.541754137405721,
          0.3928844656737209,
          -0.1291745868875925,
          0.10998022607278933,
          -3.3513508746418914,
          -0.17070028622840225,
          -0.19866606768084344,
          1.049970881016748,
          -0.043532607952177796,
          1.3954030778255626,
          0.5395653693047033,
          -1.064679276604515,
          -0.31578478335315135,
          0.5266970774338965,
          -0.6440628272808592,
          0.044513559683073856,
          1.0253170788655035,
          -0.24134777005857866,
          0.27817134121416265,
          -0.7073164406732748,
          -2.650354009826593,
          -0.12874543335885585,
          -0.20611683312294646,
          -0.7845267800008717,
          0.47077474065410196,
          0.3647211489963643,
          1.158494648561187,
          0.5671576194957519,
          0.3964450030541995,
          -2.698891591079321,
          1.1362667975765905,
          0.10002108198656152,
          0.5060278573124061,
          0.06270429018191062,
          -0.20386101372106633,
          -2.9940535896796345,
          0.95872130551435,
          -0.21736202519347977,
          0.2249346650175271,
          0.3013712177243832,
          0.2345346496837598,
          -3.3930355690425684,
          0.11999288770514648,
          -3.2271948443934013,
          0.16485897293880242,
          -0.17759737053658653,
          -0.5680018748120559,
          -0.3116812130063578,
          0.6082390007143579,
          0.1796366150058037,
          0.46771028982839213,
          -0.5680979553586523,
          0.9869111071652906,
          -0.2651116578825906,
          0.08411656097770324,
          -0.1981004176993831,
          0.6398891132704341,
          0.33647350626027295,
          -0.13195614620738383,
          -0.31229533586538427,
          -0.6223980090860203,
          -0.30573010740659384,
          1.0500931915717486,
          1.4326084662111291,
          1.0513855194989052,
          0.6856288400321034,
          -0.3414410240380519,
          0.1515319401408462,
          -0.3867846407053113,
          0.5032857582908447,
          -0.26115528191035586,
          0.05564238473800959,
          0.11007802211386358,
          0.41212362869005403,
          0.11903412299442137,
          0.0579974546990863,
          0.5058444928232881,
          -0.21556392612227626,
          0.13927314943137203,
          -0.45813503633633945,
          1.327272852953857,
          -0.5893182785724665,
          -3.4146632104850796,
          1.3513985313989458,
          0.48303066726874866,
          -0.45301471331713783,
          0.36970444378976325,
          -0.15044668031272077,
          0.16316845197173527,
          1.3150627773787271,
          1.399726942468162,
          -0.17949865741296148,
          -0.28585634244669533,
          0.5670087856559001,
          -3.370909932111455,
          0.49666426737800606,
          0.9570828214805077,
          1.025759274520744,
          0.8229344466110442,
          0.08798709218486138,
          0.2931552028963906,
          1.2245784572865106,
          -0.44092453713831464,
          -0.12569741135415996,
          -3.005099923308946,
          0.144817800997204,
          1.5558560974782307,
          -3.42054886888157,
          -0.17951887212185724,
          -0.3732593202366931,
          -0.4093846957402383,
          0.37602302671396803,
          0.1300170242270171,
          0.5046979394507027,
          1.039940658220479,
          0.4772902593889472,
          0.2642127117577516,
          -0.031774576991368736,
          -0.47642459715538926,
          -0.054742898445136794,
          0.2835658886508846,
          0.582692191417824,
          0.37474516503345495,
          0.1253434571027289,
          -0.29459230022951616,
          0.20312572098906276,
          0.31402499205539053,
          0.7129342365795303,
          0.5334449055407816,
          0.40678749251343455,
          -0.5067628416770472,
          -0.10285240196610797,
          1.1523752154373588,
          0.5571577471043974,
          0.3879210420455454,
          1.6377482772017269,
          -0.1779087436199764,
          0.19105128078772077,
          0.2580652942736756,
          0.8934450427044341,
          0.2969311310712219,
          0.9925167313351585,
          -2.725475935682718,
          0.21517053601638644,
          -0.41569497115267084,
          0.04566141832475639,
          0.24341730790718225,
          -0.11216972396898095,
          1.3809788340306395,
          0.4982117535579331,
          -0.15167127011101514,
          1.120732852262326,
          0.4281180797660096,
          0.12517887652679058,
          1.4982038402713276,
          -2.531515243792725,
          -0.018097483302778553,
          -3.3113486071725,
          0.341286248538245,
          0.026756689990916988,
          -2.925824732764314,
          -0.25645646618599266,
          0.30396203482089007,
          -0.3582152442118707,
          -2.9513760628281687,
          1.4482506339785872,
          -0.21635199369391306,
          -0.12789908361312827,
          -3.1546310041101417,
          0.3903378417528368,
          0.4569404799948537,
          -0.4560601729686309,
          -0.00484459660765453,
          -0.1724510911013018,
          -0.3189942655319704,
          0.13507126001709596,
          1.306486444807721,
          0.7191217579247023,
          -0.3329329299343831,
          -0.6442573942932407,
          -0.08731789470608901,
          0.3957042260725359,
          0.9752636864410039,
          -0.7399459209497672,
          0.8384779735811124,
          0.1904978200801554,
          -0.5598537962133966,
          0.1728261591580878,
          0.17112575480411216,
          0.540831429644568,
          -0.2890217846936095,
          0.17206042528212073,
          -0.4828030354982023,
          0.8169264107286937,
          -0.13441574096475484,
          -0.6113394899533888,
          0.8729751726954864,
          0.46960605820618484,
          0.8497702986436464,
          0.018495936048586882,
          1.3235873488073389,
          0.09104474179956379,
          0.2397226998603819,
          -0.12765043391573336,
          0.19271023163035678,
          1.4250125864213146,
          -0.023887774760776158,
          0.6026506053524185,
          0.39368745067000355,
          0.5259419148870447,
          0.5454291012295573,
          1.665377510114355,
          -0.30106442134211664,
          -0.31865165229032116,
          -0.07459662541741743,
          0.8818788963521305,
          0.39680457752470855,
          0.695401352418407,
          0.03697892096139751,
          0.1713145810232036,
          -0.28295465339939435,
          0.18307496296952952,
          -0.4140970857806242,
          0.5505271973768744,
          -0.10399361531240778,
          0.21234189587437333,
          0.5065533310271928,
          1.5540542747820227,
          0.1878324418871457,
          -0.1775800462006745,
          0.849268484391188,
          0.8171123606144446,
          0.3008564572302498,
          -0.2051738907805738,
          -0.38652634795597524,
          -0.012099742436533258,
          1.8453751812572636,
          0.5108936667079425,
          0.013614618491162573,
          1.3557218884538131,
          0.4444232504777865,
          -1.073801501146024,
          0.3783056671452159,
          -0.10877802057736624,
          0.47720798408566156,
          -0.04205645348871184,
          0.34811768386880276,
          0.4337285737923044,
          0.48577737072022176,
          0.22959348643718572,
          1.2422776251149628,
          0.8044881406868963,
          -0.5959310215618937,
          -2.662772586028578,
          -0.5381805920791206,
          -0.44735761542656705,
          -0.3036216496303777,
          -0.5475822539737388,
          0.8457692264958757,
          0.3648734863577713,
          0.6344011140513738,
          0.6225188361027303,
          0.6510366306420363,
          -3.299051185395172,
          1.733337172573461,
          1.6418496895157164,
          0.9914176035722319,
          -0.33065591481511275,
          -0.03144385944751773,
          0.5178823036877385,
          0.7430000487621465,
          0.5533994104472408,
          1.054263626075172,
          0.2804241444854884,
          -0.6747911262779016,
          -0.007888361534573948,
          -0.48506514460943356,
          0.15192614433604776,
          0.35975042497579246,
          0.2095973763788772,
          0.01885197897775762,
          -0.1706765175210517,
          0.19764647588306059,
          0.8454386416445471,
          1.0567393979347681,
          0.45153717429407847,
          0.2977878994204899,
          -0.08520870377694886,
          0.7441491511595306,
          0.539364568214206,
          1.4163999744491569,
          0.9474333899144872,
          0.4698866605624699,
          -2.656203481890251,
          0.8901977037082027,
          0.5041015215474601,
          0.7022451134701851,
          -0.2042648318629142,
          -0.10703076221268855,
          0.3941901882622494,
          1.4021325416787849,
          0.9134296306649681,
          -0.09381648224413369,
          -0.4140533292937753,
          0.53620789564258,
          0.4198682139796019,
          0.8321391276634779,
          0.15516163604978223,
          0.592990509183952,
          -0.036967183978366784,
          0.6964831722725631,
          0.9127029624362715,
          -0.2525327032544575,
          -0.5384533767441672,
          1.3594358590665727,
          1.7229656979600652,
          0.9896723072299953,
          0.32774403656209866,
          1.0832913684959478,
          0.159917609774461,
          1.6573027788872234,
          0.42913234673578216,
          0.5694720599741858,
          1.3632581494571676,
          1.5037065789601387,
          1.3493220588477541,
          1.0307713892701713,
          0.5363213360342893,
          0.8524916547375329,
          0.1581692107821733,
          1.2574841478299388,
          0.5381459540025453,
          0.6041580465099682,
          0.2652811908241993,
          0.515613835675009,
          1.1182378643530926,
          0.28137247790259556,
          0.4596162679328359,
          0.9472810553393767,
          1.9772658439826325,
          0.8343450209597784,
          0.619606119137411,
          1.1794638253152876,
          0.4344437079308649,
          -0.953702904033895,
          1.1745523752215508,
          0.7536974070986386,
          1.6446733783225493,
          0.4008765558718402,
          1.5059802829668616,
          -0.4898342569844795,
          2.2413196421269515,
          -0.2982535924465376,
          1.5088113623702621,
          0.7538440706934282,
          0.4950941522048009,
          1.4080462836607488,
          0.6215988973114376,
          0.22733670657826524,
          0.7799602480788189,
          0.947880797322671,
          0.18406414623625028,
          0.8709923538821158,
          0.1728075517888257,
          0.8864882078169848,
          1.8767854587704536,
          0.792719852172989,
          2.166016629491016,
          1.4189579097440201,
          0.7404859772899173,
          2.1244520306930608,
          2.2775189181470883,
          2.176179000869413,
          1.8647797104019948
         ],
         "yaxis": "y"
        }
       ],
       "layout": {
        "legend": {
         "title": {
          "text": "archetype"
         },
         "tracegroupgap": 0
        },
        "template": {
         "data": {
          "bar": [
           {
            "error_x": {
             "color": "#2a3f5f"
            },
            "error_y": {
             "color": "#2a3f5f"
            },
            "marker": {
             "line": {
              "color": "#E5ECF6",
              "width": 0.5
             },
             "pattern": {
              "fillmode": "overlay",
              "size": 10,
              "solidity": 0.2
             }
            },
            "type": "bar"
           }
          ],
          "barpolar": [
           {
            "marker": {
             "line": {
              "color": "#E5ECF6",
              "width": 0.5
             },
             "pattern": {
              "fillmode": "overlay",
              "size": 10,
              "solidity": 0.2
             }
            },
            "type": "barpolar"
           }
          ],
          "carpet": [
           {
            "aaxis": {
             "endlinecolor": "#2a3f5f",
             "gridcolor": "white",
             "linecolor": "white",
             "minorgridcolor": "white",
             "startlinecolor": "#2a3f5f"
            },
            "baxis": {
             "endlinecolor": "#2a3f5f",
             "gridcolor": "white",
             "linecolor": "white",
             "minorgridcolor": "white",
             "startlinecolor": "#2a3f5f"
            },
            "type": "carpet"
           }
          ],
          "choropleth": [
           {
            "colorbar": {
             "outlinewidth": 0,
             "ticks": ""
            },
            "type": "choropleth"
           }
          ],
          "contour": [
           {
            "colorbar": {
             "outlinewidth": 0,
             "ticks": ""
            },
            "colorscale": [
             [
              0,
              "#0d0887"
             ],
             [
              0.1111111111111111,
              "#46039f"
             ],
             [
              0.2222222222222222,
              "#7201a8"
             ],
             [
              0.3333333333333333,
              "#9c179e"
             ],
             [
              0.4444444444444444,
              "#bd3786"
             ],
             [
              0.5555555555555556,
              "#d8576b"
             ],
             [
              0.6666666666666666,
              "#ed7953"
             ],
             [
              0.7777777777777778,
              "#fb9f3a"
             ],
             [
              0.8888888888888888,
              "#fdca26"
             ],
             [
              1,
              "#f0f921"
             ]
            ],
            "type": "contour"
           }
          ],
          "contourcarpet": [
           {
            "colorbar": {
             "outlinewidth": 0,
             "ticks": ""
            },
            "type": "contourcarpet"
           }
          ],
          "heatmap": [
           {
            "colorbar": {
             "outlinewidth": 0,
             "ticks": ""
            },
            "colorscale": [
             [
              0,
              "#0d0887"
             ],
             [
              0.1111111111111111,
              "#46039f"
             ],
             [
              0.2222222222222222,
              "#7201a8"
             ],
             [
              0.3333333333333333,
              "#9c179e"
             ],
             [
              0.4444444444444444,
              "#bd3786"
             ],
             [
              0.5555555555555556,
              "#d8576b"
             ],
             [
              0.6666666666666666,
              "#ed7953"
             ],
             [
              0.7777777777777778,
              "#fb9f3a"
             ],
             [
              0.8888888888888888,
              "#fdca26"
             ],
             [
              1,
              "#f0f921"
             ]
            ],
            "type": "heatmap"
           }
          ],
          "heatmapgl": [
           {
            "colorbar": {
             "outlinewidth": 0,
             "ticks": ""
            },
            "colorscale": [
             [
              0,
              "#0d0887"
             ],
             [
              0.1111111111111111,
              "#46039f"
             ],
             [
              0.2222222222222222,
              "#7201a8"
             ],
             [
              0.3333333333333333,
              "#9c179e"
             ],
             [
              0.4444444444444444,
              "#bd3786"
             ],
             [
              0.5555555555555556,
              "#d8576b"
             ],
             [
              0.6666666666666666,
              "#ed7953"
             ],
             [
              0.7777777777777778,
              "#fb9f3a"
             ],
             [
              0.8888888888888888,
              "#fdca26"
             ],
             [
              1,
              "#f0f921"
             ]
            ],
            "type": "heatmapgl"
           }
          ],
          "histogram": [
           {
            "marker": {
             "pattern": {
              "fillmode": "overlay",
              "size": 10,
              "solidity": 0.2
             }
            },
            "type": "histogram"
           }
          ],
          "histogram2d": [
           {
            "colorbar": {
             "outlinewidth": 0,
             "ticks": ""
            },
            "colorscale": [
             [
              0,
              "#0d0887"
             ],
             [
              0.1111111111111111,
              "#46039f"
             ],
             [
              0.2222222222222222,
              "#7201a8"
             ],
             [
              0.3333333333333333,
              "#9c179e"
             ],
             [
              0.4444444444444444,
              "#bd3786"
             ],
             [
              0.5555555555555556,
              "#d8576b"
             ],
             [
              0.6666666666666666,
              "#ed7953"
             ],
             [
              0.7777777777777778,
              "#fb9f3a"
             ],
             [
              0.8888888888888888,
              "#fdca26"
             ],
             [
              1,
              "#f0f921"
             ]
            ],
            "type": "histogram2d"
           }
          ],
          "histogram2dcontour": [
           {
            "colorbar": {
             "outlinewidth": 0,
             "ticks": ""
            },
            "colorscale": [
             [
              0,
              "#0d0887"
             ],
             [
              0.1111111111111111,
              "#46039f"
             ],
             [
              0.2222222222222222,
              "#7201a8"
             ],
             [
              0.3333333333333333,
              "#9c179e"
             ],
             [
              0.4444444444444444,
              "#bd3786"
             ],
             [
              0.5555555555555556,
              "#d8576b"
             ],
             [
              0.6666666666666666,
              "#ed7953"
             ],
             [
              0.7777777777777778,
              "#fb9f3a"
             ],
             [
              0.8888888888888888,
              "#fdca26"
             ],
             [
              1,
              "#f0f921"
             ]
            ],
            "type": "histogram2dcontour"
           }
          ],
          "mesh3d": [
           {
            "colorbar": {
             "outlinewidth": 0,
             "ticks": ""
            },
            "type": "mesh3d"
           }
          ],
          "parcoords": [
           {
            "line": {
             "colorbar": {
              "outlinewidth": 0,
              "ticks": ""
             }
            },
            "type": "parcoords"
           }
          ],
          "pie": [
           {
            "automargin": true,
            "type": "pie"
           }
          ],
          "scatter": [
           {
            "fillpattern": {
             "fillmode": "overlay",
             "size": 10,
             "solidity": 0.2
            },
            "type": "scatter"
           }
          ],
          "scatter3d": [
           {
            "line": {
             "colorbar": {
              "outlinewidth": 0,
              "ticks": ""
             }
            },
            "marker": {
             "colorbar": {
              "outlinewidth": 0,
              "ticks": ""
             }
            },
            "type": "scatter3d"
           }
          ],
          "scattercarpet": [
           {
            "marker": {
             "colorbar": {
              "outlinewidth": 0,
              "ticks": ""
             }
            },
            "type": "scattercarpet"
           }
          ],
          "scattergeo": [
           {
            "marker": {
             "colorbar": {
              "outlinewidth": 0,
              "ticks": ""
             }
            },
            "type": "scattergeo"
           }
          ],
          "scattergl": [
           {
            "marker": {
             "colorbar": {
              "outlinewidth": 0,
              "ticks": ""
             }
            },
            "type": "scattergl"
           }
          ],
          "scattermapbox": [
           {
            "marker": {
             "colorbar": {
              "outlinewidth": 0,
              "ticks": ""
             }
            },
            "type": "scattermapbox"
           }
          ],
          "scatterpolar": [
           {
            "marker": {
             "colorbar": {
              "outlinewidth": 0,
              "ticks": ""
             }
            },
            "type": "scatterpolar"
           }
          ],
          "scatterpolargl": [
           {
            "marker": {
             "colorbar": {
              "outlinewidth": 0,
              "ticks": ""
             }
            },
            "type": "scatterpolargl"
           }
          ],
          "scatterternary": [
           {
            "marker": {
             "colorbar": {
              "outlinewidth": 0,
              "ticks": ""
             }
            },
            "type": "scatterternary"
           }
          ],
          "surface": [
           {
            "colorbar": {
             "outlinewidth": 0,
             "ticks": ""
            },
            "colorscale": [
             [
              0,
              "#0d0887"
             ],
             [
              0.1111111111111111,
              "#46039f"
             ],
             [
              0.2222222222222222,
              "#7201a8"
             ],
             [
              0.3333333333333333,
              "#9c179e"
             ],
             [
              0.4444444444444444,
              "#bd3786"
             ],
             [
              0.5555555555555556,
              "#d8576b"
             ],
             [
              0.6666666666666666,
              "#ed7953"
             ],
             [
              0.7777777777777778,
              "#fb9f3a"
             ],
             [
              0.8888888888888888,
              "#fdca26"
             ],
             [
              1,
              "#f0f921"
             ]
            ],
            "type": "surface"
           }
          ],
          "table": [
           {
            "cells": {
             "fill": {
              "color": "#EBF0F8"
             },
             "line": {
              "color": "white"
             }
            },
            "header": {
             "fill": {
              "color": "#C8D4E3"
             },
             "line": {
              "color": "white"
             }
            },
            "type": "table"
           }
          ]
         },
         "layout": {
          "annotationdefaults": {
           "arrowcolor": "#2a3f5f",
           "arrowhead": 0,
           "arrowwidth": 1
          },
          "autotypenumbers": "strict",
          "coloraxis": {
           "colorbar": {
            "outlinewidth": 0,
            "ticks": ""
           }
          },
          "colorscale": {
           "diverging": [
            [
             0,
             "#8e0152"
            ],
            [
             0.1,
             "#c51b7d"
            ],
            [
             0.2,
             "#de77ae"
            ],
            [
             0.3,
             "#f1b6da"
            ],
            [
             0.4,
             "#fde0ef"
            ],
            [
             0.5,
             "#f7f7f7"
            ],
            [
             0.6,
             "#e6f5d0"
            ],
            [
             0.7,
             "#b8e186"
            ],
            [
             0.8,
             "#7fbc41"
            ],
            [
             0.9,
             "#4d9221"
            ],
            [
             1,
             "#276419"
            ]
           ],
           "sequential": [
            [
             0,
             "#0d0887"
            ],
            [
             0.1111111111111111,
             "#46039f"
            ],
            [
             0.2222222222222222,
             "#7201a8"
            ],
            [
             0.3333333333333333,
             "#9c179e"
            ],
            [
             0.4444444444444444,
             "#bd3786"
            ],
            [
             0.5555555555555556,
             "#d8576b"
            ],
            [
             0.6666666666666666,
             "#ed7953"
            ],
            [
             0.7777777777777778,
             "#fb9f3a"
            ],
            [
             0.8888888888888888,
             "#fdca26"
            ],
            [
             1,
             "#f0f921"
            ]
           ],
           "sequentialminus": [
            [
             0,
             "#0d0887"
            ],
            [
             0.1111111111111111,
             "#46039f"
            ],
            [
             0.2222222222222222,
             "#7201a8"
            ],
            [
             0.3333333333333333,
             "#9c179e"
            ],
            [
             0.4444444444444444,
             "#bd3786"
            ],
            [
             0.5555555555555556,
             "#d8576b"
            ],
            [
             0.6666666666666666,
             "#ed7953"
            ],
            [
             0.7777777777777778,
             "#fb9f3a"
            ],
            [
             0.8888888888888888,
             "#fdca26"
            ],
            [
             1,
             "#f0f921"
            ]
           ]
          },
          "colorway": [
           "#636efa",
           "#EF553B",
           "#00cc96",
           "#ab63fa",
           "#FFA15A",
           "#19d3f3",
           "#FF6692",
           "#B6E880",
           "#FF97FF",
           "#FECB52"
          ],
          "font": {
           "color": "#2a3f5f"
          },
          "geo": {
           "bgcolor": "white",
           "lakecolor": "white",
           "landcolor": "#E5ECF6",
           "showlakes": true,
           "showland": true,
           "subunitcolor": "white"
          },
          "hoverlabel": {
           "align": "left"
          },
          "hovermode": "closest",
          "mapbox": {
           "style": "light"
          },
          "paper_bgcolor": "white",
          "plot_bgcolor": "#E5ECF6",
          "polar": {
           "angularaxis": {
            "gridcolor": "white",
            "linecolor": "white",
            "ticks": ""
           },
           "bgcolor": "#E5ECF6",
           "radialaxis": {
            "gridcolor": "white",
            "linecolor": "white",
            "ticks": ""
           }
          },
          "scene": {
           "xaxis": {
            "backgroundcolor": "#E5ECF6",
            "gridcolor": "white",
            "gridwidth": 2,
            "linecolor": "white",
            "showbackground": true,
            "ticks": "",
            "zerolinecolor": "white"
           },
           "yaxis": {
            "backgroundcolor": "#E5ECF6",
            "gridcolor": "white",
            "gridwidth": 2,
            "linecolor": "white",
            "showbackground": true,
            "ticks": "",
            "zerolinecolor": "white"
           },
           "zaxis": {
            "backgroundcolor": "#E5ECF6",
            "gridcolor": "white",
            "gridwidth": 2,
            "linecolor": "white",
            "showbackground": true,
            "ticks": "",
            "zerolinecolor": "white"
           }
          },
          "shapedefaults": {
           "line": {
            "color": "#2a3f5f"
           }
          },
          "ternary": {
           "aaxis": {
            "gridcolor": "white",
            "linecolor": "white",
            "ticks": ""
           },
           "baxis": {
            "gridcolor": "white",
            "linecolor": "white",
            "ticks": ""
           },
           "bgcolor": "#E5ECF6",
           "caxis": {
            "gridcolor": "white",
            "linecolor": "white",
            "ticks": ""
           }
          },
          "title": {
           "x": 0.05
          },
          "xaxis": {
           "automargin": true,
           "gridcolor": "white",
           "linecolor": "white",
           "ticks": "",
           "title": {
            "standoff": 15
           },
           "zerolinecolor": "white",
           "zerolinewidth": 2
          },
          "yaxis": {
           "automargin": true,
           "gridcolor": "white",
           "linecolor": "white",
           "ticks": "",
           "title": {
            "standoff": 15
           },
           "zerolinecolor": "white",
           "zerolinewidth": 2
          }
         }
        },
        "title": {
         "text": "Song Archetype Clusters (PCA Projection)"
        },
        "xaxis": {
         "anchor": "y",
         "domain": [
          0,
          1
         ],
         "title": {
          "text": "Principal Component 1 (Overall Scale)"
         }
        },
        "yaxis": {
         "anchor": "x",
         "domain": [
          0,
          1
         ],
         "title": {
          "text": "Principal Component 2 (Performance Style)"
         }
        }
       }
      }
     },
     "metadata": {},
     "output_type": "display_data"
    }
   ],
   "source": [
    "# Reduce dimensions for visualization\n",
    "pca = PCA(n_components=2)\n",
    "pca_result = pca.fit_transform(features_scaled)\n",
    "\n",
    "# Add PCA results to the DataFrame\n",
    "df['pca1'] = pca_result[:, 0]\n",
    "df['pca2'] = pca_result[:, 1]\n",
    "\n",
    "# Map cluster numbers to archetype names for a better legend\n",
    "archetype_map = {\n",
    "    cluster_profile.index[0]: 'Global Superstar',\n",
    "    cluster_profile.index[1]: 'Radio & Playlist Hit',\n",
    "    cluster_profile.index[2]: 'Digital Native',\n",
    "    cluster_profile.index[3]: 'Niche/Emerging Hit'\n",
    "}\n",
    "df['archetype'] = df['cluster'].map(archetype_map)\n",
    "\n",
    "# Create interactive scatter plot\n",
    "fig = px.scatter(df, x='pca1', y='pca2', color='archetype',\n",
    "                 hover_name='track', hover_data=['artist', 'spotify_streams'],\n",
    "                 title='Song Archetype Clusters (PCA Projection)',\n",
    "                 labels={'pca1': 'Principal Component 1 (Overall Scale)', 'pca2': 'Principal Component 2 (Performance Style)'},\n",
    "                 category_orders={'archetype': ['Global Superstar', 'Radio & Playlist Hit', 'Digital Native', 'Niche/Emerging Hit']})\n",
    "fig.show()"
   ]
  },
  {
   "cell_type": "markdown",
   "metadata": {},
   "source": [
    "### 6. Executive Summary & Actionable Insights\n",
    "\n",
    "The clustering analysis successfully segmented the hit songs into four statistically distinct archetypes, providing a powerful strategic framework.\n",
    "\n",
    "**Actionable Insights per Archetype:**\n",
    "\n",
    "1.  **For Global Superstars:** The goal is to leverage their immense cross-platform appeal for high-value partnerships, global tours, and brand endorsements. Their marketing is about maintaining omnipresence.\n",
    "\n",
    "2.  **For Radio & Playlist Hits:** These tracks have proven appeal to a broad audience and curators. The strategy should focus on securing sync licenses for film, TV, and commercials, as their high radio play indicates a 'safe' and popular sound.\n",
    "\n",
    "3.  **For Digital Natives:** These songs resonate deeply with online audiences. The strategy should be to double down on digital marketing, influencer collaborations, and converting Spotify/YouTube success into a dedicated fanbase through social media engagement.\n",
    "\n",
    "4.  **For Niche/Emerging Hits:** These songs represent a testing ground. The strategy is to analyze which of these tracks show early signs of crossing over (e.g., a sudden spike in `shazam_counts` or `tiktok_posts`) and then invest marketing resources to push them into a higher tier."
   ]
  }
 ],
 "metadata": {
  "kernelspec": {
   "display_name": "venv",
   "language": "python",
   "name": "python3"
  },
  "language_info": {
   "codemirror_mode": {
    "name": "ipython",
    "version": 3
   },
   "file_extension": ".py",
   "mimetype": "text/x-python",
   "name": "python",
   "nbconvert_exporter": "python",
   "pygments_lexer": "ipython3",
   "version": "3.11.9"
  }
 },
 "nbformat": 4,
 "nbformat_minor": 4
}
